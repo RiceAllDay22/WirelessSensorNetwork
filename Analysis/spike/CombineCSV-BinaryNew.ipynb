{
 "cells": [
  {
   "cell_type": "markdown",
   "id": "91a8c86f",
   "metadata": {},
   "source": [
    "# Adriann Liceralde\n",
    "# Combine CSV - Binary NEW"
   ]
  },
  {
   "cell_type": "markdown",
   "id": "25cb5aa8",
   "metadata": {},
   "source": [
    "## Select Directory\n",
    "1. Import all necessary libraries.\n",
    "2. Set the directory to the folder that contains the target dataset.\n",
    "3. Select all the csv files within the folder"
   ]
  },
  {
   "cell_type": "code",
   "execution_count": null,
   "id": "4aa4ac31",
   "metadata": {},
   "outputs": [],
   "source": [
    "import numpy as np\n",
    "import matplotlib.pyplot as plt\n",
    "import pandas as pd\n",
    "import os\n",
    "import glob"
   ]
  },
  {
   "cell_type": "code",
   "execution_count": null,
   "id": "63f25933",
   "metadata": {},
   "outputs": [],
   "source": [
    "#user = 'Adriann Liceralde'\n",
    "user      = 'adria'\n",
    "subfolder = 'V 2.6.1 Roof-Primary'\n",
    "#subfolder = 'V 2.6.2 Roof-Secondary'\n",
    "os.chdir('C:\\\\Users\\\\'+str(user)+'\\\\Desktop\\\\Repo\\\\WirelessSensorNetwork\\\\Data\\\\'+ str(subfolder))\n",
    "#os.chdir('C:\\\\Users\\\\'+str(user)+'\\\\Desktop\\\\'+str(subfolder))\n",
    "extension = 'csv'\n",
    "all_filenames = [i for i in glob.glob('*.{}'.format(extension))]"
   ]
  },
  {
   "cell_type": "markdown",
   "id": "64c2775c",
   "metadata": {},
   "source": [
    "## Process Binary Data\n",
    "1. Establish the data type class.\n",
    "2. Send information from each file over to a main numpy array\n",
    "3. Turn numpy array into pandas datafrane"
   ]
  },
  {
   "cell_type": "code",
   "execution_count": null,
   "id": "84e74b1a",
   "metadata": {
    "scrolled": false
   },
   "outputs": [],
   "source": [
    "first  = True\n",
    "mainNP = np.array([])\n",
    "dt     = np.dtype( [('unixtime','>u4'), ('ws','u1'), ('wd','>u2'), ('co2','>u2'), ('temp','u1')] )\n",
    "\n",
    "for each in all_filenames:\n",
    "    filesize   = int(os.path.getsize(each))\n",
    "    headersize = 0\n",
    "    lines      = (filesize-headersize)//10\n",
    "    print('File :' , each, '\\n', 'Bytes:' , filesize, '\\n', 'Lines:' , lines)\n",
    "\n",
    "    fileNP = np.fromfile(each, dtype = dt)\n",
    "    \n",
    "    if (first == True):\n",
    "        mainNP = fileNP\n",
    "        first = False\n",
    "    elif (first == False):\n",
    "        mainNP = np.concatenate( (mainNP, fileNP))\n",
    "        \n",
    "mainDF = pd.DataFrame(mainNP)\n",
    "mainDF = mainDF.assign(date = pd.to_datetime(mainDF.unixtime, unit = 's').dt.strftime('%m/%d/%Y %H:%M'))\n",
    "mainDF.ws = (mainDF.ws*2.25/3/2.237).round(2)\n",
    "mainDF = mainDF[['unixtime', 'date', 'ws', 'wd', 'co2', 'temp']]"
   ]
  },
  {
   "cell_type": "code",
   "execution_count": null,
   "id": "2c191cba",
   "metadata": {},
   "outputs": [],
   "source": [
    "mainDF"
   ]
  },
  {
   "cell_type": "markdown",
   "id": "bc2bc360",
   "metadata": {},
   "source": [
    "## Export to Single CSV\n",
    "1. Select the name for the finalized csv file\n",
    "2. Export the pandas dataframe to a csv file into a different folder directory\n",
    "3. Check to see if all the timestamps in the dataset have been accounted for."
   ]
  },
  {
   "cell_type": "code",
   "execution_count": null,
   "id": "e631da83",
   "metadata": {},
   "outputs": [],
   "source": [
    "node   = subfolder[12:16]\n",
    "target = subfolder[0:6]+str(0)+(' Roof')\n",
    "os.chdir('C:\\\\Users\\\\'+str(user)+'\\\\Desktop\\\\Repo\\\\WirelessSensorNetwork\\\\Data\\\\'+ str(target))\n",
    "\n",
    "name = 'C-'+ str(all_filenames[0])[0:-8] + str(node)+ '.csv'\n",
    "mainDF.to_csv(name, index=False, encoding='utf-8-sig')"
   ]
  },
  {
   "cell_type": "code",
   "execution_count": null,
   "id": "a2962895",
   "metadata": {},
   "outputs": [],
   "source": [
    "#Check if all timestamps are accounted for\n",
    "first = mainNP[0][0]\n",
    "last  = mainNP[-1][0]\n",
    "span = np.arange(first, last+3, 3)\n",
    "unix = mainDF.unixtime.to_numpy()\n",
    "summation = sum(unix-span)\n",
    "print(summation)"
   ]
  },
  {
   "cell_type": "code",
   "execution_count": null,
   "id": "279bb2ef",
   "metadata": {},
   "outputs": [],
   "source": []
  }
 ],
 "metadata": {
  "kernelspec": {
   "display_name": "Python 3 (ipykernel)",
   "language": "python",
   "name": "python3"
  },
  "language_info": {
   "codemirror_mode": {
    "name": "ipython",
    "version": 3
   },
   "file_extension": ".py",
   "mimetype": "text/x-python",
   "name": "python",
   "nbconvert_exporter": "python",
   "pygments_lexer": "ipython3",
   "version": "3.9.0"
  },
  "varInspector": {
   "cols": {
    "lenName": 16,
    "lenType": 16,
    "lenVar": 40
   },
   "kernels_config": {
    "python": {
     "delete_cmd_postfix": "",
     "delete_cmd_prefix": "del ",
     "library": "var_list.py",
     "varRefreshCmd": "print(var_dic_list())"
    },
    "r": {
     "delete_cmd_postfix": ") ",
     "delete_cmd_prefix": "rm(",
     "library": "var_list.r",
     "varRefreshCmd": "cat(var_dic_list()) "
    }
   },
   "types_to_exclude": [
    "module",
    "function",
    "builtin_function_or_method",
    "instance",
    "_Feature"
   ],
   "window_display": false
  }
 },
 "nbformat": 4,
 "nbformat_minor": 5
}
