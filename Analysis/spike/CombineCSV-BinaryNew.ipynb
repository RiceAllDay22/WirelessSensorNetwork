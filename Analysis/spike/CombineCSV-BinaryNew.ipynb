{
 "cells": [
  {
   "cell_type": "markdown",
   "id": "91a8c86f",
   "metadata": {},
   "source": [
    "# Adriann Liceralde\n",
    "# Combine CSV - Binary NEW"
   ]
  },
  {
   "cell_type": "markdown",
   "id": "25cb5aa8",
   "metadata": {},
   "source": [
    "## Select Directory\n",
    "1. Import all necessary libraries.\n",
    "2. Set the directory to the folder that contains the target dataset.\n",
    "3. Select all the csv files within the folder"
   ]
  },
  {
   "cell_type": "code",
   "execution_count": 8,
   "id": "4aa4ac31",
   "metadata": {},
   "outputs": [],
   "source": [
    "import numpy as np\n",
    "import matplotlib.pyplot as plt\n",
    "import pandas as pd\n",
    "import os\n",
    "import glob"
   ]
  },
  {
   "cell_type": "code",
   "execution_count": 9,
   "id": "63f25933",
   "metadata": {},
   "outputs": [],
   "source": [
    "#user = 'Adriann Liceralde'\n",
    "user      = 'adria'\n",
    "subfolder = 'V 3.4.1 Roof-Primary'\n",
    "#subfolder = 'V 3.4.2 Roof-Secondary'\n",
    "#subfolder = 'V Test'\n",
    "os.chdir('C:\\\\Users\\\\'+str(user)+'\\\\Desktop\\\\Repo\\\\WirelessSensorNetwork\\\\Data\\\\'+ str(subfolder))\n",
    "#os.chdir('C:\\\\Users\\\\'+str(user)+'\\\\Desktop\\\\'+str(subfolder))\n",
    "extension = 'csv'\n",
    "all_filenames = [i for i in glob.glob('*.{}'.format(extension))]"
   ]
  },
  {
   "cell_type": "markdown",
   "id": "64c2775c",
   "metadata": {},
   "source": [
    "## Process Binary Data\n",
    "1. Establish the data type class.\n",
    "2. Send information from each file over to a main numpy array\n",
    "3. Turn numpy array into pandas datafrane"
   ]
  },
  {
   "cell_type": "code",
   "execution_count": 10,
   "id": "84e74b1a",
   "metadata": {
    "scrolled": false
   },
   "outputs": [
    {
     "name": "stdout",
     "output_type": "stream",
     "text": [
      "File : 2021-07-17--20.csv \n",
      " Bytes: 12200 \n",
      " Lines: 1220\n",
      "File : 2021-07-17--21.csv \n",
      " Bytes: 12000 \n",
      " Lines: 1200\n",
      "File : 2021-07-17--22.csv \n",
      " Bytes: 12000 \n",
      " Lines: 1200\n",
      "File : 2021-07-17--23.csv \n",
      " Bytes: 12000 \n",
      " Lines: 1200\n",
      "File : 2021-07-18--00.csv \n",
      " Bytes: 12000 \n",
      " Lines: 1200\n",
      "File : 2021-07-18--01.csv \n",
      " Bytes: 12000 \n",
      " Lines: 1200\n",
      "File : 2021-07-18--02.csv \n",
      " Bytes: 12000 \n",
      " Lines: 1200\n",
      "File : 2021-07-18--03.csv \n",
      " Bytes: 12000 \n",
      " Lines: 1200\n",
      "File : 2021-07-18--04.csv \n",
      " Bytes: 12000 \n",
      " Lines: 1200\n",
      "File : 2021-07-18--05.csv \n",
      " Bytes: 12000 \n",
      " Lines: 1200\n",
      "File : 2021-07-18--06.csv \n",
      " Bytes: 12000 \n",
      " Lines: 1200\n",
      "File : 2021-07-18--07.csv \n",
      " Bytes: 12000 \n",
      " Lines: 1200\n",
      "File : 2021-07-18--08.csv \n",
      " Bytes: 12000 \n",
      " Lines: 1200\n",
      "File : 2021-07-18--09.csv \n",
      " Bytes: 12000 \n",
      " Lines: 1200\n",
      "File : 2021-07-18--10.csv \n",
      " Bytes: 12000 \n",
      " Lines: 1200\n",
      "File : 2021-07-18--11.csv \n",
      " Bytes: 12000 \n",
      " Lines: 1200\n",
      "File : 2021-07-18--12.csv \n",
      " Bytes: 12000 \n",
      " Lines: 1200\n",
      "File : 2021-07-18--13.csv \n",
      " Bytes: 12000 \n",
      " Lines: 1200\n",
      "File : 2021-07-18--14.csv \n",
      " Bytes: 12000 \n",
      " Lines: 1200\n",
      "File : 2021-07-18--15.csv \n",
      " Bytes: 12000 \n",
      " Lines: 1200\n",
      "File : 2021-07-18--16.csv \n",
      " Bytes: 5050 \n",
      " Lines: 505\n"
     ]
    }
   ],
   "source": [
    "first  = True\n",
    "mainNP = np.array([])\n",
    "dt     = np.dtype( [('unixtime','>u4'), ('ws','u1'), ('wd','>u2'), ('co2','>u2'), ('temp','u1')] )\n",
    "\n",
    "for each in all_filenames:\n",
    "    filesize   = int(os.path.getsize(each))\n",
    "    headersize = 0\n",
    "    lines      = (filesize-headersize)//10\n",
    "    print('File :' , each, '\\n', 'Bytes:' , filesize, '\\n', 'Lines:' , lines)\n",
    "    #print(lines)\n",
    "\n",
    "    fileNP = np.fromfile(each, dtype = dt)\n",
    "    \n",
    "    if (first == True):\n",
    "        mainNP = fileNP\n",
    "        first = False\n",
    "    elif (first == False):\n",
    "        mainNP = np.concatenate( (mainNP, fileNP))\n",
    "        \n",
    "mainDF = pd.DataFrame(mainNP)\n",
    "mainDF = mainDF.assign(date = pd.to_datetime(mainDF.unixtime, unit = 's').dt.strftime('%m/%d/%Y %H:%M'))\n",
    "mainDF.ws = (mainDF.ws*2.25/3/2.237).round(2)\n",
    "mainDF = mainDF[['unixtime', 'date', 'ws', 'wd', 'co2', 'temp']]"
   ]
  },
  {
   "cell_type": "code",
   "execution_count": 8,
   "id": "2c191cba",
   "metadata": {},
   "outputs": [
    {
     "name": "stdout",
     "output_type": "stream",
     "text": [
      "         unixtime              date   ws   wd  co2  temp\n",
      "0      1626113040  07/12/2021 18:04  0.0   94  818    41\n",
      "1      1626113043  07/12/2021 18:04  0.0   94  801    41\n",
      "2      1626113046  07/12/2021 18:04  0.0   93  731    42\n",
      "3      1626113049  07/12/2021 18:04  0.0   91  706    42\n",
      "4      1626113052  07/12/2021 18:04  0.0   91  668    42\n",
      "...           ...               ...  ...  ...  ...   ...\n",
      "81115  1626548622  07/17/2021 19:03  0.0  109  633    41\n",
      "81116  1626548625  07/17/2021 19:03  0.0  109  559    41\n",
      "81117  1626548628  07/17/2021 19:03  0.0  109  538    41\n",
      "81118  1626548631  07/17/2021 19:03  0.0  109  532    41\n",
      "81119  1626548634  07/17/2021 19:03  0.0  109  572    41\n",
      "\n",
      "[81120 rows x 6 columns]\n"
     ]
    }
   ],
   "source": [
    "print(mainDF)"
   ]
  },
  {
   "cell_type": "markdown",
   "id": "bc2bc360",
   "metadata": {},
   "source": [
    "## Export to Single CSV\n",
    "1. Select the name for the finalized csv file\n",
    "2. Export the pandas dataframe to a csv file into a different folder directory\n",
    "3. Check to see if all the timestamps in the dataset have been accounted for."
   ]
  },
  {
   "cell_type": "code",
   "execution_count": 11,
   "id": "e631da83",
   "metadata": {
    "scrolled": true
   },
   "outputs": [],
   "source": [
    "node   = subfolder[12:16]\n",
    "target = subfolder[0:6]+str(0)+(' Roof')\n",
    "os.chdir('C:\\\\Users\\\\'+str(user)+'\\\\Desktop\\\\Repo\\\\WirelessSensorNetwork\\\\Data\\\\'+ str(target))\n",
    "#os.chdir('C:\\\\Users\\\\'+str(user)+'\\\\Desktop\\\\Repo\\\\WirelessSensorNetwork\\\\Data\\\\')\n",
    "\n",
    "name = 'C-'+ str(all_filenames[0])[0:-8] + str(node)+ '.csv'\n",
    "mainDF.to_csv(name, index=False, encoding='utf-8-sig')"
   ]
  },
  {
   "cell_type": "code",
   "execution_count": 5,
   "id": "a2962895",
   "metadata": {},
   "outputs": [
    {
     "ename": "ValueError",
     "evalue": "operands could not be broadcast together with shapes (35050,) (93803,) ",
     "output_type": "error",
     "traceback": [
      "\u001b[1;31m---------------------------------------------------------------------------\u001b[0m",
      "\u001b[1;31mValueError\u001b[0m                                Traceback (most recent call last)",
      "\u001b[1;32m~\\AppData\\Local\\Temp/ipykernel_26920/53350071.py\u001b[0m in \u001b[0;36m<module>\u001b[1;34m\u001b[0m\n\u001b[0;32m      4\u001b[0m \u001b[0mspan\u001b[0m \u001b[1;33m=\u001b[0m \u001b[0mnp\u001b[0m\u001b[1;33m.\u001b[0m\u001b[0marange\u001b[0m\u001b[1;33m(\u001b[0m\u001b[0mfirst\u001b[0m\u001b[1;33m,\u001b[0m \u001b[0mlast\u001b[0m\u001b[1;33m+\u001b[0m\u001b[1;36m3\u001b[0m\u001b[1;33m,\u001b[0m \u001b[1;36m3\u001b[0m\u001b[1;33m)\u001b[0m\u001b[1;33m\u001b[0m\u001b[1;33m\u001b[0m\u001b[0m\n\u001b[0;32m      5\u001b[0m \u001b[0munix\u001b[0m \u001b[1;33m=\u001b[0m \u001b[0mmainDF\u001b[0m\u001b[1;33m.\u001b[0m\u001b[0munixtime\u001b[0m\u001b[1;33m.\u001b[0m\u001b[0mto_numpy\u001b[0m\u001b[1;33m(\u001b[0m\u001b[1;33m)\u001b[0m\u001b[1;33m\u001b[0m\u001b[1;33m\u001b[0m\u001b[0m\n\u001b[1;32m----> 6\u001b[1;33m \u001b[0msummation\u001b[0m \u001b[1;33m=\u001b[0m \u001b[0msum\u001b[0m\u001b[1;33m(\u001b[0m\u001b[0munix\u001b[0m\u001b[1;33m-\u001b[0m\u001b[0mspan\u001b[0m\u001b[1;33m)\u001b[0m\u001b[1;33m\u001b[0m\u001b[1;33m\u001b[0m\u001b[0m\n\u001b[0m\u001b[0;32m      7\u001b[0m \u001b[0mprint\u001b[0m\u001b[1;33m(\u001b[0m\u001b[0msummation\u001b[0m\u001b[1;33m)\u001b[0m\u001b[1;33m\u001b[0m\u001b[1;33m\u001b[0m\u001b[0m\n",
      "\u001b[1;31mValueError\u001b[0m: operands could not be broadcast together with shapes (35050,) (93803,) "
     ]
    }
   ],
   "source": [
    "#Check if all timestamps are accounted for\n",
    "first = mainNP[0][0]\n",
    "last  = mainNP[-1][0]\n",
    "span = np.arange(first, last+3, 3)\n",
    "unix = mainDF.unixtime.to_numpy()\n",
    "summation = sum(unix-span)\n",
    "print(summation)"
   ]
  },
  {
   "cell_type": "code",
   "execution_count": null,
   "id": "279bb2ef",
   "metadata": {},
   "outputs": [],
   "source": []
  }
 ],
 "metadata": {
  "kernelspec": {
   "display_name": "Python 3",
   "language": "python",
   "name": "python3"
  },
  "language_info": {
   "codemirror_mode": {
    "name": "ipython",
    "version": 3
   },
   "file_extension": ".py",
   "mimetype": "text/x-python",
   "name": "python",
   "nbconvert_exporter": "python",
   "pygments_lexer": "ipython3",
   "version": "3.9.0"
  },
  "toc": {
   "base_numbering": 1,
   "nav_menu": {},
   "number_sections": false,
   "sideBar": false,
   "skip_h1_title": true,
   "title_cell": "Table of Contents",
   "title_sidebar": "Contents",
   "toc_cell": false,
   "toc_position": {},
   "toc_section_display": true,
   "toc_window_display": false
  },
  "varInspector": {
   "cols": {
    "lenName": 16,
    "lenType": 16,
    "lenVar": 40
   },
   "kernels_config": {
    "python": {
     "delete_cmd_postfix": "",
     "delete_cmd_prefix": "del ",
     "library": "var_list.py",
     "varRefreshCmd": "print(var_dic_list())"
    },
    "r": {
     "delete_cmd_postfix": ") ",
     "delete_cmd_prefix": "rm(",
     "library": "var_list.r",
     "varRefreshCmd": "cat(var_dic_list()) "
    }
   },
   "types_to_exclude": [
    "module",
    "function",
    "builtin_function_or_method",
    "instance",
    "_Feature"
   ],
   "window_display": false
  }
 },
 "nbformat": 4,
 "nbformat_minor": 5
}
