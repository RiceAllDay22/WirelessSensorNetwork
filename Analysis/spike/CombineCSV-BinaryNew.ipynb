{
 "cells": [
  {
   "cell_type": "markdown",
   "id": "91a8c86f",
   "metadata": {},
   "source": [
    "# Adriann Liceralde\n",
    "# Combine CSV - Binary NEW"
   ]
  },
  {
   "cell_type": "markdown",
   "id": "25cb5aa8",
   "metadata": {},
   "source": [
    "## Select Directory\n",
    "1. Import all necessary libraries.\n",
    "2. Set the directory to the folder that contains the target dataset.\n",
    "3. Select all the csv files within the folder"
   ]
  },
  {
   "cell_type": "code",
   "execution_count": 2,
   "id": "4aa4ac31",
   "metadata": {},
   "outputs": [],
   "source": [
    "import numpy as np\n",
    "import matplotlib.pyplot as plt\n",
    "import pandas as pd\n",
    "import os\n",
    "import glob"
   ]
  },
  {
   "cell_type": "code",
   "execution_count": 58,
   "id": "63f25933",
   "metadata": {},
   "outputs": [],
   "source": [
    "#user = 'Adriann Liceralde'\n",
    "user      = 'adria'\n",
    "subfolder = 'V 3.3.1 Roof-Primary'\n",
    "#subfolder = 'V 3.3.2 Roof-Secondary'\n",
    "#subfolder = 'V Test'\n",
    "os.chdir('C:\\\\Users\\\\'+str(user)+'\\\\Desktop\\\\Repo\\\\WirelessSensorNetwork\\\\Data\\\\'+ str(subfolder))\n",
    "#os.chdir('C:\\\\Users\\\\'+str(user)+'\\\\Desktop\\\\'+str(subfolder))\n",
    "extension = 'csv'\n",
    "all_filenames = [i for i in glob.glob('*.{}'.format(extension))]"
   ]
  },
  {
   "cell_type": "markdown",
   "id": "64c2775c",
   "metadata": {},
   "source": [
    "## Process Binary Data\n",
    "1. Establish the data type class.\n",
    "2. Send information from each file over to a main numpy array\n",
    "3. Turn numpy array into pandas datafrane"
   ]
  },
  {
   "cell_type": "code",
   "execution_count": 59,
   "id": "84e74b1a",
   "metadata": {
    "scrolled": false
   },
   "outputs": [
    {
     "name": "stdout",
     "output_type": "stream",
     "text": [
      "File : 2021-07-12--17.csv \n",
      " Bytes: 12000 \n",
      " Lines: 1200\n",
      "File : 2021-07-12--18.csv \n",
      " Bytes: 12000 \n",
      " Lines: 1200\n",
      "File : 2021-07-12--19.csv \n",
      " Bytes: 12000 \n",
      " Lines: 1200\n",
      "File : 2021-07-12--20.csv \n",
      " Bytes: 12000 \n",
      " Lines: 1200\n",
      "File : 2021-07-12--21.csv \n",
      " Bytes: 12000 \n",
      " Lines: 1200\n",
      "File : 2021-07-12--22.csv \n",
      " Bytes: 12000 \n",
      " Lines: 1200\n",
      "File : 2021-07-12--23.csv \n",
      " Bytes: 12000 \n",
      " Lines: 1200\n",
      "File : 2021-07-13--00.csv \n",
      " Bytes: 12000 \n",
      " Lines: 1200\n",
      "File : 2021-07-13--01.csv \n",
      " Bytes: 12000 \n",
      " Lines: 1200\n",
      "File : 2021-07-13--02.csv \n",
      " Bytes: 12000 \n",
      " Lines: 1200\n",
      "File : 2021-07-13--03.csv \n",
      " Bytes: 12000 \n",
      " Lines: 1200\n",
      "File : 2021-07-13--04.csv \n",
      " Bytes: 12000 \n",
      " Lines: 1200\n",
      "File : 2021-07-13--05.csv \n",
      " Bytes: 12000 \n",
      " Lines: 1200\n",
      "File : 2021-07-13--06.csv \n",
      " Bytes: 12000 \n",
      " Lines: 1200\n",
      "File : 2021-07-13--07.csv \n",
      " Bytes: 12000 \n",
      " Lines: 1200\n",
      "File : 2021-07-13--09.csv \n",
      " Bytes: 12000 \n",
      " Lines: 1200\n",
      "File : 2021-07-13--10.csv \n",
      " Bytes: 12000 \n",
      " Lines: 1200\n",
      "File : 2021-07-13--11.csv \n",
      " Bytes: 12000 \n",
      " Lines: 1200\n",
      "File : 2021-07-13--12.csv \n",
      " Bytes: 12000 \n",
      " Lines: 1200\n",
      "File : 2021-07-13--13.csv \n",
      " Bytes: 12000 \n",
      " Lines: 1200\n",
      "File : 2021-07-13--14.csv \n",
      " Bytes: 11300 \n",
      " Lines: 1130\n",
      "File : 2021-07-15--14.csv \n",
      " Bytes: 12000 \n",
      " Lines: 1200\n",
      "File : 2021-07-15--15.csv \n",
      " Bytes: 12000 \n",
      " Lines: 1200\n",
      "File : 2021-07-15--16.csv \n",
      " Bytes: 12000 \n",
      " Lines: 1200\n",
      "File : 2021-07-15--18.csv \n",
      " Bytes: 12000 \n",
      " Lines: 1200\n",
      "File : 2021-07-15--19.csv \n",
      " Bytes: 12000 \n",
      " Lines: 1200\n",
      "File : 2021-07-15--20.csv \n",
      " Bytes: 12000 \n",
      " Lines: 1200\n",
      "File : 2021-07-15--21.csv \n",
      " Bytes: 12000 \n",
      " Lines: 1200\n",
      "File : 2021-07-15--22.csv \n",
      " Bytes: 12000 \n",
      " Lines: 1200\n",
      "File : 2021-07-15--23.csv \n",
      " Bytes: 3200 \n",
      " Lines: 320\n"
     ]
    }
   ],
   "source": [
    "first  = True\n",
    "mainNP = np.array([])\n",
    "dt     = np.dtype( [('unixtime','>u4'), ('ws','u1'), ('wd','>u2'), ('co2','>u2'), ('temp','u1')] )\n",
    "\n",
    "for each in all_filenames:\n",
    "    filesize   = int(os.path.getsize(each))\n",
    "    headersize = 0\n",
    "    lines      = (filesize-headersize)//10\n",
    "    print('File :' , each, '\\n', 'Bytes:' , filesize, '\\n', 'Lines:' , lines)\n",
    "    #print(lines)\n",
    "\n",
    "    fileNP = np.fromfile(each, dtype = dt)\n",
    "    \n",
    "    if (first == True):\n",
    "        mainNP = fileNP\n",
    "        first = False\n",
    "    elif (first == False):\n",
    "        mainNP = np.concatenate( (mainNP, fileNP))\n",
    "        \n",
    "mainDF = pd.DataFrame(mainNP)\n",
    "mainDF = mainDF.assign(date = pd.to_datetime(mainDF.unixtime, unit = 's').dt.strftime('%m/%d/%Y %H:%M'))\n",
    "mainDF.ws = (mainDF.ws*2.25/3/2.237).round(2)\n",
    "mainDF = mainDF[['unixtime', 'date', 'ws', 'wd', 'co2', 'temp']]"
   ]
  },
  {
   "cell_type": "code",
   "execution_count": 55,
   "id": "2c191cba",
   "metadata": {},
   "outputs": [
    {
     "name": "stdout",
     "output_type": "stream",
     "text": [
      "         unixtime              date    ws   wd  co2  temp\n",
      "0      1626112597  07/12/2021 17:56  0.00   11  672    47\n",
      "1      1626112600  07/12/2021 17:56  0.00   24  535    47\n",
      "2      1626112603  07/12/2021 17:56  0.34   25  467    47\n",
      "3      1626112606  07/12/2021 17:56  0.00   26  465    47\n",
      "4      1626112609  07/12/2021 17:56  0.34   11  460    47\n",
      "...           ...               ...   ...  ...  ...   ...\n",
      "35045  1626393991  07/16/2021 00:06  1.01  191  335    35\n",
      "35046  1626393994  07/16/2021 00:06  1.01  193  335    35\n",
      "35047  1626393997  07/16/2021 00:06  0.67   81  341    35\n",
      "35048  1626394000  07/16/2021 00:06  1.34   86  345    35\n",
      "35049  1626394003  07/16/2021 00:06  2.01  115  349    35\n",
      "\n",
      "[35050 rows x 6 columns]\n"
     ]
    }
   ],
   "source": [
    "print(mainDF)"
   ]
  },
  {
   "cell_type": "markdown",
   "id": "bc2bc360",
   "metadata": {},
   "source": [
    "## Export to Single CSV\n",
    "1. Select the name for the finalized csv file\n",
    "2. Export the pandas dataframe to a csv file into a different folder directory\n",
    "3. Check to see if all the timestamps in the dataset have been accounted for."
   ]
  },
  {
   "cell_type": "code",
   "execution_count": 44,
   "id": "e631da83",
   "metadata": {},
   "outputs": [],
   "source": [
    "node   = subfolder[12:16]\n",
    "#target = subfolder[0:6]+str(0)+(' Roof')\n",
    "#os.chdir('C:\\\\Users\\\\'+str(user)+'\\\\Desktop\\\\Repo\\\\WirelessSensorNetwork\\\\Data\\\\'+ str(target))\n",
    "os.chdir('C:\\\\Users\\\\'+str(user)+'\\\\Desktop\\\\Repo\\\\WirelessSensorNetwork\\\\Data\\\\')\n",
    "\n",
    "name = 'C-'+ str(all_filenames[0])[0:-8] + str(node)+ '.csv'\n",
    "mainDF.to_csv(name, index=False, encoding='utf-8-sig')"
   ]
  },
  {
   "cell_type": "code",
   "execution_count": null,
   "id": "a2962895",
   "metadata": {},
   "outputs": [],
   "source": [
    "#Check if all timestamps are accounted for\n",
    "first = mainNP[0][0]\n",
    "last  = mainNP[-1][0]\n",
    "span = np.arange(first, last+3, 3)\n",
    "unix = mainDF.unixtime.to_numpy()\n",
    "summation = sum(unix-span)\n",
    "print(summation)"
   ]
  },
  {
   "cell_type": "code",
   "execution_count": null,
   "id": "279bb2ef",
   "metadata": {},
   "outputs": [],
   "source": []
  }
 ],
 "metadata": {
  "kernelspec": {
   "display_name": "Python 3 (ipykernel)",
   "language": "python",
   "name": "python3"
  },
  "language_info": {
   "codemirror_mode": {
    "name": "ipython",
    "version": 3
   },
   "file_extension": ".py",
   "mimetype": "text/x-python",
   "name": "python",
   "nbconvert_exporter": "python",
   "pygments_lexer": "ipython3",
   "version": "3.9.0"
  },
  "varInspector": {
   "cols": {
    "lenName": 16,
    "lenType": 16,
    "lenVar": 40
   },
   "kernels_config": {
    "python": {
     "delete_cmd_postfix": "",
     "delete_cmd_prefix": "del ",
     "library": "var_list.py",
     "varRefreshCmd": "print(var_dic_list())"
    },
    "r": {
     "delete_cmd_postfix": ") ",
     "delete_cmd_prefix": "rm(",
     "library": "var_list.r",
     "varRefreshCmd": "cat(var_dic_list()) "
    }
   },
   "types_to_exclude": [
    "module",
    "function",
    "builtin_function_or_method",
    "instance",
    "_Feature"
   ],
   "window_display": false
  }
 },
 "nbformat": 4,
 "nbformat_minor": 5
}
