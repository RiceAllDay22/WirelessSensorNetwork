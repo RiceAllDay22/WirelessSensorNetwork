{
 "cells": [
  {
   "cell_type": "markdown",
   "id": "91a8c86f",
   "metadata": {},
   "source": [
    "# Adriann Liceralde\n",
    "# Combine CSV - Binary NEW"
   ]
  },
  {
   "cell_type": "markdown",
   "id": "25cb5aa8",
   "metadata": {},
   "source": [
    "## Select Directory\n",
    "1. Import all necessary libraries.\n",
    "2. Set the directory to the folder that contains the target dataset.\n",
    "3. Select all the csv files within the folder"
   ]
  },
  {
   "cell_type": "code",
   "execution_count": 1,
   "id": "4aa4ac31",
   "metadata": {},
   "outputs": [],
   "source": [
    "import numpy as np\n",
    "import matplotlib.pyplot as plt\n",
    "import pandas as pd\n",
    "import os\n",
    "import glob"
   ]
  },
  {
   "cell_type": "code",
   "execution_count": null,
   "id": "36141bef",
   "metadata": {},
   "outputs": [],
   "source": [
    "os.chdir('D:\\\\')\n",
    "extension = 'csv'\n",
    "all_filenames = [i for i in glob.glob('*.{}'.format(extension))]"
   ]
  },
  {
   "cell_type": "code",
   "execution_count": 2,
   "id": "63f25933",
   "metadata": {},
   "outputs": [],
   "source": [
    "#user = 'Adriann Liceralde'\n",
    "user      = 'adria'\n",
    "subfolder = 'V 3.7.2 Roof-Primary'\n",
    "#subfolder = 'V 3.3.2 Roof-Secondary'\n",
    "#subfolder = 'V Test'\n",
    "os.chdir('C:\\\\Users\\\\'+str(user)+'\\\\Desktop\\\\Repo\\\\WirelessSensorNetwork\\\\Data\\\\'+ str(subfolder))\n",
    "#os.chdir('C:\\\\Users\\\\'+str(user)+'\\\\Desktop\\\\'+str(subfolder))\n",
    "extension = 'csv'\n",
    "all_filenames = [i for i in glob.glob('*.{}'.format(extension))]"
   ]
  },
  {
   "cell_type": "markdown",
   "id": "64c2775c",
   "metadata": {},
   "source": [
    "## Process Binary Data\n",
    "1. Establish the data type class.\n",
    "2. Send information from each file over to a main numpy array\n",
    "3. Turn numpy array into pandas datafrane"
   ]
  },
  {
   "cell_type": "code",
   "execution_count": 3,
   "id": "84e74b1a",
   "metadata": {
    "scrolled": false
   },
   "outputs": [
    {
     "name": "stdout",
     "output_type": "stream",
     "text": [
      "1200\n",
      "1200\n",
      "1200\n",
      "1200\n",
      "1200\n",
      "650\n",
      "685\n",
      "1200\n",
      "170\n",
      "1200\n",
      "1200\n",
      "1200\n",
      "1200\n",
      "1200\n",
      "170\n",
      "145\n",
      "380\n",
      "1200\n",
      "1200\n",
      "240\n",
      "120\n",
      "1200\n",
      "335\n",
      "1120\n",
      "510\n",
      "1200\n",
      "1095\n",
      "1200\n",
      "1200\n",
      "430\n",
      "1200\n",
      "1200\n",
      "1200\n",
      "1200\n",
      "5\n",
      "1200\n",
      "1200\n",
      "1200\n",
      "1030\n",
      "1200\n",
      "1200\n",
      "660\n",
      "1200\n",
      "1200\n",
      "1200\n",
      "1200\n",
      "1200\n",
      "1200\n",
      "1200\n",
      "630\n",
      "1200\n",
      "1200\n",
      "1200\n",
      "985\n",
      "1200\n",
      "445\n",
      "145\n",
      "95\n",
      "1200\n",
      "95\n",
      "400\n",
      "1200\n",
      "1200\n",
      "1200\n",
      "1200\n",
      "1200\n",
      "1200\n",
      "1200\n",
      "790\n",
      "1200\n",
      "1070\n",
      "775\n",
      "305\n",
      "55\n",
      "945\n",
      "120\n",
      "1005\n",
      "50\n",
      "100\n",
      "185\n",
      "25\n",
      "495\n",
      "180\n",
      "420\n",
      "410\n",
      "295\n",
      "290\n",
      "160\n",
      "10\n",
      "65\n",
      "685\n",
      "160\n",
      "155\n",
      "15\n",
      "645\n",
      "50\n",
      "40\n",
      "205\n",
      "100\n",
      "115\n",
      "80\n",
      "200\n",
      "35\n",
      "185\n",
      "265\n",
      "20\n",
      "150\n",
      "35\n",
      "115\n",
      "140\n",
      "30\n",
      "20\n",
      "85\n",
      "125\n",
      "170\n",
      "85\n",
      "245\n",
      "295\n",
      "230\n",
      "265\n",
      "90\n",
      "55\n",
      "230\n",
      "5\n",
      "155\n",
      "20\n",
      "50\n",
      "10\n",
      "100\n",
      "185\n",
      "90\n",
      "20\n",
      "35\n",
      "80\n",
      "95\n",
      "75\n",
      "80\n",
      "105\n",
      "120\n",
      "90\n",
      "45\n"
     ]
    }
   ],
   "source": [
    "first  = True\n",
    "mainNP = np.array([])\n",
    "dt     = np.dtype( [('unixtime','>u4'), ('ws','u1'), ('wd','>u2'), ('co2','>u2'), ('temp','u1')] )\n",
    "\n",
    "for each in all_filenames:\n",
    "    filesize   = int(os.path.getsize(each))\n",
    "    headersize = 0\n",
    "    lines      = (filesize-headersize)//10\n",
    "    #print('File :' , each, '\\n', 'Bytes:' , filesize, '\\n', 'Lines:' , lines)\n",
    "    print(lines)\n",
    "\n",
    "    fileNP = np.fromfile(each, dtype = dt)\n",
    "    \n",
    "    if (first == True):\n",
    "        mainNP = fileNP\n",
    "        first = False\n",
    "    elif (first == False):\n",
    "        mainNP = np.concatenate( (mainNP, fileNP))\n",
    "        \n",
    "mainDF = pd.DataFrame(mainNP)\n",
    "mainDF = mainDF.assign(date = pd.to_datetime(mainDF.unixtime, unit = 's').dt.strftime('%m/%d/%Y %H:%M'))\n",
    "mainDF.ws = (mainDF.ws*2.25/3/2.237).round(2)\n",
    "mainDF = mainDF[['unixtime', 'date', 'ws', 'wd', 'co2', 'temp']]"
   ]
  },
  {
   "cell_type": "code",
   "execution_count": null,
   "id": "2c191cba",
   "metadata": {},
   "outputs": [],
   "source": [
    "print(mainDF)"
   ]
  },
  {
   "cell_type": "markdown",
   "id": "bc2bc360",
   "metadata": {},
   "source": [
    "## Export to Single CSV\n",
    "1. Select the name for the finalized csv file\n",
    "2. Export the pandas dataframe to a csv file into a different folder directory\n",
    "3. Check to see if all the timestamps in the dataset have been accounted for."
   ]
  },
  {
   "cell_type": "code",
   "execution_count": 4,
   "id": "e631da83",
   "metadata": {
    "scrolled": true
   },
   "outputs": [],
   "source": [
    "node   = subfolder[12:16]\n",
    "target = ('V All')\n",
    "os.chdir('C:\\\\Users\\\\'+str(user)+'\\\\Desktop\\\\Repo\\\\WirelessSensorNetwork\\\\Data\\\\'+ str(target))\n",
    "name = 'C-'+ str(all_filenames[0])[0:-8] + str(node)+ '.csv'\n",
    "mainDF.to_csv(name, index=False, encoding='utf-8-sig')"
   ]
  },
  {
   "cell_type": "code",
   "execution_count": null,
   "id": "8e8ca140",
   "metadata": {},
   "outputs": [],
   "source": [
    "os.chdir('C:\\\\Users\\\\'+str(user)+'\\\\Desktop\\\\Repo\\\\WirelessSensorNetwork\\\\Data\\\\V Test')\n",
    "name = 'Test.csv'\n",
    "#name = 'C-'+ str(all_filenames[0])[0:-8] + str(node)+ '.csv'\n",
    "mainDF.to_csv(name, index=False, encoding='utf-8-sig')"
   ]
  },
  {
   "cell_type": "code",
   "execution_count": null,
   "id": "2e2dd341",
   "metadata": {},
   "outputs": [],
   "source": [
    "name = 'Test.csv'\n",
    "mainDF.to_csv(name, index=False, encoding='utf-8-sig')"
   ]
  },
  {
   "cell_type": "code",
   "execution_count": null,
   "id": "a2962895",
   "metadata": {},
   "outputs": [],
   "source": [
    "#Check if all timestamps are accounted for\n",
    "first = mainNP[0][0]\n",
    "last  = mainNP[-1][0]\n",
    "span = np.arange(first, last+3, 3)\n",
    "unix = mainDF.unixtime.to_numpy()\n",
    "summation = sum(unix-span)\n",
    "print(summation)"
   ]
  },
  {
   "cell_type": "code",
   "execution_count": null,
   "id": "54254531",
   "metadata": {},
   "outputs": [],
   "source": []
  }
 ],
 "metadata": {
  "kernelspec": {
   "display_name": "Python 3 (ipykernel)",
   "language": "python",
   "name": "python3"
  },
  "language_info": {
   "codemirror_mode": {
    "name": "ipython",
    "version": 3
   },
   "file_extension": ".py",
   "mimetype": "text/x-python",
   "name": "python",
   "nbconvert_exporter": "python",
   "pygments_lexer": "ipython3",
   "version": "3.9.0"
  },
  "toc": {
   "base_numbering": 1,
   "nav_menu": {},
   "number_sections": false,
   "sideBar": false,
   "skip_h1_title": true,
   "title_cell": "Table of Contents",
   "title_sidebar": "Contents",
   "toc_cell": false,
   "toc_position": {},
   "toc_section_display": true,
   "toc_window_display": false
  },
  "varInspector": {
   "cols": {
    "lenName": 16,
    "lenType": 16,
    "lenVar": 40
   },
   "kernels_config": {
    "python": {
     "delete_cmd_postfix": "",
     "delete_cmd_prefix": "del ",
     "library": "var_list.py",
     "varRefreshCmd": "print(var_dic_list())"
    },
    "r": {
     "delete_cmd_postfix": ") ",
     "delete_cmd_prefix": "rm(",
     "library": "var_list.r",
     "varRefreshCmd": "cat(var_dic_list()) "
    }
   },
   "types_to_exclude": [
    "module",
    "function",
    "builtin_function_or_method",
    "instance",
    "_Feature"
   ],
   "window_display": false
  }
 },
 "nbformat": 4,
 "nbformat_minor": 5
}
