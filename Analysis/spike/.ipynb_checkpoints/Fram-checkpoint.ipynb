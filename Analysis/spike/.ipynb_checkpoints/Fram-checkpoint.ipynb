{
 "cells": [
  {
   "cell_type": "markdown",
   "id": "2c7dbfc2",
   "metadata": {},
   "source": [
    "1636917620\t11/14/2021 19:20\t1.01\t122\t322\t23\n",
    "1636917623\t11/14/2021 19:20\t1.01\t93\t287\t23\n",
    "1636917626\t11/14/2021 19:20\t0.67\t167\t409\t23\n",
    "1636917629\t11/14/2021 19:20\t1.01\t113\t377\t23\n",
    "1636917632\t11/14/2021 19:20\t1.01\t86\t366\t23"
   ]
  },
  {
   "attachments": {
    "image.png": {
     "image/png": "[encoded data removed]"
    }
   },
   "cell_type": "markdown",
   "id": "8f007cda",
   "metadata": {},
   "source": [
    "![image.png](attachment:image.png)"
   ]
  },
  {
   "cell_type": "markdown",
   "id": "da38d02f",
   "metadata": {},
   "source": [
    "# Representing CO2 as 2 bytes\n",
    "- 0 to 40,000 ppm"
   ]
  },
  {
   "cell_type": "markdown",
   "id": "7e792f91",
   "metadata": {},
   "source": [
    "$$ ppm = 256[B_1] + [B_2] $$"
   ]
  },
  {
   "cell_type": "code",
   "execution_count": 1,
   "id": "686f8c7b",
   "metadata": {},
   "outputs": [
    {
     "name": "stdout",
     "output_type": "stream",
     "text": [
      "(1, 164)\n"
     ]
    }
   ],
   "source": [
    "ppm = 420\n",
    "\n",
    "#Function: 16 bit to 2 bytes\n",
    "def ppm_to_byte(ppm):\n",
    "    b1 = ppm//256\n",
    "    b2 = ppm - b1*256\n",
    "    return b1, b2\n",
    "\n",
    "#Function: 2 bytes to 16 bit\n",
    "def byte_to_ppm(b1, b2):\n",
    "    ppm = b1*256 + b2\n",
    "    return ppm\n",
    "\n",
    "print(ppm_to_byte(ppm))"
   ]
  },
  {
   "cell_type": "markdown",
   "id": "3c022ed2",
   "metadata": {},
   "source": [
    "# Representing Temp as 1 byte\n",
    "- -40°C – 70°C"
   ]
  },
  {
   "cell_type": "code",
   "execution_count": 2,
   "id": "c85e778c",
   "metadata": {},
   "outputs": [
    {
     "name": "stdout",
     "output_type": "stream",
     "text": [
      "100\n",
      "60\n"
     ]
    }
   ],
   "source": [
    "temp = 60\n",
    "\n",
    "#Function: 8 bit to 1 byte\n",
    "def temp_to_byte(temp):\n",
    "    b1 = temp + 40\n",
    "    return b1\n",
    "\n",
    "\n",
    "#Function: 1 byte to 8 bit\n",
    "def byte_to_temp(b1):\n",
    "    temp = b1 - 40\n",
    "    return temp\n",
    "print(temp_to_byte(temp))\n",
    "print(byte_to_temp(temp_to_byte(temp)))"
   ]
  },
  {
   "cell_type": "markdown",
   "id": "ca1d98a6",
   "metadata": {},
   "source": [
    "# Representing Unixtime as 4 bytes"
   ]
  },
  {
   "cell_type": "markdown",
   "id": "22cd0f67",
   "metadata": {},
   "source": [
    "$$ ut = 256^3[B_1] + 256^2[B_2] + 256[B_3] + [B_4] $$"
   ]
  },
  {
   "cell_type": "code",
   "execution_count": 3,
   "id": "03c289bb",
   "metadata": {},
   "outputs": [],
   "source": [
    "#Function: 32 bit to 4 bytes\n",
    "def ut_to_byte(ut):\n",
    "    b1 = ut//256**3\n",
    "    b2 = ut//256**2 - b1*256\n",
    "    b3 = ut//256**1 - b1*256**2 - b2*256\n",
    "    b4 = ut - b1*256**3 - b2*256**2 - b3*256\n",
    "    return b1, b2, b3, b4\n",
    "\n",
    "#Function: 4 bytes to 32 bit\n",
    "def byte_to_ut(b1, b2, b3, b4):\n",
    "    ut = b1*256**3 + b2*256**2 + b3*256**1 + b4\n",
    "    return ut"
   ]
  },
  {
   "cell_type": "markdown",
   "id": "5897c0ec",
   "metadata": {},
   "source": [
    "# Representing WS and WD as 2 bytes\n",
    "WS needs to go from 0 to 127 <br>\n",
    "WD needs to go from 0 to 359"
   ]
  },
  {
   "cell_type": "code",
   "execution_count": 4,
   "id": "2ee26e6d",
   "metadata": {},
   "outputs": [
    {
     "name": "stdout",
     "output_type": "stream",
     "text": [
      "(127, 358)\n",
      "(179, 127)\n",
      "(127, 358)\n"
     ]
    }
   ],
   "source": [
    "ws = 127\n",
    "wd = 358\n",
    "print((ws, wd))\n",
    "\n",
    "# Function: ws and wd to 2 bytes\n",
    "def wind_to_byte(ws, wd): \n",
    "    b1 = wd//2\n",
    "\n",
    "    if (wd%2) == 1:\n",
    "        b2 = ws + 128 # wd is odd \n",
    "    else:\n",
    "        b2 = ws # wd is even\n",
    "    return b1, b2\n",
    "\n",
    "print(wind_to_byte(ws, wd))\n",
    "\n",
    "\n",
    "#Function: 2 bytes to ws and wd\n",
    "def byte_to_wind(b1, b2):\n",
    "    if b2 > 127:\n",
    "        wd = b1*2 + 1\n",
    "        ws = b2 - 128\n",
    "    else:\n",
    "        wd = b1*2\n",
    "        ws = b2\n",
    "    return ws, wd\n",
    "\n",
    "print(byte_to_wind(*wind_to_byte(ws, wd)))"
   ]
  },
  {
   "cell_type": "markdown",
   "id": "405015e9",
   "metadata": {},
   "source": [
    "# Data to Byte"
   ]
  },
  {
   "cell_type": "markdown",
   "id": "808a6bd9",
   "metadata": {},
   "source": [
    "#### Header\n",
    "$$[B_{h1}] [B_{u1}] [B_{u2}] [B_{u3}] [B_{u4}] [B_{h2}]$$"
   ]
  },
  {
   "cell_type": "markdown",
   "id": "b6a9f263",
   "metadata": {},
   "source": [
    "#### Data\n",
    "$$[B_{ni}] ... [B_{s1}] [B_{w1}] [B_{w2}] [B_{c1}] [B_{c2}] [B_{t1}] $$"
   ]
  },
  {
   "cell_type": "markdown",
   "id": "8282a893",
   "metadata": {},
   "source": [
    "#### Data\n",
    "$$[B_{ni}]...[B_{s1}] [B_{w1}] [B_{w2}] [B_{c1}] [B_{c2}] [B_{t1}] $$"
   ]
  },
  {
   "cell_type": "code",
   "execution_count": 11,
   "id": "5eb93636",
   "metadata": {},
   "outputs": [
    {
     "name": "stdout",
     "output_type": "stream",
     "text": [
      "Header 1636917620\n",
      "Data 10 127 358 420 60\n",
      "Data 13 127 358 420 60\n"
     ]
    }
   ],
   "source": [
    "row1 = (255, 97, 145, 97, 116, 255) # ut 1636917620\n",
    "row2 = (10, 179, 127, 1, 164, 100) # 10 sec, 127 ws, 358 wd, 420 ppm, 60 celsius\n",
    "row3 = (13, 179, 127, 1, 164, 100) # 13 sec, 127 ws, 358 wd, 420 ppm, 60 celsius\n",
    "\n",
    "def translate(row):\n",
    "    if row[0] == 255 and row[5] == 255:\n",
    "        # Header\n",
    "        ut = byte_to_ut(row[1], row[2], row[3], row[4])\n",
    "        print('Header', ut)\n",
    "\n",
    "    else:\n",
    "        # Data\n",
    "        sec = row[0]\n",
    "        ws, wd = byte_to_wind(row[1], row[2])\n",
    "        conc = byte_to_ppm(row[3], row[4])\n",
    "        temp = byte_to_temp(row[5])\n",
    "        print('Data', sec, ws, wd, conc, temp)\n",
    "\n",
    "translate(row1)\n",
    "translate(row2)\n",
    "translate(row3)"
   ]
  },
  {
   "cell_type": "code",
   "execution_count": 14,
   "id": "d79c9ccb",
   "metadata": {},
   "outputs": [
    {
     "data": {
      "text/plain": [
       "'0b10'"
      ]
     },
     "execution_count": 14,
     "metadata": {},
     "output_type": "execute_result"
    }
   ],
   "source": [
    "bin(2)"
   ]
  },
  {
   "cell_type": "code",
   "execution_count": 15,
   "id": "29f35ec6",
   "metadata": {},
   "outputs": [
    {
     "data": {
      "text/plain": [
       "'0x2'"
      ]
     },
     "execution_count": 15,
     "metadata": {},
     "output_type": "execute_result"
    }
   ],
   "source": [
    "hex(2)"
   ]
  },
  {
   "cell_type": "code",
   "execution_count": null,
   "id": "c78eaa95",
   "metadata": {},
   "outputs": [],
   "source": []
  }
 ],
 "metadata": {
  "kernelspec": {
   "display_name": "Python 3 (ipykernel)",
   "language": "python",
   "name": "python3"
  },
  "language_info": {
   "codemirror_mode": {
    "name": "ipython",
    "version": 3
   },
   "file_extension": ".py",
   "mimetype": "text/x-python",
   "name": "python",
   "nbconvert_exporter": "python",
   "pygments_lexer": "ipython3",
   "version": "3.9.0"
  },
  "varInspector": {
   "cols": {
    "lenName": 16,
    "lenType": 16,
    "lenVar": 40
   },
   "kernels_config": {
    "python": {
     "delete_cmd_postfix": "",
     "delete_cmd_prefix": "del ",
     "library": "var_list.py",
     "varRefreshCmd": "print(var_dic_list())"
    },
    "r": {
     "delete_cmd_postfix": ") ",
     "delete_cmd_prefix": "rm(",
     "library": "var_list.r",
     "varRefreshCmd": "cat(var_dic_list()) "
    }
   },
   "types_to_exclude": [
    "module",
    "function",
    "builtin_function_or_method",
    "instance",
    "_Feature"
   ],
   "window_display": false
  }
 },
 "nbformat": 4,
 "nbformat_minor": 5
}
