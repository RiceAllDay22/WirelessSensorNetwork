{
 "cells": [
  {
   "cell_type": "markdown",
   "metadata": {},
   "source": [
    "# Decodes Incoming XBee Data"
   ]
  },
  {
   "cell_type": "code",
   "execution_count": 1,
   "metadata": {},
   "outputs": [],
   "source": [
    "import numpy as np\n",
    "import matplotlib.pyplot as plt\n",
    "import pandas as pd\n",
    "import os\n",
    "import glob\n",
    "\n",
    "user = 'adria'\n",
    "#user = 'Adriann Liceralde'\n",
    "file = 'IncomingData.csv'\n",
    "\n",
    "os.chdir('D:')\n",
    "dataPD = pd.read_csv(file, header = None)\n",
    "dataNP = np.array(dataPD[0])"
   ]
  },
  {
   "cell_type": "code",
   "execution_count": 2,
   "metadata": {},
   "outputs": [
    {
     "name": "stdout",
     "output_type": "stream",
     "text": [
      "936\n"
     ]
    }
   ],
   "source": [
    "rowlen = len(dataNP)    \n",
    "datalen = int(rowlen/9)\n",
    "print(datalen)"
   ]
  },
  {
   "cell_type": "code",
   "execution_count": null,
   "metadata": {},
   "outputs": [],
   "source": [
    "unixTimeArray = []\n",
    "for i in range(0,datalen):\n",
    "    unixTime   = dataNP[0+(i*9)]*16777216 + dataNP[1+(i*9)]*65536 + dataNP[2+(i*9)]*256 + dataNP[3+(i*9)]\n",
    "    windClicks = dataNP[4+(i*9)]\n",
    "    windDir    = dataNP[5+(i*9)]*256 + dataNP[6+(i*9)]\n",
    "    gasData    = dataNP[7+(i*9)]*256 + dataNP[8+(i*9)]\n",
    "    unixTimeArray = np.append(unixTimeArray, unixTime)\n",
    "    print(unixTime, windClicks, windDir, gasData)"
   ]
  },
  {
   "cell_type": "code",
   "execution_count": null,
   "metadata": {},
   "outputs": [],
   "source": [
    "counter = 1597090826\n",
    "for i in unixTimeArray:\n",
    "    print(int(i), counter)\n",
    "    counter += 1"
   ]
  },
  {
   "cell_type": "code",
   "execution_count": null,
   "metadata": {},
   "outputs": [],
   "source": []
  }
 ],
 "metadata": {
  "kernelspec": {
   "display_name": "Python 3.8.2 32-bit ('WirelessSensorNetwork': pipenv)",
   "language": "python",
   "name": "python38232bitwirelesssensornetworkpipenve5e03a98fe554c36818b642f4ae55856"
  },
  "language_info": {
   "codemirror_mode": {
    "name": "ipython",
    "version": 3
   },
   "file_extension": ".py",
   "mimetype": "text/x-python",
   "name": "python",
   "nbconvert_exporter": "python",
   "pygments_lexer": "ipython3",
   "version": "3.8.2"
  }
 },
 "nbformat": 4,
 "nbformat_minor": 4
}
