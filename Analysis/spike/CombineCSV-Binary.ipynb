{
 "cells": [
  {
   "cell_type": "markdown",
   "metadata": {},
   "source": [
    "# Adriann Liceralde\n",
    "# Combine CSV - Binary"
   ]
  },
  {
   "cell_type": "markdown",
   "metadata": {},
   "source": [
    "## Select Directory"
   ]
  },
  {
   "cell_type": "code",
   "execution_count": 6,
   "metadata": {},
   "outputs": [
    {
     "data": {
      "text/plain": [
       "['2021-05-25--15.csv', '2021-05-25--15BIN.csv']"
      ]
     },
     "execution_count": 6,
     "metadata": {},
     "output_type": "execute_result"
    }
   ],
   "source": [
    "import numpy as np\n",
    "import matplotlib.pyplot as plt\n",
    "import pandas as pd\n",
    "import os\n",
    "import glob\n",
    "\n",
    "user = 'adria'\n",
    "#user = 'Adriann Liceralde'\n",
    "#subfolder = 'V 2.2.3 Lot'\n",
    "#os.chdir('C:\\\\Users\\\\'+str(user)+'\\\\Desktop\\\\Repository\\\\WirelessSensorNetwork\\\\Data\\\\'\n",
    "#         + str(subfolder))\n",
    "os.chdir('C:\\\\Users\\\\'+str(user)+'\\\\Desktop')\n",
    "extension = 'csv'\n",
    "all_filenames = [i for i in glob.glob('*.{}'.format(extension))]\n",
    "all_filenames"
   ]
  },
  {
   "cell_type": "markdown",
   "metadata": {},
   "source": [
    "## Process Binary Data"
   ]
  },
  {
   "cell_type": "code",
   "execution_count": 7,
   "metadata": {},
   "outputs": [
    {
     "name": "stdout",
     "output_type": "stream",
     "text": [
      "File : 2021-05-25--15.csv \n",
      " Bytes: 2115 \n",
      " Lines: 264\n",
      "File : 2021-05-25--15BIN.csv \n",
      " Bytes: 6300 \n",
      " Lines: 787\n"
     ]
    }
   ],
   "source": [
    "allUnixTime  = np.array([])\n",
    "allWindCycle = np.array([])\n",
    "allWindDir   = np.array([])\n",
    "allGasData   = np.array([])\n",
    "\n",
    "for each in all_filenames:\n",
    "    f = open(each, \"rb\")\n",
    "    filesize   = int(os.path.getsize(each))\n",
    "    headersize = 0\n",
    "    lines      = (filesize-headersize)//8\n",
    "\n",
    "    print('File :' , each, '\\n', 'Bytes:' , filesize, '\\n', 'Lines:' , lines)\n",
    "    first = False\n",
    "    counter = 0\n",
    "    \n",
    "    for i in range(lines):\n",
    "        if (first == False) and headersize > 0:\n",
    "            filler = str(f.read(headersize), 'utf-8')\n",
    "            first  = True\n",
    "        unix = int.from_bytes(f.read(4), byteorder='big')\n",
    "        ws   = int.from_bytes(f.read(1), byteorder='big')\n",
    "        wd   = int.from_bytes(f.read(2), byteorder='big')\n",
    "        gas  = int.from_bytes(f.read(2), byteorder='big')\n",
    "        allUnixTime = np.append(allUnixTime, str(unix))\n",
    "        allWindCycle= np.append(allWindCycle, ws)\n",
    "        allWindDir  = np.append(allWindDir,  wd)\n",
    "        allGasData  = np.append(allGasData, gas)"
   ]
  },
  {
   "cell_type": "code",
   "execution_count": null,
   "metadata": {},
   "outputs": [],
   "source": []
  },
  {
   "cell_type": "code",
   "execution_count": 11,
   "metadata": {
    "scrolled": true
   },
   "outputs": [
    {
     "data": {
      "text/plain": [
       "array(['1621955037', '1621955039', '1621955041', '1621955043',\n",
       "       '1621955045', '1621955047', '1621955049', '1621955051',\n",
       "       '1621955053', '1621955055', '1621955057', '1621955059',\n",
       "       '1621955061', '1621955063', '1621955065', '1621955067',\n",
       "       '1621955069', '1621955071', '1621955073', '1621955075',\n",
       "       '1621955077', '1621955079', '1621955081', '1621955083',\n",
       "       '1621955085', '1621955087', '1621955089', '1621955091',\n",
       "       '1621955093', '1621955095', '1621955097', '1621955099',\n",
       "       '1621955101', '1621955103', '1621955105', '1621955107',\n",
       "       '1621955109', '1621955111', '1621955113', '1621955115',\n",
       "       '1621955117', '1621955119', '1621955121', '1621955123',\n",
       "       '1621955125', '1621955127', '1621955129', '1621955131',\n",
       "       '1621955133', '1621955135', '1621955137', '1621955139',\n",
       "       '1621955141', '1621955143', '1621955145', '1621955147',\n",
       "       '1621955149', '1621955151', '1621955153', '1621955155',\n",
       "       '1621955157', '1621955159', '1621955161', '1621955163',\n",
       "       '1621955165', '1621955167', '1621955169', '1621955171',\n",
       "       '1621955173', '1621955175', '1621955177', '1621955179',\n",
       "       '1621955181', '1621955183', '1621955185', '1621955187',\n",
       "       '1621955189', '1621955191', '1621955193', '1621955195',\n",
       "       '1621955197', '1621955199', '1621955201', '1621955203',\n",
       "       '1621955205', '1621955207', '1621955209', '1621955211',\n",
       "       '1621955213', '1621955215', '1621955217', '1621955219',\n",
       "       '1621955221', '1621955223', '1621955225', '1621955227',\n",
       "       '1621955229', '1621955231', '1621955233', '1621955235',\n",
       "       '1621955237', '1621955239', '1621955241', '1621955243',\n",
       "       '1621955245', '1621955247', '1621955249', '1621955251',\n",
       "       '1621955253', '1621955255', '1621955257', '1621955259',\n",
       "       '1621955261', '1621955263', '1621955265', '1621955267',\n",
       "       '1621955269', '1621955271', '1621955273', '1621955275',\n",
       "       '1621955277', '1621955279', '1621955281', '1621955283',\n",
       "       '1621955285', '1621955287', '1621955289', '1621955291',\n",
       "       '1621955293', '1621955295', '1621955297', '1621955299',\n",
       "       '1621955301', '1621955303', '1621955305', '1621955307',\n",
       "       '1621955309', '1621955311', '1621955313', '1621955315',\n",
       "       '1621955317', '1621955319', '1621955321', '1621955323',\n",
       "       '1621955325', '1621955327', '1621955329', '1621955331',\n",
       "       '1621955333', '1621955335', '1621955337', '1621955339',\n",
       "       '1621955341', '1621955343', '1621955345', '1621955347',\n",
       "       '1621955349', '1621955351', '1621955353', '1621955355',\n",
       "       '1621955357', '1621955359', '1621955361', '1621955363',\n",
       "       '1621955365', '1621955367', '1621955369', '1621955371',\n",
       "       '1621955373', '1621955375', '1621955377', '1621955379',\n",
       "       '1621955381', '1621955383', '1621955385', '1621955387',\n",
       "       '1621955389', '1621955391', '1621955393', '1621955395',\n",
       "       '1621955397', '1621955399', '1621955401', '1621955403',\n",
       "       '1621955405', '1621955407', '1621955409', '1621955411',\n",
       "       '1621955413', '1621955415', '1621955417', '1621955419',\n",
       "       '1621955421', '1621955423', '1621955425', '1621955427',\n",
       "       '1621955429', '1621955431', '1621955433', '1621955435',\n",
       "       '1621955437', '1621955439', '1621955441', '1621955443',\n",
       "       '1621955445', '1621955447', '1621955449', '1621955451',\n",
       "       '1621955453', '1621955455', '1621955457', '1621955459',\n",
       "       '1621955461', '1621955463', '1621955465', '1621955467',\n",
       "       '1621955469', '1621955471', '1621955473', '1621955475',\n",
       "       '1621955477', '1621955479', '1621955481', '1621955483',\n",
       "       '1621955485', '1621955487', '1621955489', '1621955491',\n",
       "       '1621955493', '1621955495', '1621955497', '1621955499',\n",
       "       '1621955501', '1621955503', '1621955505', '0', '0', '0', '0', '0',\n",
       "       '0', '0', '0', '0', '0', '0', '0', '0', '0', '0', '0', '0', '0',\n",
       "       '0', '0', '0', '0', '0', '0', '0', '0', '0', '0', '0',\n",
       "       '1621955037', '1621955039', '1621955041', '1621955043',\n",
       "       '1621955045', '1621955047', '1621955049', '1621955051',\n",
       "       '1621955053', '1621955055', '1621955057', '1621955059',\n",
       "       '1621955061', '1621955063', '1621955065', '1621955067',\n",
       "       '1621955069', '1621955071', '1621955073', '1621955075',\n",
       "       '1621955077', '1621955079', '1621955081', '1621955083',\n",
       "       '1621955085', '1621955087', '1621955089', '1621955091',\n",
       "       '1621955093', '1621955095', '1621955097', '1621955099',\n",
       "       '1621955101', '1621955103', '1621955105', '1621955107',\n",
       "       '1621955109', '1621955111', '1621955113', '1621955115',\n",
       "       '1621955117', '1621955119', '1621955121', '1621955123',\n",
       "       '1621955125', '1621955127', '1621955129', '1621955131',\n",
       "       '1621955133', '1621955135', '1621955137', '1621955139',\n",
       "       '1621955141', '1621955143', '1621955145', '1621955147',\n",
       "       '1621955149', '1621955151', '1621955153', '1621955155',\n",
       "       '1621955157', '1621955159', '1621955161', '1621955163',\n",
       "       '1621955165', '1621955167', '1621955169', '1621955171',\n",
       "       '1621955173', '1621955175', '1621955177', '1621955179',\n",
       "       '1621955181', '1621955183', '1621955185', '1621955187',\n",
       "       '1621955189', '1621955191', '1621955193', '1621955195',\n",
       "       '1621955197', '1621955199', '1621955201', '1621955203',\n",
       "       '1621955205', '1621955207', '1621955209', '1621955211',\n",
       "       '1621955213', '1621955215', '1621955217', '1621955219',\n",
       "       '1621955221', '1621955223', '1621955225', '1621955227',\n",
       "       '1621955229', '1621955231', '1621955233', '1621955235',\n",
       "       '1621955237', '1621955239', '1621955241', '1621955243',\n",
       "       '1621955245', '1621955247', '1621955249', '1621955251',\n",
       "       '1621955253', '1621955255', '1621955257', '1621955259',\n",
       "       '1621955261', '1621955263', '1621955265', '1621955267',\n",
       "       '1621955269', '1621955271', '1621955273', '1621955275',\n",
       "       '1621955277', '1621955279', '1621955281', '1621955283',\n",
       "       '1621955285', '1621955287', '1621955289', '1621955291',\n",
       "       '1621955293', '1621955295', '1621955297', '1621955299',\n",
       "       '1621955301', '1621955303', '1621955305', '1621955307',\n",
       "       '1621955309', '1621955311', '1621955313', '1621955315',\n",
       "       '1621955317', '1621955319', '1621955321', '1621955323',\n",
       "       '1621955325', '1621955327', '1621955329', '1621955331',\n",
       "       '1621955333', '1621955335', '1621955337', '1621955339',\n",
       "       '1621955341', '1621955343', '1621955345', '1621955347',\n",
       "       '1621955349', '1621955351', '1621955353', '1621955355',\n",
       "       '1621955357', '1621955359', '1621955361', '1621955363',\n",
       "       '1621955365', '1621955367', '1621955369', '1621955371',\n",
       "       '1621955373', '1621955375', '1621955377', '1621955379',\n",
       "       '1621955381', '1621955383', '1621955385', '1621955387',\n",
       "       '1621955389', '1621955391', '1621955393', '1621955395',\n",
       "       '1621955397', '1621955399', '1621955401', '1621955403',\n",
       "       '1621955405', '1621955407', '1621955409', '1621955411',\n",
       "       '1621955413', '1621955415', '1621955417', '1621955419',\n",
       "       '1621955421', '1621955423', '1621955425', '1621955427',\n",
       "       '1621955429', '1621955431', '1621955433', '1621955435',\n",
       "       '1621955437', '1621955439', '1621955441', '1621955443',\n",
       "       '1621955445', '1621955447', '1621955449', '1621955451',\n",
       "       '1621955453', '1621955455', '1621955457', '1621955459',\n",
       "       '1621955461', '1621955463', '1621955465', '1621955467',\n",
       "       '1621955469', '1621955471', '1621955473', '1621955475',\n",
       "       '1621955477', '1621955479', '1621955481', '1621955483',\n",
       "       '1621955485', '1621955487', '1621955489', '1621955491',\n",
       "       '1621955493', '1621955495', '1621955497', '1621955499',\n",
       "       '1621955501', '1621955503', '1621955505', '1621955037',\n",
       "       '1621955039', '1621955041', '1621955043', '1621955045',\n",
       "       '1621955047', '1621955049', '1621955051', '1621955053',\n",
       "       '1621955055', '1621955057', '1621955059', '1621955061',\n",
       "       '1621955063', '1621955065', '1621955067', '1621955069',\n",
       "       '1621955071', '1621955073', '1621955075', '1621955037',\n",
       "       '1621955039', '1621955041', '1621955043', '1621955045',\n",
       "       '1621955047', '1621955049', '1621955051', '1621955053',\n",
       "       '1621955055', '1621955057', '1621955059', '1621955061',\n",
       "       '1621955063', '1621955065', '1621955067', '1621955069',\n",
       "       '1621955071', '1621955073', '1621955075', '1621955077',\n",
       "       '1621955079', '1621955081', '1621955083', '1621955085',\n",
       "       '1621955037', '1621955039', '1621955041', '1621955043',\n",
       "       '1621955045', '1621955047', '1621955049', '1621955051',\n",
       "       '1621955053', '1621955055', '1621955057', '1621955059',\n",
       "       '1621955061', '1621955063', '1621955065', '1621955067',\n",
       "       '1621955069', '1621955071', '1621955073', '1621955075',\n",
       "       '1621955077', '1621955079', '1621955081', '1621955083',\n",
       "       '1621955085', '1621955087', '1621955089', '1621955091',\n",
       "       '1621955093', '1621955095', '1621955097', '1621955099',\n",
       "       '1621955101', '1621955103', '1621955105', '1621955107',\n",
       "       '1621955109', '1621955111', '1621955113', '1621955115',\n",
       "       '1621955117', '1621955119', '1621955121', '1621955123',\n",
       "       '1621955125', '1621955127', '1621955129', '1621955131',\n",
       "       '1621955133', '1621955135', '1621955137', '1621955139',\n",
       "       '1621955141', '1621955143', '1621955145', '1621955147',\n",
       "       '1621955149', '1621955151', '1621955153', '1621955155',\n",
       "       '1621955157', '1621955159', '1621955161', '1621955163',\n",
       "       '1621955165', '1621955167', '1621955169', '1621955171',\n",
       "       '1621955173', '1621955175', '1621955177', '1621955179',\n",
       "       '1621955181', '1621955183', '1621955185', '1621955187',\n",
       "       '1621955189', '1621955191', '1621955193', '1621955195',\n",
       "       '1621955197', '1621955199', '1621955201', '1621955203',\n",
       "       '1621955205', '1621955207', '1621955209', '1621955211',\n",
       "       '1621955213', '1621955215', '1621955217', '1621955219',\n",
       "       '1621955221', '1621955223', '1621955225', '1621955227',\n",
       "       '1621955229', '1621955231', '1621955233', '1621955235',\n",
       "       '1621955237', '1621955239', '1621955241', '1621955243',\n",
       "       '1621955245', '1621955247', '1621955249', '1621955251',\n",
       "       '1621955253', '1621955255', '1621955257', '1621955259',\n",
       "       '1621955261', '1621955263', '1621955265', '1621955267',\n",
       "       '1621955269', '1621955271', '1621955273', '1621955275',\n",
       "       '1621955277', '1621955279', '1621955281', '1621955283',\n",
       "       '1621955285', '1621955287', '1621955289', '1621955291',\n",
       "       '1621955293', '1621955295', '1621955297', '1621955299',\n",
       "       '1621955301', '1621955303', '1621955305', '1621955307',\n",
       "       '1621955309', '1621955311', '1621955313', '1621955315',\n",
       "       '1621955317', '1621955319', '1621955321', '1621955323',\n",
       "       '1621955325', '1621955327', '1621955329', '1621955331',\n",
       "       '1621955333', '1621955335', '1621955337', '1621955339',\n",
       "       '1621955341', '1621955343', '1621955345', '1621955347',\n",
       "       '1621955349', '1621955351', '1621955353', '1621955355',\n",
       "       '1621955357', '1621955359', '1621955361', '1621955363',\n",
       "       '1621955365', '1621955367', '1621955369', '1621955371',\n",
       "       '1621955373', '1621955375', '1621955377', '1621955379',\n",
       "       '1621955381', '1621955383', '1621955385', '1621955387',\n",
       "       '1621955389', '1621955391', '1621955393', '1621955395',\n",
       "       '1621955397', '1621955399', '1621955401', '1621955403',\n",
       "       '1621955405', '1621955407', '1621955409', '1621955411',\n",
       "       '1621955413', '1621955415', '1621955417', '1621955419',\n",
       "       '1621955421', '1621955423', '1621955425', '1621955427',\n",
       "       '1621955429', '1621955431', '1621955433', '1621955435',\n",
       "       '1621955437', '1621955439', '1621955441', '1621955443',\n",
       "       '1621955445', '1621955447', '1621955449', '1621955451',\n",
       "       '1621955453', '1621955455', '1621955457', '1621955459',\n",
       "       '1621955461', '1621955463', '1621955465', '1621955467',\n",
       "       '1621955469', '1621955471', '1621955473', '1621955475',\n",
       "       '1621955477', '1621955479', '1621955481', '1621955483',\n",
       "       '1621955485', '1621955487', '1621955489', '1621955491',\n",
       "       '1621955493', '1621955495', '1621955497', '1621955499',\n",
       "       '1621955501', '1621955503', '1621955505', '1621955507',\n",
       "       '1621955509', '1621955511', '1621955513', '1621955515',\n",
       "       '1621955517', '1621955519', '1621955521', '1621955523',\n",
       "       '1621955525', '1621955527', '1621955529', '1621955531',\n",
       "       '1621955533', '1621955535', '1621955537', '1621955539',\n",
       "       '1621955541', '1621955543', '1621955545', '1621955547',\n",
       "       '1621955549', '1621955551', '1621955553', '1621955555',\n",
       "       '1621955557', '1621955559', '1621955561', '1621955563',\n",
       "       '1621955565', '1621955567', '1621955569', '1621955571',\n",
       "       '1621955573', '1621955575', '1621955577', '1621955579',\n",
       "       '1621955581', '1621955583', '1621955585', '1621955587',\n",
       "       '1621955589', '1621955591', '1621955593', '1621955595',\n",
       "       '1621955597', '1621955599', '1621955601', '1621955603',\n",
       "       '1621955605', '1621955607', '1621955609', '1621955611',\n",
       "       '1621955613', '1621955615', '1621955617', '1621955619',\n",
       "       '1621955621', '1621955623', '1621955625', '1621955627',\n",
       "       '1621955629', '1621955631', '1621955633', '1621955635',\n",
       "       '1621955637', '1621955639', '1621955641', '1621955643',\n",
       "       '1621955645', '1621955647', '1621955649', '1621955651',\n",
       "       '1621955653', '1621955655', '1621955657', '1621955659',\n",
       "       '1621955661', '1621955663', '1621955665', '1621955667',\n",
       "       '1621955669', '1621955671', '1621955673', '1621955675',\n",
       "       '1621955677', '1621955679', '1621955681', '1621955683',\n",
       "       '1621955685', '1621955687', '1621955689', '1621955691',\n",
       "       '1621955693', '1621955695', '1621955697', '1621955699',\n",
       "       '1621955701', '1621955703', '1621955705', '1621955707',\n",
       "       '1621955709', '1621955711', '1621955713', '1621955715',\n",
       "       '1621955717', '1621955719', '1621955721', '1621955723',\n",
       "       '1621955725', '1621955727', '1621955729', '1621955731',\n",
       "       '1621955733', '1621955735', '1621955737', '1621955739',\n",
       "       '1621955741', '1621955743', '1621955745', '1621955747',\n",
       "       '1621955749', '1621955751', '1621955753', '1621955755',\n",
       "       '1621955757', '1621955759', '1621955761', '1621955763',\n",
       "       '1621955765', '1621955037', '1621955039', '1621955041',\n",
       "       '1621955043', '1621955045', '1621955047', '1621955049',\n",
       "       '1621955051', '1621955053', '1621955055', '1621955057',\n",
       "       '1621955059', '1621955061', '1621955063', '1621955065',\n",
       "       '1621955067', '1621955069', '1621955071', '1621955073',\n",
       "       '1621955075', '1621955077', '1621955079', '1621955081',\n",
       "       '1621955083', '1621955085', '1621955087', '1621955089',\n",
       "       '1621955091', '1621955093', '1621955095', '1621955097',\n",
       "       '1621955099', '1621955101', '1621955103', '1621955105',\n",
       "       '1621955107', '1621955109', '1621955111', '1621955113',\n",
       "       '1621955115', '1621955117', '1621955119', '1621955121',\n",
       "       '1621955123', '1621955125', '1621955127', '1621955129',\n",
       "       '1621955131', '1621955133', '1621955135', '1621955137',\n",
       "       '1621955139', '1621955141', '1621955143', '1621955145', '0', '0',\n",
       "       '0', '0', '0', '0', '0', '0', '0', '0', '0', '0', '0', '0', '0',\n",
       "       '0', '0', '0', '0', '0', '0', '0', '0', '0', '0', '0', '0', '0',\n",
       "       '0', '0', '0', '0', '0', '0', '0', '0'], dtype='<U32')"
      ]
     },
     "execution_count": 11,
     "metadata": {},
     "output_type": "execute_result"
    }
   ],
   "source": [
    "allUnixTime[0:1000]"
   ]
  },
  {
   "cell_type": "markdown",
   "metadata": {},
   "source": [
    "## Export to Single CSV"
   ]
  },
  {
   "cell_type": "code",
   "execution_count": 13,
   "metadata": {},
   "outputs": [],
   "source": [
    "#allWindDir   *= 22.5\n",
    "#allWindSpeed *= 1.492\n",
    "CombineNP = np.column_stack((allUnixTime, allWindCycle, allWindDir, allGasData))\n",
    "CombineDF = pd.DataFrame(CombineNP)\n",
    "CombineDF.columns  = ['UnixTime', 'Wind Speed', 'Wind Dir', 'GasData']\n",
    "CombineDF.UnixTime = CombineDF.UnixTime.astype(int)\n",
    "\n",
    "name = 'C-'+ str(all_filenames[0])[0:-8] + str('.csv')\n",
    "CombineDF.to_csv(name, index=False, encoding='utf-8-sig')"
   ]
  },
  {
   "cell_type": "code",
   "execution_count": null,
   "metadata": {},
   "outputs": [],
   "source": [
    "plt.plot(allWindDir, 'r')\n",
    "plt.show()"
   ]
  },
  {
   "cell_type": "code",
   "execution_count": 13,
   "metadata": {},
   "outputs": [
    {
     "data": {
      "image/png": "[encoded data removed]",
      "text/plain": [
       "<Figure size 432x288 with 1 Axes>"
      ]
     },
     "metadata": {
      "needs_background": "light"
     },
     "output_type": "display_data"
    }
   ],
   "source": [
    "plt.plot(allGasData, 'r')\n",
    "plt.show()"
   ]
  },
  {
   "cell_type": "code",
   "execution_count": null,
   "metadata": {},
   "outputs": [],
   "source": [
    "allUnixTime[1600]"
   ]
  },
  {
   "cell_type": "code",
   "execution_count": null,
   "metadata": {},
   "outputs": [],
   "source": [
    "plt.plot(allWindSpeed[0:-1], 'o')\n",
    "plt.plot()"
   ]
  },
  {
   "cell_type": "code",
   "execution_count": null,
   "metadata": {},
   "outputs": [],
   "source": [
    "objects = []\n",
    "import pickle\n",
    "with (open(\"2019-08-22.pickle\", \"rb\")) as openfile:\n",
    "    while True:\n",
    "        try:\n",
    "            objects.append(pickle.load(openfile))\n",
    "        except EOFError:\n",
    "            break"
   ]
  },
  {
   "cell_type": "code",
   "execution_count": null,
   "metadata": {},
   "outputs": [],
   "source": [
    "os.getcwd()"
   ]
  },
  {
   "cell_type": "code",
   "execution_count": null,
   "metadata": {},
   "outputs": [],
   "source": [
    "objects"
   ]
  },
  {
   "cell_type": "code",
   "execution_count": null,
   "metadata": {},
   "outputs": [],
   "source": [
    "type(objects)"
   ]
  },
  {
   "cell_type": "code",
   "execution_count": null,
   "metadata": {},
   "outputs": [],
   "source": [
    "objects[0]"
   ]
  },
  {
   "cell_type": "code",
   "execution_count": null,
   "metadata": {},
   "outputs": [],
   "source": [
    "type(objects)\n",
    "len(objects[0])"
   ]
  },
  {
   "cell_type": "code",
   "execution_count": null,
   "metadata": {},
   "outputs": [],
   "source": [
    "print(objects[0])"
   ]
  },
  {
   "cell_type": "code",
   "execution_count": null,
   "metadata": {},
   "outputs": [],
   "source": []
  }
 ],
 "metadata": {
  "kernelspec": {
   "display_name": "Python 3",
   "language": "python",
   "name": "python3"
  },
  "language_info": {
   "codemirror_mode": {
    "name": "ipython",
    "version": 3
   },
   "file_extension": ".py",
   "mimetype": "text/x-python",
   "name": "python",
   "nbconvert_exporter": "python",
   "pygments_lexer": "ipython3",
   "version": "3.7.9"
  }
 },
 "nbformat": 4,
 "nbformat_minor": 4
}
