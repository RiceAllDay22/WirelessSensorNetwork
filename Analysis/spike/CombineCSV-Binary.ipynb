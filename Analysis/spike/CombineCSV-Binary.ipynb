{
 "cells": [
  {
   "cell_type": "markdown",
   "metadata": {},
   "source": [
    "# Adriann Liceralde\n",
    "# Combine CSV - Binary"
   ]
  },
  {
   "cell_type": "markdown",
   "metadata": {},
   "source": [
    "## Select Directory"
   ]
  },
  {
   "cell_type": "code",
   "execution_count": 10,
   "metadata": {
    "scrolled": true
   },
   "outputs": [
    {
     "data": {
      "text/plain": [
       "['2021-07-04--23.csv',\n",
       " '2021-07-05--09.csv',\n",
       " '2021-07-05--10.csv',\n",
       " '2021-07-05--11.csv',\n",
       " '2021-07-05--12.csv']"
      ]
     },
     "execution_count": 10,
     "metadata": {},
     "output_type": "execute_result"
    }
   ],
   "source": [
    "import numpy as np\n",
    "import matplotlib.pyplot as plt\n",
    "import pandas as pd\n",
    "import os\n",
    "import glob\n",
    "\n",
    "#user = 'adria'\n",
    "#user = 'Adriann Liceralde'\n",
    "user = 'adria\\\\OneDrive'\n",
    "#subfolder = 'V 2.2.3 Lot'\n",
    "subfolder = 'Day'\n",
    "#os.chdir('C:\\\\Users\\\\'+str(user)+'\\\\Desktop\\\\Repository\\\\WirelessSensorNetwork\\\\Data\\\\'\n",
    "#         + str(subfolder))\n",
    "#os.chdir('C:\\\\Users\\\\'+str(user)+'\\\\Desktop')\n",
    "os.chdir('C:\\\\Users\\\\'+str(user)+'\\\\Desktop\\\\'+str(subfolder))\n",
    "extension = 'csv'\n",
    "all_filenames = [i for i in glob.glob('*.{}'.format(extension))]\n",
    "all_filenames"
   ]
  },
  {
   "cell_type": "markdown",
   "metadata": {},
   "source": [
    "## Process Binary Data"
   ]
  },
  {
   "cell_type": "code",
   "execution_count": 11,
   "metadata": {
    "scrolled": true
   },
   "outputs": [
    {
     "name": "stdout",
     "output_type": "stream",
     "text": [
      "File : 2021-07-04--23.csv \n",
      " Bytes: 0 \n",
      " Lines: 0\n",
      "File : 2021-07-05--09.csv \n",
      " Bytes: 24400 \n",
      " Lines: 2440\n",
      "File : 2021-07-05--10.csv \n",
      " Bytes: 20050 \n",
      " Lines: 2005\n",
      "File : 2021-07-05--11.csv \n",
      " Bytes: 12000 \n",
      " Lines: 1200\n",
      "File : 2021-07-05--12.csv \n",
      " Bytes: 4900 \n",
      " Lines: 490\n"
     ]
    }
   ],
   "source": [
    "allUnixTime = np.array([])\n",
    "allWindCyc  = np.array([])\n",
    "allWindDir  = np.array([])\n",
    "allConcData = np.array([])\n",
    "allTempData = np.array([])\n",
    "\n",
    "for each in all_filenames:\n",
    "    f = open(each, \"rb\")\n",
    "    filesize   = int(os.path.getsize(each))\n",
    "    headersize = 0\n",
    "    lines      = (filesize-headersize)//10\n",
    "\n",
    "    print('File :' , each, '\\n', 'Bytes:' , filesize, '\\n', 'Lines:' , lines)\n",
    "    first   = False\n",
    "    counter = 0\n",
    "    \n",
    "    for i in range(lines):\n",
    "        if (first == False) and headersize > 0:\n",
    "            filler = str(f.read(headersize), 'utf-8')\n",
    "            first  = True\n",
    "        unix = int.from_bytes(f.read(4), byteorder='big')\n",
    "        ws   = int.from_bytes(f.read(1), byteorder='big')\n",
    "        wd   = int.from_bytes(f.read(2), byteorder='big')\n",
    "        co2  = int.from_bytes(f.read(2), byteorder='big')\n",
    "        temp = int.from_bytes(f.read(1), byteorder='big')\n",
    "        allUnixTime = np.append(allUnixTime, str(unix))\n",
    "        allWindCyc  = np.append(allWindCyc, ws)\n",
    "        allWindDir  = np.append(allWindDir,   wd)\n",
    "        allConcData = np.append(allConcData, co2)\n",
    "        allTempData = np.append(allTempData, temp)"
   ]
  },
  {
   "cell_type": "code",
   "execution_count": 12,
   "metadata": {
    "scrolled": true
   },
   "outputs": [
    {
     "data": {
      "text/plain": [
       "array(['1625478484', '1625478487', '1625478490', ..., '1625490760',\n",
       "       '1625490763', '1625490766'], dtype='<U32')"
      ]
     },
     "execution_count": 12,
     "metadata": {},
     "output_type": "execute_result"
    }
   ],
   "source": [
    "allUnixTime"
   ]
  },
  {
   "cell_type": "markdown",
   "metadata": {},
   "source": [
    "## Export to Single CSV"
   ]
  },
  {
   "cell_type": "code",
   "execution_count": 13,
   "metadata": {},
   "outputs": [],
   "source": [
    "CombineNP = np.column_stack((allUnixTime, allWindCyc, allWindDir, allConcData, allTempData))\n",
    "CombineDF = pd.DataFrame(CombineNP)\n",
    "CombineDF.columns  = ['Unixtime', 'WindCyc', 'WindDir', 'ConcData', 'TempData']\n",
    "CombineDF.Unixtime = CombineDF.Unixtime.astype(int)\n",
    "\n",
    "name = 'C-'+ str(all_filenames[0])[0:-8] + str('.csv')\n",
    "CombineDF.to_csv(name, index=False, encoding='utf-8-sig')"
   ]
  },
  {
   "cell_type": "code",
   "execution_count": null,
   "metadata": {},
   "outputs": [],
   "source": [
    "plt.plot(allWindDir, 'r')\n",
    "plt.show()"
   ]
  },
  {
   "cell_type": "code",
   "execution_count": 5,
   "metadata": {},
   "outputs": [
    {
     "data": {
      "image/png": "[encoded data removed]",
      "text/plain": [
       "<Figure size 432x288 with 1 Axes>"
      ]
     },
     "metadata": {
      "needs_background": "light"
     },
     "output_type": "display_data"
    }
   ],
   "source": [
    "plt.plot(allConcData, 'r')\n",
    "plt.show()"
   ]
  },
  {
   "cell_type": "code",
   "execution_count": null,
   "metadata": {},
   "outputs": [],
   "source": [
    "allUnixTime[1600]"
   ]
  },
  {
   "cell_type": "code",
   "execution_count": null,
   "metadata": {},
   "outputs": [],
   "source": [
    "plt.plot(allWindSpeed[0:-1], 'o')\n",
    "plt.plot()"
   ]
  },
  {
   "cell_type": "code",
   "execution_count": null,
   "metadata": {},
   "outputs": [],
   "source": [
    "objects = []\n",
    "import pickle\n",
    "with (open(\"2019-08-22.pickle\", \"rb\")) as openfile:\n",
    "    while True:\n",
    "        try:\n",
    "            objects.append(pickle.load(openfile))\n",
    "        except EOFError:\n",
    "            break"
   ]
  },
  {
   "cell_type": "code",
   "execution_count": null,
   "metadata": {},
   "outputs": [],
   "source": [
    "os.getcwd()"
   ]
  },
  {
   "cell_type": "code",
   "execution_count": null,
   "metadata": {},
   "outputs": [],
   "source": [
    "objects"
   ]
  },
  {
   "cell_type": "code",
   "execution_count": null,
   "metadata": {},
   "outputs": [],
   "source": [
    "type(objects)"
   ]
  },
  {
   "cell_type": "code",
   "execution_count": null,
   "metadata": {},
   "outputs": [],
   "source": [
    "objects[0]"
   ]
  },
  {
   "cell_type": "code",
   "execution_count": null,
   "metadata": {},
   "outputs": [],
   "source": [
    "type(objects)\n",
    "len(objects[0])"
   ]
  },
  {
   "cell_type": "code",
   "execution_count": null,
   "metadata": {},
   "outputs": [],
   "source": [
    "print(objects[0])"
   ]
  },
  {
   "cell_type": "code",
   "execution_count": null,
   "metadata": {},
   "outputs": [],
   "source": []
  }
 ],
 "metadata": {
  "kernelspec": {
   "display_name": "Python 3",
   "language": "python",
   "name": "python3"
  },
  "language_info": {
   "codemirror_mode": {
    "name": "ipython",
    "version": 3
   },
   "file_extension": ".py",
   "mimetype": "text/x-python",
   "name": "python",
   "nbconvert_exporter": "python",
   "pygments_lexer": "ipython3",
   "version": "3.7.9"
  }
 },
 "nbformat": 4,
 "nbformat_minor": 4
}
