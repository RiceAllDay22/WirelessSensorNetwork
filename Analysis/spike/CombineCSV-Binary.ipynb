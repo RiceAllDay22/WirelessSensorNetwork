{
 "cells": [
  {
   "cell_type": "markdown",
   "metadata": {},
   "source": [
    "# Adriann Liceralde\n",
    "# Combine CSV - Binary"
   ]
  },
  {
   "cell_type": "markdown",
   "metadata": {},
   "source": [
    "## Select Directory"
   ]
  },
  {
   "cell_type": "code",
   "execution_count": 1,
   "metadata": {},
   "outputs": [],
   "source": [
    "import numpy as np\n",
    "import matplotlib.pyplot as plt\n",
    "import pandas as pd\n",
    "import os\n",
    "import glob\n",
    "\n",
    "user = 'adria'\n",
    "user = 'Adriann Liceralde'\n",
    "subfolder = 'V 2.2.1'\n",
    "os.chdir('C:\\\\Users\\\\'+str(user)+'\\\\Desktop\\\\Repository\\\\WirelessSensorNetwork\\\\Data\\\\'\n",
    "         + str(subfolder))\n",
    "extension = 'csv'\n",
    "all_filenames = [i for i in glob.glob('*.{}'.format(extension))]"
   ]
  },
  {
   "cell_type": "markdown",
   "metadata": {},
   "source": [
    "## Process Binary Data"
   ]
  },
  {
   "cell_type": "code",
   "execution_count": 2,
   "metadata": {},
   "outputs": [
    {
     "name": "stdout",
     "output_type": "stream",
     "text": [
      "File : 2020-07-13--19.csv \n",
      " Bytes: 3200 \n",
      " Lines: 400\n"
     ]
    }
   ],
   "source": [
    "allUnixTime = np.array([])\n",
    "allWindSpeed= np.array([])\n",
    "allWindDir  = np.array([])\n",
    "allGasData  = np.array([])\n",
    "\n",
    "for each in all_filenames:\n",
    "    f = open(each, \"rb\")\n",
    "    filesize   = int(os.path.getsize(each))\n",
    "    headersize = 0\n",
    "    lines      = (filesize-headersize)//8\n",
    "\n",
    "    print('File :' , each, '\\n', 'Bytes:' , filesize, '\\n', 'Lines:' , lines)\n",
    "    first = False\n",
    "    counter = 0\n",
    "    \n",
    "    for i in range(lines):\n",
    "        if (first == False) and headersize > 0:\n",
    "            filler = str(f.read(headersize), 'utf-8')\n",
    "            first  = True\n",
    "        unix = int.from_bytes(f.read(4), byteorder='big')\n",
    "        ws   = int.from_bytes(f.read(1), byteorder='big')\n",
    "        wd   = int.from_bytes(f.read(1), byteorder='big')\n",
    "        gas  = int.from_bytes(f.read(2), byteorder='big')\n",
    "        allUnixTime = np.append(allUnixTime, str(unix))\n",
    "        allWindSpeed= np.append(allWindSpeed, ws)\n",
    "        allWindDir  = np.append(allWindDir,  wd)\n",
    "        allGasData  = np.append(allGasData, gas)"
   ]
  },
  {
   "cell_type": "markdown",
   "metadata": {},
   "source": [
    "## Export to Single CSV"
   ]
  },
  {
   "cell_type": "code",
   "execution_count": 3,
   "metadata": {},
   "outputs": [],
   "source": [
    "allWindDir   *= 22.5\n",
    "allWindSpeed *= 1.492\n",
    "CombineNP = np.column_stack((allUnixTime, allWindSpeed, allWindDir, allGasData))\n",
    "CombineDF = pd.DataFrame(CombineNP)\n",
    "CombineDF.columns  = ['UnixTime', 'Wind Speed', 'Wind Dir', 'GasData']\n",
    "CombineDF.UnixTime = CombineDF.UnixTime.astype(int)\n",
    "\n",
    "name = 'C-'+ str(all_filenames[0])[0:-8] + str('.csv')\n",
    "CombineDF.to_csv(name, index=False, encoding='utf-8-sig')"
   ]
  },
  {
   "cell_type": "code",
   "execution_count": 4,
   "metadata": {},
   "outputs": [
    {
     "data": {
      "image/png": "[encoded data removed]",
      "text/plain": [
       "<Figure size 432x288 with 1 Axes>"
      ]
     },
     "metadata": {
      "needs_background": "light"
     },
     "output_type": "display_data"
    }
   ],
   "source": [
    "plt.plot(allWindDir, 'r')\n",
    "plt.show()"
   ]
  },
  {
   "cell_type": "code",
   "execution_count": 5,
   "metadata": {},
   "outputs": [
    {
     "data": {
      "image/png": "[encoded data removed]",
      "text/plain": [
       "<Figure size 432x288 with 1 Axes>"
      ]
     },
     "metadata": {
      "needs_background": "light"
     },
     "output_type": "display_data"
    }
   ],
   "source": [
    "plt.plot(allGasData, 'r')\n",
    "plt.show()"
   ]
  },
  {
   "cell_type": "code",
   "execution_count": 7,
   "metadata": {},
   "outputs": [
    {
     "data": {
      "text/plain": [
       "[]"
      ]
     },
     "execution_count": 7,
     "metadata": {},
     "output_type": "execute_result"
    },
    {
     "data": {
      "image/png": "[encoded data removed]",
      "text/plain": [
       "<Figure size 432x288 with 1 Axes>"
      ]
     },
     "metadata": {
      "needs_background": "light"
     },
     "output_type": "display_data"
    }
   ],
   "source": [
    "plt.plot(allWindSpeed[0:-1], 'o')\n",
    "plt.plot()"
   ]
  },
  {
   "cell_type": "code",
   "execution_count": null,
   "metadata": {},
   "outputs": [],
   "source": []
  }
 ],
 "metadata": {
  "kernelspec": {
   "display_name": "Python 3",
   "language": "python",
   "name": "python3"
  },
  "language_info": {
   "codemirror_mode": {
    "name": "ipython",
    "version": 3
   },
   "file_extension": ".py",
   "mimetype": "text/x-python",
   "name": "python",
   "nbconvert_exporter": "python",
   "pygments_lexer": "ipython3",
   "version": "3.8.2"
  }
 },
 "nbformat": 4,
 "nbformat_minor": 4
}
