{
 "cells": [
  {
   "cell_type": "markdown",
   "metadata": {},
   "source": [
    "# Adriann Liceralde\n",
    "# Combine CSV - Binary"
   ]
  },
  {
   "cell_type": "markdown",
   "metadata": {},
   "source": [
    "## Select Directory"
   ]
  },
  {
   "cell_type": "code",
   "execution_count": 7,
   "metadata": {
    "scrolled": true
   },
   "outputs": [
    {
     "data": {
      "text/plain": [
       "['2021-07-06--00.csv',\n",
       " '2021-07-06--20.csv',\n",
       " '2021-07-06--21.csv',\n",
       " '2021-07-06--22.csv',\n",
       " '2021-07-06--23.csv',\n",
       " '2021-07-07--00.csv',\n",
       " '2021-07-07--01.csv',\n",
       " '2021-07-07--02.csv',\n",
       " '2021-07-07--03.csv',\n",
       " '2021-07-07--04.csv',\n",
       " '2021-07-07--05.csv',\n",
       " '2021-07-07--06.csv',\n",
       " '2021-07-07--07.csv',\n",
       " '2021-07-07--08.csv',\n",
       " '2021-07-07--09.csv',\n",
       " '2021-07-07--10.csv',\n",
       " '2021-07-07--11.csv',\n",
       " '2021-07-07--12.csv',\n",
       " '2021-07-07--13.csv',\n",
       " '2021-07-07--14.csv',\n",
       " '2021-07-07--15.csv',\n",
       " '2021-07-07--16.csv',\n",
       " '2021-07-07--17.csv',\n",
       " '2021-07-07--18.csv',\n",
       " '2021-07-07--19.csv',\n",
       " '2021-07-07--20.csv',\n",
       " '2021-07-07--21.csv',\n",
       " '2021-07-07--22.csv',\n",
       " '2021-07-07--23.csv',\n",
       " '2021-07-08--00.csv',\n",
       " '2021-07-08--01.csv',\n",
       " '2021-07-08--02.csv',\n",
       " '2021-07-08--03.csv',\n",
       " '2021-07-08--04.csv',\n",
       " '2021-07-08--05.csv',\n",
       " '2021-07-08--06.csv',\n",
       " '2021-07-08--07.csv',\n",
       " '2021-07-08--08.csv',\n",
       " '2021-07-08--09.csv',\n",
       " '2021-07-08--10.csv',\n",
       " '2021-07-08--11.csv',\n",
       " '2021-07-08--12.csv',\n",
       " '2021-07-08--13.csv',\n",
       " '2021-07-08--14.csv']"
      ]
     },
     "execution_count": 7,
     "metadata": {},
     "output_type": "execute_result"
    }
   ],
   "source": [
    "import numpy as np\n",
    "import matplotlib.pyplot as plt\n",
    "import pandas as pd\n",
    "import os\n",
    "import glob\n",
    "\n",
    "#user = 'adria'\n",
    "user = 'Adriann Liceralde'\n",
    "#user = 'adria\\\\OneDrive'\n",
    "#subfolder = 'V 2.2.3 Lot'\n",
    "subfolder = 'Roof-Primary'\n",
    "#os.chdir('C:\\\\Users\\\\'+str(user)+'\\\\Desktop\\\\Repository\\\\WirelessSensorNetwork\\\\Data\\\\'\n",
    "#         + str(subfolder))\n",
    "#os.chdir('C:\\\\Users\\\\'+str(user)+'\\\\Desktop')\n",
    "os.chdir('C:\\\\Users\\\\'+str(user)+'\\\\Desktop\\\\'+str(subfolder))\n",
    "extension = 'csv'\n",
    "all_filenames = [i for i in glob.glob('*.{}'.format(extension))]\n",
    "all_filenames"
   ]
  },
  {
   "cell_type": "markdown",
   "metadata": {},
   "source": [
    "## Process Binary Data"
   ]
  },
  {
   "cell_type": "code",
   "execution_count": 8,
   "metadata": {
    "scrolled": true
   },
   "outputs": [
    {
     "name": "stdout",
     "output_type": "stream",
     "text": [
      "File : 2021-07-06--00.csv \n",
      " Bytes: 300 \n",
      " Lines: 30\n",
      "File : 2021-07-06--20.csv \n",
      " Bytes: 12200 \n",
      " Lines: 1220\n",
      "File : 2021-07-06--21.csv \n",
      " Bytes: 12000 \n",
      " Lines: 1200\n",
      "File : 2021-07-06--22.csv \n",
      " Bytes: 12000 \n",
      " Lines: 1200\n",
      "File : 2021-07-06--23.csv \n",
      " Bytes: 12000 \n",
      " Lines: 1200\n",
      "File : 2021-07-07--00.csv \n",
      " Bytes: 12000 \n",
      " Lines: 1200\n",
      "File : 2021-07-07--01.csv \n",
      " Bytes: 12000 \n",
      " Lines: 1200\n",
      "File : 2021-07-07--02.csv \n",
      " Bytes: 12000 \n",
      " Lines: 1200\n",
      "File : 2021-07-07--03.csv \n",
      " Bytes: 12000 \n",
      " Lines: 1200\n",
      "File : 2021-07-07--04.csv \n",
      " Bytes: 12000 \n",
      " Lines: 1200\n",
      "File : 2021-07-07--05.csv \n",
      " Bytes: 12000 \n",
      " Lines: 1200\n",
      "File : 2021-07-07--06.csv \n",
      " Bytes: 12000 \n",
      " Lines: 1200\n",
      "File : 2021-07-07--07.csv \n",
      " Bytes: 12000 \n",
      " Lines: 1200\n",
      "File : 2021-07-07--08.csv \n",
      " Bytes: 12000 \n",
      " Lines: 1200\n",
      "File : 2021-07-07--09.csv \n",
      " Bytes: 12000 \n",
      " Lines: 1200\n",
      "File : 2021-07-07--10.csv \n",
      " Bytes: 12000 \n",
      " Lines: 1200\n",
      "File : 2021-07-07--11.csv \n",
      " Bytes: 12000 \n",
      " Lines: 1200\n",
      "File : 2021-07-07--12.csv \n",
      " Bytes: 12000 \n",
      " Lines: 1200\n",
      "File : 2021-07-07--13.csv \n",
      " Bytes: 12000 \n",
      " Lines: 1200\n",
      "File : 2021-07-07--14.csv \n",
      " Bytes: 12000 \n",
      " Lines: 1200\n",
      "File : 2021-07-07--15.csv \n",
      " Bytes: 12000 \n",
      " Lines: 1200\n",
      "File : 2021-07-07--16.csv \n",
      " Bytes: 12000 \n",
      " Lines: 1200\n",
      "File : 2021-07-07--17.csv \n",
      " Bytes: 12000 \n",
      " Lines: 1200\n",
      "File : 2021-07-07--18.csv \n",
      " Bytes: 12000 \n",
      " Lines: 1200\n",
      "File : 2021-07-07--19.csv \n",
      " Bytes: 12000 \n",
      " Lines: 1200\n",
      "File : 2021-07-07--20.csv \n",
      " Bytes: 12000 \n",
      " Lines: 1200\n",
      "File : 2021-07-07--21.csv \n",
      " Bytes: 12000 \n",
      " Lines: 1200\n",
      "File : 2021-07-07--22.csv \n",
      " Bytes: 12000 \n",
      " Lines: 1200\n",
      "File : 2021-07-07--23.csv \n",
      " Bytes: 12000 \n",
      " Lines: 1200\n",
      "File : 2021-07-08--00.csv \n",
      " Bytes: 12000 \n",
      " Lines: 1200\n",
      "File : 2021-07-08--01.csv \n",
      " Bytes: 12000 \n",
      " Lines: 1200\n",
      "File : 2021-07-08--02.csv \n",
      " Bytes: 12000 \n",
      " Lines: 1200\n",
      "File : 2021-07-08--03.csv \n",
      " Bytes: 12000 \n",
      " Lines: 1200\n",
      "File : 2021-07-08--04.csv \n",
      " Bytes: 12000 \n",
      " Lines: 1200\n",
      "File : 2021-07-08--05.csv \n",
      " Bytes: 12000 \n",
      " Lines: 1200\n",
      "File : 2021-07-08--06.csv \n",
      " Bytes: 12000 \n",
      " Lines: 1200\n",
      "File : 2021-07-08--07.csv \n",
      " Bytes: 12000 \n",
      " Lines: 1200\n",
      "File : 2021-07-08--08.csv \n",
      " Bytes: 12000 \n",
      " Lines: 1200\n",
      "File : 2021-07-08--09.csv \n",
      " Bytes: 12000 \n",
      " Lines: 1200\n",
      "File : 2021-07-08--10.csv \n",
      " Bytes: 12000 \n",
      " Lines: 1200\n",
      "File : 2021-07-08--11.csv \n",
      " Bytes: 12000 \n",
      " Lines: 1200\n",
      "File : 2021-07-08--12.csv \n",
      " Bytes: 12000 \n",
      " Lines: 1200\n",
      "File : 2021-07-08--13.csv \n",
      " Bytes: 12000 \n",
      " Lines: 1200\n",
      "File : 2021-07-08--14.csv \n",
      " Bytes: 5600 \n",
      " Lines: 560\n"
     ]
    }
   ],
   "source": [
    "allUnixTime = np.array([])\n",
    "allWindCyc  = np.array([])\n",
    "allWindDir  = np.array([])\n",
    "allConcData = np.array([])\n",
    "allTempData = np.array([])\n",
    "\n",
    "for each in all_filenames:\n",
    "    f = open(each, \"rb\")\n",
    "    filesize   = int(os.path.getsize(each))\n",
    "    headersize = 0\n",
    "    lines      = (filesize-headersize)//10\n",
    "\n",
    "    print('File :' , each, '\\n', 'Bytes:' , filesize, '\\n', 'Lines:' , lines)\n",
    "    first   = False\n",
    "    counter = 0\n",
    "    \n",
    "    for i in range(lines):\n",
    "        if (first == False) and headersize > 0:\n",
    "            filler = str(f.read(headersize), 'utf-8')\n",
    "            first  = True\n",
    "        unix = int.from_bytes(f.read(4), byteorder='big')\n",
    "        ws   = int.from_bytes(f.read(1), byteorder='big')\n",
    "        wd   = int.from_bytes(f.read(2), byteorder='big')\n",
    "        co2  = int.from_bytes(f.read(2), byteorder='big')\n",
    "        temp = int.from_bytes(f.read(1), byteorder='big')\n",
    "        allUnixTime = np.append(allUnixTime, str(unix))\n",
    "        allWindCyc  = np.append(allWindCyc, ws)\n",
    "        allWindDir  = np.append(allWindDir,   wd)\n",
    "        allConcData = np.append(allConcData, co2)\n",
    "        allTempData = np.append(allTempData, temp)"
   ]
  },
  {
   "cell_type": "code",
   "execution_count": null,
   "metadata": {
    "scrolled": true
   },
   "outputs": [],
   "source": [
    "allUnixTime"
   ]
  },
  {
   "cell_type": "markdown",
   "metadata": {},
   "source": [
    "## Export to Single CSV"
   ]
  },
  {
   "cell_type": "code",
   "execution_count": 9,
   "metadata": {},
   "outputs": [],
   "source": [
    "CombineNP = np.column_stack((allUnixTime, allWindCyc, allWindDir, allConcData, allTempData))\n",
    "CombineDF = pd.DataFrame(CombineNP)\n",
    "CombineDF.columns  = ['Unixtime', 'WindCyc', 'WindDir', 'ConcData', 'TempData']\n",
    "CombineDF.Unixtime = CombineDF.Unixtime.astype(int)\n",
    "\n",
    "name = 'C-'+ str(all_filenames[0])[0:-8] + str('.csv')\n",
    "CombineDF.to_csv(name, index=False, encoding='utf-8-sig')"
   ]
  },
  {
   "cell_type": "code",
   "execution_count": null,
   "metadata": {},
   "outputs": [],
   "source": [
    "plt.plot(allWindDir, 'r')\n",
    "plt.show()"
   ]
  },
  {
   "cell_type": "code",
   "execution_count": 13,
   "metadata": {},
   "outputs": [
    {
     "data": {
      "image/png": "[encoded data removed]",
      "text/plain": [
       "<Figure size 432x288 with 1 Axes>"
      ]
     },
     "metadata": {
      "needs_background": "light"
     },
     "output_type": "display_data"
    }
   ],
   "source": [
    "plt.plot(allConcData, 'r')\n",
    "plt.show()"
   ]
  },
  {
   "cell_type": "code",
   "execution_count": 16,
   "metadata": {},
   "outputs": [
    {
     "data": {
      "text/plain": [
       "'1625532674'"
      ]
     },
     "execution_count": 16,
     "metadata": {},
     "output_type": "execute_result"
    }
   ],
   "source": [
    "allUnixTime[0]"
   ]
  },
  {
   "cell_type": "code",
   "execution_count": null,
   "metadata": {},
   "outputs": [],
   "source": [
    "plt.plot(allWindSpeed[0:-1], 'o')\n",
    "plt.plot()"
   ]
  },
  {
   "cell_type": "code",
   "execution_count": null,
   "metadata": {},
   "outputs": [],
   "source": [
    "objects = []\n",
    "import pickle\n",
    "with (open(\"2019-08-22.pickle\", \"rb\")) as openfile:\n",
    "    while True:\n",
    "        try:\n",
    "            objects.append(pickle.load(openfile))\n",
    "        except EOFError:\n",
    "            break"
   ]
  },
  {
   "cell_type": "code",
   "execution_count": null,
   "metadata": {},
   "outputs": [],
   "source": [
    "os.getcwd()"
   ]
  },
  {
   "cell_type": "code",
   "execution_count": null,
   "metadata": {},
   "outputs": [],
   "source": [
    "objects"
   ]
  },
  {
   "cell_type": "code",
   "execution_count": null,
   "metadata": {},
   "outputs": [],
   "source": [
    "type(objects)"
   ]
  },
  {
   "cell_type": "code",
   "execution_count": null,
   "metadata": {},
   "outputs": [],
   "source": [
    "objects[0]"
   ]
  },
  {
   "cell_type": "code",
   "execution_count": null,
   "metadata": {},
   "outputs": [],
   "source": [
    "type(objects)\n",
    "len(objects[0])"
   ]
  },
  {
   "cell_type": "code",
   "execution_count": null,
   "metadata": {},
   "outputs": [],
   "source": [
    "print(objects[0])"
   ]
  },
  {
   "cell_type": "code",
   "execution_count": null,
   "metadata": {},
   "outputs": [],
   "source": []
  }
 ],
 "metadata": {
  "kernelspec": {
   "display_name": "Python 3",
   "language": "python",
   "name": "python3"
  },
  "language_info": {
   "codemirror_mode": {
    "name": "ipython",
    "version": 3
   },
   "file_extension": ".py",
   "mimetype": "text/x-python",
   "name": "python",
   "nbconvert_exporter": "python",
   "pygments_lexer": "ipython3",
   "version": "3.9.0"
  }
 },
 "nbformat": 4,
 "nbformat_minor": 4
}
