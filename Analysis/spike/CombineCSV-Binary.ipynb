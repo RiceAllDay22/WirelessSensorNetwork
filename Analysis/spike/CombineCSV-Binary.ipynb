{
 "cells": [
  {
   "cell_type": "markdown",
   "metadata": {},
   "source": [
    "# Adriann Liceralde\n",
    "# Combine CSV - Binary"
   ]
  },
  {
   "cell_type": "markdown",
   "metadata": {},
   "source": [
    "## Select Directory"
   ]
  },
  {
   "cell_type": "code",
   "execution_count": 1,
   "metadata": {},
   "outputs": [],
   "source": [
    "import numpy as np\n",
    "import pandas as pd\n",
    "import os\n",
    "import glob\n",
    "\n",
    "#user = 'adria'\n",
    "user = 'Adriann Liceralde'\n",
    "subfolder = 'V 2.1.1'\n",
    "os.chdir('C:\\\\Users\\\\'+str(user)+'\\\\Desktop\\\\Repository\\\\WirelessSensorNetwork\\\\Data\\\\'\n",
    "         + str(subfolder))\n",
    "extension = 'csv'\n",
    "all_filenames = [i for i in glob.glob('*.{}'.format(extension))]"
   ]
  },
  {
   "cell_type": "markdown",
   "metadata": {},
   "source": [
    "## Process Binary Data"
   ]
  },
  {
   "cell_type": "code",
   "execution_count": 2,
   "metadata": {},
   "outputs": [
    {
     "name": "stdout",
     "output_type": "stream",
     "text": [
      "File : 2020-07-05--22.csv \n",
      " Bytes: 798 \n",
      " Lines: 133\n",
      "File : 2020-07-05--23.csv \n",
      " Bytes: 20478 \n",
      " Lines: 3413\n",
      "File : 2020-07-06--00.csv \n",
      " Bytes: 21600 \n",
      " Lines: 3600\n",
      "File : 2020-07-06--01.csv \n",
      " Bytes: 21600 \n",
      " Lines: 3600\n",
      "File : 2020-07-06--02.csv \n",
      " Bytes: 21600 \n",
      " Lines: 3600\n",
      "File : 2020-07-06--03.csv \n",
      " Bytes: 21600 \n",
      " Lines: 3600\n",
      "File : 2020-07-06--04.csv \n",
      " Bytes: 21600 \n",
      " Lines: 3600\n",
      "File : 2020-07-06--05.csv \n",
      " Bytes: 21600 \n",
      " Lines: 3600\n",
      "File : 2020-07-06--06.csv \n",
      " Bytes: 21600 \n",
      " Lines: 3600\n",
      "File : 2020-07-06--07.csv \n",
      " Bytes: 21600 \n",
      " Lines: 3600\n",
      "File : 2020-07-06--08.csv \n",
      " Bytes: 21600 \n",
      " Lines: 3600\n",
      "File : 2020-07-06--09.csv \n",
      " Bytes: 21600 \n",
      " Lines: 3600\n",
      "File : 2020-07-06--10.csv \n",
      " Bytes: 5712 \n",
      " Lines: 952\n"
     ]
    }
   ],
   "source": [
    "allUnixTime = np.array([])\n",
    "allGasData  = np.array([])\n",
    "\n",
    "for each in all_filenames:\n",
    "    f = open(each, \"rb\")\n",
    "    filesize   = int(os.path.getsize(each))\n",
    "    headersize = 0\n",
    "    lines      = (filesize-headersize)//6\n",
    "\n",
    "    print('File :' , each, '\\n', 'Bytes:' , filesize, '\\n', 'Lines:' , lines)\n",
    "    first = False\n",
    "    counter = 0\n",
    "    \n",
    "    for i in range(lines):\n",
    "        if (first == False) and headersize > 0:\n",
    "            filler = str(f.read(headersize), 'utf-8')\n",
    "            first  = True\n",
    "        unix = int.from_bytes(f.read(4), byteorder='big')\n",
    "        gas  = int.from_bytes(f.read(2), byteorder='big')\n",
    "        allUnixTime = np.append(allUnixTime, str(unix))\n",
    "        allGasData  = np.append(allGasData, gas)"
   ]
  },
  {
   "cell_type": "markdown",
   "metadata": {},
   "source": [
    "## Export to Single CSV"
   ]
  },
  {
   "cell_type": "code",
   "execution_count": 3,
   "metadata": {},
   "outputs": [],
   "source": [
    "CombineNP = np.column_stack((allUnixTime, allGasData))\n",
    "CombineDF = pd.DataFrame(CombineNP)\n",
    "CombineDF.columns  = ['UnixTime', 'GasData']\n",
    "CombineDF.UnixTime = CombineDF.UnixTime.astype(int)\n",
    "\n",
    "name = 'C-'+ str(all_filenames[0])[0:-8] + str('.csv')\n",
    "CombineDF.to_csv(name, index=False, encoding='utf-8-sig')"
   ]
  },
  {
   "cell_type": "code",
   "execution_count": null,
   "metadata": {},
   "outputs": [],
   "source": []
  }
 ],
 "metadata": {
  "kernelspec": {
   "display_name": "Python 3",
   "language": "python",
   "name": "python3"
  },
  "language_info": {
   "codemirror_mode": {
    "name": "ipython",
    "version": 3
   },
   "file_extension": ".py",
   "mimetype": "text/x-python",
   "name": "python",
   "nbconvert_exporter": "python",
   "pygments_lexer": "ipython3",
   "version": "3.8.2"
  }
 },
 "nbformat": 4,
 "nbformat_minor": 4
}
