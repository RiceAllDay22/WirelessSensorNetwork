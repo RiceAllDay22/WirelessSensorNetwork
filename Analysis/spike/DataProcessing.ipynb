{
 "cells": [
  {
   "cell_type": "markdown",
   "id": "4e25a3bf",
   "metadata": {},
   "source": [
    "# Import Libraries"
   ]
  },
  {
   "cell_type": "code",
   "execution_count": null,
   "id": "eeab4bd3",
   "metadata": {},
   "outputs": [],
   "source": [
    "import numpy as np\n",
    "import matplotlib.pyplot as plt\n",
    "import pandas as pd\n",
    "import os\n",
    "import glob"
   ]
  },
  {
   "cell_type": "markdown",
   "id": "f98bd7b3",
   "metadata": {},
   "source": [
    "# Select Directory"
   ]
  },
  {
   "cell_type": "code",
   "execution_count": null,
   "id": "d3374bcc",
   "metadata": {},
   "outputs": [],
   "source": [
    "#user      = 'adria'\n",
    "user      = 'Adriann Liceralde'\n",
    "os.chdir('C:\\\\Users\\\\'+str(user)+'\\\\Desktop\\\\Repo\\\\WirelessSensorNetwork\\\\Data\\\\V All')\n",
    "extension = '8-19-Pri.csv'\n",
    "\n",
    "pri_filenames = [i for i in glob.glob('*Pri.{}'.format(extension))]\n",
    "sec_filenames = [i for i in glob.glob('*Sec.{}'.format(extension))]"
   ]
  },
  {
   "cell_type": "code",
   "execution_count": null,
   "id": "df4610fa",
   "metadata": {},
   "outputs": [],
   "source": [
    "#pri_filenames, sec_filenames\n",
    "#print(pri_df)\n",
    "#print(sec_df)\n",
    "#pri_df.head()"
   ]
  },
  {
   "cell_type": "markdown",
   "id": "21ef4c1e",
   "metadata": {},
   "source": [
    "# Define Functions"
   ]
  },
  {
   "cell_type": "code",
   "execution_count": null,
   "id": "f12c2595",
   "metadata": {},
   "outputs": [],
   "source": [
    "def avg_func(df, window, start, end):\n",
    "    new_df = df.rolling(window, min_periods=1).mean()\n",
    "    new_df = new_df.assign(date = pd.to_datetime(new_df.unixtime, unit = 's').dt.strftime('%m/%d/%Y %H:%M'))\n",
    "    new_df = new_df.iloc[start:end]\n",
    "    return new_df"
   ]
  },
  {
   "cell_type": "code",
   "execution_count": null,
   "id": "6e4f740c",
   "metadata": {},
   "outputs": [],
   "source": [
    "def wd_offset_func(wind_dir, offset):\n",
    "    new_dir = wind_dir + offset\n",
    "    if new_dir > 360:\n",
    "        new_dir = new_dir - 360\n",
    "    elif new_dir < 1:\n",
    "        new_dir = new_dir + 360\n",
    "    return new_dir"
   ]
  },
  {
   "cell_type": "code",
   "execution_count": null,
   "id": "c8565d4c",
   "metadata": {},
   "outputs": [],
   "source": [
    "def stats_func(df):\n",
    "    print('Unix Min:', df['unixtime'].min())\n",
    "    print('Unix Max:', df['unixtime'].max())\n",
    "    \n",
    "    print('Date Min:', df['date'].min())\n",
    "    print('Date Max:', df['date'].max())\n",
    "\n",
    "    print('CO2 Min:', df['co2'].min())\n",
    "    print('CO2 Max:', df['co2'].max())\n",
    "    print('CO2 Avg:', df['co2'].mean())\n",
    "    print()\n",
    "    \n",
    "    plt.plot(df['co2'], 'lime')\n",
    "    #plt.plot(df['co2'].iloc[173090:173110], 'ro')\n",
    "    ax = plt.gca()\n",
    "    ax.tick_params(axis='x', colors='white') \n",
    "    ax.tick_params(axis='y', colors='white') \n",
    "    plt.show()\n",
    "    #plt.plot(df['temp'], 'red')\n",
    "    #ax = plt.gca()\n",
    "    #ax.tick_params(axis='x', colors='white') \n",
    "    #ax.tick_params(axis='y', colors='white') \n",
    "    #plt.show()"
   ]
  },
  {
   "cell_type": "markdown",
   "id": "51ae060a",
   "metadata": {},
   "source": [
    "# Call Functions"
   ]
  },
  {
   "cell_type": "code",
   "execution_count": null,
   "id": "8037148d",
   "metadata": {},
   "outputs": [],
   "source": [
    "#pri_df = pd.concat(map(pd.read_csv, pri_filenames), ignore_index = True)\n",
    "pri_df = pd.read_csv(pri_filenames)\n",
    "#pri_df['wd'] = pri_df['wd'].apply(wd_offset_func, args = (20,))\n",
    "#pri_df.loc[170000:-1, 'co2'] = pri_df.loc[170000:-1, 'co2'] - 400\n",
    "#pri_df = avg_func(pri_df, 20, 0, -1)\n",
    "#pri_df['co2'].iloc[174000:-1] = pri_df['co2'].iloc[174000:-1]-660\n",
    "#pri_df['co2'].iloc[173106:-1] = pri_df['co2'].iloc[173106:-1]-660\n",
    "#pri_df['co2'].iloc[173107:-1] = pri_df['co2'].iloc[173107:-1]-660\n",
    "#pri_df['co2'].iloc[173099:-1] = pri_df['co2'].iloc[173099:-1]-660\n",
    "#pri_avg = avg_func(pri_df, 20, 100000, 200000)\n",
    "#pri_avg = avg_func(pri_df, 20, 0, 170000)\n",
    "stats_func(pri_df)"
   ]
  },
  {
   "cell_type": "code",
   "execution_count": null,
   "id": "e9ec07a0",
   "metadata": {},
   "outputs": [],
   "source": [
    "sec_df = pd.concat(map(pd.read_csv, sec_filenames), ignore_index = True)\n",
    "sec_df['wd'] = sec_df['wd'].apply(wd_offset_func, args = (45,))\n",
    "\n",
    "#sec_df = avg_func(sec_df, 20, 0, -1)\n",
    "#sec_df = avg_func(sec_df, 20, 100000, 200000)\n",
    "#sec_df = avg_func(sec_df, 20, 0, 170000)\n",
    "stats_func(sec_df)"
   ]
  },
  {
   "cell_type": "markdown",
   "id": "0a26eba1",
   "metadata": {},
   "source": [
    "# Export DataFrame"
   ]
  },
  {
   "cell_type": "code",
   "execution_count": null,
   "id": "0df1cf61",
   "metadata": {},
   "outputs": [],
   "source": [
    "#pri_df.to_csv('Pri-Processed.csv', index=False, encoding='utf-8-sig')\n",
    "sec_df.to_csv('Sec-Processed.csv', index=False, encoding='utf-8-sig')"
   ]
  },
  {
   "cell_type": "code",
   "execution_count": null,
   "id": "a5c435d4",
   "metadata": {},
   "outputs": [],
   "source": []
  }
 ],
 "metadata": {
  "kernelspec": {
   "display_name": "Python 3",
   "language": "python",
   "name": "python3"
  },
  "language_info": {
   "codemirror_mode": {
    "name": "ipython",
    "version": 3
   },
   "file_extension": ".py",
   "mimetype": "text/x-python",
   "name": "python",
   "nbconvert_exporter": "python",
   "pygments_lexer": "ipython3",
   "version": "3.9.0"
  },
  "toc": {
   "base_numbering": 1,
   "nav_menu": {},
   "number_sections": false,
   "sideBar": false,
   "skip_h1_title": true,
   "title_cell": "Table of Contents",
   "title_sidebar": "Contents",
   "toc_cell": false,
   "toc_position": {},
   "toc_section_display": true,
   "toc_window_display": false
  },
  "varInspector": {
   "cols": {
    "lenName": 16,
    "lenType": 16,
    "lenVar": 40
   },
   "kernels_config": {
    "python": {
     "delete_cmd_postfix": "",
     "delete_cmd_prefix": "del ",
     "library": "var_list.py",
     "varRefreshCmd": "print(var_dic_list())"
    },
    "r": {
     "delete_cmd_postfix": ") ",
     "delete_cmd_prefix": "rm(",
     "library": "var_list.r",
     "varRefreshCmd": "cat(var_dic_list()) "
    }
   },
   "types_to_exclude": [
    "module",
    "function",
    "builtin_function_or_method",
    "instance",
    "_Feature"
   ],
   "window_display": false
  }
 },
 "nbformat": 4,
 "nbformat_minor": 5
}
