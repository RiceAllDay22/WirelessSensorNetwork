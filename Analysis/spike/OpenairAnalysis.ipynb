{
 "cells": [
  {
   "cell_type": "markdown",
   "id": "a785c8cd",
   "metadata": {},
   "source": [
    "# Adriann Liceralde"
   ]
  },
  {
   "cell_type": "markdown",
   "id": "9893b1f7",
   "metadata": {},
   "source": [
    "## Part 1: Process Data"
   ]
  },
  {
   "cell_type": "code",
   "execution_count": 1,
   "id": "ad7ea13c",
   "metadata": {},
   "outputs": [
    {
     "data": {
      "text/html": [
       "'C:/Users/adria/Desktop/Repo/WirelessSensorNetwork/Analysis/spike'"
      ],
      "text/latex": [
       "'C:/Users/adria/Desktop/Repo/WirelessSensorNetwork/Analysis/spike'"
      ],
      "text/markdown": [
       "'C:/Users/adria/Desktop/Repo/WirelessSensorNetwork/Analysis/spike'"
      ],
      "text/plain": [
       "[1] \"C:/Users/adria/Desktop/Repo/WirelessSensorNetwork/Analysis/spike\""
      ]
     },
     "metadata": {},
     "output_type": "display_data"
    }
   ],
   "source": [
    "#Import Packages\n",
    "getwd()\n",
    "library(openair,   warn.conflicts = FALSE)\n",
    "library(lubridate, warn.conflicts = FALSE)"
   ]
  },
  {
   "cell_type": "code",
   "execution_count": 19,
   "id": "c8cf83e6",
   "metadata": {},
   "outputs": [],
   "source": [
    "#Import Data File\n",
    "rm(list=ls())\n",
    "#setwd('C:/Users/adria/Desktop/Repo/WirelessSensorNetwork/Data/V 2.2.4 Post Falls Test')\n",
    "#df <- read.csv('DataFull.csv', header = TRUE)\n",
    "\n",
    "#setwd('C:/Users/adria/Desktop/Repo/WirelessSensorNetwork/Data/V 2.4.0 Roof-Primary')\n",
    "#df <- read.csv('C-2021-07-06_Pri_For2.csv', header = TRUE, fileEncoding = 'UTF-8-BOM')\n",
    "\n",
    "setwd('C:/Users/adria/Desktop/Repo/WirelessSensorNetwork/Data/V 2.4.0 Roof')\n",
    "#df <- read.csv('C-2021-07-06-Pri.csv', header = TRUE, fileEncoding = 'UTF-8-BOM')\n",
    "#df <- read.csv('C-2021-07-06-Sec.csv', header = TRUE, fileEncoding = 'UTF-8-BOM')\n",
    "\n",
    "#library(plyr)\n",
    "#names <- ldply(.data = list.files(pattern = \"*.csv\"),\n",
    "#              ,fun = read.csv,\n",
    "#              header = TRUE,\n",
    "#              colnames = c(\"un)\n",
    "#names"
   ]
  },
  {
   "cell_type": "code",
   "execution_count": 4,
   "id": "f9a8b053",
   "metadata": {},
   "outputs": [],
   "source": [
    "#Convert Unixtime to Datetime\n",
    "#Convert wind sensor clicks to Wind Speed\n",
    "#Rearrange column order\n",
    "df$datetime <- as_datetime(df$unixtime)\n",
    "df$date     <- format(df$datetime,format='%m/%d/%Y %H:%M')\n",
    "df$ws       <- df$ws*2.25/3/2.237\n",
    "df$ws       <- round(df$ws, digits = 2)\n",
    "df          <- df[,c(1,6,7,2,3,4,5)]"
   ]
  },
  {
   "cell_type": "code",
   "execution_count": 5,
   "id": "0b09eb31",
   "metadata": {},
   "outputs": [
    {
     "data": {
      "text/html": [
       "<table class=\"dataframe\">\n",
       "<caption>A data.frame: 6 × 7</caption>\n",
       "<thead>\n",
       "\t<tr><th></th><th scope=col>unixtime</th><th scope=col>datetime</th><th scope=col>date</th><th scope=col>ws</th><th scope=col>wd</th><th scope=col>co2</th><th scope=col>temp</th></tr>\n",
       "\t<tr><th></th><th scope=col>&lt;int&gt;</th><th scope=col>&lt;dttm&gt;</th><th scope=col>&lt;chr&gt;</th><th scope=col>&lt;dbl&gt;</th><th scope=col>&lt;int&gt;</th><th scope=col>&lt;int&gt;</th><th scope=col>&lt;int&gt;</th></tr>\n",
       "</thead>\n",
       "<tbody>\n",
       "\t<tr><th scope=row>1</th><td>1625604925</td><td>2021-07-06 20:55:25</td><td>07/06/2021 20:55</td><td>1.34</td><td>83</td><td>419</td><td>41</td></tr>\n",
       "\t<tr><th scope=row>2</th><td>1625604928</td><td>2021-07-06 20:55:28</td><td>07/06/2021 20:55</td><td>1.68</td><td>66</td><td>467</td><td>41</td></tr>\n",
       "\t<tr><th scope=row>3</th><td>1625604931</td><td>2021-07-06 20:55:31</td><td>07/06/2021 20:55</td><td>2.01</td><td>76</td><td>502</td><td>41</td></tr>\n",
       "\t<tr><th scope=row>4</th><td>1625604934</td><td>2021-07-06 20:55:34</td><td>07/06/2021 20:55</td><td>2.35</td><td>74</td><td>488</td><td>41</td></tr>\n",
       "\t<tr><th scope=row>5</th><td>1625604937</td><td>2021-07-06 20:55:37</td><td>07/06/2021 20:55</td><td>2.35</td><td>69</td><td>466</td><td>41</td></tr>\n",
       "\t<tr><th scope=row>6</th><td>1625604940</td><td>2021-07-06 20:55:40</td><td>07/06/2021 20:55</td><td>2.01</td><td>80</td><td>448</td><td>41</td></tr>\n",
       "</tbody>\n",
       "</table>\n"
      ],
      "text/latex": [
       "A data.frame: 6 × 7\n",
       "\\begin{tabular}{r|lllllll}\n",
       "  & unixtime & datetime & date & ws & wd & co2 & temp\\\\\n",
       "  & <int> & <dttm> & <chr> & <dbl> & <int> & <int> & <int>\\\\\n",
       "\\hline\n",
       "\t1 & 1625604925 & 2021-07-06 20:55:25 & 07/06/2021 20:55 & 1.34 & 83 & 419 & 41\\\\\n",
       "\t2 & 1625604928 & 2021-07-06 20:55:28 & 07/06/2021 20:55 & 1.68 & 66 & 467 & 41\\\\\n",
       "\t3 & 1625604931 & 2021-07-06 20:55:31 & 07/06/2021 20:55 & 2.01 & 76 & 502 & 41\\\\\n",
       "\t4 & 1625604934 & 2021-07-06 20:55:34 & 07/06/2021 20:55 & 2.35 & 74 & 488 & 41\\\\\n",
       "\t5 & 1625604937 & 2021-07-06 20:55:37 & 07/06/2021 20:55 & 2.35 & 69 & 466 & 41\\\\\n",
       "\t6 & 1625604940 & 2021-07-06 20:55:40 & 07/06/2021 20:55 & 2.01 & 80 & 448 & 41\\\\\n",
       "\\end{tabular}\n"
      ],
      "text/markdown": [
       "\n",
       "A data.frame: 6 × 7\n",
       "\n",
       "| <!--/--> | unixtime &lt;int&gt; | datetime &lt;dttm&gt; | date &lt;chr&gt; | ws &lt;dbl&gt; | wd &lt;int&gt; | co2 &lt;int&gt; | temp &lt;int&gt; |\n",
       "|---|---|---|---|---|---|---|---|\n",
       "| 1 | 1625604925 | 2021-07-06 20:55:25 | 07/06/2021 20:55 | 1.34 | 83 | 419 | 41 |\n",
       "| 2 | 1625604928 | 2021-07-06 20:55:28 | 07/06/2021 20:55 | 1.68 | 66 | 467 | 41 |\n",
       "| 3 | 1625604931 | 2021-07-06 20:55:31 | 07/06/2021 20:55 | 2.01 | 76 | 502 | 41 |\n",
       "| 4 | 1625604934 | 2021-07-06 20:55:34 | 07/06/2021 20:55 | 2.35 | 74 | 488 | 41 |\n",
       "| 5 | 1625604937 | 2021-07-06 20:55:37 | 07/06/2021 20:55 | 2.35 | 69 | 466 | 41 |\n",
       "| 6 | 1625604940 | 2021-07-06 20:55:40 | 07/06/2021 20:55 | 2.01 | 80 | 448 | 41 |\n",
       "\n"
      ],
      "text/plain": [
       "  unixtime   datetime            date             ws   wd co2 temp\n",
       "1 1625604925 2021-07-06 20:55:25 07/06/2021 20:55 1.34 83 419 41  \n",
       "2 1625604928 2021-07-06 20:55:28 07/06/2021 20:55 1.68 66 467 41  \n",
       "3 1625604931 2021-07-06 20:55:31 07/06/2021 20:55 2.01 76 502 41  \n",
       "4 1625604934 2021-07-06 20:55:34 07/06/2021 20:55 2.35 74 488 41  \n",
       "5 1625604937 2021-07-06 20:55:37 07/06/2021 20:55 2.35 69 466 41  \n",
       "6 1625604940 2021-07-06 20:55:40 07/06/2021 20:55 2.01 80 448 41  "
      ]
     },
     "metadata": {},
     "output_type": "display_data"
    }
   ],
   "source": [
    "#View Dataframe Info\n",
    "head(df)\n",
    "#tail(df)\n",
    "#summary(df)"
   ]
  },
  {
   "cell_type": "code",
   "execution_count": null,
   "id": "45793f6b",
   "metadata": {},
   "outputs": [],
   "source": [
    "#Export Dataframe to new csv file\n",
    "#write.csv(df,\"ProcessedData_Pri.csv\", row.names = FALSE)\n",
    "write.csv(df,\"ProcessedData_Sec.csv\", row.names = FALSE)"
   ]
  },
  {
   "cell_type": "markdown",
   "id": "75e697a1",
   "metadata": {},
   "source": [
    "## Part 2: Analyze Data"
   ]
  },
  {
   "cell_type": "code",
   "execution_count": null,
   "id": "59921b1b",
   "metadata": {},
   "outputs": [],
   "source": [
    "#Import Data\n",
    "mydata_pri <- import('ProcessedData_Pri.csv', date.format = '%m/%d/%Y %H:%M')\n",
    "mydata_sec <- import('ProcessedData_Sec.csv', date.format = '%m/%d/%Y %H:%M')\n",
    "#mydata_sec_shift <- import('ProcessedData_Sec_Shift.csv', date.format = '%m/%d/%Y %H:%M')"
   ]
  },
  {
   "cell_type": "code",
   "execution_count": null,
   "id": "46662fa8",
   "metadata": {},
   "outputs": [],
   "source": [
    "#head(mydata)\n",
    "#tail(mydata)\n",
    "#summary(mydata)\n",
    "\n",
    "print(nrow(mydata_pri))\n",
    "print(nrow(mydata_sec))"
   ]
  },
  {
   "cell_type": "markdown",
   "id": "f5acc369",
   "metadata": {},
   "source": [
    "# Primary Node"
   ]
  },
  {
   "cell_type": "code",
   "execution_count": null,
   "id": "5f4ebf5b",
   "metadata": {},
   "outputs": [],
   "source": [
    "timePlot(mydata_pri,    pollutant=  'co2')"
   ]
  },
  {
   "cell_type": "code",
   "execution_count": null,
   "id": "570e7c56",
   "metadata": {},
   "outputs": [],
   "source": [
    "#start_point = 10000\n",
    "#end_point   = 20000\n",
    "\n",
    "#mysubdata_pri = subset(mydata_pri,\n",
    "#                       (as.numeric(rownames(mydata_pri)) > start_point) & (as.numeric(rownames(mydata_pri)) < end_point),\n",
    "#                       select = c(date, wd, ws, co2))\n",
    "\n",
    "#timePlot(mysubdata_pri, pollutant = 'co2')"
   ]
  },
  {
   "cell_type": "code",
   "execution_count": null,
   "id": "3a78453e",
   "metadata": {},
   "outputs": [],
   "source": [
    "#windRose(mydata_pri, angle = 22.5)\n",
    "#percentileRose(mydata_pri, pollutant = 'co2')\n",
    "#polarPlot(mydata_pri, pollutant = 'co2')\n",
    "#polarPlot(mydata_pri, pollutant = 'co2', stati = 'cpf', percentile = c(80,90))\n",
    "#polarPlot(mydata_pri, pollutant = 'co2', stati = 'cpf', percentile = c(90,100))"
   ]
  },
  {
   "cell_type": "markdown",
   "id": "9de3dcfb",
   "metadata": {},
   "source": [
    "# Secondary Node"
   ]
  },
  {
   "cell_type": "code",
   "execution_count": null,
   "id": "f72dc778",
   "metadata": {},
   "outputs": [],
   "source": [
    "timePlot(mydata_sec,    pollutant=  'co2')"
   ]
  },
  {
   "cell_type": "code",
   "execution_count": null,
   "id": "6f128606",
   "metadata": {},
   "outputs": [],
   "source": [
    "start_point = 10000\n",
    "end_point   = 20000\n",
    "\n",
    "mysubdata_sec = subset(mydata_sec,\n",
    "                       (as.numeric(rownames(mydata_sec)) > start_point) & (as.numeric(rownames(mydata_sec)) < end_point),\n",
    "                       select = c(date, wd, ws, co2))\n",
    "\n",
    "#timePlot(mydata_sec_shift,    pollutant=  'co2')\n",
    "timePlot(mysubdata_sec, pollutant = 'co2')"
   ]
  },
  {
   "cell_type": "code",
   "execution_count": null,
   "id": "623c1c22",
   "metadata": {},
   "outputs": [],
   "source": [
    "#windRose(mydata, angle = 22.5)\n",
    "#percentileRose(mydata, pollutant = 'co2')\n",
    "#polarPlot(mydata_sec, pollutant = 'co2')\n",
    "#polarPlot(mydata_sec, pollutant = 'co2', stati = 'cpf', percentile = c(90,100))\n",
    "polarPlot(mydata_sec, pollutant = 'co2', stati = 'cpf', percentile = c(80,90))"
   ]
  },
  {
   "cell_type": "code",
   "execution_count": null,
   "id": "22629ef8",
   "metadata": {},
   "outputs": [],
   "source": []
  }
 ],
 "metadata": {
  "kernelspec": {
   "display_name": "R",
   "language": "R",
   "name": "ir"
  },
  "language_info": {
   "codemirror_mode": "r",
   "file_extension": ".r",
   "mimetype": "text/x-r-source",
   "name": "R",
   "pygments_lexer": "r",
   "version": "4.1.0"
  },
  "toc": {
   "base_numbering": 1,
   "nav_menu": {},
   "number_sections": false,
   "sideBar": false,
   "skip_h1_title": true,
   "title_cell": "Table of Contents",
   "title_sidebar": "Contents",
   "toc_cell": false,
   "toc_position": {},
   "toc_section_display": true,
   "toc_window_display": false
  },
  "varInspector": {
   "cols": {
    "lenName": 16,
    "lenType": 16,
    "lenVar": 40
   },
   "kernels_config": {
    "python": {
     "delete_cmd_postfix": "",
     "delete_cmd_prefix": "del ",
     "library": "var_list.py",
     "varRefreshCmd": "print(var_dic_list())"
    },
    "r": {
     "delete_cmd_postfix": ") ",
     "delete_cmd_prefix": "rm(",
     "library": "var_list.r",
     "varRefreshCmd": "cat(var_dic_list()) "
    }
   },
   "types_to_exclude": [
    "module",
    "function",
    "builtin_function_or_method",
    "instance",
    "_Feature"
   ],
   "window_display": false
  }
 },
 "nbformat": 4,
 "nbformat_minor": 5
}
