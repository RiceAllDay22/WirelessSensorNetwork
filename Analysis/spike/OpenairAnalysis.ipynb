{
 "cells": [
  {
   "cell_type": "markdown",
   "id": "a785c8cd",
   "metadata": {},
   "source": [
    "# Adriann Liceralde"
   ]
  },
  {
   "cell_type": "markdown",
   "id": "9893b1f7",
   "metadata": {},
   "source": [
    "## Part 1: Process Data"
   ]
  },
  {
   "cell_type": "code",
   "execution_count": null,
   "id": "ad7ea13c",
   "metadata": {},
   "outputs": [],
   "source": [
    "#Import Packages\n",
    "getwd()\n",
    "library(openair,   warn.conflicts = FALSE)\n",
    "library(lubridate, warn.conflicts = FALSE)"
   ]
  },
  {
   "cell_type": "code",
   "execution_count": null,
   "id": "c8cf83e6",
   "metadata": {},
   "outputs": [],
   "source": [
    "#Import Data File\n",
    "rm(list=ls())\n",
    "#setwd('C:/Users/adria/Desktop/Repo/WirelessSensorNetwork/Data/V 2.2.4 Post Falls Test')\n",
    "#df <- read.csv('DataFull.csv', header = TRUE)\n",
    "\n",
    "#setwd('C:/Users/adria/Desktop/Repo/WirelessSensorNetwork/Data/V 2.4.0 Roof-Primary')\n",
    "#df <- read.csv('C-2021-07-06_Pri_For2.csv', header = TRUE, fileEncoding = 'UTF-8-BOM')\n",
    "\n",
    "setwd('C:/Users/adria/Desktop/Repo/WirelessSensorNetwork/Data/V All')\n",
    "df <- read.csv('C-2021-07-06-Pri.csv', header = TRUE, fileEncoding = 'UTF-8-BOM')\n",
    "#df <- read.csv('C-2021-07-06-Sec.csv', header = TRUE, fileEncoding = 'UTF-8-BOM')\n",
    "\n",
    "#library(plyr)\n",
    "#names <- ldply(.data = list.files(pattern = \"*.csv\"),\n",
    "#              ,fun = read.csv,\n",
    "#              header = TRUE,\n",
    "#              colnames = c(\"un)\n",
    "#names"
   ]
  },
  {
   "cell_type": "code",
   "execution_count": null,
   "id": "f9a8b053",
   "metadata": {},
   "outputs": [],
   "source": [
    "#Convert Unixtime to Datetime\n",
    "#Convert wind sensor clicks to Wind Speed\n",
    "#Rearrange column order\n",
    "df$datetime <- as_datetime(df$unixtime)\n",
    "df$date     <- format(df$datetime,format='%m/%d/%Y %H:%M')\n",
    "df$ws       <- df$ws*2.25/3/2.237\n",
    "df$ws       <- round(df$ws, digits = 2)\n",
    "df          <- df[,c(1,6,7,2,3,4,5)]"
   ]
  },
  {
   "cell_type": "code",
   "execution_count": null,
   "id": "0b09eb31",
   "metadata": {},
   "outputs": [],
   "source": [
    "#View Dataframe Info\n",
    "head(df)\n",
    "#tail(df)\n",
    "#summary(df)"
   ]
  },
  {
   "cell_type": "code",
   "execution_count": null,
   "id": "45793f6b",
   "metadata": {},
   "outputs": [],
   "source": [
    "#Export Dataframe to new csv file\n",
    "#write.csv(df,\"ProcessedData_Pri.csv\", row.names = FALSE)\n",
    "write.csv(df,\"ProcessedData.csv\", row.names = FALSE)"
   ]
  },
  {
   "cell_type": "markdown",
   "id": "75e697a1",
   "metadata": {},
   "source": [
    "## Part 2: Analyze Data"
   ]
  },
  {
   "cell_type": "code",
   "execution_count": null,
   "id": "59921b1b",
   "metadata": {},
   "outputs": [],
   "source": [
    "#Import Data\n",
    "mydata <- import('ProcessedData.csv', date.format = '%m/%d/%Y %H:%M')\n",
    "#mydata_pri <- import('ProcessedData_Pri.csv', date.format = '%m/%d/%Y %H:%M')\n",
    "#mydata_sec <- import('ProcessedData_Sec.csv', date.format = '%m/%d/%Y %H:%M')\n",
    "#mydata_sec_shift <- import('ProcessedData_Sec_Shift.csv', date.format = '%m/%d/%Y %H:%M')"
   ]
  },
  {
   "cell_type": "code",
   "execution_count": null,
   "id": "9fbca340",
   "metadata": {},
   "outputs": [],
   "source": [
    "timePlot(mydata, pollutant = 'co2')"
   ]
  },
  {
   "cell_type": "code",
   "execution_count": null,
   "id": "46662fa8",
   "metadata": {},
   "outputs": [],
   "source": [
    "#head(mydata)\n",
    "#tail(mydata)\n",
    "#summary(mydata)\n",
    "\n",
    "print(nrow(mydata_pri))\n",
    "print(nrow(mydata_sec))"
   ]
  },
  {
   "cell_type": "markdown",
   "id": "f5acc369",
   "metadata": {},
   "source": [
    "# Primary Node"
   ]
  },
  {
   "cell_type": "code",
   "execution_count": null,
   "id": "5f4ebf5b",
   "metadata": {},
   "outputs": [],
   "source": [
    "timePlot(mydata_pri,    pollutant=  'co2')"
   ]
  },
  {
   "cell_type": "code",
   "execution_count": null,
   "id": "570e7c56",
   "metadata": {},
   "outputs": [],
   "source": [
    "#start_point = 10000\n",
    "#end_point   = 20000\n",
    "\n",
    "#mysubdata_pri = subset(mydata_pri,\n",
    "#                       (as.numeric(rownames(mydata_pri)) > start_point) & (as.numeric(rownames(mydata_pri)) < end_point),\n",
    "#                       select = c(date, wd, ws, co2))\n",
    "\n",
    "#timePlot(mysubdata_pri, pollutant = 'co2')"
   ]
  },
  {
   "cell_type": "code",
   "execution_count": null,
   "id": "3a78453e",
   "metadata": {},
   "outputs": [],
   "source": [
    "#windRose(mydata_pri, angle = 22.5)\n",
    "#percentileRose(mydata_pri, pollutant = 'co2')\n",
    "#polarPlot(mydata_pri, pollutant = 'co2')\n",
    "#polarPlot(mydata_pri, pollutant = 'co2', stati = 'cpf', percentile = c(80,90))\n",
    "#polarPlot(mydata_pri, pollutant = 'co2', stati = 'cpf', percentile = c(90,100))"
   ]
  },
  {
   "cell_type": "markdown",
   "id": "9de3dcfb",
   "metadata": {},
   "source": [
    "# Secondary Node"
   ]
  },
  {
   "cell_type": "code",
   "execution_count": null,
   "id": "f72dc778",
   "metadata": {},
   "outputs": [],
   "source": [
    "timePlot(mydata_sec,    pollutant=  'co2')"
   ]
  },
  {
   "cell_type": "code",
   "execution_count": null,
   "id": "6f128606",
   "metadata": {},
   "outputs": [],
   "source": [
    "start_point = 10000\n",
    "end_point   = 20000\n",
    "\n",
    "mysubdata_sec = subset(mydata_sec,\n",
    "                       (as.numeric(rownames(mydata_sec)) > start_point) & (as.numeric(rownames(mydata_sec)) < end_point),\n",
    "                       select = c(date, wd, ws, co2))\n",
    "\n",
    "#timePlot(mydata_sec_shift,    pollutant=  'co2')\n",
    "timePlot(mysubdata_sec, pollutant = 'co2')"
   ]
  },
  {
   "cell_type": "code",
   "execution_count": null,
   "id": "623c1c22",
   "metadata": {},
   "outputs": [],
   "source": [
    "#windRose(mydata, angle = 22.5)\n",
    "#percentileRose(mydata, pollutant = 'co2')\n",
    "#polarPlot(mydata_sec, pollutant = 'co2')\n",
    "#polarPlot(mydata_sec, pollutant = 'co2', stati = 'cpf', percentile = c(90,100))\n",
    "polarPlot(mydata_sec, pollutant = 'co2', stati = 'cpf', percentile = c(80,90))"
   ]
  },
  {
   "cell_type": "code",
   "execution_count": null,
   "id": "22629ef8",
   "metadata": {},
   "outputs": [],
   "source": []
  }
 ],
 "metadata": {
  "kernelspec": {
   "display_name": "R",
   "language": "R",
   "name": "ir"
  },
  "language_info": {
   "codemirror_mode": "r",
   "file_extension": ".r",
   "mimetype": "text/x-r-source",
   "name": "R",
   "pygments_lexer": "r",
   "version": "4.1.0"
  },
  "toc": {
   "base_numbering": 1,
   "nav_menu": {},
   "number_sections": false,
   "sideBar": false,
   "skip_h1_title": true,
   "title_cell": "Table of Contents",
   "title_sidebar": "Contents",
   "toc_cell": false,
   "toc_position": {},
   "toc_section_display": true,
   "toc_window_display": false
  },
  "varInspector": {
   "cols": {
    "lenName": 16,
    "lenType": 16,
    "lenVar": 40
   },
   "kernels_config": {
    "python": {
     "delete_cmd_postfix": "",
     "delete_cmd_prefix": "del ",
     "library": "var_list.py",
     "varRefreshCmd": "print(var_dic_list())"
    },
    "r": {
     "delete_cmd_postfix": ") ",
     "delete_cmd_prefix": "rm(",
     "library": "var_list.r",
     "varRefreshCmd": "cat(var_dic_list()) "
    }
   },
   "types_to_exclude": [
    "module",
    "function",
    "builtin_function_or_method",
    "instance",
    "_Feature"
   ],
   "window_display": false
  }
 },
 "nbformat": 4,
 "nbformat_minor": 5
}
