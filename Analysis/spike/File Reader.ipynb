{
 "cells": [
  {
   "cell_type": "markdown",
   "metadata": {},
   "source": [
    "# 1-27-2020 Lego Home Test"
   ]
  },
  {
   "cell_type": "code",
   "execution_count": null,
   "metadata": {},
   "outputs": [],
   "source": [
    "import numpy as np\n",
    "import matplotlib.pyplot as plt\n",
    "import pandas as pd\n",
    "import os\n",
    "import glob"
   ]
  },
  {
   "cell_type": "code",
   "execution_count": null,
   "metadata": {},
   "outputs": [],
   "source": [
    "# Set Working Directory\n",
    "user      = 'Adriann Liceralde'\n",
    "subfolder = 'V 2.2.5 Lego Home Test'\n",
    "file      = '2021-01-26--23.csv'\n",
    "\n",
    "os.chdir('C:\\\\Users\\\\'+str(user)+'\\\\Desktop\\\\Repo\\\\WirelessSensorNetwork\\\\Data\\\\'\n",
    "         + str(subfolder))\n",
    "os.getcwd()\n",
    "\n",
    "extension = 'csv'\n",
    "#all_filenames = [i for i in glob.glob('*.{}'.format(extension))]"
   ]
  },
  {
   "cell_type": "code",
   "execution_count": null,
   "metadata": {},
   "outputs": [],
   "source": [
    "data = pd.read_csv(file, header = None)\n",
    "print(data.head())\n",
    "print(data.tail())\n",
    "#data   = dataPD.to_numpy() \n",
    "UnixTime  = np.array(data.iloc[:,0])\n",
    "WindSpeed = np.array(data.iloc[:,1])\n",
    "WindDir   = np.array(data.iloc[:,2])\n",
    "GasData   = np.array(data.iloc[:,3])\n",
    "Index     = np.arange(1, len(UnixTime)+1 )\n",
    "print(len(UnixTime))\n",
    "print(len(Index))"
   ]
  },
  {
   "cell_type": "code",
   "execution_count": null,
   "metadata": {},
   "outputs": [],
   "source": [
    "a = np.where(GasData == 0)\n",
    "for i in range(0, len(a[0])-1):\n",
    "    print(a[0][i+1] - a[0][i])"
   ]
  },
  {
   "cell_type": "code",
   "execution_count": null,
   "metadata": {},
   "outputs": [],
   "source": [
    "plt.plot(Index, GasData)"
   ]
  },
  {
   "cell_type": "code",
   "execution_count": null,
   "metadata": {},
   "outputs": [],
   "source": [
    "GasData"
   ]
  },
  {
   "cell_type": "markdown",
   "metadata": {},
   "source": [
    "# 2-10-2021 2 vs 3 vs 5 sec frequency"
   ]
  },
  {
   "cell_type": "code",
   "execution_count": 1,
   "metadata": {},
   "outputs": [],
   "source": [
    "import numpy as np\n",
    "import matplotlib.pyplot as plt\n",
    "import pandas as pd\n",
    "import os\n",
    "import glob"
   ]
  },
  {
   "cell_type": "code",
   "execution_count": 2,
   "metadata": {},
   "outputs": [],
   "source": [
    "user      = 'Adriann Liceralde'\n",
    "subfolder = 'V 2.2.6 Frequency Test'\n",
    "#file      = '2021-01-26--23.csv'\n",
    "\n",
    "os.chdir('C:\\\\Users\\\\'+str(user)+'\\\\Desktop\\\\Repo\\\\WirelessSensorNetwork\\\\Data\\\\'\n",
    "         + str(subfolder))\n",
    "os.getcwd()\n",
    "\n",
    "extension = 'csv'"
   ]
  },
  {
   "cell_type": "code",
   "execution_count": 29,
   "metadata": {},
   "outputs": [
    {
     "name": "stdout",
     "output_type": "stream",
     "text": [
      "Full Data Set:\n",
      "Consistent: True\n",
      "Zero Count: 3202\n",
      "Span: 25.149444444444445 h\n",
      "NPoints: 45270\n",
      "\n",
      "In 24 hours:\n",
      "Zero Count: 3055.6539795445005\n",
      "Span: 24.0 h\n",
      "NPoints: 43200.95429543396\n",
      "Miss: 43199.04570456604\n",
      "\n",
      "\n",
      "\n",
      "Full Data Set:\n",
      "Consistent: True\n",
      "Zero Count: 12\n",
      "Span: 25.3075 h\n",
      "NPoints: 30370\n",
      "\n",
      "In 24 hours:\n",
      "Zero Count: 11.380025684085744\n",
      "Span: 24.0 h\n",
      "NPoints: 28800.948335473673\n",
      "Miss: 57599.05166452633\n",
      "\n",
      "\n",
      "\n",
      "Full Data Set:\n",
      "Consistent: True\n",
      "Zero Count: 20\n",
      "Span: 110.24861111111112 h\n",
      "NPoints: 79380\n",
      "\n",
      "In 24 hours:\n",
      "Zero Count: 4.353796344121241\n",
      "Span: 24.0 h\n",
      "NPoints: 17280.217689817204\n",
      "Miss: 69119.7823101828\n",
      "\n",
      "\n",
      "\n"
     ]
    }
   ],
   "source": [
    "data_2 = pd.read_csv('Frequency 2sec.csv', header = None)\n",
    "data_3 = pd.read_csv('Frequency 3sec.csv', header = None)\n",
    "data_5 = pd.read_csv('Frequency 5sec.csv', header = None)\n",
    "\n",
    "def func(file, freq):\n",
    "    data    = file.to_numpy()\n",
    "    time    = data[:,0]\n",
    "    time    = time - time[0]\n",
    "    w_speed = data[:,1]\n",
    "    w_dir   = data[:,2]\n",
    "    gas     = data[:,3]\n",
    "    \n",
    "    consistent = True\n",
    "    for i in range(0, len(time)-1):\n",
    "        dt = time[i+1] - time[i]\n",
    "        if dt != freq:\n",
    "            consistent = False\n",
    "    zero =  np.count_nonzero(gas == 0)   \n",
    "    span = (time[-1]-time[0])/3600\n",
    "    numb = len(gas)\n",
    "    ratio = 24/span\n",
    "    \n",
    "    print('Full Data Set:')\n",
    "    print('Consistent:', consistent)\n",
    "    print('Zero Count:', zero)\n",
    "    print('Span:',       span, 'h')\n",
    "    print('NPoints:',    numb)\n",
    "    print('')\n",
    "    print('In 24 hours:')\n",
    "    print('Zero Count:', zero*ratio)\n",
    "    print('Span:',       span*ratio, 'h')\n",
    "    print('NPoints:',    numb*ratio)\n",
    "    print('Miss:',       86400 - numb*ratio)\n",
    "    print('')\n",
    "    print('')\n",
    "    print('')\n",
    "    \n",
    "func(data_2, 2)\n",
    "func(data_3, 3)\n",
    "func(data_5, 5)"
   ]
  },
  {
   "cell_type": "markdown",
   "metadata": {},
   "source": [
    "|Frequency|2s|3s|5s|\n",
    "|-|-|-|-|\n",
    "|Amount of 'Zeros'|3056|11|4|\n",
    "|Amount of Data Points|43200|28800|17280|\n",
    "|Timespan in seconds|86400|86400|86400|\n",
    "|Amount of missing points (Rounded)|43000|58000|69000|"
   ]
  },
  {
   "cell_type": "code",
   "execution_count": 6,
   "metadata": {},
   "outputs": [
    {
     "data": {
      "text/plain": [
       "Text(0.5, 0, 'Time (s)')"
      ]
     },
     "execution_count": 6,
     "metadata": {},
     "output_type": "execute_result"
    },
    {
     "data": {
      "image/png": "[encoded data removed]",
      "text/plain": [
       "<Figure size 432x288 with 1 Axes>"
      ]
     },
     "metadata": {
      "needs_background": "light"
     },
     "output_type": "display_data"
    }
   ],
   "source": [
    "plt.plot(time_2[0:-1], gas_2[0:-1], 'ro')\n",
    "plt.ylabel('Concentration (ppm)')\n",
    "plt.xlabel('Time (s)')"
   ]
  },
  {
   "cell_type": "code",
   "execution_count": 7,
   "metadata": {},
   "outputs": [
    {
     "name": "stdout",
     "output_type": "stream",
     "text": [
      "Span: 25.149444444444445 h\n"
     ]
    }
   ],
   "source": [
    "print('Span:', (time_2[-1]-time_2[0])/3600, 'h')"
   ]
  },
  {
   "cell_type": "code",
   "execution_count": 8,
   "metadata": {},
   "outputs": [
    {
     "name": "stdout",
     "output_type": "stream",
     "text": [
      "3202\n"
     ]
    }
   ],
   "source": [
    "print(np.count_nonzero(gas_2 == 0))"
   ]
  },
  {
   "cell_type": "code",
   "execution_count": null,
   "metadata": {},
   "outputs": [],
   "source": [
    "data_3 = pd.read_csv('Frequency 3sec.csv', header = None)\n",
    "data_3 = data_3.to_numpy()\n",
    "\n",
    "\n",
    "time_3  = data_3[:,0]\n",
    "time_3  = time_3 - time_3[0]\n",
    "speed_3 = data_3[:,1]\n",
    "dir_3   = data_3[:,2]\n",
    "gas_3   = data_3[:,3]"
   ]
  },
  {
   "cell_type": "code",
   "execution_count": null,
   "metadata": {},
   "outputs": [],
   "source": [
    "plt.plot(time_3[0:-1], gas_3[0:-1], 'ro')"
   ]
  }
 ],
 "metadata": {
  "kernelspec": {
   "display_name": "Python 3",
   "language": "python",
   "name": "python3"
  },
  "language_info": {
   "codemirror_mode": {
    "name": "ipython",
    "version": 3
   },
   "file_extension": ".py",
   "mimetype": "text/x-python",
   "name": "python",
   "nbconvert_exporter": "python",
   "pygments_lexer": "ipython3",
   "version": "3.7.9"
  }
 },
 "nbformat": 4,
 "nbformat_minor": 4
}
