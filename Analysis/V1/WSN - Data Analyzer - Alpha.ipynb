{
 "cells": [
  {
   "cell_type": "markdown",
   "metadata": {},
   "source": [
    "# Adriann Liceralde\n",
    "# WSN - Data Analyzer - Alpha"
   ]
  },
  {
   "cell_type": "markdown",
   "metadata": {},
   "source": [
    "## USEFUL FUNCTIONS"
   ]
  },
  {
   "cell_type": "code",
   "execution_count": null,
   "metadata": {},
   "outputs": [],
   "source": [
    "NP = DF.to_numpy()\n",
    "DF = pd.DataFrame(NP)\n",
    "pd.reset_option('all')\n",
    "\n",
    "NP = np.column_stack((a, b))\n",
    "DF = pd.DataFrame(cNP)  \n",
    "DF.columns = [\"A\", \"B\"]\n",
    "dfs = cDF[~cDF.B.isin(List)]"
   ]
  },
  {
   "cell_type": "markdown",
   "metadata": {},
   "source": [
    "## LIBRARIES"
   ]
  },
  {
   "cell_type": "code",
   "execution_count": 18,
   "metadata": {},
   "outputs": [],
   "source": [
    "import os\n",
    "import numpy as np\n",
    "import matplotlib.pyplot as plt\n",
    "import pandas as pd\n",
    "import seaborn as sns\n",
    "from datetime import datetime\n",
    "from statistics import mean\n",
    "import IPython.display"
   ]
  },
  {
   "cell_type": "markdown",
   "metadata": {},
   "source": [
    "## DATA SELECTION\n",
    "Data files have two columns: UNIXTIME and GASDATA"
   ]
  },
  {
   "cell_type": "code",
   "execution_count": 21,
   "metadata": {
    "scrolled": true
   },
   "outputs": [],
   "source": [
    "# Folder - Continiuous Data\n",
    "year, month, day =  19, 2, 2\n",
    "os.chdir('C:\\\\Users\\\\adria\\\\OneDrive - University of Utah\\\\Documents\\\\Research\\\\Project 4 Network\\\\Continuous Data')\n",
    "data = pd.read_excel(str(month) + \"-\" + str(day) + \"-\" + str(year) + '.xlsx')\n",
    "\n",
    "\n",
    "#os.chdir('C:\\\\Users\\\\u1121085\\\\OneDrive - University of Utah\\\\Documents\\\\Research\\\\Project 4 Network\\\\Continuous Data')\n",
    "#data = pd.read_excel(str(month) + \"-\" + str(day) + \"-\" + str(year) + '.xlsx')\n",
    "\n",
    "# Folder - Combo \n",
    "#month, day = 2, 4\n",
    "#extension = ''\n",
    "#os.chdir('C:\\\\Users\\\\adria\\\\Desktop\\\\ComboTest')\n",
    "\n",
    "# Folder - ComboTest\n",
    "#os.chdir('C:\\\\Users\\\\adria\\\\Desktop\\\\ComboTest')\n",
    "#data = pd.read_csv('Combined.csv')\n",
    "#pd.set_option('display.max_rows', 100000)"
   ]
  },
  {
   "cell_type": "markdown",
   "metadata": {},
   "source": [
    "## DEFINE FUNCTIONS\n",
    "These functions will\n",
    "* Filter out bad data\n",
    "* Determine missing timestamps\n",
    "* Extimate missing data"
   ]
  },
  {
   "cell_type": "markdown",
   "metadata": {},
   "source": [
    "### Import Data\n",
    "Incoming data has two columns: UNIXTIME and GASDATA. <br>\n",
    "Function adds two new columns: DATETIME and REALDATA. <br>\n",
    "REALDATA is a booleon to differentiate sensor values form estimated values. <br>"
   ]
  },
  {
   "cell_type": "code",
   "execution_count": 22,
   "metadata": {},
   "outputs": [],
   "source": [
    "def importData(data):\n",
    "    UnixTime = np.array(data['UNIXTIME'],  dtype = float)\n",
    "    GasData  = np.array(data['CO2'],       dtype = float)\n",
    "    RealData = np.ones((len(UnixTime), 1), dtype = float)\n",
    "    Index    = np.arange(0, len(UnixTime))\n",
    "    DateTime = np.array([])\n",
    "    \n",
    "    for i in range(0, len(UnixTime)):\n",
    "        a = datetime.fromtimestamp(UnixTime[i])\n",
    "        #DateTime[i] = a\n",
    "        DateTime = np.append(DateTime, a)\n",
    "    \n",
    "    rawAllDataNP = np.column_stack((UnixTime, GasData, DateTime, RealData, Index))\n",
    "    rawAllDataDF = pd.DataFrame(rawAllDataNP) \n",
    "    rawAllDataDF.columns = ['UnixTime', 'GasData', 'DateTime', 'RealData', 'index']\n",
    "    rawAllDataDF = rawAllDataDF.drop_duplicates(subset='UnixTime', keep='first')\n",
    "    rawAllDataNP = rawAllDataDF.to_numpy()\n",
    "    return rawAllDataNP, rawAllDataDF\n",
    "rawAllDataNP, rawAllDataDF = importData(data)"
   ]
  },
  {
   "cell_type": "code",
   "execution_count": 23,
   "metadata": {},
   "outputs": [],
   "source": [
    "def importData(data):\n",
    "    UnixTime = np.array(data['UNIXTIME'],  dtype = float)\n",
    "    GasData  = np.array(data['CO2'],       dtype = float)\n",
    "    RealData = np.ones((len(UnixTime), 1), dtype = float)\n",
    "    Index    = np.arange(0, len(UnixTime))\n",
    "    \n",
    "    rawAllDataNP = np.column_stack((UnixTime, GasData, RealData, Index))\n",
    "    rawAllDataDF = pd.DataFrame(rawAllDataNP) \n",
    "    rawAllDataDF.columns = ['UnixTime', 'GasData', 'RealData', 'index']\n",
    "    rawAllDataDF['DateTime'] = pd.to_datetime(rawAllDataDF['UnixTime'], unit = 's')\n",
    "    \n",
    "    rawAllDataDF = rawAllDataDF[['UnixTime', 'GasData', 'DateTime','RealData', 'index']]\n",
    "    rawAllDataDF = rawAllDataDF.drop_duplicates(subset='UnixTime', keep='first')\n",
    "    rawAllDataNP = rawAllDataDF.to_numpy()\n",
    "    return rawAllDataNP, rawAllDataDF\n",
    "rawAllDataNP, rawAllDataDF = importData(data)\n"
   ]
  },
  {
   "cell_type": "markdown",
   "metadata": {},
   "source": [
    "### Import Check\n",
    "Ensure that the datatypes are correct. <br>\n",
    "UNIXTIME: Float <br>\n",
    "CO2:      Float <br>\n",
    "DATETIME: Timestamp <br>\n",
    "REALDATA: Bool <br>"
   ]
  },
  {
   "cell_type": "code",
   "execution_count": 24,
   "metadata": {},
   "outputs": [],
   "source": [
    "def importCheck(rawAllDataNP, rawAllDataDF):\n",
    "    print('|----------DATA CHECKER ----------|')\n",
    "    print(rawAllDataNP[0][0], type(rawAllDataNP[0][0]))\n",
    "    print(rawAllDataNP[0][1], type(rawAllDataNP[0][1]))\n",
    "    print(rawAllDataNP[0][2], type(rawAllDataNP[0][2]))\n",
    "    print(rawAllDataNP[0][3], type(rawAllDataNP[0][3]))    \n",
    "    print('')\n",
    "#importCheck(rawAllDataNP, rawAllDataDF)"
   ]
  },
  {
   "cell_type": "markdown",
   "metadata": {},
   "source": [
    "### Data Filter Where\n",
    "Determine the indeces that have bad data."
   ]
  },
  {
   "cell_type": "code",
   "execution_count": 25,
   "metadata": {},
   "outputs": [],
   "source": [
    "def dataFilterWhere(rawAllDataNP):\n",
    "    #global gasZerosIndices, gasLowIndices, gasHighIndices, gasNegIndices #global timeZerosIndices, timeLowIndices, timeHighIndices, timeNegIndices #global fullRemovalIndices\n",
    "    gasZerosIndices  = np.where( rawAllDataNP[:,1] == 0)\n",
    "    gasLowIndices    = np.where((rawAllDataNP[:,1] <= 420) & (rawAllDataNP[:,1] > 0))\n",
    "    gasHighIndices   = np.where( rawAllDataNP[:,1] >= 5000) \n",
    "    gasNegIndices    = np.where( rawAllDataNP[:,1] < 0 )\n",
    "    timeZerosIndices = np.where( rawAllDataNP[:,0] == 0)\n",
    "    timeLowIndices   = np.where((rawAllDataNP[:,0] <= 1576594500) & (rawAllDataNP[:,0] > 0))\n",
    "    timeHighIndices  = np.where( rawAllDataNP[:,0] >= 2000000000)                                               \n",
    "    timeNegIndices   = np.where( rawAllDataNP[:,0] < 0)\n",
    "\n",
    "    fullRemovalIndices = np.concatenate((\n",
    "        gasZerosIndices, gasLowIndices, gasHighIndices, gasNegIndices,\n",
    "        timeZerosIndices,timeLowIndices,timeHighIndices,timeNegIndices), axis = None)\n",
    "    \n",
    "    print('|----------DATA REMOVED----------|')\n",
    "    print('Gas  Zeros: ', len(gasZerosIndices[0]))\n",
    "    print('Gas   Lows: ', len(gasLowIndices[0]))\n",
    "    print('Gas  Highs: ', len(gasHighIndices[0]))\n",
    "    print('Gas   Negs: ', len(gasNegIndices[0]))\n",
    "    print('Time Zeros: ', len(timeZerosIndices[0]))\n",
    "    print('Time  Lows: ', len(timeLowIndices[0]))\n",
    "    print('Time Highs: ', len(timeHighIndices[0]))\n",
    "    print('Time  Negs: ', len(timeNegIndices[0]))\n",
    "    print('Total Remd: ', (len(gasZerosIndices[0]) + len(gasLowIndices[0]) + len(gasHighIndices[0]) + len(gasNegIndices[0]) + len(timeZerosIndices[0]) + len(timeLowIndices[0]) + len(timeHighIndices[0]) + len(timeNegIndices[0])))\n",
    "    print('Total Remd: ', len(fullRemovalIndices))\n",
    "    print('')\n",
    "    return fullRemovalIndices"
   ]
  },
  {
   "cell_type": "markdown",
   "metadata": {},
   "source": [
    "### Filter Creator\n",
    "Filter out bad data and create new DataFrame: \n",
    "fillAllData"
   ]
  },
  {
   "cell_type": "code",
   "execution_count": 26,
   "metadata": {},
   "outputs": [],
   "source": [
    "def dataFilterCreator(rawAllDataDF, fullRemovalIndices):\n",
    "    filAllDataDF = rawAllDataDF[~rawAllDataDF.index.isin(fullRemovalIndices)]\n",
    "    filAllDataNP = filAllDataDF.to_numpy()\n",
    "    return filAllDataNP, filAllDataDF"
   ]
  },
  {
   "cell_type": "markdown",
   "metadata": {},
   "source": [
    "### Frame Selection\n",
    "Function for frame selector. <br>\n",
    "Checks validity frame parameter inputs. <br>"
   ]
  },
  {
   "cell_type": "code",
   "execution_count": 27,
   "metadata": {},
   "outputs": [],
   "source": [
    "def windowSelect(filAllDataNP, leftFrame, rightFrame):\n",
    "    leftFrameIndex, rightFrameIndex = 0, -1\n",
    "    leftSuccess,    rightSuccess    = False, False\n",
    "\n",
    "    for i in range(0, len(filAllDataNP)):\n",
    "        if (    filAllDataNP[i][0] == leftFrame):\n",
    "            leftFrameIndex = i\n",
    "            leftSuccess = True\n",
    "        if (    filAllDataNP[i][0] == rightFrame):\n",
    "            rightFrameIndex = i\n",
    "            rightSuccess = True\n",
    "            break\n",
    "    \n",
    "    if leftSuccess == False:\n",
    "        print(\"Left Frame is invalid\")\n",
    "    if rightSuccess == False:\n",
    "        print(\"Right Frame is invalid\")\n",
    "    if (leftSuccess == True and rightSuccess == True):\n",
    "        x  = filAllDataNP[leftFrameIndex:(rightFrameIndex+1),0]\n",
    "        y1 = filAllDataNP[leftFrameIndex:(rightFrameIndex+1),1]\n",
    "        y2 = filAllDataNP[leftFrameIndex:(rightFrameIndex+1),2]\n",
    "        y3 = filAllDataNP[leftFrameIndex:(rightFrameIndex+1),3]\n",
    "        theoFrameSpan  = int((rightFrame - leftFrame) + 1)\n",
    "        trueFrameSpan  = len(x)\n",
    "        \n",
    "        plt.close('all')   \n",
    "        plt.plot(x, y1, \"ro\")\n",
    "        plt.plot(x, y1, \"k-\")\n",
    "        plt.grid()\n",
    "        \n",
    "        print(\"|----------PLOT FRAME ----------|\")\n",
    "        print(\"Left  Index is\", leftFrameIndex)\n",
    "        print(\"Right Index is\", rightFrameIndex)\n",
    "        print(\"\")\n",
    "        print(\"Frame Span is\", theoFrameSpan, \"seconds\")\n",
    "        print(\"Frame  Amt is\", trueFrameSpan, \"points\")\n",
    "        print(\"Δ is\", theoFrameSpan - trueFrameSpan)\n",
    "        print(\"\")\n",
    "        \n",
    "        fraAllDataNP = np.column_stack((x, y1, y2, y3))\n",
    "        fraAllDataDF = pd.DataFrame(fraAllDataNP)\n",
    "        fraAllDataDF.columns = [\"UnixTime\", \"GasData\", \"DateTime\", \"RealData\"]\n",
    "    else:\n",
    "        print(\"Frame Selection Failed\") \n",
    "    return fraAllDataNP, fraAllDataDF"
   ]
  },
  {
   "cell_type": "markdown",
   "metadata": {},
   "source": [
    "### Missing Data Determiner\n",
    "Iterates over every single timestamp and checks if it is in DataFrame."
   ]
  },
  {
   "cell_type": "code",
   "execution_count": 9,
   "metadata": {},
   "outputs": [],
   "source": [
    "def missingDataDeterminer(data):\n",
    "    leftFrameUnix  = data[0][0]\n",
    "    rightFrameUnix = data[-1][0] \n",
    "    spanFrameUnix  = np.arange(leftFrameUnix, rightFrameUnix+1)\n",
    "    \n",
    "    missingData = np.array([])\n",
    "    s = set(data[:,0])\n",
    "    for i in range(0, len(spanFrameUnix)):\n",
    "        if spanFrameUnix[i] not in s:\n",
    "            missingData = np.append(missingData, spanFrameUnix[i]) \n",
    "    print(len(missingData), \"missing points from\", [name for name in globals() if globals()[name] is data])\n",
    "    return missingData\n",
    "\n"
   ]
  },
  {
   "cell_type": "markdown",
   "metadata": {},
   "source": [
    "### Estimate Data\n",
    "If there is a missing data point in between two real data, make an estimate."
   ]
  },
  {
   "cell_type": "code",
   "execution_count": 10,
   "metadata": {
    "scrolled": true
   },
   "outputs": [],
   "source": [
    "def estimateData(missingFra):\n",
    "    misDT, misGas = np.array([]), np.array([])\n",
    "    misReal =  np.ones(len(missingFra), dtype=bool)\n",
    "    for j in missingFra:\n",
    "        a = datetime.fromtimestamp(j)\n",
    "        misDT = np.append(misDT, a)\n",
    "        left  = j - 1\n",
    "        right = j + 1\n",
    "        \n",
    "        if ((left in filAllDataNP[:,0]) & (right in filAllDataNP[:,0])) == True:\n",
    "            leftIndex  = np.where(filAllDataNP[:,0] == left)\n",
    "            rightIndex = np.where(filAllDataNP[:,0] == right)\n",
    "            leftData   = filAllDataNP[leftIndex[0][0]][1]\n",
    "            rightData  = filAllDataNP[rightIndex[0][0]][1]\n",
    "            if (abs(leftData - rightData) <= 5.0) :\n",
    "                midData = (leftData + rightData) / 2\n",
    "                misGas  = np.append(misGas, midData)\n",
    "            else:\n",
    "                misGas  = np.append(misGas, None)\n",
    "        else:\n",
    "            misGas  = np.append(misGas, None)\n",
    "    \n",
    "    unsUnix= np.concatenate((fraAllDataNP[:,0], missingFra), axis = 0)\n",
    "    unsGas = np.concatenate((fraAllDataNP[:,1], misGas),     axis = 0)\n",
    "    unsDT  = np.concatenate((fraAllDataNP[:,2], misDT),      axis = 0)\n",
    "    unsReal= np.concatenate((fraAllDataNP[:,3], misReal),    axis = 0)\n",
    "    Datum = {'UnixTime': unsUnix,\n",
    "             'GasData' : unsGas,\n",
    "             'DateTime': unsDT,\n",
    "             'RealData': unsReal}\n",
    "    df  = pd.DataFrame(Datum, columns = ['UnixTime', 'GasData', 'DateTime', 'RealData'])\n",
    "    dfs = df.sort_values(by = ['UnixTime'], inplace = False)\n",
    "    dfs = dfs.reset_index(drop=True)\n",
    "    \n",
    "    dfs.UnixTime = dfs.UnixTime.astype(int)\n",
    "    dfs.GasData  = dfs.GasData.astype(float)\n",
    "    dfs.RealData = dfs.RealData.astype(int)\n",
    "    dfs = dfs[dfs.GasData != 0.0]\n",
    "\n",
    "    estAllDataDF = dfs.reset_index(drop=True)\n",
    "    estAllDataNP = estAllDataDF.to_numpy()\n",
    "    \n",
    "    nanCounter   = 0\n",
    "    for k in estAllDataNP[:,1]:\n",
    "        if np.isnan(k) == True:\n",
    "            nanCounter += 1\n",
    "            \n",
    "    return estAllDataNP, estAllDataDF, nanCounter\n"
   ]
  },
  {
   "cell_type": "markdown",
   "metadata": {},
   "source": [
    "### Average Data\n",
    "Rolling Average"
   ]
  },
  {
   "cell_type": "code",
   "execution_count": 11,
   "metadata": {},
   "outputs": [],
   "source": [
    "def averageData(estAllDataDF, interval):\n",
    "    avgAllDataDF = estAllDataDF.groupby(pd.Grouper(key='DateTime', freq=interval)).mean().dropna()\n",
    "    avgAllDataDF['UnixTime'] = avgAllDataDF['UnixTime'].astype(int)\n",
    "    avgAllDataDF['DateTime'] = pd.to_datetime(avgAllDataDF['UnixTime'], unit = 's')\n",
    "    avgAllDataNP = avgAllDataDF.to_numpy()\n",
    "    return avgAllDataNP, avgAllDataDF"
   ]
  },
  {
   "cell_type": "markdown",
   "metadata": {},
   "source": [
    "## MAIN CODE"
   ]
  },
  {
   "cell_type": "markdown",
   "metadata": {},
   "source": [
    "### Import and Filter Data"
   ]
  },
  {
   "cell_type": "code",
   "execution_count": 12,
   "metadata": {},
   "outputs": [
    {
     "name": "stdout",
     "output_type": "stream",
     "text": [
      "|----------DATA CHECKER ----------|\n",
      "1576728619.0 <class 'float'>\n",
      "1013.0 <class 'float'>\n",
      "2019-12-19 04:10:19 <class 'pandas._libs.tslibs.timestamps.Timestamp'>\n",
      "1.0 <class 'float'>\n",
      "\n",
      "|----------DATA REMOVED----------|\n",
      "Gas  Zeros:  0\n",
      "Gas   Lows:  3\n",
      "Gas  Highs:  0\n",
      "Gas   Negs:  0\n",
      "Time Zeros:  0\n",
      "Time  Lows:  0\n",
      "Time Highs:  0\n",
      "Time  Negs:  0\n",
      "Total Remd:  3\n",
      "Total Remd:  3\n",
      "\n"
     ]
    }
   ],
   "source": [
    "rawAllDataNP, rawAllDataDF = importData(data)\n",
    "importCheck(rawAllDataNP, rawAllDataDF)\n",
    "fullRemovalIndices = dataFilterWhere(rawAllDataNP)\n",
    "filAllDataNP, filAllDataDF = dataFilterCreator(rawAllDataDF, fullRemovalIndices)"
   ]
  },
  {
   "cell_type": "markdown",
   "metadata": {},
   "source": [
    "### Frame Select"
   ]
  },
  {
   "cell_type": "code",
   "execution_count": 13,
   "metadata": {
    "scrolled": false
   },
   "outputs": [
    {
     "name": "stdout",
     "output_type": "stream",
     "text": [
      "|----------PLOT FRAME ----------|\n",
      "Left  Index is 0\n",
      "Right Index is 40175\n",
      "\n",
      "Frame Span is 41670 seconds\n",
      "Frame  Amt is 40176 points\n",
      "Δ is 1494\n",
      "\n"
     ]
    },
    {
     "data": {
      "image/png": "[encoded data removed]",
      "text/plain": [
       "<Figure size 432x288 with 1 Axes>"
      ]
     },
     "metadata": {
      "needs_background": "light"
     },
     "output_type": "display_data"
    }
   ],
   "source": [
    "leftFrame  = filAllDataNP[0][0]\n",
    "rightFrame = filAllDataNP[-1][0]\n",
    "fraAllDataNP, fraAllDataDF = windowSelect(filAllDataNP, leftFrame, rightFrame)"
   ]
  },
  {
   "cell_type": "markdown",
   "metadata": {},
   "source": [
    "### Missing Data"
   ]
  },
  {
   "cell_type": "code",
   "execution_count": 14,
   "metadata": {
    "scrolled": true
   },
   "outputs": [
    {
     "name": "stdout",
     "output_type": "stream",
     "text": [
      "|----------MISSING DATA ----------|\n",
      "1491 missing points from ['rawAllDataNP']\n",
      "1494 missing points from ['filAllDataNP']\n",
      "1494 missing points from ['fraAllDataNP']\n"
     ]
    }
   ],
   "source": [
    "print(\"|----------MISSING DATA ----------|\")\n",
    "missingRaw = missingDataDeterminer(rawAllDataNP)\n",
    "missingFil = missingDataDeterminer(filAllDataNP)\n",
    "missingFra = missingDataDeterminer(fraAllDataNP)\n",
    "estAllDataNP, estAllDataDF, nanCounter = estimateData(missingFra)"
   ]
  },
  {
   "cell_type": "markdown",
   "metadata": {},
   "source": [
    "### Cut Data"
   ]
  },
  {
   "cell_type": "code",
   "execution_count": 28,
   "metadata": {},
   "outputs": [
    {
     "data": {
      "text/html": [
       "<div>\n",
       "<style scoped>\n",
       "    .dataframe tbody tr th:only-of-type {\n",
       "        vertical-align: middle;\n",
       "    }\n",
       "\n",
       "    .dataframe tbody tr th {\n",
       "        vertical-align: top;\n",
       "    }\n",
       "\n",
       "    .dataframe thead th {\n",
       "        text-align: right;\n",
       "    }\n",
       "</style>\n",
       "<table border=\"1\" class=\"dataframe\">\n",
       "  <thead>\n",
       "    <tr style=\"text-align: right;\">\n",
       "      <th></th>\n",
       "      <th>UnixTime</th>\n",
       "      <th>GasData</th>\n",
       "      <th>DateTime</th>\n",
       "      <th>RealData</th>\n",
       "    </tr>\n",
       "  </thead>\n",
       "  <tbody>\n",
       "    <tr>\n",
       "      <th>0</th>\n",
       "      <td>1576728619</td>\n",
       "      <td>1013.0</td>\n",
       "      <td>2019-12-19 04:10:19</td>\n",
       "      <td>1</td>\n",
       "    </tr>\n",
       "    <tr>\n",
       "      <th>1</th>\n",
       "      <td>1576728620</td>\n",
       "      <td>1015.0</td>\n",
       "      <td>2019-12-19 04:10:20</td>\n",
       "      <td>1</td>\n",
       "    </tr>\n",
       "    <tr>\n",
       "      <th>2</th>\n",
       "      <td>1576728621</td>\n",
       "      <td>1015.0</td>\n",
       "      <td>2019-12-19 04:10:21</td>\n",
       "      <td>1</td>\n",
       "    </tr>\n",
       "    <tr>\n",
       "      <th>3</th>\n",
       "      <td>1576728622</td>\n",
       "      <td>1013.0</td>\n",
       "      <td>2019-12-19 04:10:22</td>\n",
       "      <td>1</td>\n",
       "    </tr>\n",
       "    <tr>\n",
       "      <th>4</th>\n",
       "      <td>1576728623</td>\n",
       "      <td>1012.0</td>\n",
       "      <td>2019-12-19 04:10:23</td>\n",
       "      <td>1</td>\n",
       "    </tr>\n",
       "    <tr>\n",
       "      <th>...</th>\n",
       "      <td>...</td>\n",
       "      <td>...</td>\n",
       "      <td>...</td>\n",
       "      <td>...</td>\n",
       "    </tr>\n",
       "    <tr>\n",
       "      <th>41665</th>\n",
       "      <td>1576770284</td>\n",
       "      <td>797.0</td>\n",
       "      <td>2019-12-19 15:44:44</td>\n",
       "      <td>1</td>\n",
       "    </tr>\n",
       "    <tr>\n",
       "      <th>41666</th>\n",
       "      <td>1576770285</td>\n",
       "      <td>798.0</td>\n",
       "      <td>2019-12-19 15:44:45</td>\n",
       "      <td>1</td>\n",
       "    </tr>\n",
       "    <tr>\n",
       "      <th>41667</th>\n",
       "      <td>1576770286</td>\n",
       "      <td>798.0</td>\n",
       "      <td>2019-12-19 15:44:46</td>\n",
       "      <td>1</td>\n",
       "    </tr>\n",
       "    <tr>\n",
       "      <th>41668</th>\n",
       "      <td>1576770287</td>\n",
       "      <td>798.0</td>\n",
       "      <td>2019-12-19 15:44:47</td>\n",
       "      <td>1</td>\n",
       "    </tr>\n",
       "    <tr>\n",
       "      <th>41669</th>\n",
       "      <td>1576770288</td>\n",
       "      <td>798.0</td>\n",
       "      <td>2019-12-19 15:44:48</td>\n",
       "      <td>1</td>\n",
       "    </tr>\n",
       "  </tbody>\n",
       "</table>\n",
       "<p>41530 rows × 4 columns</p>\n",
       "</div>"
      ],
      "text/plain": [
       "         UnixTime  GasData            DateTime  RealData\n",
       "0      1576728619   1013.0 2019-12-19 04:10:19         1\n",
       "1      1576728620   1015.0 2019-12-19 04:10:20         1\n",
       "2      1576728621   1015.0 2019-12-19 04:10:21         1\n",
       "3      1576728622   1013.0 2019-12-19 04:10:22         1\n",
       "4      1576728623   1012.0 2019-12-19 04:10:23         1\n",
       "...           ...      ...                 ...       ...\n",
       "41665  1576770284    797.0 2019-12-19 15:44:44         1\n",
       "41666  1576770285    798.0 2019-12-19 15:44:45         1\n",
       "41667  1576770286    798.0 2019-12-19 15:44:46         1\n",
       "41668  1576770287    798.0 2019-12-19 15:44:47         1\n",
       "41669  1576770288    798.0 2019-12-19 15:44:48         1\n",
       "\n",
       "[41530 rows x 4 columns]"
      ]
     },
     "execution_count": 28,
     "metadata": {},
     "output_type": "execute_result"
    }
   ],
   "source": [
    "cutAllDataDF = estAllDataDF.dropna()\n",
    "cutAllDataNP = cutAllDataDF.to_numpy()\n",
    "cutAllDataDF"
   ]
  },
  {
   "cell_type": "code",
   "execution_count": 45,
   "metadata": {},
   "outputs": [
    {
     "data": {
      "text/html": [
       "<div>\n",
       "<style scoped>\n",
       "    .dataframe tbody tr th:only-of-type {\n",
       "        vertical-align: middle;\n",
       "    }\n",
       "\n",
       "    .dataframe tbody tr th {\n",
       "        vertical-align: top;\n",
       "    }\n",
       "\n",
       "    .dataframe thead th {\n",
       "        text-align: right;\n",
       "    }\n",
       "</style>\n",
       "<table border=\"1\" class=\"dataframe\">\n",
       "  <thead>\n",
       "    <tr style=\"text-align: right;\">\n",
       "      <th></th>\n",
       "      <th>UnixTime</th>\n",
       "      <th>GasData</th>\n",
       "      <th>RealData</th>\n",
       "      <th>DateTime</th>\n",
       "    </tr>\n",
       "    <tr>\n",
       "      <th>DateTime</th>\n",
       "      <th></th>\n",
       "      <th></th>\n",
       "      <th></th>\n",
       "      <th></th>\n",
       "    </tr>\n",
       "  </thead>\n",
       "  <tbody>\n",
       "    <tr>\n",
       "      <th>2019-12-18 21:10:20</th>\n",
       "      <td>1576728628</td>\n",
       "      <td>1009.500000</td>\n",
       "      <td>1.0</td>\n",
       "      <td>2019-12-19 04:10:28</td>\n",
       "    </tr>\n",
       "    <tr>\n",
       "      <th>2019-12-18 21:11:00</th>\n",
       "      <td>1576728663</td>\n",
       "      <td>994.000000</td>\n",
       "      <td>1.0</td>\n",
       "      <td>2019-12-19 04:11:03</td>\n",
       "    </tr>\n",
       "    <tr>\n",
       "      <th>2019-12-18 21:11:30</th>\n",
       "      <td>1576728694</td>\n",
       "      <td>997.000000</td>\n",
       "      <td>1.0</td>\n",
       "      <td>2019-12-19 04:11:34</td>\n",
       "    </tr>\n",
       "    <tr>\n",
       "      <th>2019-12-18 21:12:00</th>\n",
       "      <td>1576728724</td>\n",
       "      <td>995.000000</td>\n",
       "      <td>1.0</td>\n",
       "      <td>2019-12-19 04:12:04</td>\n",
       "    </tr>\n",
       "    <tr>\n",
       "      <th>2019-12-18 21:12:30</th>\n",
       "      <td>1576728755</td>\n",
       "      <td>1079.500000</td>\n",
       "      <td>1.0</td>\n",
       "      <td>2019-12-19 04:12:35</td>\n",
       "    </tr>\n",
       "    <tr>\n",
       "      <th>...</th>\n",
       "      <td>...</td>\n",
       "      <td>...</td>\n",
       "      <td>...</td>\n",
       "      <td>...</td>\n",
       "    </tr>\n",
       "    <tr>\n",
       "      <th>2019-12-19 15:44:00</th>\n",
       "      <td>1576770244</td>\n",
       "      <td>794.700000</td>\n",
       "      <td>1.0</td>\n",
       "      <td>2019-12-19 15:44:04</td>\n",
       "    </tr>\n",
       "    <tr>\n",
       "      <th>2019-12-19 15:44:10</th>\n",
       "      <td>1576770254</td>\n",
       "      <td>794.500000</td>\n",
       "      <td>1.0</td>\n",
       "      <td>2019-12-19 15:44:14</td>\n",
       "    </tr>\n",
       "    <tr>\n",
       "      <th>2019-12-19 15:44:20</th>\n",
       "      <td>1576770264</td>\n",
       "      <td>795.777778</td>\n",
       "      <td>1.0</td>\n",
       "      <td>2019-12-19 15:44:24</td>\n",
       "    </tr>\n",
       "    <tr>\n",
       "      <th>2019-12-19 15:44:30</th>\n",
       "      <td>1576770274</td>\n",
       "      <td>795.100000</td>\n",
       "      <td>1.0</td>\n",
       "      <td>2019-12-19 15:44:34</td>\n",
       "    </tr>\n",
       "    <tr>\n",
       "      <th>2019-12-19 15:44:40</th>\n",
       "      <td>1576770284</td>\n",
       "      <td>797.333333</td>\n",
       "      <td>1.0</td>\n",
       "      <td>2019-12-19 15:44:44</td>\n",
       "    </tr>\n",
       "  </tbody>\n",
       "</table>\n",
       "<p>4976 rows × 4 columns</p>\n",
       "</div>"
      ],
      "text/plain": [
       "                       UnixTime      GasData  RealData            DateTime\n",
       "DateTime                                                                  \n",
       "2019-12-18 21:10:20  1576728628  1009.500000       1.0 2019-12-19 04:10:28\n",
       "2019-12-18 21:11:00  1576728663   994.000000       1.0 2019-12-19 04:11:03\n",
       "2019-12-18 21:11:30  1576728694   997.000000       1.0 2019-12-19 04:11:34\n",
       "2019-12-18 21:12:00  1576728724   995.000000       1.0 2019-12-19 04:12:04\n",
       "2019-12-18 21:12:30  1576728755  1079.500000       1.0 2019-12-19 04:12:35\n",
       "...                         ...          ...       ...                 ...\n",
       "2019-12-19 15:44:00  1576770244   794.700000       1.0 2019-12-19 15:44:04\n",
       "2019-12-19 15:44:10  1576770254   794.500000       1.0 2019-12-19 15:44:14\n",
       "2019-12-19 15:44:20  1576770264   795.777778       1.0 2019-12-19 15:44:24\n",
       "2019-12-19 15:44:30  1576770274   795.100000       1.0 2019-12-19 15:44:34\n",
       "2019-12-19 15:44:40  1576770284   797.333333       1.0 2019-12-19 15:44:44\n",
       "\n",
       "[4976 rows x 4 columns]"
      ]
     },
     "execution_count": 45,
     "metadata": {},
     "output_type": "execute_result"
    }
   ],
   "source": [
    "avgAllDataDF1"
   ]
  },
  {
   "cell_type": "code",
   "execution_count": 41,
   "metadata": {},
   "outputs": [
    {
     "data": {
      "text/plain": [
       "[<matplotlib.lines.Line2D at 0x1e8996a3948>]"
      ]
     },
     "execution_count": 41,
     "metadata": {},
     "output_type": "execute_result"
    },
    {
     "data": {
      "image/png": "[encoded data removed]",
      "text/plain": [
       "<Figure size 432x288 with 1 Axes>"
      ]
     },
     "metadata": {
      "needs_background": "light"
     },
     "output_type": "display_data"
    }
   ],
   "source": [
    "plt.plot(cutAllDataNP[:,0], cutAllDataNP[:,1],'b')\n",
    "#plt.plot(estAllDataNP[:,0], estAllDataNP[:,1], 'r-')"
   ]
  },
  {
   "cell_type": "markdown",
   "metadata": {},
   "source": [
    "### Average Data"
   ]
  },
  {
   "cell_type": "code",
   "execution_count": 46,
   "metadata": {},
   "outputs": [
    {
     "data": {
      "image/png": "[encoded data removed]",
      "text/plain": [
       "<Figure size 432x288 with 1 Axes>"
      ]
     },
     "metadata": {
      "needs_background": "light"
     },
     "output_type": "display_data"
    }
   ],
   "source": [
    "avgAllDataNP1, avgAllDataDF1 = averageData(cutAllDataDF, '10s')\n",
    "avgAllDataNP2, avgAllDataDF2 = averageData(cutAllDataDF, '30s')\n",
    "avgAllDataNP3, avgAllDataDF3 = averageData(cutAllDataDF, '60s')\n",
    "\n",
    "#plt.plot(cutAllDataNP[:,0], cutAllDataNP[:,1], 'r')\n",
    "plt.plot(avgAllDataNP1[:,0], avgAllDataNP1[:,1], 'b-')\n",
    "plt.show()"
   ]
  },
  {
   "cell_type": "code",
   "execution_count": 17,
   "metadata": {
    "scrolled": false
   },
   "outputs": [
    {
     "name": "stdout",
     "output_type": "stream",
     "text": [
      "|----------NEW DATA SUMMARY----------|\n",
      "RawNP:  40179 40179 40179 40179\n",
      "RawDF:  40179 40179 40179 40179\n",
      "FilNP:  40176 40176 40176 40176\n",
      "FilDF:  40176 40176 40176 40176\n",
      "Δ    :  3 points were filtered out\n",
      "\n",
      "Should Have: 41670 points in data\n",
      "Should Have: 41670 points in frame\n",
      "\n",
      "FraNP:  40176 40176 40176 40176\n",
      "FraDF:  40176 40176 40176 40176\n",
      "EstNP:  41670 41670 41670 41670\n",
      "EstDF:  41670 41670 41670 41670\n",
      "Δ    :  1494 total were added in\n",
      "nan  :  140 are nan values\n",
      "Thus :  1354 real estimated points added\n",
      "\n",
      "CutNP:  41530 41530 41530 41530\n",
      "CutDF:  41530 41530 41530 41530\n",
      "AvgNP:  4976 4976 4976 4976\n",
      "AvgDF:  4976 4976 4976 4976\n",
      "\n"
     ]
    }
   ],
   "source": [
    "print('|----------NEW DATA SUMMARY----------|')\n",
    "print('RawNP: ', len(rawAllDataNP[:,0]), len(rawAllDataNP[:,1]), len(rawAllDataNP[:,2]), len(rawAllDataNP[:,3]))\n",
    "print('RawDF: ', len(rawAllDataDF[['UnixTime']]), len(rawAllDataDF[['GasData']]), len(rawAllDataDF[['DateTime']]), len(rawAllDataDF[['RealData']]))\n",
    "print('FilNP: ', len(filAllDataNP[:,0]), len(filAllDataNP[:,1]), len(filAllDataNP[:,2]), len(filAllDataNP[:,3]))\n",
    "print('FilDF: ', len(filAllDataDF[['UnixTime']]), len(filAllDataDF[['GasData']]), len(filAllDataDF[['DateTime']]), len(filAllDataDF[['RealData']]))\n",
    "print('Δ    : ', len(rawAllDataNP[:,0]) - len(filAllDataNP[:,0]), \"points were filtered out\")\n",
    "print('')\n",
    "print('Should Have:', int((filAllDataNP[-1][0] - filAllDataNP[0][0])+1), \"points in data\")\n",
    "print('Should Have:', int((fraAllDataNP[-1][0] - fraAllDataNP[0][0])+1), \"points in frame\")\n",
    "print('')\n",
    "print('FraNP: ', len(fraAllDataNP[:,0]), len(fraAllDataNP[:,1]), len(fraAllDataNP[:,2]), len(fraAllDataNP[:,3]))\n",
    "print('FraDF: ', len(fraAllDataDF[['UnixTime']]), len(fraAllDataDF[['GasData']]), len(fraAllDataDF[['DateTime']]), len(fraAllDataDF[['RealData']]))\n",
    "print('EstNP: ', len(estAllDataNP[:,0]), len(estAllDataNP[:,1]), len(estAllDataNP[:,2]), len(estAllDataNP[:,3]))\n",
    "print('EstDF: ', len(estAllDataDF[['UnixTime']]), len(estAllDataDF[['GasData']]), len(estAllDataDF[['DateTime']]), len(estAllDataDF[['RealData']]))\n",
    "print('Δ    : ', len(estAllDataDF[['UnixTime']]) - len(fraAllDataDF[['UnixTime']]), 'total were added in')\n",
    "print('nan  : ', nanCounter, 'are nan values')\n",
    "print('Thus : ', ((len(estAllDataDF[['UnixTime']]) - len(fraAllDataDF[['UnixTime']])) - nanCounter), 'real estimated points added')\n",
    "print('')\n",
    "print('CutNP: ', len(cutAllDataNP[:,0]), len(cutAllDataNP[:,1]), len(cutAllDataNP[:,2]), len(cutAllDataNP[:,3]))\n",
    "print('CutDF: ', len(cutAllDataDF[['UnixTime']]), len(cutAllDataDF[['GasData']]), len(cutAllDataDF[['DateTime']]), len(cutAllDataDF[['RealData']]))\n",
    "print('AvgNP: ', len(avgAllDataNP1[:,0]), len(avgAllDataNP1[:,1]), len(avgAllDataNP1[:,2]), len(avgAllDataNP1[:,3]))\n",
    "print('AvgDF: ', len(avgAllDataDF1[['UnixTime']]), len(avgAllDataDF1[['GasData']]), len(avgAllDataDF1[['DateTime']]), len(avgAllDataDF1[['RealData']]))\n",
    "print('')"
   ]
  },
  {
   "cell_type": "markdown",
   "metadata": {},
   "source": [
    "### Plot 10s"
   ]
  },
  {
   "cell_type": "code",
   "execution_count": 21,
   "metadata": {},
   "outputs": [
    {
     "data": {
      "image/png": "[encoded data removed]",
      "text/plain": [
       "<Figure size 432x288 with 1 Axes>"
      ]
     },
     "metadata": {
      "needs_background": "light"
     },
     "output_type": "display_data"
    }
   ],
   "source": [
    "plt.plot(cutAllDataNP[:,0], cutAllDataNP[:,1], 'r')\n",
    "plt.plot(avgAllDataNP1[:,0], avgAllDataNP1[:,1], 'b-')\n",
    "plt.show()"
   ]
  },
  {
   "cell_type": "markdown",
   "metadata": {},
   "source": [
    "### Plot 30s"
   ]
  },
  {
   "cell_type": "code",
   "execution_count": 22,
   "metadata": {},
   "outputs": [
    {
     "data": {
      "image/png": "[encoded data removed]",
      "text/plain": [
       "<Figure size 432x288 with 1 Axes>"
      ]
     },
     "metadata": {
      "needs_background": "light"
     },
     "output_type": "display_data"
    }
   ],
   "source": [
    "plt.plot(cutAllDataNP[:,0], cutAllDataNP[:,1], 'r')\n",
    "plt.plot(avgAllDataNP2[:,0], avgAllDataNP2[:,1], 'b-')\n",
    "plt.show()"
   ]
  },
  {
   "cell_type": "markdown",
   "metadata": {},
   "source": [
    "### Plot 60s"
   ]
  },
  {
   "cell_type": "code",
   "execution_count": 23,
   "metadata": {},
   "outputs": [
    {
     "data": {
      "image/png": "[encoded data removed]",
      "text/plain": [
       "<Figure size 432x288 with 1 Axes>"
      ]
     },
     "metadata": {
      "needs_background": "light"
     },
     "output_type": "display_data"
    }
   ],
   "source": [
    "plt.plot(cutAllDataNP[:,0], cutAllDataNP[:,1], 'r')\n",
    "plt.plot(avgAllDataNP3[:,0], avgAllDataNP3[:,1], 'b-')\n",
    "plt.show()"
   ]
  },
  {
   "cell_type": "markdown",
   "metadata": {},
   "source": [
    "### Combo Plot"
   ]
  },
  {
   "cell_type": "code",
   "execution_count": 24,
   "metadata": {
    "scrolled": true
   },
   "outputs": [
    {
     "data": {
      "image/png": "[encoded data removed]",
      "text/plain": [
       "<Figure size 432x288 with 4 Axes>"
      ]
     },
     "metadata": {},
     "output_type": "display_data"
    }
   ],
   "source": [
    "plt.close('all')\n",
    "fig1, ((ax1, ax2), (ax3, ax4)) = plt.subplots(2, 2)\n",
    "ax1.set_facecolor(\"lightgrey\")\n",
    "ax2.set_facecolor(\"lightgrey\")\n",
    "ax3.set_facecolor(\"lightgrey\")\n",
    "ax4.set_facecolor(\"lightgrey\")\n",
    "fig1.patch.set_facecolor('darkgrey')\n",
    "ax1.grid()\n",
    "ax2.grid()\n",
    "ax3.grid()\n",
    "ax4.grid()\n",
    "\n",
    "ax1.plot(cutAllDataNP[:,0],  cutAllDataNP[:,1], 'k')\n",
    "ax1.plot(avgAllDataNP1[:,0], avgAllDataNP1[:,1],'lime')\n",
    "ax2.plot(cutAllDataNP[:,0],  cutAllDataNP[:,1], 'k')\n",
    "ax2.plot(avgAllDataNP2[:,0], avgAllDataNP2[:,1],'r')\n",
    "ax3.plot(cutAllDataNP[:,0],  cutAllDataNP[:,1], 'k')\n",
    "ax3.plot(avgAllDataNP3[:,0], avgAllDataNP3[:,1],'b')\n",
    "plt.show()"
   ]
  },
  {
   "cell_type": "code",
   "execution_count": 23,
   "metadata": {
    "scrolled": true
   },
   "outputs": [
    {
     "name": "stderr",
     "output_type": "stream",
     "text": [
      "C:\\Users\\u1121085\\Documents\\Anaconda\\lib\\site-packages\\pandas\\plotting\\_converter.py:129: FutureWarning: Using an implicitly registered datetime converter for a matplotlib plotting method. The converter was registered by pandas on import. Future versions of pandas will require you to explicitly register matplotlib converters.\n",
      "\n",
      "To register the converters:\n",
      "\t>>> from pandas.plotting import register_matplotlib_converters\n",
      "\t>>> register_matplotlib_converters()\n",
      "  warnings.warn(msg, FutureWarning)\n"
     ]
    },
    {
     "data": {
      "image/png": "[encoded data removed]",
      "text/plain": [
       "<Figure size 432x288 with 1 Axes>"
      ]
     },
     "metadata": {
      "needs_background": "light"
     },
     "output_type": "display_data"
    }
   ],
   "source": [
    "avgAllDataNP4, avgAllDataDF4 = averageData(cutAllDataDF, '5min')\n",
    "#plt.plot(cutAllDataNP[:,2], cutAllDataNP[:,1], 'r')\n",
    "plt.plot(avgAllDataNP1[:,3], avgAllDataNP1[:,1], 'b-')\n",
    "plt.show()"
   ]
  },
  {
   "cell_type": "code",
   "execution_count": 24,
   "metadata": {},
   "outputs": [
    {
     "data": {
      "text/plain": [
       "[<matplotlib.lines.Line2D at 0x236104c6208>]"
      ]
     },
     "execution_count": 24,
     "metadata": {},
     "output_type": "execute_result"
    },
    {
     "data": {
      "image/png": "[encoded data removed]",
      "text/plain": [
       "<Figure size 432x288 with 1 Axes>"
      ]
     },
     "metadata": {
      "needs_background": "light"
     },
     "output_type": "display_data"
    }
   ],
   "source": [
    "y = avgAllDataNP1[0:10000,1]\n",
    "x = avgAllDataNP1[0:10000,3]\n",
    "plt.plot(x, y)"
   ]
  },
  {
   "cell_type": "code",
   "execution_count": null,
   "metadata": {},
   "outputs": [],
   "source": [
    "y = avgAllDataNP1[0:10000,1]\n",
    "x = avgAllDataNP1[0:10000,3]\n",
    "plt.plot(x, y)"
   ]
  },
  {
   "cell_type": "code",
   "execution_count": 124,
   "metadata": {},
   "outputs": [
    {
     "data": {
      "text/plain": [
       "312"
      ]
     },
     "execution_count": 124,
     "metadata": {},
     "output_type": "execute_result"
    }
   ],
   "source": [
    "#len(fraAllDataNP)\n",
    "len(avgAllDataNP1)"
   ]
  },
  {
   "cell_type": "code",
   "execution_count": null,
   "metadata": {},
   "outputs": [],
   "source": [
    "rawAllDataNP, rawAllDataDF = importData(data)\n",
    "importCheck(rawAllDataNP, rawAllDataDF)\n",
    "fullRemovalIndices = dataFilterWhere(rawAllDataNP)\n",
    "filAllDataNP, filAllDataDF = dataFilterCreator(rawAllDataDF, fullRemovalIndices)\n",
    "leftFrame  = filAllDataNP[0][0]\n",
    "rightFrame = filAllDataNP[-1][0]\n",
    "fraAllDataNP, fraAllDataDF = windowSelect(filAllDataNP, leftFrame, rightFrame)\n",
    "print(\"|----------MISSING DATA ----------|\")\n",
    "missingRaw = missingDataDeterminer(rawAllDataNP)\n",
    "missingFil = missingDataDeterminer(filAllDataNP)\n",
    "missingFra = missingDataDeterminer(fraAllDataNP)\n",
    "estAllDataNP, estAllDataDF, nanCounter = estimateData(missingFra)\n",
    "cutAllDataDF = estAllDataDF.dropna()\n",
    "cutAllDataNP = cutAllDataDF.to_numpy()"
   ]
  },
  {
   "cell_type": "markdown",
   "metadata": {},
   "source": [
    "rawAllData <br>\n",
    "filAllData <br>\n",
    "fraAllData <br>\n",
    "estAllData <br>\n",
    "cutAllData <br>\n",
    "avgAllData <br>"
   ]
  },
  {
   "cell_type": "code",
   "execution_count": 36,
   "metadata": {
    "scrolled": true
   },
   "outputs": [
    {
     "name": "stdout",
     "output_type": "stream",
     "text": [
      "Raw 40179\n",
      "Fil 40176\n",
      "Fra 40176\n",
      "Est 41670\n",
      "Cut 41530\n",
      "Avg1 4155\n",
      "Avg2 1386\n",
      "Avg3 694\n"
     ]
    }
   ],
   "source": [
    "print('Raw', len(rawAllDataDF))\n",
    "print('Fil', len(filAllDataDF))\n",
    "print('Fra', len(fraAllDataDF))\n",
    "print('Est', len(estAllDataDF))\n",
    "print('Cut', len(cutAllDataDF))\n",
    "print('Avg1', len(avgAllDataDF1))\n",
    "print('Avg2', len(avgAllDataDF2))\n",
    "print('Avg3', len(avgAllDataDF3))"
   ]
  },
  {
   "cell_type": "code",
   "execution_count": 45,
   "metadata": {},
   "outputs": [
    {
     "name": "stdout",
     "output_type": "stream",
     "text": [
      "1576728619.0 1576728619 1576728619\n",
      "2019-12-18 21:10:19 2019-12-18 21:10:19 2019-12-19 04:10:19\n"
     ]
    }
   ],
   "source": [
    "tim0 = rawAllDataNP[0,0]\n",
    "tim1 = cutAllDataNP[0,0]\n",
    "tim2 = avgAllDataNP1[0,0]\n",
    "dat0 = rawAllDataNP[0,2]\n",
    "dat1 = cutAllDataNP[0, 2]\n",
    "dat2 = avgAllDataNP1[0,3]\n",
    "print(tim0, tim1, tim2)\n",
    "print(dat0, dat1, dat2)"
   ]
  },
  {
   "cell_type": "code",
   "execution_count": 48,
   "metadata": {},
   "outputs": [
    {
     "data": {
      "text/html": [
       "<div>\n",
       "<style scoped>\n",
       "    .dataframe tbody tr th:only-of-type {\n",
       "        vertical-align: middle;\n",
       "    }\n",
       "\n",
       "    .dataframe tbody tr th {\n",
       "        vertical-align: top;\n",
       "    }\n",
       "\n",
       "    .dataframe thead th {\n",
       "        text-align: right;\n",
       "    }\n",
       "</style>\n",
       "<table border=\"1\" class=\"dataframe\">\n",
       "  <thead>\n",
       "    <tr style=\"text-align: right;\">\n",
       "      <th></th>\n",
       "      <th>UnixTime</th>\n",
       "      <th>GasData</th>\n",
       "      <th>DateTime</th>\n",
       "      <th>RealData</th>\n",
       "      <th>index</th>\n",
       "    </tr>\n",
       "  </thead>\n",
       "  <tbody>\n",
       "    <tr>\n",
       "      <th>0</th>\n",
       "      <td>1576728619</td>\n",
       "      <td>1013</td>\n",
       "      <td>2019-12-18 21:10:19</td>\n",
       "      <td>1</td>\n",
       "      <td>0</td>\n",
       "    </tr>\n",
       "    <tr>\n",
       "      <th>1</th>\n",
       "      <td>1576728620</td>\n",
       "      <td>1015</td>\n",
       "      <td>2019-12-18 21:10:20</td>\n",
       "      <td>1</td>\n",
       "      <td>1</td>\n",
       "    </tr>\n",
       "    <tr>\n",
       "      <th>2</th>\n",
       "      <td>1576728621</td>\n",
       "      <td>1015</td>\n",
       "      <td>2019-12-18 21:10:21</td>\n",
       "      <td>1</td>\n",
       "      <td>2</td>\n",
       "    </tr>\n",
       "    <tr>\n",
       "      <th>3</th>\n",
       "      <td>1576728622</td>\n",
       "      <td>1013</td>\n",
       "      <td>2019-12-18 21:10:22</td>\n",
       "      <td>1</td>\n",
       "      <td>3</td>\n",
       "    </tr>\n",
       "    <tr>\n",
       "      <th>4</th>\n",
       "      <td>1576728623</td>\n",
       "      <td>1012</td>\n",
       "      <td>2019-12-18 21:10:23</td>\n",
       "      <td>1</td>\n",
       "      <td>4</td>\n",
       "    </tr>\n",
       "    <tr>\n",
       "      <th>5</th>\n",
       "      <td>1576728624</td>\n",
       "      <td>1011</td>\n",
       "      <td>2019-12-18 21:10:24</td>\n",
       "      <td>1</td>\n",
       "      <td>5</td>\n",
       "    </tr>\n",
       "    <tr>\n",
       "      <th>6</th>\n",
       "      <td>1576728625</td>\n",
       "      <td>1011</td>\n",
       "      <td>2019-12-18 21:10:25</td>\n",
       "      <td>1</td>\n",
       "      <td>6</td>\n",
       "    </tr>\n",
       "    <tr>\n",
       "      <th>7</th>\n",
       "      <td>1576728626</td>\n",
       "      <td>1010</td>\n",
       "      <td>2019-12-18 21:10:26</td>\n",
       "      <td>1</td>\n",
       "      <td>7</td>\n",
       "    </tr>\n",
       "    <tr>\n",
       "      <th>8</th>\n",
       "      <td>1576728627</td>\n",
       "      <td>1010</td>\n",
       "      <td>2019-12-18 21:10:27</td>\n",
       "      <td>1</td>\n",
       "      <td>8</td>\n",
       "    </tr>\n",
       "    <tr>\n",
       "      <th>9</th>\n",
       "      <td>1576728629</td>\n",
       "      <td>1009</td>\n",
       "      <td>2019-12-18 21:10:29</td>\n",
       "      <td>1</td>\n",
       "      <td>9</td>\n",
       "    </tr>\n",
       "    <tr>\n",
       "      <th>10</th>\n",
       "      <td>1576728630</td>\n",
       "      <td>1008</td>\n",
       "      <td>2019-12-18 21:10:30</td>\n",
       "      <td>1</td>\n",
       "      <td>10</td>\n",
       "    </tr>\n",
       "    <tr>\n",
       "      <th>11</th>\n",
       "      <td>1576728631</td>\n",
       "      <td>1008</td>\n",
       "      <td>2019-12-18 21:10:31</td>\n",
       "      <td>1</td>\n",
       "      <td>11</td>\n",
       "    </tr>\n",
       "    <tr>\n",
       "      <th>12</th>\n",
       "      <td>1576728632</td>\n",
       "      <td>1007</td>\n",
       "      <td>2019-12-18 21:10:32</td>\n",
       "      <td>1</td>\n",
       "      <td>12</td>\n",
       "    </tr>\n",
       "    <tr>\n",
       "      <th>13</th>\n",
       "      <td>1576728633</td>\n",
       "      <td>1007</td>\n",
       "      <td>2019-12-18 21:10:33</td>\n",
       "      <td>1</td>\n",
       "      <td>13</td>\n",
       "    </tr>\n",
       "    <tr>\n",
       "      <th>14</th>\n",
       "      <td>1576728634</td>\n",
       "      <td>1007</td>\n",
       "      <td>2019-12-18 21:10:34</td>\n",
       "      <td>1</td>\n",
       "      <td>14</td>\n",
       "    </tr>\n",
       "    <tr>\n",
       "      <th>15</th>\n",
       "      <td>1576728635</td>\n",
       "      <td>1006</td>\n",
       "      <td>2019-12-18 21:10:35</td>\n",
       "      <td>1</td>\n",
       "      <td>15</td>\n",
       "    </tr>\n",
       "    <tr>\n",
       "      <th>16</th>\n",
       "      <td>1576728636</td>\n",
       "      <td>1006</td>\n",
       "      <td>2019-12-18 21:10:36</td>\n",
       "      <td>1</td>\n",
       "      <td>16</td>\n",
       "    </tr>\n",
       "    <tr>\n",
       "      <th>17</th>\n",
       "      <td>1576728652</td>\n",
       "      <td>998</td>\n",
       "      <td>2019-12-18 21:10:52</td>\n",
       "      <td>1</td>\n",
       "      <td>17</td>\n",
       "    </tr>\n",
       "    <tr>\n",
       "      <th>18</th>\n",
       "      <td>1576728653</td>\n",
       "      <td>998</td>\n",
       "      <td>2019-12-18 21:10:53</td>\n",
       "      <td>1</td>\n",
       "      <td>18</td>\n",
       "    </tr>\n",
       "    <tr>\n",
       "      <th>19</th>\n",
       "      <td>1576728654</td>\n",
       "      <td>998</td>\n",
       "      <td>2019-12-18 21:10:54</td>\n",
       "      <td>1</td>\n",
       "      <td>19</td>\n",
       "    </tr>\n",
       "    <tr>\n",
       "      <th>20</th>\n",
       "      <td>1576728655</td>\n",
       "      <td>998</td>\n",
       "      <td>2019-12-18 21:10:55</td>\n",
       "      <td>1</td>\n",
       "      <td>20</td>\n",
       "    </tr>\n",
       "    <tr>\n",
       "      <th>21</th>\n",
       "      <td>1576728656</td>\n",
       "      <td>998</td>\n",
       "      <td>2019-12-18 21:10:56</td>\n",
       "      <td>1</td>\n",
       "      <td>21</td>\n",
       "    </tr>\n",
       "    <tr>\n",
       "      <th>22</th>\n",
       "      <td>1576728657</td>\n",
       "      <td>998</td>\n",
       "      <td>2019-12-18 21:10:57</td>\n",
       "      <td>1</td>\n",
       "      <td>22</td>\n",
       "    </tr>\n",
       "    <tr>\n",
       "      <th>23</th>\n",
       "      <td>1576728658</td>\n",
       "      <td>997</td>\n",
       "      <td>2019-12-18 21:10:58</td>\n",
       "      <td>1</td>\n",
       "      <td>23</td>\n",
       "    </tr>\n",
       "    <tr>\n",
       "      <th>24</th>\n",
       "      <td>1576728659</td>\n",
       "      <td>997</td>\n",
       "      <td>2019-12-18 21:10:59</td>\n",
       "      <td>1</td>\n",
       "      <td>24</td>\n",
       "    </tr>\n",
       "    <tr>\n",
       "      <th>25</th>\n",
       "      <td>1576728660</td>\n",
       "      <td>996</td>\n",
       "      <td>2019-12-18 21:11:00</td>\n",
       "      <td>1</td>\n",
       "      <td>25</td>\n",
       "    </tr>\n",
       "    <tr>\n",
       "      <th>26</th>\n",
       "      <td>1576728661</td>\n",
       "      <td>995</td>\n",
       "      <td>2019-12-18 21:11:01</td>\n",
       "      <td>1</td>\n",
       "      <td>26</td>\n",
       "    </tr>\n",
       "    <tr>\n",
       "      <th>27</th>\n",
       "      <td>1576728662</td>\n",
       "      <td>994</td>\n",
       "      <td>2019-12-18 21:11:02</td>\n",
       "      <td>1</td>\n",
       "      <td>27</td>\n",
       "    </tr>\n",
       "    <tr>\n",
       "      <th>28</th>\n",
       "      <td>1576728664</td>\n",
       "      <td>994</td>\n",
       "      <td>2019-12-18 21:11:04</td>\n",
       "      <td>1</td>\n",
       "      <td>28</td>\n",
       "    </tr>\n",
       "    <tr>\n",
       "      <th>29</th>\n",
       "      <td>1576728665</td>\n",
       "      <td>994</td>\n",
       "      <td>2019-12-18 21:11:05</td>\n",
       "      <td>1</td>\n",
       "      <td>29</td>\n",
       "    </tr>\n",
       "    <tr>\n",
       "      <th>...</th>\n",
       "      <td>...</td>\n",
       "      <td>...</td>\n",
       "      <td>...</td>\n",
       "      <td>...</td>\n",
       "      <td>...</td>\n",
       "    </tr>\n",
       "    <tr>\n",
       "      <th>40149</th>\n",
       "      <td>1576770258</td>\n",
       "      <td>795</td>\n",
       "      <td>2019-12-19 08:44:18</td>\n",
       "      <td>1</td>\n",
       "      <td>40149</td>\n",
       "    </tr>\n",
       "    <tr>\n",
       "      <th>40150</th>\n",
       "      <td>1576770259</td>\n",
       "      <td>796</td>\n",
       "      <td>2019-12-19 08:44:19</td>\n",
       "      <td>1</td>\n",
       "      <td>40150</td>\n",
       "    </tr>\n",
       "    <tr>\n",
       "      <th>40151</th>\n",
       "      <td>1576770260</td>\n",
       "      <td>796</td>\n",
       "      <td>2019-12-19 08:44:20</td>\n",
       "      <td>1</td>\n",
       "      <td>40151</td>\n",
       "    </tr>\n",
       "    <tr>\n",
       "      <th>40152</th>\n",
       "      <td>1576770262</td>\n",
       "      <td>796</td>\n",
       "      <td>2019-12-19 08:44:22</td>\n",
       "      <td>1</td>\n",
       "      <td>40152</td>\n",
       "    </tr>\n",
       "    <tr>\n",
       "      <th>40153</th>\n",
       "      <td>1576770263</td>\n",
       "      <td>796</td>\n",
       "      <td>2019-12-19 08:44:23</td>\n",
       "      <td>1</td>\n",
       "      <td>40153</td>\n",
       "    </tr>\n",
       "    <tr>\n",
       "      <th>40154</th>\n",
       "      <td>1576770264</td>\n",
       "      <td>796</td>\n",
       "      <td>2019-12-19 08:44:24</td>\n",
       "      <td>1</td>\n",
       "      <td>40154</td>\n",
       "    </tr>\n",
       "    <tr>\n",
       "      <th>40155</th>\n",
       "      <td>1576770265</td>\n",
       "      <td>796</td>\n",
       "      <td>2019-12-19 08:44:25</td>\n",
       "      <td>1</td>\n",
       "      <td>40155</td>\n",
       "    </tr>\n",
       "    <tr>\n",
       "      <th>40156</th>\n",
       "      <td>1576770266</td>\n",
       "      <td>796</td>\n",
       "      <td>2019-12-19 08:44:26</td>\n",
       "      <td>1</td>\n",
       "      <td>40156</td>\n",
       "    </tr>\n",
       "    <tr>\n",
       "      <th>40157</th>\n",
       "      <td>1576770267</td>\n",
       "      <td>796</td>\n",
       "      <td>2019-12-19 08:44:27</td>\n",
       "      <td>1</td>\n",
       "      <td>40157</td>\n",
       "    </tr>\n",
       "    <tr>\n",
       "      <th>40158</th>\n",
       "      <td>1576770268</td>\n",
       "      <td>795</td>\n",
       "      <td>2019-12-19 08:44:28</td>\n",
       "      <td>1</td>\n",
       "      <td>40158</td>\n",
       "    </tr>\n",
       "    <tr>\n",
       "      <th>40159</th>\n",
       "      <td>1576770269</td>\n",
       "      <td>795</td>\n",
       "      <td>2019-12-19 08:44:29</td>\n",
       "      <td>1</td>\n",
       "      <td>40159</td>\n",
       "    </tr>\n",
       "    <tr>\n",
       "      <th>40160</th>\n",
       "      <td>1576770270</td>\n",
       "      <td>795</td>\n",
       "      <td>2019-12-19 08:44:30</td>\n",
       "      <td>1</td>\n",
       "      <td>40160</td>\n",
       "    </tr>\n",
       "    <tr>\n",
       "      <th>40161</th>\n",
       "      <td>1576770271</td>\n",
       "      <td>795</td>\n",
       "      <td>2019-12-19 08:44:31</td>\n",
       "      <td>1</td>\n",
       "      <td>40161</td>\n",
       "    </tr>\n",
       "    <tr>\n",
       "      <th>40162</th>\n",
       "      <td>1576770272</td>\n",
       "      <td>795</td>\n",
       "      <td>2019-12-19 08:44:32</td>\n",
       "      <td>1</td>\n",
       "      <td>40162</td>\n",
       "    </tr>\n",
       "    <tr>\n",
       "      <th>40163</th>\n",
       "      <td>1576770273</td>\n",
       "      <td>795</td>\n",
       "      <td>2019-12-19 08:44:33</td>\n",
       "      <td>1</td>\n",
       "      <td>40163</td>\n",
       "    </tr>\n",
       "    <tr>\n",
       "      <th>40164</th>\n",
       "      <td>1576770274</td>\n",
       "      <td>795</td>\n",
       "      <td>2019-12-19 08:44:34</td>\n",
       "      <td>1</td>\n",
       "      <td>40164</td>\n",
       "    </tr>\n",
       "    <tr>\n",
       "      <th>40165</th>\n",
       "      <td>1576770275</td>\n",
       "      <td>795</td>\n",
       "      <td>2019-12-19 08:44:35</td>\n",
       "      <td>1</td>\n",
       "      <td>40165</td>\n",
       "    </tr>\n",
       "    <tr>\n",
       "      <th>40166</th>\n",
       "      <td>1576770276</td>\n",
       "      <td>795</td>\n",
       "      <td>2019-12-19 08:44:36</td>\n",
       "      <td>1</td>\n",
       "      <td>40166</td>\n",
       "    </tr>\n",
       "    <tr>\n",
       "      <th>40167</th>\n",
       "      <td>1576770277</td>\n",
       "      <td>795</td>\n",
       "      <td>2019-12-19 08:44:37</td>\n",
       "      <td>1</td>\n",
       "      <td>40167</td>\n",
       "    </tr>\n",
       "    <tr>\n",
       "      <th>40168</th>\n",
       "      <td>1576770278</td>\n",
       "      <td>795</td>\n",
       "      <td>2019-12-19 08:44:38</td>\n",
       "      <td>1</td>\n",
       "      <td>40168</td>\n",
       "    </tr>\n",
       "    <tr>\n",
       "      <th>40169</th>\n",
       "      <td>1576770279</td>\n",
       "      <td>796</td>\n",
       "      <td>2019-12-19 08:44:39</td>\n",
       "      <td>1</td>\n",
       "      <td>40169</td>\n",
       "    </tr>\n",
       "    <tr>\n",
       "      <th>40170</th>\n",
       "      <td>1576770280</td>\n",
       "      <td>796</td>\n",
       "      <td>2019-12-19 08:44:40</td>\n",
       "      <td>1</td>\n",
       "      <td>40170</td>\n",
       "    </tr>\n",
       "    <tr>\n",
       "      <th>40171</th>\n",
       "      <td>1576770281</td>\n",
       "      <td>797</td>\n",
       "      <td>2019-12-19 08:44:41</td>\n",
       "      <td>1</td>\n",
       "      <td>40171</td>\n",
       "    </tr>\n",
       "    <tr>\n",
       "      <th>40172</th>\n",
       "      <td>1576770282</td>\n",
       "      <td>797</td>\n",
       "      <td>2019-12-19 08:44:42</td>\n",
       "      <td>1</td>\n",
       "      <td>40172</td>\n",
       "    </tr>\n",
       "    <tr>\n",
       "      <th>40173</th>\n",
       "      <td>1576770283</td>\n",
       "      <td>797</td>\n",
       "      <td>2019-12-19 08:44:43</td>\n",
       "      <td>1</td>\n",
       "      <td>40173</td>\n",
       "    </tr>\n",
       "    <tr>\n",
       "      <th>40174</th>\n",
       "      <td>1576770284</td>\n",
       "      <td>797</td>\n",
       "      <td>2019-12-19 08:44:44</td>\n",
       "      <td>1</td>\n",
       "      <td>40174</td>\n",
       "    </tr>\n",
       "    <tr>\n",
       "      <th>40175</th>\n",
       "      <td>1576770285</td>\n",
       "      <td>798</td>\n",
       "      <td>2019-12-19 08:44:45</td>\n",
       "      <td>1</td>\n",
       "      <td>40175</td>\n",
       "    </tr>\n",
       "    <tr>\n",
       "      <th>40176</th>\n",
       "      <td>1576770286</td>\n",
       "      <td>798</td>\n",
       "      <td>2019-12-19 08:44:46</td>\n",
       "      <td>1</td>\n",
       "      <td>40176</td>\n",
       "    </tr>\n",
       "    <tr>\n",
       "      <th>40177</th>\n",
       "      <td>1576770287</td>\n",
       "      <td>798</td>\n",
       "      <td>2019-12-19 08:44:47</td>\n",
       "      <td>1</td>\n",
       "      <td>40177</td>\n",
       "    </tr>\n",
       "    <tr>\n",
       "      <th>40178</th>\n",
       "      <td>1576770288</td>\n",
       "      <td>798</td>\n",
       "      <td>2019-12-19 08:44:48</td>\n",
       "      <td>1</td>\n",
       "      <td>40178</td>\n",
       "    </tr>\n",
       "  </tbody>\n",
       "</table>\n",
       "<p>40179 rows × 5 columns</p>\n",
       "</div>"
      ],
      "text/plain": [
       "         UnixTime GasData             DateTime RealData  index\n",
       "0      1576728619    1013  2019-12-18 21:10:19        1      0\n",
       "1      1576728620    1015  2019-12-18 21:10:20        1      1\n",
       "2      1576728621    1015  2019-12-18 21:10:21        1      2\n",
       "3      1576728622    1013  2019-12-18 21:10:22        1      3\n",
       "4      1576728623    1012  2019-12-18 21:10:23        1      4\n",
       "5      1576728624    1011  2019-12-18 21:10:24        1      5\n",
       "6      1576728625    1011  2019-12-18 21:10:25        1      6\n",
       "7      1576728626    1010  2019-12-18 21:10:26        1      7\n",
       "8      1576728627    1010  2019-12-18 21:10:27        1      8\n",
       "9      1576728629    1009  2019-12-18 21:10:29        1      9\n",
       "10     1576728630    1008  2019-12-18 21:10:30        1     10\n",
       "11     1576728631    1008  2019-12-18 21:10:31        1     11\n",
       "12     1576728632    1007  2019-12-18 21:10:32        1     12\n",
       "13     1576728633    1007  2019-12-18 21:10:33        1     13\n",
       "14     1576728634    1007  2019-12-18 21:10:34        1     14\n",
       "15     1576728635    1006  2019-12-18 21:10:35        1     15\n",
       "16     1576728636    1006  2019-12-18 21:10:36        1     16\n",
       "17     1576728652     998  2019-12-18 21:10:52        1     17\n",
       "18     1576728653     998  2019-12-18 21:10:53        1     18\n",
       "19     1576728654     998  2019-12-18 21:10:54        1     19\n",
       "20     1576728655     998  2019-12-18 21:10:55        1     20\n",
       "21     1576728656     998  2019-12-18 21:10:56        1     21\n",
       "22     1576728657     998  2019-12-18 21:10:57        1     22\n",
       "23     1576728658     997  2019-12-18 21:10:58        1     23\n",
       "24     1576728659     997  2019-12-18 21:10:59        1     24\n",
       "25     1576728660     996  2019-12-18 21:11:00        1     25\n",
       "26     1576728661     995  2019-12-18 21:11:01        1     26\n",
       "27     1576728662     994  2019-12-18 21:11:02        1     27\n",
       "28     1576728664     994  2019-12-18 21:11:04        1     28\n",
       "29     1576728665     994  2019-12-18 21:11:05        1     29\n",
       "...           ...     ...                  ...      ...    ...\n",
       "40149  1576770258     795  2019-12-19 08:44:18        1  40149\n",
       "40150  1576770259     796  2019-12-19 08:44:19        1  40150\n",
       "40151  1576770260     796  2019-12-19 08:44:20        1  40151\n",
       "40152  1576770262     796  2019-12-19 08:44:22        1  40152\n",
       "40153  1576770263     796  2019-12-19 08:44:23        1  40153\n",
       "40154  1576770264     796  2019-12-19 08:44:24        1  40154\n",
       "40155  1576770265     796  2019-12-19 08:44:25        1  40155\n",
       "40156  1576770266     796  2019-12-19 08:44:26        1  40156\n",
       "40157  1576770267     796  2019-12-19 08:44:27        1  40157\n",
       "40158  1576770268     795  2019-12-19 08:44:28        1  40158\n",
       "40159  1576770269     795  2019-12-19 08:44:29        1  40159\n",
       "40160  1576770270     795  2019-12-19 08:44:30        1  40160\n",
       "40161  1576770271     795  2019-12-19 08:44:31        1  40161\n",
       "40162  1576770272     795  2019-12-19 08:44:32        1  40162\n",
       "40163  1576770273     795  2019-12-19 08:44:33        1  40163\n",
       "40164  1576770274     795  2019-12-19 08:44:34        1  40164\n",
       "40165  1576770275     795  2019-12-19 08:44:35        1  40165\n",
       "40166  1576770276     795  2019-12-19 08:44:36        1  40166\n",
       "40167  1576770277     795  2019-12-19 08:44:37        1  40167\n",
       "40168  1576770278     795  2019-12-19 08:44:38        1  40168\n",
       "40169  1576770279     796  2019-12-19 08:44:39        1  40169\n",
       "40170  1576770280     796  2019-12-19 08:44:40        1  40170\n",
       "40171  1576770281     797  2019-12-19 08:44:41        1  40171\n",
       "40172  1576770282     797  2019-12-19 08:44:42        1  40172\n",
       "40173  1576770283     797  2019-12-19 08:44:43        1  40173\n",
       "40174  1576770284     797  2019-12-19 08:44:44        1  40174\n",
       "40175  1576770285     798  2019-12-19 08:44:45        1  40175\n",
       "40176  1576770286     798  2019-12-19 08:44:46        1  40176\n",
       "40177  1576770287     798  2019-12-19 08:44:47        1  40177\n",
       "40178  1576770288     798  2019-12-19 08:44:48        1  40178\n",
       "\n",
       "[40179 rows x 5 columns]"
      ]
     },
     "execution_count": 48,
     "metadata": {},
     "output_type": "execute_result"
    }
   ],
   "source": [
    "rawAllDataDF"
   ]
  },
  {
   "cell_type": "code",
   "execution_count": null,
   "metadata": {},
   "outputs": [],
   "source": []
  }
 ],
 "metadata": {
  "kernelspec": {
   "display_name": "Python 3",
   "language": "python",
   "name": "python3"
  },
  "language_info": {
   "codemirror_mode": {
    "name": "ipython",
    "version": 3
   },
   "file_extension": ".py",
   "mimetype": "text/x-python",
   "name": "python",
   "nbconvert_exporter": "python",
   "pygments_lexer": "ipython3",
   "version": "3.7.5"
  }
 },
 "nbformat": 4,
 "nbformat_minor": 2
}
