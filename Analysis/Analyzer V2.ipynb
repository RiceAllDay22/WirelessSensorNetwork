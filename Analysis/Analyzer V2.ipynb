{
 "cells": [
  {
   "cell_type": "markdown",
   "execution_count": null,
   "metadata": {},
   "outputs": [],
   "source": [
    "# WIRELESS SENSOR NETWORK - DATA ANALYZER\n",
    "#### Notebook not intended for final product"
   ]
  },
  {
   "cell_type": "markdown",
   "execution_count": null,
   "metadata": {},
   "outputs": [],
   "source": [
    "# LIBRARIES"
   ]
  },
  {
   "cell_type": "code",
   "execution_count": 1,
   "metadata": {},
   "outputs": [],
   "source": [
    "import os\n",
    "import numpy as np\n",
    "import matplotlib.pyplot as plt\n",
    "import pandas as pd\n",
    "import IPython.display\n",
    "from datetime import datetime\n",
    "from statistics import mean"
   ]
  },
  {
   "cell_type": "markdown",
   "execution_count": null,
   "metadata": {},
   "outputs": [],
   "source": [
    "# DATA SELCTION\n",
    "Incoming data has two columns: UNIXTIME and GASDATA"
   ]
  },
  {
   "cell_type": "code",
   "execution_count": 2,
   "metadata": {},
   "outputs": [
    {
     "output_type": "execute_result",
     "data": {
      "text/plain": "        UNIXTIME  CO2\n0     1583308800  425\n1     1583308801  425\n2     1583308802  425\n3     1583308803  425\n4     1583308804  424\n...          ...  ...\n1476  1583310276  427\n1477  1583310277  427\n1478  1583310278  427\n1479  1583310279  427\n1480  1583310280  428\n\n[1481 rows x 2 columns]",
      "text/html": "<div>\n<style scoped>\n    .dataframe tbody tr th:only-of-type {\n        vertical-align: middle;\n    }\n\n    .dataframe tbody tr th {\n        vertical-align: top;\n    }\n\n    .dataframe thead th {\n        text-align: right;\n    }\n</style>\n<table border=\"1\" class=\"dataframe\">\n  <thead>\n    <tr style=\"text-align: right;\">\n      <th></th>\n      <th>UNIXTIME</th>\n      <th>CO2</th>\n    </tr>\n  </thead>\n  <tbody>\n    <tr>\n      <th>0</th>\n      <td>1583308800</td>\n      <td>425</td>\n    </tr>\n    <tr>\n      <th>1</th>\n      <td>1583308801</td>\n      <td>425</td>\n    </tr>\n    <tr>\n      <th>2</th>\n      <td>1583308802</td>\n      <td>425</td>\n    </tr>\n    <tr>\n      <th>3</th>\n      <td>1583308803</td>\n      <td>425</td>\n    </tr>\n    <tr>\n      <th>4</th>\n      <td>1583308804</td>\n      <td>424</td>\n    </tr>\n    <tr>\n      <th>...</th>\n      <td>...</td>\n      <td>...</td>\n    </tr>\n    <tr>\n      <th>1476</th>\n      <td>1583310276</td>\n      <td>427</td>\n    </tr>\n    <tr>\n      <th>1477</th>\n      <td>1583310277</td>\n      <td>427</td>\n    </tr>\n    <tr>\n      <th>1478</th>\n      <td>1583310278</td>\n      <td>427</td>\n    </tr>\n    <tr>\n      <th>1479</th>\n      <td>1583310279</td>\n      <td>427</td>\n    </tr>\n    <tr>\n      <th>1480</th>\n      <td>1583310280</td>\n      <td>428</td>\n    </tr>\n  </tbody>\n</table>\n<p>1481 rows × 2 columns</p>\n</div>"
     },
     "metadata": {},
     "execution_count": 2
    }
   ],
   "source": [
    "# Set Working Directory\n",
    "user      = 'adria'\n",
    "subfolder = 'V 1.2.3'\n",
    "file      = '2020-03-04--08EDITED.csv'\n",
    "#file      = '2020-03-03--00.csv'\n",
    "\n",
    "os.chdir('C:\\\\Users\\\\'+str(user)+'\\\\Desktop\\\\Repository\\\\WirelessSensorNetwork\\\\Data\\\\'\n",
    "         + str(subfolder))\n",
    "os.getcwd()\n",
    "data = pd.read_csv(file)\n",
    "data"
   ]
  },
  {
   "cell_type": "markdown",
   "execution_count": null,
   "metadata": {},
   "outputs": [],
   "source": [
    "# FUNCTIONS"
   ]
  },
  {
   "cell_type": "markdown",
   "execution_count": null,
   "metadata": {},
   "outputs": [],
   "source": [
    "## Import Data\n",
    "Prime the data for filtering by turning UNIXTIME and GASDATA columns to floats and by adding DATETIME, REALDATA, and INDEX columns"
   ]
  },
  {
   "cell_type": "code",
   "execution_count": 3,
   "metadata": {},
   "outputs": [],
   "source": [
    "def importData(data):\n",
    "    #Create columns\n",
    "    UnixTime = np.array(data['UNIXTIME'])\n",
    "    GasData  = np.array(data['CO2'])\n",
    "    RealData = np.ones((len(UnixTime), 1))\n",
    "    Index    = np.arange(0, len(UnixTime))\n",
    "    rawAllDataDF = pd.DataFrame(np.column_stack((UnixTime, GasData, RealData, Index)))\n",
    "    rawAllDataDF['DateTime'] = pd.to_datetime(rawAllDataDF.iloc[:,0], unit = 's')\n",
    "    rawAllDataDF.columns     = ['UnixTime', 'GasData', 'RealData', 'Index', 'DateTime']\n",
    "\n",
    "    #Drop duplicates and change datatypes\n",
    "    rawAllDataDF = rawAllDataDF.drop_duplicates(subset='UnixTime', keep='first')\n",
    "    rawAllDataDF.UnixTime = rawAllDataDF.UnixTime.astype(int)\n",
    "    rawAllDataDF.RealData = rawAllDataDF.RealData.astype(int)\n",
    "    rawAllDataDF.Index    = rawAllDataDF.Index.astype(int)\n",
    "    \n",
    "    #Create dataframe\n",
    "    rawAllDataNP = rawAllDataDF.to_numpy()\n",
    "    return rawAllDataDF, rawAllDataNP\n",
    "rawAllDataDF, rawAllDataNP = importData(data)\n",
    "#rawAllDataDF"
   ]
  },
  {
   "cell_type": "markdown",
   "execution_count": null,
   "metadata": {},
   "outputs": [],
   "source": [
    "\n",
    "## Import Check\n",
    "Ensure that the datatypes are correct. <br>\n",
    "UNIXTIME: Int <br>\n",
    "GASDATA:  Float <br>\n",
    "REALDATA: Int <br>\n",
    "INDEX:    Int <br>\n",
    "DATETIME: Timestamp <br>\n",
    "Determines extreme values within the data set <br>\n"
   ]
  },
  {
   "cell_type": "code",
   "execution_count": 4,
   "metadata": {},
   "outputs": [
    {
     "output_type": "stream",
     "name": "stdout",
     "text": "|----------DATA CHECKER ----------|\nUNIXTIME: 1583308800 <class 'int'>\nGASDATA : 425.0 <class 'float'>\nREALDATA: 1 <class 'int'>\nINDEX:    0 <class 'int'>\nDATETIME: 2020-03-04 08:00:00 <class 'pandas._libs.tslibs.timestamps.Timestamp'> \n\nData Amt: 1481\nGas  Min: 0.0\nGas  Max: 5000.0\nUnix Min: 1583308800\nUnix Min: 1583310280\n"
    },
    {
     "output_type": "execute_result",
     "data": {
      "text/plain": "        UnixTime  GasData  RealData  Index            DateTime\n0     1583308800    425.0         1      0 2020-03-04 08:00:00\n1     1583308801    425.0         1      1 2020-03-04 08:00:01\n2     1583308802    425.0         1      2 2020-03-04 08:00:02\n3     1583308803    425.0         1      3 2020-03-04 08:00:03\n4     1583308804    424.0         1      4 2020-03-04 08:00:04\n...          ...      ...       ...    ...                 ...\n1476  1583310276    427.0         1   1476 2020-03-04 08:24:36\n1477  1583310277    427.0         1   1477 2020-03-04 08:24:37\n1478  1583310278    427.0         1   1478 2020-03-04 08:24:38\n1479  1583310279    427.0         1   1479 2020-03-04 08:24:39\n1480  1583310280    428.0         1   1480 2020-03-04 08:24:40\n\n[1481 rows x 5 columns]",
      "text/html": "<div>\n<style scoped>\n    .dataframe tbody tr th:only-of-type {\n        vertical-align: middle;\n    }\n\n    .dataframe tbody tr th {\n        vertical-align: top;\n    }\n\n    .dataframe thead th {\n        text-align: right;\n    }\n</style>\n<table border=\"1\" class=\"dataframe\">\n  <thead>\n    <tr style=\"text-align: right;\">\n      <th></th>\n      <th>UnixTime</th>\n      <th>GasData</th>\n      <th>RealData</th>\n      <th>Index</th>\n      <th>DateTime</th>\n    </tr>\n  </thead>\n  <tbody>\n    <tr>\n      <th>0</th>\n      <td>1583308800</td>\n      <td>425.0</td>\n      <td>1</td>\n      <td>0</td>\n      <td>2020-03-04 08:00:00</td>\n    </tr>\n    <tr>\n      <th>1</th>\n      <td>1583308801</td>\n      <td>425.0</td>\n      <td>1</td>\n      <td>1</td>\n      <td>2020-03-04 08:00:01</td>\n    </tr>\n    <tr>\n      <th>2</th>\n      <td>1583308802</td>\n      <td>425.0</td>\n      <td>1</td>\n      <td>2</td>\n      <td>2020-03-04 08:00:02</td>\n    </tr>\n    <tr>\n      <th>3</th>\n      <td>1583308803</td>\n      <td>425.0</td>\n      <td>1</td>\n      <td>3</td>\n      <td>2020-03-04 08:00:03</td>\n    </tr>\n    <tr>\n      <th>4</th>\n      <td>1583308804</td>\n      <td>424.0</td>\n      <td>1</td>\n      <td>4</td>\n      <td>2020-03-04 08:00:04</td>\n    </tr>\n    <tr>\n      <th>...</th>\n      <td>...</td>\n      <td>...</td>\n      <td>...</td>\n      <td>...</td>\n      <td>...</td>\n    </tr>\n    <tr>\n      <th>1476</th>\n      <td>1583310276</td>\n      <td>427.0</td>\n      <td>1</td>\n      <td>1476</td>\n      <td>2020-03-04 08:24:36</td>\n    </tr>\n    <tr>\n      <th>1477</th>\n      <td>1583310277</td>\n      <td>427.0</td>\n      <td>1</td>\n      <td>1477</td>\n      <td>2020-03-04 08:24:37</td>\n    </tr>\n    <tr>\n      <th>1478</th>\n      <td>1583310278</td>\n      <td>427.0</td>\n      <td>1</td>\n      <td>1478</td>\n      <td>2020-03-04 08:24:38</td>\n    </tr>\n    <tr>\n      <th>1479</th>\n      <td>1583310279</td>\n      <td>427.0</td>\n      <td>1</td>\n      <td>1479</td>\n      <td>2020-03-04 08:24:39</td>\n    </tr>\n    <tr>\n      <th>1480</th>\n      <td>1583310280</td>\n      <td>428.0</td>\n      <td>1</td>\n      <td>1480</td>\n      <td>2020-03-04 08:24:40</td>\n    </tr>\n  </tbody>\n</table>\n<p>1481 rows × 5 columns</p>\n</div>"
     },
     "metadata": {},
     "execution_count": 4
    }
   ],
   "source": [
    "def importCheck(rawAllDataNP, rawAllDataDF):\n",
    "    #Print datatypes\n",
    "    print('|----------DATA CHECKER ----------|')\n",
    "    print('UNIXTIME:', rawAllDataNP[0][0], type(rawAllDataNP[0][0]))\n",
    "    print('GASDATA :', rawAllDataNP[0][1], type(rawAllDataNP[0][1]))\n",
    "    print('REALDATA:', rawAllDataNP[0][2], type(rawAllDataNP[0][2]))\n",
    "    print('INDEX:   ', rawAllDataNP[0][3], type(rawAllDataNP[0][3]))    \n",
    "    print('DATETIME:', rawAllDataNP[0][4], type(rawAllDataNP[0][4]), \"\\n\")\n",
    "    #Print extreme values\n",
    "    print('Data Amt:', len(rawAllDataNP[:]))\n",
    "    print('Gas  Min:', min(rawAllDataNP[:,1]))\n",
    "    print('Gas  Max:', max(rawAllDataNP[:,1]))\n",
    "    print('Unix Min:', min(rawAllDataNP[:,0]))\n",
    "    print('Unix Min:', max(rawAllDataNP[:,0]))\n",
    "       \n",
    "importCheck(rawAllDataNP, rawAllDataDF)\n",
    "rawAllDataDF"
   ]
  },
  {
   "cell_type": "markdown",
   "execution_count": null,
   "metadata": {},
   "outputs": [],
   "source": [
    "## Filter Data\n",
    "Determine the indeces containing bad data. <br>\n",
    "Create new PandasFrame filAllData <br>"
   ]
  },
  {
   "cell_type": "code",
   "execution_count": 5,
   "metadata": {},
   "outputs": [
    {
     "output_type": "stream",
     "name": "stdout",
     "text": "|----------DATA REMOVED----------|\nGas  Zeros:  3\nGas   Lows:  2\nGas  Highs:  2\nGas   Negs:  0\nTime Zeros:  0\nTime  Lows:  0\nTime Highs:  0\nTime  Negs:  0\nTotal Remd:  7\nTotal Remd:  7\n"
    }
   ],
   "source": [
    "def dataFilterWhere(rawAllDataNP):\n",
    "    #Determine indices\n",
    "    gasZerosIndices  = np.where( rawAllDataNP[:,1] == 0)\n",
    "    gasLowIndices    = np.where((rawAllDataNP[:,1] <= 350) & (rawAllDataNP[:,1] > 0))\n",
    "    gasHighIndices   = np.where( rawAllDataNP[:,1] >= 5000) \n",
    "    gasNegIndices    = np.where( rawAllDataNP[:,1] < 0 )\n",
    "    timeZerosIndices = np.where( rawAllDataNP[:,0] == 0)\n",
    "    timeLowIndices   = np.where((rawAllDataNP[:,0] <= 1576594500) & (rawAllDataNP[:,0] > 0))\n",
    "    timeHighIndices  = np.where( rawAllDataNP[:,0] >= 2000000000)                            \n",
    "    timeNegIndices   = np.where( rawAllDataNP[:,0] < 0)\n",
    "\n",
    "    fullRemovalIndices = np.concatenate((\n",
    "        gasZerosIndices, gasLowIndices, gasHighIndices, gasNegIndices,\n",
    "        timeZerosIndices,timeLowIndices,timeHighIndices,timeNegIndices), axis = None)\n",
    "    \n",
    "    #Print removal info\n",
    "    print('|----------DATA REMOVED----------|')\n",
    "    print('Gas  Zeros: ', len(gasZerosIndices[0]))\n",
    "    print('Gas   Lows: ', len(gasLowIndices[0]))\n",
    "    print('Gas  Highs: ', len(gasHighIndices[0]))\n",
    "    print('Gas   Negs: ', len(gasNegIndices[0]))\n",
    "    print('Time Zeros: ', len(timeZerosIndices[0]))\n",
    "    print('Time  Lows: ', len(timeLowIndices[0]))\n",
    "    print('Time Highs: ', len(timeHighIndices[0]))\n",
    "    print('Time  Negs: ', len(timeNegIndices[0]))\n",
    "    print('Total Remd: ', (len(gasZerosIndices[0]) + len(gasLowIndices[0]) + \n",
    "        len(gasHighIndices [0]) + len(gasNegIndices[0]) + len(timeZerosIndices[0]) + \n",
    "        len(timeLowIndices[0]) + len(timeHighIndices[0]) + len(timeNegIndices[0])))\n",
    "    print('Total Remd: ', len(fullRemovalIndices))\n",
    "\n",
    "    #Create new dataframe\n",
    "    filAllDataDF = rawAllDataDF[~rawAllDataDF.index.isin(fullRemovalIndices)]\n",
    "    filAllDataNP = filAllDataDF.to_numpy()\n",
    "    return filAllDataNP, filAllDataDF, fullRemovalIndices\n",
    "    \n",
    "filAllDataNP, filAllDataDF, fullRemovalIndices = dataFilterWhere(rawAllDataNP)"
   ]
  },
  {
   "cell_type": "markdown",
   "execution_count": null,
   "metadata": {},
   "outputs": [],
   "source": [
    "## Frame Selection\n",
    "Allows user to select viewing frame for analysis purposes. <br>\n",
    "Determines theoretical length of data assuming perfect collection. <br>\n",
    "Compares theoretical length to real length. <br>"
   ]
  },
  {
   "cell_type": "code",
   "execution_count": 6,
   "metadata": {},
   "outputs": [],
   "source": [
    "def windowSelect(filAllDataNP, leftFrame, rightFrame):\n",
    "    #Determine validity of selected frame\n",
    "    leftFrameIndex   = np.where( filAllDataNP[:,0] == leftFrame)[0]\n",
    "    rightFrameIndex  = (np.where( filAllDataNP[:,0] == rightFrame))[0]\n",
    "    if leftFrameIndex.size == 1 and rightFrameIndex.size == 1 :\n",
    "        print(leftFrameIndex[0])\n",
    "        print(rightFrameIndex[0])\n",
    "\n",
    "        #Create dataframe of fraAllData   \n",
    "        fraAllDataDF = filAllDataDF.iloc[leftFrameIndex[0]:rightFrameIndex[0]+1,:]\n",
    "        fraAllDataNP = fraAllDataDF.to_numpy()\n",
    "\n",
    "        #Plot selected window frame\n",
    "        plt.close('all')\n",
    "        x  = fraAllDataNP[:,4]  \n",
    "        y  = fraAllDataNP[:,1]\n",
    "        plt.plot(x, y, \"ro\")\n",
    "        plt.plot(x, y, \"k-\")\n",
    "        plt.grid()\n",
    "\n",
    "    else:\n",
    "            print('Invalid selection')\n",
    "    return fraAllDataNP, fraAllDataDF\n",
    ""
   ]
  },
  {
   "cell_type": "code",
   "execution_count": 7,
   "metadata": {},
   "outputs": [
    {
     "output_type": "stream",
     "name": "stdout",
     "text": "10\n37\n"
    },
    {
     "output_type": "display_data",
     "data": {
      "text/plain": "<Figure size 432x288 with 1 Axes>",
      "image/svg+xml": "<?xml version=\"1.0\" encoding=\"utf-8\" standalone=\"no\"?>\r\n<!DOCTYPE svg PUBLIC \"-//W3C//DTD SVG 1.1//EN\"\r\n  \"http://www.w3.org/Graphics/SVG/1.1/DTD/svg11.dtd\">\r\n<!-- Created with matplotlib (https://matplotlib.org/) -->\r\n<svg height=\"248.518125pt\" version=\"1.1\" viewBox=\"0 0 398.428662 248.518125\" width=\"398.428662pt\" xmlns=\"http://www.w3.org/2000/svg\" xmlns:xlink=\"http://www.w3.org/1999/xlink\">\r\n <defs>\r\n  <style type=\"text/css\">\r\n*{stroke-linecap:butt;stroke-linejoin:round;}\r\n  </style>\r\n </defs>\r\n <g id=\"figure_1\">\r\n  <g id=\"patch_1\">\r\n   <path d=\"M 0 248.518125 \r\nL 398.428662 248.518125 \r\nL 398.428662 0 \r\nL 0 0 \r\nz\r\n\" style=\"fill:none;\"/>\r\n  </g>\r\n  <g id=\"axes_1\">\r\n   <g id=\"patch_2\">\r\n    <path d=\"M 49.190625 224.64 \r\nL 383.990625 224.64 \r\nL 383.990625 7.2 \r\nL 49.190625 7.2 \r\nz\r\n\" style=\"fill:#ffffff;\"/>\r\n   </g>\r\n   <g id=\"matplotlib.axis_1\">\r\n    <g id=\"xtick_1\">\r\n     <g id=\"line2d_1\">\r\n      <path clip-path=\"url(#p04ec15bd0e)\" d=\"M 64.408813 224.64 \r\nL 64.408813 7.2 \r\n\" style=\"fill:none;stroke:#b0b0b0;stroke-linecap:square;stroke-width:0.8;\"/>\r\n     </g>\r\n     <g id=\"line2d_2\">\r\n      <defs>\r\n       <path d=\"M 0 0 \r\nL 0 3.5 \r\n\" id=\"md6dde1a6ab\" style=\"stroke:#000000;stroke-width:0.8;\"/>\r\n      </defs>\r\n      <g>\r\n       <use style=\"stroke:#000000;stroke-width:0.8;\" x=\"64.408813\" xlink:href=\"#md6dde1a6ab\" y=\"224.64\"/>\r\n      </g>\r\n     </g>\r\n     <g id=\"text_1\">\r\n      <!-- 08:00:10 -->\r\n      <defs>\r\n       <path d=\"M 31.78125 66.40625 \r\nQ 24.171875 66.40625 20.328125 58.90625 \r\nQ 16.5 51.421875 16.5 36.375 \r\nQ 16.5 21.390625 20.328125 13.890625 \r\nQ 24.171875 6.390625 31.78125 6.390625 \r\nQ 39.453125 6.390625 43.28125 13.890625 \r\nQ 47.125 21.390625 47.125 36.375 \r\nQ 47.125 51.421875 43.28125 58.90625 \r\nQ 39.453125 66.40625 31.78125 66.40625 \r\nz\r\nM 31.78125 74.21875 \r\nQ 44.046875 74.21875 50.515625 64.515625 \r\nQ 56.984375 54.828125 56.984375 36.375 \r\nQ 56.984375 17.96875 50.515625 8.265625 \r\nQ 44.046875 -1.421875 31.78125 -1.421875 \r\nQ 19.53125 -1.421875 13.0625 8.265625 \r\nQ 6.59375 17.96875 6.59375 36.375 \r\nQ 6.59375 54.828125 13.0625 64.515625 \r\nQ 19.53125 74.21875 31.78125 74.21875 \r\nz\r\n\" id=\"DejaVuSans-48\"/>\r\n       <path d=\"M 31.78125 34.625 \r\nQ 24.75 34.625 20.71875 30.859375 \r\nQ 16.703125 27.09375 16.703125 20.515625 \r\nQ 16.703125 13.921875 20.71875 10.15625 \r\nQ 24.75 6.390625 31.78125 6.390625 \r\nQ 38.8125 6.390625 42.859375 10.171875 \r\nQ 46.921875 13.96875 46.921875 20.515625 \r\nQ 46.921875 27.09375 42.890625 30.859375 \r\nQ 38.875 34.625 31.78125 34.625 \r\nz\r\nM 21.921875 38.8125 \r\nQ 15.578125 40.375 12.03125 44.71875 \r\nQ 8.5 49.078125 8.5 55.328125 \r\nQ 8.5 64.0625 14.71875 69.140625 \r\nQ 20.953125 74.21875 31.78125 74.21875 \r\nQ 42.671875 74.21875 48.875 69.140625 \r\nQ 55.078125 64.0625 55.078125 55.328125 \r\nQ 55.078125 49.078125 51.53125 44.71875 \r\nQ 48 40.375 41.703125 38.8125 \r\nQ 48.828125 37.15625 52.796875 32.3125 \r\nQ 56.78125 27.484375 56.78125 20.515625 \r\nQ 56.78125 9.90625 50.3125 4.234375 \r\nQ 43.84375 -1.421875 31.78125 -1.421875 \r\nQ 19.734375 -1.421875 13.25 4.234375 \r\nQ 6.78125 9.90625 6.78125 20.515625 \r\nQ 6.78125 27.484375 10.78125 32.3125 \r\nQ 14.796875 37.15625 21.921875 38.8125 \r\nz\r\nM 18.3125 54.390625 \r\nQ 18.3125 48.734375 21.84375 45.5625 \r\nQ 25.390625 42.390625 31.78125 42.390625 \r\nQ 38.140625 42.390625 41.71875 45.5625 \r\nQ 45.3125 48.734375 45.3125 54.390625 \r\nQ 45.3125 60.0625 41.71875 63.234375 \r\nQ 38.140625 66.40625 31.78125 66.40625 \r\nQ 25.390625 66.40625 21.84375 63.234375 \r\nQ 18.3125 60.0625 18.3125 54.390625 \r\nz\r\n\" id=\"DejaVuSans-56\"/>\r\n       <path d=\"M 11.71875 12.40625 \r\nL 22.015625 12.40625 \r\nL 22.015625 0 \r\nL 11.71875 0 \r\nz\r\nM 11.71875 51.703125 \r\nL 22.015625 51.703125 \r\nL 22.015625 39.3125 \r\nL 11.71875 39.3125 \r\nz\r\n\" id=\"DejaVuSans-58\"/>\r\n       <path d=\"M 12.40625 8.296875 \r\nL 28.515625 8.296875 \r\nL 28.515625 63.921875 \r\nL 10.984375 60.40625 \r\nL 10.984375 69.390625 \r\nL 28.421875 72.90625 \r\nL 38.28125 72.90625 \r\nL 38.28125 8.296875 \r\nL 54.390625 8.296875 \r\nL 54.390625 0 \r\nL 12.40625 0 \r\nz\r\n\" id=\"DejaVuSans-49\"/>\r\n      </defs>\r\n      <g transform=\"translate(41.952563 239.238437)scale(0.1 -0.1)\">\r\n       <use xlink:href=\"#DejaVuSans-48\"/>\r\n       <use x=\"63.623047\" xlink:href=\"#DejaVuSans-56\"/>\r\n       <use x=\"127.246094\" xlink:href=\"#DejaVuSans-58\"/>\r\n       <use x=\"160.9375\" xlink:href=\"#DejaVuSans-48\"/>\r\n       <use x=\"224.560547\" xlink:href=\"#DejaVuSans-48\"/>\r\n       <use x=\"288.183594\" xlink:href=\"#DejaVuSans-58\"/>\r\n       <use x=\"321.875\" xlink:href=\"#DejaVuSans-49\"/>\r\n       <use x=\"385.498047\" xlink:href=\"#DejaVuSans-48\"/>\r\n      </g>\r\n     </g>\r\n    </g>\r\n    <g id=\"xtick_2\">\r\n     <g id=\"line2d_3\">\r\n      <path clip-path=\"url(#p04ec15bd0e)\" d=\"M 115.136108 224.64 \r\nL 115.136108 7.2 \r\n\" style=\"fill:none;stroke:#b0b0b0;stroke-linecap:square;stroke-width:0.8;\"/>\r\n     </g>\r\n     <g id=\"line2d_4\">\r\n      <g>\r\n       <use style=\"stroke:#000000;stroke-width:0.8;\" x=\"115.136108\" xlink:href=\"#md6dde1a6ab\" y=\"224.64\"/>\r\n      </g>\r\n     </g>\r\n     <g id=\"text_2\">\r\n      <!-- 08:00:15 -->\r\n      <defs>\r\n       <path d=\"M 10.796875 72.90625 \r\nL 49.515625 72.90625 \r\nL 49.515625 64.59375 \r\nL 19.828125 64.59375 \r\nL 19.828125 46.734375 \r\nQ 21.96875 47.46875 24.109375 47.828125 \r\nQ 26.265625 48.1875 28.421875 48.1875 \r\nQ 40.625 48.1875 47.75 41.5 \r\nQ 54.890625 34.8125 54.890625 23.390625 \r\nQ 54.890625 11.625 47.5625 5.09375 \r\nQ 40.234375 -1.421875 26.90625 -1.421875 \r\nQ 22.3125 -1.421875 17.546875 -0.640625 \r\nQ 12.796875 0.140625 7.71875 1.703125 \r\nL 7.71875 11.625 \r\nQ 12.109375 9.234375 16.796875 8.0625 \r\nQ 21.484375 6.890625 26.703125 6.890625 \r\nQ 35.15625 6.890625 40.078125 11.328125 \r\nQ 45.015625 15.765625 45.015625 23.390625 \r\nQ 45.015625 31 40.078125 35.4375 \r\nQ 35.15625 39.890625 26.703125 39.890625 \r\nQ 22.75 39.890625 18.8125 39.015625 \r\nQ 14.890625 38.140625 10.796875 36.28125 \r\nz\r\n\" id=\"DejaVuSans-53\"/>\r\n      </defs>\r\n      <g transform=\"translate(92.679858 239.238437)scale(0.1 -0.1)\">\r\n       <use xlink:href=\"#DejaVuSans-48\"/>\r\n       <use x=\"63.623047\" xlink:href=\"#DejaVuSans-56\"/>\r\n       <use x=\"127.246094\" xlink:href=\"#DejaVuSans-58\"/>\r\n       <use x=\"160.9375\" xlink:href=\"#DejaVuSans-48\"/>\r\n       <use x=\"224.560547\" xlink:href=\"#DejaVuSans-48\"/>\r\n       <use x=\"288.183594\" xlink:href=\"#DejaVuSans-58\"/>\r\n       <use x=\"321.875\" xlink:href=\"#DejaVuSans-49\"/>\r\n       <use x=\"385.498047\" xlink:href=\"#DejaVuSans-53\"/>\r\n      </g>\r\n     </g>\r\n    </g>\r\n    <g id=\"xtick_3\">\r\n     <g id=\"line2d_5\">\r\n      <path clip-path=\"url(#p04ec15bd0e)\" d=\"M 165.863403 224.64 \r\nL 165.863403 7.2 \r\n\" style=\"fill:none;stroke:#b0b0b0;stroke-linecap:square;stroke-width:0.8;\"/>\r\n     </g>\r\n     <g id=\"line2d_6\">\r\n      <g>\r\n       <use style=\"stroke:#000000;stroke-width:0.8;\" x=\"165.863403\" xlink:href=\"#md6dde1a6ab\" y=\"224.64\"/>\r\n      </g>\r\n     </g>\r\n     <g id=\"text_3\">\r\n      <!-- 08:00:20 -->\r\n      <defs>\r\n       <path d=\"M 19.1875 8.296875 \r\nL 53.609375 8.296875 \r\nL 53.609375 0 \r\nL 7.328125 0 \r\nL 7.328125 8.296875 \r\nQ 12.9375 14.109375 22.625 23.890625 \r\nQ 32.328125 33.6875 34.8125 36.53125 \r\nQ 39.546875 41.84375 41.421875 45.53125 \r\nQ 43.3125 49.21875 43.3125 52.78125 \r\nQ 43.3125 58.59375 39.234375 62.25 \r\nQ 35.15625 65.921875 28.609375 65.921875 \r\nQ 23.96875 65.921875 18.8125 64.3125 \r\nQ 13.671875 62.703125 7.8125 59.421875 \r\nL 7.8125 69.390625 \r\nQ 13.765625 71.78125 18.9375 73 \r\nQ 24.125 74.21875 28.421875 74.21875 \r\nQ 39.75 74.21875 46.484375 68.546875 \r\nQ 53.21875 62.890625 53.21875 53.421875 \r\nQ 53.21875 48.921875 51.53125 44.890625 \r\nQ 49.859375 40.875 45.40625 35.40625 \r\nQ 44.1875 33.984375 37.640625 27.21875 \r\nQ 31.109375 20.453125 19.1875 8.296875 \r\nz\r\n\" id=\"DejaVuSans-50\"/>\r\n      </defs>\r\n      <g transform=\"translate(143.407153 239.238437)scale(0.1 -0.1)\">\r\n       <use xlink:href=\"#DejaVuSans-48\"/>\r\n       <use x=\"63.623047\" xlink:href=\"#DejaVuSans-56\"/>\r\n       <use x=\"127.246094\" xlink:href=\"#DejaVuSans-58\"/>\r\n       <use x=\"160.9375\" xlink:href=\"#DejaVuSans-48\"/>\r\n       <use x=\"224.560547\" xlink:href=\"#DejaVuSans-48\"/>\r\n       <use x=\"288.183594\" xlink:href=\"#DejaVuSans-58\"/>\r\n       <use x=\"321.875\" xlink:href=\"#DejaVuSans-50\"/>\r\n       <use x=\"385.498047\" xlink:href=\"#DejaVuSans-48\"/>\r\n      </g>\r\n     </g>\r\n    </g>\r\n    <g id=\"xtick_4\">\r\n     <g id=\"line2d_7\">\r\n      <path clip-path=\"url(#p04ec15bd0e)\" d=\"M 216.590698 224.64 \r\nL 216.590698 7.2 \r\n\" style=\"fill:none;stroke:#b0b0b0;stroke-linecap:square;stroke-width:0.8;\"/>\r\n     </g>\r\n     <g id=\"line2d_8\">\r\n      <g>\r\n       <use style=\"stroke:#000000;stroke-width:0.8;\" x=\"216.590698\" xlink:href=\"#md6dde1a6ab\" y=\"224.64\"/>\r\n      </g>\r\n     </g>\r\n     <g id=\"text_4\">\r\n      <!-- 08:00:25 -->\r\n      <g transform=\"translate(194.134448 239.238437)scale(0.1 -0.1)\">\r\n       <use xlink:href=\"#DejaVuSans-48\"/>\r\n       <use x=\"63.623047\" xlink:href=\"#DejaVuSans-56\"/>\r\n       <use x=\"127.246094\" xlink:href=\"#DejaVuSans-58\"/>\r\n       <use x=\"160.9375\" xlink:href=\"#DejaVuSans-48\"/>\r\n       <use x=\"224.560547\" xlink:href=\"#DejaVuSans-48\"/>\r\n       <use x=\"288.183594\" xlink:href=\"#DejaVuSans-58\"/>\r\n       <use x=\"321.875\" xlink:href=\"#DejaVuSans-50\"/>\r\n       <use x=\"385.498047\" xlink:href=\"#DejaVuSans-53\"/>\r\n      </g>\r\n     </g>\r\n    </g>\r\n    <g id=\"xtick_5\">\r\n     <g id=\"line2d_9\">\r\n      <path clip-path=\"url(#p04ec15bd0e)\" d=\"M 267.317993 224.64 \r\nL 267.317993 7.2 \r\n\" style=\"fill:none;stroke:#b0b0b0;stroke-linecap:square;stroke-width:0.8;\"/>\r\n     </g>\r\n     <g id=\"line2d_10\">\r\n      <g>\r\n       <use style=\"stroke:#000000;stroke-width:0.8;\" x=\"267.317993\" xlink:href=\"#md6dde1a6ab\" y=\"224.64\"/>\r\n      </g>\r\n     </g>\r\n     <g id=\"text_5\">\r\n      <!-- 08:00:30 -->\r\n      <defs>\r\n       <path d=\"M 40.578125 39.3125 \r\nQ 47.65625 37.796875 51.625 33 \r\nQ 55.609375 28.21875 55.609375 21.1875 \r\nQ 55.609375 10.40625 48.1875 4.484375 \r\nQ 40.765625 -1.421875 27.09375 -1.421875 \r\nQ 22.515625 -1.421875 17.65625 -0.515625 \r\nQ 12.796875 0.390625 7.625 2.203125 \r\nL 7.625 11.71875 \r\nQ 11.71875 9.328125 16.59375 8.109375 \r\nQ 21.484375 6.890625 26.8125 6.890625 \r\nQ 36.078125 6.890625 40.9375 10.546875 \r\nQ 45.796875 14.203125 45.796875 21.1875 \r\nQ 45.796875 27.640625 41.28125 31.265625 \r\nQ 36.765625 34.90625 28.71875 34.90625 \r\nL 20.21875 34.90625 \r\nL 20.21875 43.015625 \r\nL 29.109375 43.015625 \r\nQ 36.375 43.015625 40.234375 45.921875 \r\nQ 44.09375 48.828125 44.09375 54.296875 \r\nQ 44.09375 59.90625 40.109375 62.90625 \r\nQ 36.140625 65.921875 28.71875 65.921875 \r\nQ 24.65625 65.921875 20.015625 65.03125 \r\nQ 15.375 64.15625 9.8125 62.3125 \r\nL 9.8125 71.09375 \r\nQ 15.4375 72.65625 20.34375 73.4375 \r\nQ 25.25 74.21875 29.59375 74.21875 \r\nQ 40.828125 74.21875 47.359375 69.109375 \r\nQ 53.90625 64.015625 53.90625 55.328125 \r\nQ 53.90625 49.265625 50.4375 45.09375 \r\nQ 46.96875 40.921875 40.578125 39.3125 \r\nz\r\n\" id=\"DejaVuSans-51\"/>\r\n      </defs>\r\n      <g transform=\"translate(244.861743 239.238437)scale(0.1 -0.1)\">\r\n       <use xlink:href=\"#DejaVuSans-48\"/>\r\n       <use x=\"63.623047\" xlink:href=\"#DejaVuSans-56\"/>\r\n       <use x=\"127.246094\" xlink:href=\"#DejaVuSans-58\"/>\r\n       <use x=\"160.9375\" xlink:href=\"#DejaVuSans-48\"/>\r\n       <use x=\"224.560547\" xlink:href=\"#DejaVuSans-48\"/>\r\n       <use x=\"288.183594\" xlink:href=\"#DejaVuSans-58\"/>\r\n       <use x=\"321.875\" xlink:href=\"#DejaVuSans-51\"/>\r\n       <use x=\"385.498047\" xlink:href=\"#DejaVuSans-48\"/>\r\n      </g>\r\n     </g>\r\n    </g>\r\n    <g id=\"xtick_6\">\r\n     <g id=\"line2d_11\">\r\n      <path clip-path=\"url(#p04ec15bd0e)\" d=\"M 318.045288 224.64 \r\nL 318.045288 7.2 \r\n\" style=\"fill:none;stroke:#b0b0b0;stroke-linecap:square;stroke-width:0.8;\"/>\r\n     </g>\r\n     <g id=\"line2d_12\">\r\n      <g>\r\n       <use style=\"stroke:#000000;stroke-width:0.8;\" x=\"318.045288\" xlink:href=\"#md6dde1a6ab\" y=\"224.64\"/>\r\n      </g>\r\n     </g>\r\n     <g id=\"text_6\">\r\n      <!-- 08:00:35 -->\r\n      <g transform=\"translate(295.589038 239.238437)scale(0.1 -0.1)\">\r\n       <use xlink:href=\"#DejaVuSans-48\"/>\r\n       <use x=\"63.623047\" xlink:href=\"#DejaVuSans-56\"/>\r\n       <use x=\"127.246094\" xlink:href=\"#DejaVuSans-58\"/>\r\n       <use x=\"160.9375\" xlink:href=\"#DejaVuSans-48\"/>\r\n       <use x=\"224.560547\" xlink:href=\"#DejaVuSans-48\"/>\r\n       <use x=\"288.183594\" xlink:href=\"#DejaVuSans-58\"/>\r\n       <use x=\"321.875\" xlink:href=\"#DejaVuSans-51\"/>\r\n       <use x=\"385.498047\" xlink:href=\"#DejaVuSans-53\"/>\r\n      </g>\r\n     </g>\r\n    </g>\r\n    <g id=\"xtick_7\">\r\n     <g id=\"line2d_13\">\r\n      <path clip-path=\"url(#p04ec15bd0e)\" d=\"M 368.772461 224.64 \r\nL 368.772461 7.2 \r\n\" style=\"fill:none;stroke:#b0b0b0;stroke-linecap:square;stroke-width:0.8;\"/>\r\n     </g>\r\n     <g id=\"line2d_14\">\r\n      <g>\r\n       <use style=\"stroke:#000000;stroke-width:0.8;\" x=\"368.772461\" xlink:href=\"#md6dde1a6ab\" y=\"224.64\"/>\r\n      </g>\r\n     </g>\r\n     <g id=\"text_7\">\r\n      <!-- 08:00:40 -->\r\n      <defs>\r\n       <path d=\"M 37.796875 64.3125 \r\nL 12.890625 25.390625 \r\nL 37.796875 25.390625 \r\nz\r\nM 35.203125 72.90625 \r\nL 47.609375 72.90625 \r\nL 47.609375 25.390625 \r\nL 58.015625 25.390625 \r\nL 58.015625 17.1875 \r\nL 47.609375 17.1875 \r\nL 47.609375 0 \r\nL 37.796875 0 \r\nL 37.796875 17.1875 \r\nL 4.890625 17.1875 \r\nL 4.890625 26.703125 \r\nz\r\n\" id=\"DejaVuSans-52\"/>\r\n      </defs>\r\n      <g transform=\"translate(346.316211 239.238437)scale(0.1 -0.1)\">\r\n       <use xlink:href=\"#DejaVuSans-48\"/>\r\n       <use x=\"63.623047\" xlink:href=\"#DejaVuSans-56\"/>\r\n       <use x=\"127.246094\" xlink:href=\"#DejaVuSans-58\"/>\r\n       <use x=\"160.9375\" xlink:href=\"#DejaVuSans-48\"/>\r\n       <use x=\"224.560547\" xlink:href=\"#DejaVuSans-48\"/>\r\n       <use x=\"288.183594\" xlink:href=\"#DejaVuSans-58\"/>\r\n       <use x=\"321.875\" xlink:href=\"#DejaVuSans-52\"/>\r\n       <use x=\"385.498047\" xlink:href=\"#DejaVuSans-48\"/>\r\n      </g>\r\n     </g>\r\n    </g>\r\n   </g>\r\n   <g id=\"matplotlib.axis_2\">\r\n    <g id=\"ytick_1\">\r\n     <g id=\"line2d_15\">\r\n      <path clip-path=\"url(#p04ec15bd0e)\" d=\"M 49.190625 214.756364 \r\nL 383.990625 214.756364 \r\n\" style=\"fill:none;stroke:#b0b0b0;stroke-linecap:square;stroke-width:0.8;\"/>\r\n     </g>\r\n     <g id=\"line2d_16\">\r\n      <defs>\r\n       <path d=\"M 0 0 \r\nL -3.5 0 \r\n\" id=\"m02732c50aa\" style=\"stroke:#000000;stroke-width:0.8;\"/>\r\n      </defs>\r\n      <g>\r\n       <use style=\"stroke:#000000;stroke-width:0.8;\" x=\"49.190625\" xlink:href=\"#m02732c50aa\" y=\"214.756364\"/>\r\n      </g>\r\n     </g>\r\n     <g id=\"text_8\">\r\n      <!-- 425.00 -->\r\n      <defs>\r\n       <path d=\"M 10.6875 12.40625 \r\nL 21 12.40625 \r\nL 21 0 \r\nL 10.6875 0 \r\nz\r\n\" id=\"DejaVuSans-46\"/>\r\n      </defs>\r\n      <g transform=\"translate(7.2 218.555582)scale(0.1 -0.1)\">\r\n       <use xlink:href=\"#DejaVuSans-52\"/>\r\n       <use x=\"63.623047\" xlink:href=\"#DejaVuSans-50\"/>\r\n       <use x=\"127.246094\" xlink:href=\"#DejaVuSans-53\"/>\r\n       <use x=\"190.869141\" xlink:href=\"#DejaVuSans-46\"/>\r\n       <use x=\"222.65625\" xlink:href=\"#DejaVuSans-48\"/>\r\n       <use x=\"286.279297\" xlink:href=\"#DejaVuSans-48\"/>\r\n      </g>\r\n     </g>\r\n    </g>\r\n    <g id=\"ytick_2\">\r\n     <g id=\"line2d_17\">\r\n      <path clip-path=\"url(#p04ec15bd0e)\" d=\"M 49.190625 190.047273 \r\nL 383.990625 190.047273 \r\n\" style=\"fill:none;stroke:#b0b0b0;stroke-linecap:square;stroke-width:0.8;\"/>\r\n     </g>\r\n     <g id=\"line2d_18\">\r\n      <g>\r\n       <use style=\"stroke:#000000;stroke-width:0.8;\" x=\"49.190625\" xlink:href=\"#m02732c50aa\" y=\"190.047273\"/>\r\n      </g>\r\n     </g>\r\n     <g id=\"text_9\">\r\n      <!-- 425.25 -->\r\n      <g transform=\"translate(7.2 193.846491)scale(0.1 -0.1)\">\r\n       <use xlink:href=\"#DejaVuSans-52\"/>\r\n       <use x=\"63.623047\" xlink:href=\"#DejaVuSans-50\"/>\r\n       <use x=\"127.246094\" xlink:href=\"#DejaVuSans-53\"/>\r\n       <use x=\"190.869141\" xlink:href=\"#DejaVuSans-46\"/>\r\n       <use x=\"222.65625\" xlink:href=\"#DejaVuSans-50\"/>\r\n       <use x=\"286.279297\" xlink:href=\"#DejaVuSans-53\"/>\r\n      </g>\r\n     </g>\r\n    </g>\r\n    <g id=\"ytick_3\">\r\n     <g id=\"line2d_19\">\r\n      <path clip-path=\"url(#p04ec15bd0e)\" d=\"M 49.190625 165.338182 \r\nL 383.990625 165.338182 \r\n\" style=\"fill:none;stroke:#b0b0b0;stroke-linecap:square;stroke-width:0.8;\"/>\r\n     </g>\r\n     <g id=\"line2d_20\">\r\n      <g>\r\n       <use style=\"stroke:#000000;stroke-width:0.8;\" x=\"49.190625\" xlink:href=\"#m02732c50aa\" y=\"165.338182\"/>\r\n      </g>\r\n     </g>\r\n     <g id=\"text_10\">\r\n      <!-- 425.50 -->\r\n      <g transform=\"translate(7.2 169.137401)scale(0.1 -0.1)\">\r\n       <use xlink:href=\"#DejaVuSans-52\"/>\r\n       <use x=\"63.623047\" xlink:href=\"#DejaVuSans-50\"/>\r\n       <use x=\"127.246094\" xlink:href=\"#DejaVuSans-53\"/>\r\n       <use x=\"190.869141\" xlink:href=\"#DejaVuSans-46\"/>\r\n       <use x=\"222.65625\" xlink:href=\"#DejaVuSans-53\"/>\r\n       <use x=\"286.279297\" xlink:href=\"#DejaVuSans-48\"/>\r\n      </g>\r\n     </g>\r\n    </g>\r\n    <g id=\"ytick_4\">\r\n     <g id=\"line2d_21\">\r\n      <path clip-path=\"url(#p04ec15bd0e)\" d=\"M 49.190625 140.629091 \r\nL 383.990625 140.629091 \r\n\" style=\"fill:none;stroke:#b0b0b0;stroke-linecap:square;stroke-width:0.8;\"/>\r\n     </g>\r\n     <g id=\"line2d_22\">\r\n      <g>\r\n       <use style=\"stroke:#000000;stroke-width:0.8;\" x=\"49.190625\" xlink:href=\"#m02732c50aa\" y=\"140.629091\"/>\r\n      </g>\r\n     </g>\r\n     <g id=\"text_11\">\r\n      <!-- 425.75 -->\r\n      <defs>\r\n       <path d=\"M 8.203125 72.90625 \r\nL 55.078125 72.90625 \r\nL 55.078125 68.703125 \r\nL 28.609375 0 \r\nL 18.3125 0 \r\nL 43.21875 64.59375 \r\nL 8.203125 64.59375 \r\nz\r\n\" id=\"DejaVuSans-55\"/>\r\n      </defs>\r\n      <g transform=\"translate(7.2 144.42831)scale(0.1 -0.1)\">\r\n       <use xlink:href=\"#DejaVuSans-52\"/>\r\n       <use x=\"63.623047\" xlink:href=\"#DejaVuSans-50\"/>\r\n       <use x=\"127.246094\" xlink:href=\"#DejaVuSans-53\"/>\r\n       <use x=\"190.869141\" xlink:href=\"#DejaVuSans-46\"/>\r\n       <use x=\"222.65625\" xlink:href=\"#DejaVuSans-55\"/>\r\n       <use x=\"286.279297\" xlink:href=\"#DejaVuSans-53\"/>\r\n      </g>\r\n     </g>\r\n    </g>\r\n    <g id=\"ytick_5\">\r\n     <g id=\"line2d_23\">\r\n      <path clip-path=\"url(#p04ec15bd0e)\" d=\"M 49.190625 115.92 \r\nL 383.990625 115.92 \r\n\" style=\"fill:none;stroke:#b0b0b0;stroke-linecap:square;stroke-width:0.8;\"/>\r\n     </g>\r\n     <g id=\"line2d_24\">\r\n      <g>\r\n       <use style=\"stroke:#000000;stroke-width:0.8;\" x=\"49.190625\" xlink:href=\"#m02732c50aa\" y=\"115.92\"/>\r\n      </g>\r\n     </g>\r\n     <g id=\"text_12\">\r\n      <!-- 426.00 -->\r\n      <defs>\r\n       <path d=\"M 33.015625 40.375 \r\nQ 26.375 40.375 22.484375 35.828125 \r\nQ 18.609375 31.296875 18.609375 23.390625 \r\nQ 18.609375 15.53125 22.484375 10.953125 \r\nQ 26.375 6.390625 33.015625 6.390625 \r\nQ 39.65625 6.390625 43.53125 10.953125 \r\nQ 47.40625 15.53125 47.40625 23.390625 \r\nQ 47.40625 31.296875 43.53125 35.828125 \r\nQ 39.65625 40.375 33.015625 40.375 \r\nz\r\nM 52.59375 71.296875 \r\nL 52.59375 62.3125 \r\nQ 48.875 64.0625 45.09375 64.984375 \r\nQ 41.3125 65.921875 37.59375 65.921875 \r\nQ 27.828125 65.921875 22.671875 59.328125 \r\nQ 17.53125 52.734375 16.796875 39.40625 \r\nQ 19.671875 43.65625 24.015625 45.921875 \r\nQ 28.375 48.1875 33.59375 48.1875 \r\nQ 44.578125 48.1875 50.953125 41.515625 \r\nQ 57.328125 34.859375 57.328125 23.390625 \r\nQ 57.328125 12.15625 50.6875 5.359375 \r\nQ 44.046875 -1.421875 33.015625 -1.421875 \r\nQ 20.359375 -1.421875 13.671875 8.265625 \r\nQ 6.984375 17.96875 6.984375 36.375 \r\nQ 6.984375 53.65625 15.1875 63.9375 \r\nQ 23.390625 74.21875 37.203125 74.21875 \r\nQ 40.921875 74.21875 44.703125 73.484375 \r\nQ 48.484375 72.75 52.59375 71.296875 \r\nz\r\n\" id=\"DejaVuSans-54\"/>\r\n      </defs>\r\n      <g transform=\"translate(7.2 119.719219)scale(0.1 -0.1)\">\r\n       <use xlink:href=\"#DejaVuSans-52\"/>\r\n       <use x=\"63.623047\" xlink:href=\"#DejaVuSans-50\"/>\r\n       <use x=\"127.246094\" xlink:href=\"#DejaVuSans-54\"/>\r\n       <use x=\"190.869141\" xlink:href=\"#DejaVuSans-46\"/>\r\n       <use x=\"222.65625\" xlink:href=\"#DejaVuSans-48\"/>\r\n       <use x=\"286.279297\" xlink:href=\"#DejaVuSans-48\"/>\r\n      </g>\r\n     </g>\r\n    </g>\r\n    <g id=\"ytick_6\">\r\n     <g id=\"line2d_25\">\r\n      <path clip-path=\"url(#p04ec15bd0e)\" d=\"M 49.190625 91.210909 \r\nL 383.990625 91.210909 \r\n\" style=\"fill:none;stroke:#b0b0b0;stroke-linecap:square;stroke-width:0.8;\"/>\r\n     </g>\r\n     <g id=\"line2d_26\">\r\n      <g>\r\n       <use style=\"stroke:#000000;stroke-width:0.8;\" x=\"49.190625\" xlink:href=\"#m02732c50aa\" y=\"91.210909\"/>\r\n      </g>\r\n     </g>\r\n     <g id=\"text_13\">\r\n      <!-- 426.25 -->\r\n      <g transform=\"translate(7.2 95.010128)scale(0.1 -0.1)\">\r\n       <use xlink:href=\"#DejaVuSans-52\"/>\r\n       <use x=\"63.623047\" xlink:href=\"#DejaVuSans-50\"/>\r\n       <use x=\"127.246094\" xlink:href=\"#DejaVuSans-54\"/>\r\n       <use x=\"190.869141\" xlink:href=\"#DejaVuSans-46\"/>\r\n       <use x=\"222.65625\" xlink:href=\"#DejaVuSans-50\"/>\r\n       <use x=\"286.279297\" xlink:href=\"#DejaVuSans-53\"/>\r\n      </g>\r\n     </g>\r\n    </g>\r\n    <g id=\"ytick_7\">\r\n     <g id=\"line2d_27\">\r\n      <path clip-path=\"url(#p04ec15bd0e)\" d=\"M 49.190625 66.501818 \r\nL 383.990625 66.501818 \r\n\" style=\"fill:none;stroke:#b0b0b0;stroke-linecap:square;stroke-width:0.8;\"/>\r\n     </g>\r\n     <g id=\"line2d_28\">\r\n      <g>\r\n       <use style=\"stroke:#000000;stroke-width:0.8;\" x=\"49.190625\" xlink:href=\"#m02732c50aa\" y=\"66.501818\"/>\r\n      </g>\r\n     </g>\r\n     <g id=\"text_14\">\r\n      <!-- 426.50 -->\r\n      <g transform=\"translate(7.2 70.301037)scale(0.1 -0.1)\">\r\n       <use xlink:href=\"#DejaVuSans-52\"/>\r\n       <use x=\"63.623047\" xlink:href=\"#DejaVuSans-50\"/>\r\n       <use x=\"127.246094\" xlink:href=\"#DejaVuSans-54\"/>\r\n       <use x=\"190.869141\" xlink:href=\"#DejaVuSans-46\"/>\r\n       <use x=\"222.65625\" xlink:href=\"#DejaVuSans-53\"/>\r\n       <use x=\"286.279297\" xlink:href=\"#DejaVuSans-48\"/>\r\n      </g>\r\n     </g>\r\n    </g>\r\n    <g id=\"ytick_8\">\r\n     <g id=\"line2d_29\">\r\n      <path clip-path=\"url(#p04ec15bd0e)\" d=\"M 49.190625 41.792727 \r\nL 383.990625 41.792727 \r\n\" style=\"fill:none;stroke:#b0b0b0;stroke-linecap:square;stroke-width:0.8;\"/>\r\n     </g>\r\n     <g id=\"line2d_30\">\r\n      <g>\r\n       <use style=\"stroke:#000000;stroke-width:0.8;\" x=\"49.190625\" xlink:href=\"#m02732c50aa\" y=\"41.792727\"/>\r\n      </g>\r\n     </g>\r\n     <g id=\"text_15\">\r\n      <!-- 426.75 -->\r\n      <g transform=\"translate(7.2 45.591946)scale(0.1 -0.1)\">\r\n       <use xlink:href=\"#DejaVuSans-52\"/>\r\n       <use x=\"63.623047\" xlink:href=\"#DejaVuSans-50\"/>\r\n       <use x=\"127.246094\" xlink:href=\"#DejaVuSans-54\"/>\r\n       <use x=\"190.869141\" xlink:href=\"#DejaVuSans-46\"/>\r\n       <use x=\"222.65625\" xlink:href=\"#DejaVuSans-55\"/>\r\n       <use x=\"286.279297\" xlink:href=\"#DejaVuSans-53\"/>\r\n      </g>\r\n     </g>\r\n    </g>\r\n    <g id=\"ytick_9\">\r\n     <g id=\"line2d_31\">\r\n      <path clip-path=\"url(#p04ec15bd0e)\" d=\"M 49.190625 17.083636 \r\nL 383.990625 17.083636 \r\n\" style=\"fill:none;stroke:#b0b0b0;stroke-linecap:square;stroke-width:0.8;\"/>\r\n     </g>\r\n     <g id=\"line2d_32\">\r\n      <g>\r\n       <use style=\"stroke:#000000;stroke-width:0.8;\" x=\"49.190625\" xlink:href=\"#m02732c50aa\" y=\"17.083636\"/>\r\n      </g>\r\n     </g>\r\n     <g id=\"text_16\">\r\n      <!-- 427.00 -->\r\n      <g transform=\"translate(7.2 20.882855)scale(0.1 -0.1)\">\r\n       <use xlink:href=\"#DejaVuSans-52\"/>\r\n       <use x=\"63.623047\" xlink:href=\"#DejaVuSans-50\"/>\r\n       <use x=\"127.246094\" xlink:href=\"#DejaVuSans-55\"/>\r\n       <use x=\"190.869141\" xlink:href=\"#DejaVuSans-46\"/>\r\n       <use x=\"222.65625\" xlink:href=\"#DejaVuSans-48\"/>\r\n       <use x=\"286.279297\" xlink:href=\"#DejaVuSans-48\"/>\r\n      </g>\r\n     </g>\r\n    </g>\r\n   </g>\r\n   <g id=\"line2d_33\">\r\n    <defs>\r\n     <path d=\"M 0 3 \r\nC 0.795609 3 1.55874 2.683901 2.12132 2.12132 \r\nC 2.683901 1.55874 3 0.795609 3 0 \r\nC 3 -0.795609 2.683901 -1.55874 2.12132 -2.12132 \r\nC 1.55874 -2.683901 0.795609 -3 0 -3 \r\nC -0.795609 -3 -1.55874 -2.683901 -2.12132 -2.12132 \r\nC -2.683901 -1.55874 -3 -0.795609 -3 0 \r\nC -3 0.795609 -2.683901 1.55874 -2.12132 2.12132 \r\nC -1.55874 2.683901 -0.795609 3 0 3 \r\nz\r\n\" id=\"mde7214d01b\" style=\"stroke:#ff0000;\"/>\r\n    </defs>\r\n    <g clip-path=\"url(#p04ec15bd0e)\">\r\n     <use style=\"fill:#ff0000;stroke:#ff0000;\" x=\"64.408813\" xlink:href=\"#mde7214d01b\" y=\"214.756364\"/>\r\n     <use style=\"fill:#ff0000;stroke:#ff0000;\" x=\"74.554321\" xlink:href=\"#mde7214d01b\" y=\"214.756364\"/>\r\n     <use style=\"fill:#ff0000;stroke:#ff0000;\" x=\"84.699707\" xlink:href=\"#mde7214d01b\" y=\"115.92\"/>\r\n     <use style=\"fill:#ff0000;stroke:#ff0000;\" x=\"115.136108\" xlink:href=\"#mde7214d01b\" y=\"115.92\"/>\r\n     <use style=\"fill:#ff0000;stroke:#ff0000;\" x=\"125.281494\" xlink:href=\"#mde7214d01b\" y=\"115.92\"/>\r\n     <use style=\"fill:#ff0000;stroke:#ff0000;\" x=\"135.427002\" xlink:href=\"#mde7214d01b\" y=\"115.92\"/>\r\n     <use style=\"fill:#ff0000;stroke:#ff0000;\" x=\"145.57251\" xlink:href=\"#mde7214d01b\" y=\"115.92\"/>\r\n     <use style=\"fill:#ff0000;stroke:#ff0000;\" x=\"155.717896\" xlink:href=\"#mde7214d01b\" y=\"115.92\"/>\r\n     <use style=\"fill:#ff0000;stroke:#ff0000;\" x=\"165.863403\" xlink:href=\"#mde7214d01b\" y=\"214.756364\"/>\r\n     <use style=\"fill:#ff0000;stroke:#ff0000;\" x=\"176.008911\" xlink:href=\"#mde7214d01b\" y=\"214.756364\"/>\r\n     <use style=\"fill:#ff0000;stroke:#ff0000;\" x=\"186.154297\" xlink:href=\"#mde7214d01b\" y=\"214.756364\"/>\r\n     <use style=\"fill:#ff0000;stroke:#ff0000;\" x=\"196.299805\" xlink:href=\"#mde7214d01b\" y=\"214.756364\"/>\r\n     <use style=\"fill:#ff0000;stroke:#ff0000;\" x=\"206.44519\" xlink:href=\"#mde7214d01b\" y=\"214.756364\"/>\r\n     <use style=\"fill:#ff0000;stroke:#ff0000;\" x=\"226.736206\" xlink:href=\"#mde7214d01b\" y=\"115.92\"/>\r\n     <use style=\"fill:#ff0000;stroke:#ff0000;\" x=\"236.881592\" xlink:href=\"#mde7214d01b\" y=\"115.92\"/>\r\n     <use style=\"fill:#ff0000;stroke:#ff0000;\" x=\"247.0271\" xlink:href=\"#mde7214d01b\" y=\"115.92\"/>\r\n     <use style=\"fill:#ff0000;stroke:#ff0000;\" x=\"257.172485\" xlink:href=\"#mde7214d01b\" y=\"115.92\"/>\r\n     <use style=\"fill:#ff0000;stroke:#ff0000;\" x=\"267.317993\" xlink:href=\"#mde7214d01b\" y=\"17.083636\"/>\r\n     <use style=\"fill:#ff0000;stroke:#ff0000;\" x=\"277.463379\" xlink:href=\"#mde7214d01b\" y=\"17.083636\"/>\r\n     <use style=\"fill:#ff0000;stroke:#ff0000;\" x=\"287.608887\" xlink:href=\"#mde7214d01b\" y=\"17.083636\"/>\r\n     <use style=\"fill:#ff0000;stroke:#ff0000;\" x=\"297.754272\" xlink:href=\"#mde7214d01b\" y=\"17.083636\"/>\r\n     <use style=\"fill:#ff0000;stroke:#ff0000;\" x=\"307.89978\" xlink:href=\"#mde7214d01b\" y=\"17.083636\"/>\r\n     <use style=\"fill:#ff0000;stroke:#ff0000;\" x=\"318.045288\" xlink:href=\"#mde7214d01b\" y=\"17.083636\"/>\r\n     <use style=\"fill:#ff0000;stroke:#ff0000;\" x=\"328.190674\" xlink:href=\"#mde7214d01b\" y=\"17.083636\"/>\r\n     <use style=\"fill:#ff0000;stroke:#ff0000;\" x=\"338.336182\" xlink:href=\"#mde7214d01b\" y=\"17.083636\"/>\r\n     <use style=\"fill:#ff0000;stroke:#ff0000;\" x=\"348.481567\" xlink:href=\"#mde7214d01b\" y=\"17.083636\"/>\r\n     <use style=\"fill:#ff0000;stroke:#ff0000;\" x=\"358.627075\" xlink:href=\"#mde7214d01b\" y=\"115.92\"/>\r\n     <use style=\"fill:#ff0000;stroke:#ff0000;\" x=\"368.772461\" xlink:href=\"#mde7214d01b\" y=\"115.92\"/>\r\n    </g>\r\n   </g>\r\n   <g id=\"line2d_34\">\r\n    <path clip-path=\"url(#p04ec15bd0e)\" d=\"M 64.408813 214.756364 \r\nL 74.554321 214.756364 \r\nL 84.699707 115.92 \r\nL 115.136108 115.92 \r\nL 125.281494 115.92 \r\nL 135.427002 115.92 \r\nL 145.57251 115.92 \r\nL 155.717896 115.92 \r\nL 165.863403 214.756364 \r\nL 176.008911 214.756364 \r\nL 186.154297 214.756364 \r\nL 196.299805 214.756364 \r\nL 206.44519 214.756364 \r\nL 226.736206 115.92 \r\nL 236.881592 115.92 \r\nL 247.0271 115.92 \r\nL 257.172485 115.92 \r\nL 267.317993 17.083636 \r\nL 277.463379 17.083636 \r\nL 287.608887 17.083636 \r\nL 297.754272 17.083636 \r\nL 307.89978 17.083636 \r\nL 318.045288 17.083636 \r\nL 328.190674 17.083636 \r\nL 338.336182 17.083636 \r\nL 348.481567 17.083636 \r\nL 358.627075 115.92 \r\nL 368.772461 115.92 \r\n\" style=\"fill:none;stroke:#000000;stroke-linecap:square;stroke-width:1.5;\"/>\r\n   </g>\r\n   <g id=\"patch_3\">\r\n    <path d=\"M 49.190625 224.64 \r\nL 49.190625 7.2 \r\n\" style=\"fill:none;stroke:#000000;stroke-linecap:square;stroke-linejoin:miter;stroke-width:0.8;\"/>\r\n   </g>\r\n   <g id=\"patch_4\">\r\n    <path d=\"M 383.990625 224.64 \r\nL 383.990625 7.2 \r\n\" style=\"fill:none;stroke:#000000;stroke-linecap:square;stroke-linejoin:miter;stroke-width:0.8;\"/>\r\n   </g>\r\n   <g id=\"patch_5\">\r\n    <path d=\"M 49.190674 224.64 \r\nL 383.990601 224.64 \r\n\" style=\"fill:none;stroke:#000000;stroke-linecap:square;stroke-linejoin:miter;stroke-width:0.8;\"/>\r\n   </g>\r\n   <g id=\"patch_6\">\r\n    <path d=\"M 49.190674 7.2 \r\nL 383.990601 7.2 \r\n\" style=\"fill:none;stroke:#000000;stroke-linecap:square;stroke-linejoin:miter;stroke-width:0.8;\"/>\r\n   </g>\r\n  </g>\r\n </g>\r\n <defs>\r\n  <clipPath id=\"p04ec15bd0e\">\r\n   <rect height=\"217.44\" width=\"334.8\" x=\"49.190625\" y=\"7.2\"/>\r\n  </clipPath>\r\n </defs>\r\n</svg>\r\n",
      "image/png": "[encoded data removed]"
     },
     "metadata": {
      "needs_background": "light"
     }
    }
   ],
   "source": [
    "#Select frame limits\n",
    "left  = datetime(2020, 3, 4, 8, 0, 10)\n",
    "right = datetime(2020, 3, 4, 8, 0, 40)\n",
    "leftFrame  = int(datetime.timestamp(left) - 25200.0)\n",
    "rightFrame = int(datetime.timestamp(right) - 25200.0)\n",
    "\n",
    "#leftFrame = filAllDataNP[0][0]  #Both indexes are inclusive\n",
    "#rightFrame = filAllDataNP[10][0] #Both indexes are inclusive\n",
    "\n",
    "fraAllDataNP, fraAllDataDF = windowSelect(filAllDataNP, leftFrame, rightFrame)"
   ]
  },
  {
   "cell_type": "code",
   "execution_count": 8,
   "metadata": {},
   "outputs": [
    {
     "output_type": "execute_result",
     "data": {
      "text/plain": "      UnixTime  GasData  RealData  Index            DateTime\n10  1583308810    425.0         1     10 2020-03-04 08:00:10\n11  1583308811    425.0         1     11 2020-03-04 08:00:11\n12  1583308812    426.0         1     12 2020-03-04 08:00:12\n15  1583308815    426.0         1     15 2020-03-04 08:00:15\n16  1583308816    426.0         1     16 2020-03-04 08:00:16\n17  1583308817    426.0         1     17 2020-03-04 08:00:17\n18  1583308818    426.0         1     18 2020-03-04 08:00:18\n19  1583308819    426.0         1     19 2020-03-04 08:00:19\n20  1583308820    425.0         1     20 2020-03-04 08:00:20\n21  1583308821    425.0         1     21 2020-03-04 08:00:21\n22  1583308822    425.0         1     22 2020-03-04 08:00:22\n23  1583308823    425.0         1     23 2020-03-04 08:00:23\n24  1583308824    425.0         1     24 2020-03-04 08:00:24\n26  1583308826    426.0         1     26 2020-03-04 08:00:26\n27  1583308827    426.0         1     27 2020-03-04 08:00:27\n28  1583308828    426.0         1     28 2020-03-04 08:00:28\n29  1583308829    426.0         1     29 2020-03-04 08:00:29\n30  1583308830    427.0         1     30 2020-03-04 08:00:30\n31  1583308831    427.0         1     31 2020-03-04 08:00:31\n32  1583308832    427.0         1     32 2020-03-04 08:00:32\n33  1583308833    427.0         1     33 2020-03-04 08:00:33\n34  1583308834    427.0         1     34 2020-03-04 08:00:34\n35  1583308835    427.0         1     35 2020-03-04 08:00:35\n36  1583308836    427.0         1     36 2020-03-04 08:00:36\n37  1583308837    427.0         1     37 2020-03-04 08:00:37\n38  1583308838    427.0         1     38 2020-03-04 08:00:38\n39  1583308839    426.0         1     39 2020-03-04 08:00:39\n40  1583308840    426.0         1     40 2020-03-04 08:00:40",
      "text/html": "<div>\n<style scoped>\n    .dataframe tbody tr th:only-of-type {\n        vertical-align: middle;\n    }\n\n    .dataframe tbody tr th {\n        vertical-align: top;\n    }\n\n    .dataframe thead th {\n        text-align: right;\n    }\n</style>\n<table border=\"1\" class=\"dataframe\">\n  <thead>\n    <tr style=\"text-align: right;\">\n      <th></th>\n      <th>UnixTime</th>\n      <th>GasData</th>\n      <th>RealData</th>\n      <th>Index</th>\n      <th>DateTime</th>\n    </tr>\n  </thead>\n  <tbody>\n    <tr>\n      <th>10</th>\n      <td>1583308810</td>\n      <td>425.0</td>\n      <td>1</td>\n      <td>10</td>\n      <td>2020-03-04 08:00:10</td>\n    </tr>\n    <tr>\n      <th>11</th>\n      <td>1583308811</td>\n      <td>425.0</td>\n      <td>1</td>\n      <td>11</td>\n      <td>2020-03-04 08:00:11</td>\n    </tr>\n    <tr>\n      <th>12</th>\n      <td>1583308812</td>\n      <td>426.0</td>\n      <td>1</td>\n      <td>12</td>\n      <td>2020-03-04 08:00:12</td>\n    </tr>\n    <tr>\n      <th>15</th>\n      <td>1583308815</td>\n      <td>426.0</td>\n      <td>1</td>\n      <td>15</td>\n      <td>2020-03-04 08:00:15</td>\n    </tr>\n    <tr>\n      <th>16</th>\n      <td>1583308816</td>\n      <td>426.0</td>\n      <td>1</td>\n      <td>16</td>\n      <td>2020-03-04 08:00:16</td>\n    </tr>\n    <tr>\n      <th>17</th>\n      <td>1583308817</td>\n      <td>426.0</td>\n      <td>1</td>\n      <td>17</td>\n      <td>2020-03-04 08:00:17</td>\n    </tr>\n    <tr>\n      <th>18</th>\n      <td>1583308818</td>\n      <td>426.0</td>\n      <td>1</td>\n      <td>18</td>\n      <td>2020-03-04 08:00:18</td>\n    </tr>\n    <tr>\n      <th>19</th>\n      <td>1583308819</td>\n      <td>426.0</td>\n      <td>1</td>\n      <td>19</td>\n      <td>2020-03-04 08:00:19</td>\n    </tr>\n    <tr>\n      <th>20</th>\n      <td>1583308820</td>\n      <td>425.0</td>\n      <td>1</td>\n      <td>20</td>\n      <td>2020-03-04 08:00:20</td>\n    </tr>\n    <tr>\n      <th>21</th>\n      <td>1583308821</td>\n      <td>425.0</td>\n      <td>1</td>\n      <td>21</td>\n      <td>2020-03-04 08:00:21</td>\n    </tr>\n    <tr>\n      <th>22</th>\n      <td>1583308822</td>\n      <td>425.0</td>\n      <td>1</td>\n      <td>22</td>\n      <td>2020-03-04 08:00:22</td>\n    </tr>\n    <tr>\n      <th>23</th>\n      <td>1583308823</td>\n      <td>425.0</td>\n      <td>1</td>\n      <td>23</td>\n      <td>2020-03-04 08:00:23</td>\n    </tr>\n    <tr>\n      <th>24</th>\n      <td>1583308824</td>\n      <td>425.0</td>\n      <td>1</td>\n      <td>24</td>\n      <td>2020-03-04 08:00:24</td>\n    </tr>\n    <tr>\n      <th>26</th>\n      <td>1583308826</td>\n      <td>426.0</td>\n      <td>1</td>\n      <td>26</td>\n      <td>2020-03-04 08:00:26</td>\n    </tr>\n    <tr>\n      <th>27</th>\n      <td>1583308827</td>\n      <td>426.0</td>\n      <td>1</td>\n      <td>27</td>\n      <td>2020-03-04 08:00:27</td>\n    </tr>\n    <tr>\n      <th>28</th>\n      <td>1583308828</td>\n      <td>426.0</td>\n      <td>1</td>\n      <td>28</td>\n      <td>2020-03-04 08:00:28</td>\n    </tr>\n    <tr>\n      <th>29</th>\n      <td>1583308829</td>\n      <td>426.0</td>\n      <td>1</td>\n      <td>29</td>\n      <td>2020-03-04 08:00:29</td>\n    </tr>\n    <tr>\n      <th>30</th>\n      <td>1583308830</td>\n      <td>427.0</td>\n      <td>1</td>\n      <td>30</td>\n      <td>2020-03-04 08:00:30</td>\n    </tr>\n    <tr>\n      <th>31</th>\n      <td>1583308831</td>\n      <td>427.0</td>\n      <td>1</td>\n      <td>31</td>\n      <td>2020-03-04 08:00:31</td>\n    </tr>\n    <tr>\n      <th>32</th>\n      <td>1583308832</td>\n      <td>427.0</td>\n      <td>1</td>\n      <td>32</td>\n      <td>2020-03-04 08:00:32</td>\n    </tr>\n    <tr>\n      <th>33</th>\n      <td>1583308833</td>\n      <td>427.0</td>\n      <td>1</td>\n      <td>33</td>\n      <td>2020-03-04 08:00:33</td>\n    </tr>\n    <tr>\n      <th>34</th>\n      <td>1583308834</td>\n      <td>427.0</td>\n      <td>1</td>\n      <td>34</td>\n      <td>2020-03-04 08:00:34</td>\n    </tr>\n    <tr>\n      <th>35</th>\n      <td>1583308835</td>\n      <td>427.0</td>\n      <td>1</td>\n      <td>35</td>\n      <td>2020-03-04 08:00:35</td>\n    </tr>\n    <tr>\n      <th>36</th>\n      <td>1583308836</td>\n      <td>427.0</td>\n      <td>1</td>\n      <td>36</td>\n      <td>2020-03-04 08:00:36</td>\n    </tr>\n    <tr>\n      <th>37</th>\n      <td>1583308837</td>\n      <td>427.0</td>\n      <td>1</td>\n      <td>37</td>\n      <td>2020-03-04 08:00:37</td>\n    </tr>\n    <tr>\n      <th>38</th>\n      <td>1583308838</td>\n      <td>427.0</td>\n      <td>1</td>\n      <td>38</td>\n      <td>2020-03-04 08:00:38</td>\n    </tr>\n    <tr>\n      <th>39</th>\n      <td>1583308839</td>\n      <td>426.0</td>\n      <td>1</td>\n      <td>39</td>\n      <td>2020-03-04 08:00:39</td>\n    </tr>\n    <tr>\n      <th>40</th>\n      <td>1583308840</td>\n      <td>426.0</td>\n      <td>1</td>\n      <td>40</td>\n      <td>2020-03-04 08:00:40</td>\n    </tr>\n  </tbody>\n</table>\n</div>"
     },
     "metadata": {},
     "execution_count": 8
    }
   ],
   "source": [
    "fraAllDataDF"
   ]
  },
  {
   "cell_type": "markdown",
   "execution_count": null,
   "metadata": {},
   "outputs": [],
   "source": [
    "## Missing Data\n",
    "Missing datapoints due to filtering of bad data, node shutdowns, module malfunctions"
   ]
  },
  {
   "cell_type": "code",
   "execution_count": 9,
   "metadata": {},
   "outputs": [
    {
     "output_type": "stream",
     "name": "stdout",
     "text": "0 missing points from ['rawAllDataNP']\n7 missing points from ['filAllDataNP']\n3 missing points from ['fraAllDataNP']\n"
    }
   ],
   "source": [
    "def missingDataDeterminer(data):\n",
    "    leftFrameUnix  = data[0][0]\n",
    "    rightFrameUnix = data[-1][0] \n",
    "    spanFrameUnix  = np.arange(leftFrameUnix, rightFrameUnix+1)\n",
    "    missingData    = np.array([])\n",
    "\n",
    "    s = set(data[:,0])\n",
    "    for i in range(0, len(spanFrameUnix)):\n",
    "        if spanFrameUnix[i] not in s:\n",
    "            missingData = np.append(missingData, spanFrameUnix[i]) \n",
    "    print(len(missingData), \"missing points from\", [name for name in globals() if globals()   \n",
    "        [name] is data])\n",
    "    return missingData\n",
    "\n",
    "rawMissingData = missingDataDeterminer(rawAllDataNP)\n",
    "filMissingData = missingDataDeterminer(filAllDataNP)\n",
    "fraMissingData = missingDataDeterminer(fraAllDataNP)"
   ]
  },
  {
   "cell_type": "code",
   "execution_count": 10,
   "metadata": {},
   "outputs": [],
   "source": [
    "#Clear Space\n",
    "%reset_selective rawAllDataDF, rawAllDataNP\n",
    "#filAllDataDF = rawAllDataDF[~rawAllDataDF.index.isin(fullRemovalIndices)]"
   ]
  },
  {
   "cell_type": "markdown",
   "execution_count": null,
   "metadata": {},
   "outputs": [],
   "source": [
    "## Estimate Data\n",
    "If there is a missing data point in between two real data, make an estimation"
   ]
  },
  {
   "cell_type": "code",
   "execution_count": 27,
   "metadata": {},
   "outputs": [],
   "source": [
    "#Perform estimation for every missing index\n",
    "def estimateData(missingFra):  \n",
    "    misGas  = np.array([])\n",
    "    misReal = np.zeros((len(missingFra)))\n",
    "    missingFra = missingFra.astype(int) \n",
    "\n",
    "    for j in missingFra:\n",
    "        left  = j - 1\n",
    "        right = j + 1\n",
    "        #Check that bordering points exist\n",
    "        if((left in filAllDataNP[:,0])&(right in filAllDataNP[:,0]))==True:\n",
    "            leftIndex  = np.where(filAllDataNP[:,0] == left)\n",
    "            rightIndex = np.where(filAllDataNP[:,0] == right)\n",
    "            leftData   = filAllDataNP[leftIndex[0][0]][1]\n",
    "            rightData  = filAllDataNP[rightIndex[0][0]][1]\n",
    "            #Check that bordering points are close in value\n",
    "            if (abs(leftData - rightData) <= 1) :\n",
    "                midData = (leftData + rightData) / 2\n",
    "                misGas  = np.append(misGas, midData)\n",
    "            else:\n",
    "                misGas  = np.append(misGas, None)\n",
    "        else:\n",
    "            misGas  = np.append(misGas, None)\n",
    "    print(missingFra)\n",
    "    print(misGas)\n",
    "    print(misReal)\n",
    "    estUnix = np.concatenate((fraAllDataNP[:,0], missingFra), axis = 0)    \n",
    "    estGas  = np.concatenate((fraAllDataNP[:,1], misGas),     axis = 0)\n",
    "    estReal = np.concatenate((fraAllDataNP[:,2], misReal),    axis = 0)\n",
    "    df = pd.DataFrame(np.column_stack((estUnix, estGas, estReal)))\n",
    "    df.columns     = ['UnixTime', 'GasData', 'RealData']\n",
    "\n",
    "    dfs = df.sort_values(by = ['UnixTime'], inplace = False)\n",
    "    dfs = dfs.reset_index(drop=True)\n",
    "    dfs['DateTime'] = pd.to_datetime(dfs.iloc[:,0], unit = 's')\n",
    "    dfs.GasData = dfs.GasData.astype(float)\n",
    "    dfs.RealData = dfs.RealData.astype(int)\n",
    "\n",
    "    #Drop Zeros and Null\n",
    "    #dfs = dfs[dfs.GasData != 0.0]\n",
    "    #dfs = dfs[dfs.GasData.notnull()]\n",
    "\n",
    "    estAllDataDF = dfs\n",
    "    estAllDataNP = estAllDataDF.to_numpy()\n",
    "    nanCounter = estAllDataDF.GasData.isna().sum()\n",
    "    return estAllDataNP, estAllDataDF, nanCounter"
   ]
  },
  {
   "cell_type": "code",
   "execution_count": 29,
   "metadata": {},
   "outputs": [
    {
     "output_type": "stream",
     "name": "stdout",
     "text": "[1583308813 1583308814 1583308825]\n[None None 425.5]\n[0. 0. 0.]\n"
    }
   ],
   "source": [
    "estAllDataNP, estAllDataDF, nanCounter = estimateData(fraMissingData)"
   ]
  },
  {
   "cell_type": "code",
   "execution_count": 30,
   "metadata": {},
   "outputs": [
    {
     "output_type": "execute_result",
     "data": {
      "text/plain": "      UnixTime  GasData  RealData            DateTime\n0   1583308810    425.0         1 2020-03-04 08:00:10\n1   1583308811    425.0         1 2020-03-04 08:00:11\n2   1583308812    426.0         1 2020-03-04 08:00:12\n3   1583308813      NaN         0 2020-03-04 08:00:13\n4   1583308814      NaN         0 2020-03-04 08:00:14\n5   1583308815    426.0         1 2020-03-04 08:00:15\n6   1583308816    426.0         1 2020-03-04 08:00:16\n7   1583308817    426.0         1 2020-03-04 08:00:17\n8   1583308818    426.0         1 2020-03-04 08:00:18\n9   1583308819    426.0         1 2020-03-04 08:00:19\n10  1583308820    425.0         1 2020-03-04 08:00:20\n11  1583308821    425.0         1 2020-03-04 08:00:21\n12  1583308822    425.0         1 2020-03-04 08:00:22\n13  1583308823    425.0         1 2020-03-04 08:00:23\n14  1583308824    425.0         1 2020-03-04 08:00:24\n15  1583308825    425.5         0 2020-03-04 08:00:25\n16  1583308826    426.0         1 2020-03-04 08:00:26\n17  1583308827    426.0         1 2020-03-04 08:00:27\n18  1583308828    426.0         1 2020-03-04 08:00:28\n19  1583308829    426.0         1 2020-03-04 08:00:29\n20  1583308830    427.0         1 2020-03-04 08:00:30\n21  1583308831    427.0         1 2020-03-04 08:00:31\n22  1583308832    427.0         1 2020-03-04 08:00:32\n23  1583308833    427.0         1 2020-03-04 08:00:33\n24  1583308834    427.0         1 2020-03-04 08:00:34\n25  1583308835    427.0         1 2020-03-04 08:00:35\n26  1583308836    427.0         1 2020-03-04 08:00:36\n27  1583308837    427.0         1 2020-03-04 08:00:37\n28  1583308838    427.0         1 2020-03-04 08:00:38\n29  1583308839    426.0         1 2020-03-04 08:00:39\n30  1583308840    426.0         1 2020-03-04 08:00:40",
      "text/html": "<div>\n<style scoped>\n    .dataframe tbody tr th:only-of-type {\n        vertical-align: middle;\n    }\n\n    .dataframe tbody tr th {\n        vertical-align: top;\n    }\n\n    .dataframe thead th {\n        text-align: right;\n    }\n</style>\n<table border=\"1\" class=\"dataframe\">\n  <thead>\n    <tr style=\"text-align: right;\">\n      <th></th>\n      <th>UnixTime</th>\n      <th>GasData</th>\n      <th>RealData</th>\n      <th>DateTime</th>\n    </tr>\n  </thead>\n  <tbody>\n    <tr>\n      <th>0</th>\n      <td>1583308810</td>\n      <td>425.0</td>\n      <td>1</td>\n      <td>2020-03-04 08:00:10</td>\n    </tr>\n    <tr>\n      <th>1</th>\n      <td>1583308811</td>\n      <td>425.0</td>\n      <td>1</td>\n      <td>2020-03-04 08:00:11</td>\n    </tr>\n    <tr>\n      <th>2</th>\n      <td>1583308812</td>\n      <td>426.0</td>\n      <td>1</td>\n      <td>2020-03-04 08:00:12</td>\n    </tr>\n    <tr>\n      <th>3</th>\n      <td>1583308813</td>\n      <td>NaN</td>\n      <td>0</td>\n      <td>2020-03-04 08:00:13</td>\n    </tr>\n    <tr>\n      <th>4</th>\n      <td>1583308814</td>\n      <td>NaN</td>\n      <td>0</td>\n      <td>2020-03-04 08:00:14</td>\n    </tr>\n    <tr>\n      <th>5</th>\n      <td>1583308815</td>\n      <td>426.0</td>\n      <td>1</td>\n      <td>2020-03-04 08:00:15</td>\n    </tr>\n    <tr>\n      <th>6</th>\n      <td>1583308816</td>\n      <td>426.0</td>\n      <td>1</td>\n      <td>2020-03-04 08:00:16</td>\n    </tr>\n    <tr>\n      <th>7</th>\n      <td>1583308817</td>\n      <td>426.0</td>\n      <td>1</td>\n      <td>2020-03-04 08:00:17</td>\n    </tr>\n    <tr>\n      <th>8</th>\n      <td>1583308818</td>\n      <td>426.0</td>\n      <td>1</td>\n      <td>2020-03-04 08:00:18</td>\n    </tr>\n    <tr>\n      <th>9</th>\n      <td>1583308819</td>\n      <td>426.0</td>\n      <td>1</td>\n      <td>2020-03-04 08:00:19</td>\n    </tr>\n    <tr>\n      <th>10</th>\n      <td>1583308820</td>\n      <td>425.0</td>\n      <td>1</td>\n      <td>2020-03-04 08:00:20</td>\n    </tr>\n    <tr>\n      <th>11</th>\n      <td>1583308821</td>\n      <td>425.0</td>\n      <td>1</td>\n      <td>2020-03-04 08:00:21</td>\n    </tr>\n    <tr>\n      <th>12</th>\n      <td>1583308822</td>\n      <td>425.0</td>\n      <td>1</td>\n      <td>2020-03-04 08:00:22</td>\n    </tr>\n    <tr>\n      <th>13</th>\n      <td>1583308823</td>\n      <td>425.0</td>\n      <td>1</td>\n      <td>2020-03-04 08:00:23</td>\n    </tr>\n    <tr>\n      <th>14</th>\n      <td>1583308824</td>\n      <td>425.0</td>\n      <td>1</td>\n      <td>2020-03-04 08:00:24</td>\n    </tr>\n    <tr>\n      <th>15</th>\n      <td>1583308825</td>\n      <td>425.5</td>\n      <td>0</td>\n      <td>2020-03-04 08:00:25</td>\n    </tr>\n    <tr>\n      <th>16</th>\n      <td>1583308826</td>\n      <td>426.0</td>\n      <td>1</td>\n      <td>2020-03-04 08:00:26</td>\n    </tr>\n    <tr>\n      <th>17</th>\n      <td>1583308827</td>\n      <td>426.0</td>\n      <td>1</td>\n      <td>2020-03-04 08:00:27</td>\n    </tr>\n    <tr>\n      <th>18</th>\n      <td>1583308828</td>\n      <td>426.0</td>\n      <td>1</td>\n      <td>2020-03-04 08:00:28</td>\n    </tr>\n    <tr>\n      <th>19</th>\n      <td>1583308829</td>\n      <td>426.0</td>\n      <td>1</td>\n      <td>2020-03-04 08:00:29</td>\n    </tr>\n    <tr>\n      <th>20</th>\n      <td>1583308830</td>\n      <td>427.0</td>\n      <td>1</td>\n      <td>2020-03-04 08:00:30</td>\n    </tr>\n    <tr>\n      <th>21</th>\n      <td>1583308831</td>\n      <td>427.0</td>\n      <td>1</td>\n      <td>2020-03-04 08:00:31</td>\n    </tr>\n    <tr>\n      <th>22</th>\n      <td>1583308832</td>\n      <td>427.0</td>\n      <td>1</td>\n      <td>2020-03-04 08:00:32</td>\n    </tr>\n    <tr>\n      <th>23</th>\n      <td>1583308833</td>\n      <td>427.0</td>\n      <td>1</td>\n      <td>2020-03-04 08:00:33</td>\n    </tr>\n    <tr>\n      <th>24</th>\n      <td>1583308834</td>\n      <td>427.0</td>\n      <td>1</td>\n      <td>2020-03-04 08:00:34</td>\n    </tr>\n    <tr>\n      <th>25</th>\n      <td>1583308835</td>\n      <td>427.0</td>\n      <td>1</td>\n      <td>2020-03-04 08:00:35</td>\n    </tr>\n    <tr>\n      <th>26</th>\n      <td>1583308836</td>\n      <td>427.0</td>\n      <td>1</td>\n      <td>2020-03-04 08:00:36</td>\n    </tr>\n    <tr>\n      <th>27</th>\n      <td>1583308837</td>\n      <td>427.0</td>\n      <td>1</td>\n      <td>2020-03-04 08:00:37</td>\n    </tr>\n    <tr>\n      <th>28</th>\n      <td>1583308838</td>\n      <td>427.0</td>\n      <td>1</td>\n      <td>2020-03-04 08:00:38</td>\n    </tr>\n    <tr>\n      <th>29</th>\n      <td>1583308839</td>\n      <td>426.0</td>\n      <td>1</td>\n      <td>2020-03-04 08:00:39</td>\n    </tr>\n    <tr>\n      <th>30</th>\n      <td>1583308840</td>\n      <td>426.0</td>\n      <td>1</td>\n      <td>2020-03-04 08:00:40</td>\n    </tr>\n  </tbody>\n</table>\n</div>"
     },
     "metadata": {},
     "execution_count": 30
    }
   ],
   "source": [
    "estAllDataDF"
   ]
  },
  {
   "cell_type": "code",
   "execution_count": null,
   "metadata": {},
   "outputs": [],
   "source": []
  },
  {
   "cell_type": "code",
   "execution_count": null,
   "metadata": {},
   "outputs": [],
   "source": []
  }
 ],
 "metadata": {
  "kernelspec": {
   "display_name": "Python 3",
   "language": "python",
   "name": "python3"
  },
  "language_info": {
   "codemirror_mode": {
    "name": "ipython",
    "version": 3
   },
   "file_extension": ".py",
   "mimetype": "text/x-python",
   "name": "python",
   "nbconvert_exporter": "python",
   "pygments_lexer": "ipython3",
   "version": "3.8.2-final"
  }
 },
 "nbformat": 4,
 "nbformat_minor": 2
}