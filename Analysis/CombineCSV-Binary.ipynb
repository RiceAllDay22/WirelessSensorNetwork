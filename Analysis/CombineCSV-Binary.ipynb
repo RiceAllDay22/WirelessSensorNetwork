{
 "nbformat": 4,
 "nbformat_minor": 2,
 "metadata": {
  "language_info": {
   "name": "python",
   "codemirror_mode": {
    "name": "ipython",
    "version": 3
   },
   "version": "3.8.2-final"
  },
  "orig_nbformat": 2,
  "file_extension": ".py",
  "mimetype": "text/x-python",
  "name": "python",
  "npconvert_exporter": "python",
  "pygments_lexer": "ipython3",
  "version": 3,
  "kernelspec": {
   "name": "python38232bitwirelesssensornetworkpipenve5e03a98fe554c36818b642f4ae55856",
   "display_name": "Python 3.8.2 32-bit ('WirelessSensorNetwork': pipenv)"
  }
 },
 "cells": [
  {
   "cell_type": "markdown",
   "metadata": {},
   "source": [
    "# Adriann Liceralde\n",
    "# Combine CSV - Binary"
   ]
  },
  {
   "cell_type": "code",
   "execution_count": 5,
   "metadata": {},
   "outputs": [],
   "source": [
    "import numpy as np\n",
    "import pandas as pd\n",
    "import os\n",
    "import glob"
   ]
  },
  {
   "cell_type": "code",
   "execution_count": 6,
   "metadata": {},
   "outputs": [],
   "source": [
    "# Set Working Directory\n",
    "user      = 'adria'\n",
    "subfolder = 'V 1.2.2'\n",
    "\n",
    "os.chdir('C:\\\\Users\\\\'+str(user)+'\\\\Desktop\\\\Repository\\\\WirelessSensorNetwork\\\\Data\\\\'\n",
    "         + str(subfolder))\n",
    "os.getcwd()\n",
    "\n",
    "extension = 'csv'\n",
    "all_filenames = [i for i in glob.glob('*.{}'.format(extension))]"
   ]
  },
  {
   "cell_type": "code",
   "execution_count": 7,
   "metadata": {
    "tags": [
     "outputPrepend",
     "outputPrepend",
     "outputPrepend",
     "outputPrepend",
     "outputPrepend",
     "outputPrepend",
     "outputPrepend",
     "outputPrepend",
     "outputPrepend",
     "outputPrepend",
     "outputPrepend",
     "outputPrepend",
     "outputPrepend",
     "outputPrepend",
     "outputPrepend",
     "outputPrepend"
    ]
   },
   "outputs": [
    {
     "output_type": "stream",
     "name": "stdout",
     "text": "File: 2020-03-01--11.csv\nSize: 3600\nFile: 2020-03-01--12.csv\nSize: 3600\nFile: 2020-03-01--13.csv\nSize: 3600\nFile: 2020-03-01--14.csv\nSize: 3600\nFile: 2020-03-01--15.csv\nSize: 3600\n"
    }
   ],
   "source": [
    "allUnixTime = np.array([])\n",
    "allGasData  = np.array([])\n",
    "for each in all_filenames:\n",
    "    f = open(each, \"rb\")\n",
    "    filesize = int(os.path.getsize(each))\n",
    "    print('File:', each)\n",
    "    print('Size:', filesize//8)\n",
    "    \n",
    "    for i in range(filesize//8):\n",
    "        unix = int.from_bytes(f.read(4), byteorder='little')\n",
    "        gas  = int.from_bytes(f.read(4), byteorder='little')\n",
    "        allUnixTime = np.append(allUnixTime, unix)\n",
    "        allGasData  = np.append(allGasData,  gas)"
   ]
  },
  {
   "cell_type": "code",
   "execution_count": 8,
   "metadata": {},
   "outputs": [],
   "source": [
    "CombineNP = np.column_stack((allUnixTime, allGasData))\n",
    "CombineDF = pd.DataFrame(CombineNP)\n",
    "CombineDF.columns  = ['UnixTime', 'GasData']\n",
    "CombineDF.UnixTime = CombineDF.UnixTime.astype(int)\n",
    "\n",
    "name = 'C-'+ str(all_filenames[0])[0:-8] + str('.csv')\n",
    "CombineDF.to_csv(name, index=False, encoding='utf-8-sig')"
   ]
  }
 ]
}