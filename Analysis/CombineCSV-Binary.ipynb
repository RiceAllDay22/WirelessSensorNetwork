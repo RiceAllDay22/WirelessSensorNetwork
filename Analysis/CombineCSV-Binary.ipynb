{
 "cells": [
  {
   "cell_type": "markdown",
   "metadata": {},
   "source": [
    "# Adriann Liceralde\n",
    "# Combine CSV - Binary"
   ]
  },
  {
   "cell_type": "code",
   "execution_count": 1,
   "metadata": {},
   "outputs": [],
   "source": [
    "import numpy as np\n",
    "import pandas as pd\n",
    "import os\n",
    "import glob"
   ]
  },
  {
   "cell_type": "code",
   "execution_count": 3,
   "metadata": {},
   "outputs": [],
   "source": [
    "# Set Working Directory\n",
    "user      = 'Adriann Liceralde'\n",
    "subfolder = 'V 1.4.1'\n",
    "\n",
    "os.chdir('C:\\\\Users\\\\'+str(user)+'\\\\Desktop\\\\Repository\\\\WirelessSensorNetwork\\\\Data\\\\'\n",
    "         + str(subfolder))\n",
    "os.getcwd()\n",
    "\n",
    "extension = 'csv'\n",
    "all_filenames = [i for i in glob.glob('*.{}'.format(extension))]"
   ]
  },
  {
   "cell_type": "code",
   "execution_count": 4,
   "metadata": {
    "tags": [
     "outputPrepend",
     "outputPrepend",
     "outputPrepend",
     "outputPrepend",
     "outputPrepend",
     "outputPrepend",
     "outputPrepend",
     "outputPrepend",
     "outputPrepend",
     "outputPrepend",
     "outputPrepend",
     "outputPrepend",
     "outputPrepend",
     "outputPrepend",
     "outputPrepend",
     "outputPrepend"
    ]
   },
   "outputs": [
    {
     "output_type": "stream",
     "name": "stdout",
     "text": "File: 2020-04-30--00.csv\nSize: 61\nFile: 2020-04-30--01.csv\nSize: 61\nFile: 2020-04-30--02.csv\nSize: 61\nFile: 2020-04-30--03.csv\nSize: 61\nFile: 2020-04-30--04.csv\nSize: 61\nFile: 2020-04-30--05.csv\nSize: 61\nFile: 2020-04-30--06.csv\nSize: 61\nFile: 2020-04-30--07.csv\nSize: 61\nFile: 2020-04-30--08.csv\nSize: 61\nFile: 2020-04-30--09.csv\nSize: 61\nFile: 2020-04-30--10.csv\nSize: 61\nFile: 2020-04-30--11.csv\nSize: 61\nFile: 2020-04-30--12.csv\nSize: 61\nFile: 2020-04-30--13.csv\nSize: 61\nFile: 2020-04-30--14.csv\nSize: 61\nFile: 2020-04-30--15.csv\nSize: 61\nFile: 2020-04-30--16.csv\nSize: 61\nFile: 2020-04-30--17.csv\nSize: 61\nFile: 2020-04-30--18.csv\nSize: 61\nFile: 2020-04-30--19.csv\nSize: 61\nFile: 2020-04-30--20.csv\nSize: 61\nFile: 2020-04-30--21.csv\nSize: 6\nFile: 2020-04-30--46.csv\nSize: 35\nFile: 2020-04-30--47.csv\nSize: 39\nFile: 2020-04-30--48.csv\nSize: 131\nFile: 2020-04-30--49.csv\nSize: 151\nFile: 2020-04-30--50.csv\nSize: 151\nFile: 2020-04-30--51.csv\nSize: 44\nFile: 2020-04-30--52.csv\nSize: 61\nFile: 2020-04-30--53.csv\nSize: 61\nFile: 2020-04-30--54.csv\nSize: 61\nFile: 2020-04-30--55.csv\nSize: 61\nFile: 2020-04-30--56.csv\nSize: 61\nFile: 2020-04-30--57.csv\nSize: 61\nFile: 2020-04-30--58.csv\nSize: 61\nFile: 2020-04-30--59.csv\nSize: 61\n"
    }
   ],
   "source": [
    "allUnixTime = np.array([])\n",
    "allGasData  = np.array([])\n",
    "for each in all_filenames:\n",
    "    f = open(each, \"rb\")\n",
    "    filesize = int(os.path.getsize(each))\n",
    "    print('File:', each)\n",
    "    print('Size:', filesize//8)\n",
    "    \n",
    "    for i in range(filesize//8):\n",
    "        unix = int.from_bytes(f.read(4), byteorder='little')\n",
    "        gas  = int.from_bytes(f.read(4), byteorder='little')\n",
    "        allUnixTime = np.append(allUnixTime, unix)\n",
    "        allGasData  = np.append(allGasData,  gas)"
   ]
  },
  {
   "cell_type": "code",
   "execution_count": 5,
   "metadata": {},
   "outputs": [],
   "source": [
    "CombineNP = np.column_stack((allUnixTime, allGasData))\n",
    "CombineDF = pd.DataFrame(CombineNP)\n",
    "CombineDF.columns  = ['UnixTime', 'GasData']\n",
    "CombineDF.UnixTime = CombineDF.UnixTime.astype(int)\n",
    "\n",
    "name = 'C-'+ str(all_filenames[0])[0:-8] + str('.csv')\n",
    "CombineDF.to_csv(name, index=False, encoding='utf-8-sig')"
   ]
  },
  {
   "cell_type": "code",
   "execution_count": null,
   "metadata": {},
   "outputs": [],
   "source": []
  }
 ],
 "metadata": {
  "language_info": {
   "name": "python",
   "codemirror_mode": {
    "name": "ipython",
    "version": 3
   },
   "version": "3.8.2-final"
  },
  "orig_nbformat": 2,
  "file_extension": ".py",
  "mimetype": "text/x-python",
  "name": "python",
  "npconvert_exporter": "python",
  "pygments_lexer": "ipython3",
  "version": 3,
  "kernelspec": {
   "name": "python38232bit185b7ce02e4047d7aa917c5b596acbb2",
   "display_name": "Python 3.8.2 32-bit"
  }
 },
 "nbformat": 4,
 "nbformat_minor": 2
}