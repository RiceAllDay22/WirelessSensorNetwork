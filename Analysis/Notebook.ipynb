{
 "cells": [
  {
   "cell_type": "markdown",
   "metadata": {},
   "source": [
    "# Notebook Test File\n",
    "#### Not Intended for final product"
   ]
  },
  {
   "cell_type": "markdown",
   "metadata": {},
   "source": [
    "## LIBRARIES"
   ]
  },
  {
   "cell_type": "code",
   "execution_count": 40,
   "metadata": {},
   "outputs": [],
   "source": [
    "import os\n",
    "import numpy as np\n",
    "import matplotlib.pyplot as plt\n",
    "import pandas as pd\n",
    "from datetime import datetime\n",
    "from statistics import mean\n",
    "import IPython.display"
   ]
  },
  {
   "cell_type": "markdown",
   "metadata": {},
   "source": [
    "## DATA SELCTION\n",
    "Incoming data has two columns: UNIXTIME and GASDATA"
   ]
  },
  {
   "cell_type": "code",
   "execution_count": 48,
   "metadata": {},
   "outputs": [
    {
     "data": {
      "text/html": "<div>\n<style scoped>\n    .dataframe tbody tr th:only-of-type {\n        vertical-align: middle;\n    }\n\n    .dataframe tbody tr th {\n        vertical-align: top;\n    }\n\n    .dataframe thead th {\n        text-align: right;\n    }\n</style>\n<table border=\"1\" class=\"dataframe\">\n  <thead>\n    <tr style=\"text-align: right;\">\n      <th></th>\n      <th>UNIXTIME</th>\n      <th>CO2</th>\n    </tr>\n  </thead>\n  <tbody>\n    <tr>\n      <th>0</th>\n      <td>1583193601</td>\n      <td>396.0</td>\n    </tr>\n    <tr>\n      <th>1</th>\n      <td>1583193602</td>\n      <td>396.0</td>\n    </tr>\n    <tr>\n      <th>2</th>\n      <td>1583193603</td>\n      <td>396.0</td>\n    </tr>\n    <tr>\n      <th>3</th>\n      <td>1583193604</td>\n      <td>396.0</td>\n    </tr>\n    <tr>\n      <th>4</th>\n      <td>1583193605</td>\n      <td>397.0</td>\n    </tr>\n    <tr>\n      <th>...</th>\n      <td>...</td>\n      <td>...</td>\n    </tr>\n    <tr>\n      <th>3595</th>\n      <td>1583197196</td>\n      <td>394.0</td>\n    </tr>\n    <tr>\n      <th>3596</th>\n      <td>1583197197</td>\n      <td>394.0</td>\n    </tr>\n    <tr>\n      <th>3597</th>\n      <td>1583197198</td>\n      <td>394.0</td>\n    </tr>\n    <tr>\n      <th>3598</th>\n      <td>1583197199</td>\n      <td>394.0</td>\n    </tr>\n    <tr>\n      <th>3599</th>\n      <td>1583197200</td>\n      <td>394.0</td>\n    </tr>\n  </tbody>\n</table>\n<p>3600 rows × 2 columns</p>\n</div>",
      "text/plain": "        UNIXTIME    CO2\n0     1583193601  396.0\n1     1583193602  396.0\n2     1583193603  396.0\n3     1583193604  396.0\n4     1583193605  397.0\n...          ...    ...\n3595  1583197196  394.0\n3596  1583197197  394.0\n3597  1583197198  394.0\n3598  1583197199  394.0\n3599  1583197200  394.0\n\n[3600 rows x 2 columns]"
     },
     "execution_count": 48,
     "metadata": {},
     "output_type": "execute_result"
    }
   ],
   "source": [
    "# Set Working Directory\n",
    "user = 'adria'\n",
    "subfolder = '1.1.0'\n",
    "file = '2020-03-03--00.csv'\n",
    "os.chdir('C:\\\\Users\\\\'+str(user)+'\\\\Desktop\\\\Repository\\\\WirelessSensorNetwork\\\\Data\\\\'\n",
    "         + str(subfolder))\n",
    "os.getcwd()\n",
    "data = pd.read_csv(file)\n",
    "data"
   ]
  },
  {
   "cell_type": "code",
   "execution_count": 105,
   "metadata": {},
   "outputs": [],
   "source": [
    "def importData(data):\n",
    "    UnixTime = np.array(data['UNIXTIME'],  dtype = float)\n",
    "    GasData  = np.array(data['CO2'],   dtype = float)\n",
    "    RealData = np.ones((len(UnixTime), 1), dtype = int)\n",
    "    Index    = np.arange(0, len(UnixTime))\n",
    "\n",
    "    rawAllDataDF = pd.DataFrame(np.column_stack((UnixTime, GasData, RealData, Index)))\n",
    "    rawAllDataDF['DateTime']    = pd.to_datetime(rawAllDataDF.iloc[:,0], unit = 's')\n",
    "    rawAllDataDF.columns = ['UnixTime', 'GasData', 'RealData', 'Index', 'DateTime']\n",
    "\n",
    "    rawAllDataDF = rawAllDataDF.drop_duplicates(subset='UnixTime', keep='first')\n",
    "    rawAllDataDF.RealData = rawAllDataDF.RealData.astype(int)\n",
    "\n",
    "    rawAllDataNP = rawAllDataDF.to_numpy()\n",
    "\n",
    "    return rawAllDataDF, rawAllDataNP\n",
    "rawAllDataDF, rawAllDataNP = importData(data)\n"
   ]
  },
  {
   "cell_type": "code",
   "execution_count": 108,
   "metadata": {},
   "outputs": [
    {
     "name": "stdout",
     "output_type": "stream",
     "text": "<class 'int'>\n1\n"
    }
   ],
   "source": [
    "print(type(rawAllDataNP[0,2]))\n",
    "print(rawAllDataNP[0,2])"
   ]
  },
  {
   "cell_type": "code",
   "execution_count": 107,
   "metadata": {},
   "outputs": [
    {
     "data": {
      "text/html": "<div>\n<style scoped>\n    .dataframe tbody tr th:only-of-type {\n        vertical-align: middle;\n    }\n\n    .dataframe tbody tr th {\n        vertical-align: top;\n    }\n\n    .dataframe thead th {\n        text-align: right;\n    }\n</style>\n<table border=\"1\" class=\"dataframe\">\n  <thead>\n    <tr style=\"text-align: right;\">\n      <th></th>\n      <th>UnixTime</th>\n      <th>GasData</th>\n      <th>RealData</th>\n      <th>Index</th>\n      <th>DateTime</th>\n    </tr>\n  </thead>\n  <tbody>\n    <tr>\n      <th>0</th>\n      <td>1.583194e+09</td>\n      <td>396.0</td>\n      <td>1</td>\n      <td>0.0</td>\n      <td>2020-03-03 00:00:01</td>\n    </tr>\n    <tr>\n      <th>1</th>\n      <td>1.583194e+09</td>\n      <td>396.0</td>\n      <td>1</td>\n      <td>1.0</td>\n      <td>2020-03-03 00:00:02</td>\n    </tr>\n    <tr>\n      <th>2</th>\n      <td>1.583194e+09</td>\n      <td>396.0</td>\n      <td>1</td>\n      <td>2.0</td>\n      <td>2020-03-03 00:00:03</td>\n    </tr>\n    <tr>\n      <th>3</th>\n      <td>1.583194e+09</td>\n      <td>396.0</td>\n      <td>1</td>\n      <td>3.0</td>\n      <td>2020-03-03 00:00:04</td>\n    </tr>\n    <tr>\n      <th>4</th>\n      <td>1.583194e+09</td>\n      <td>397.0</td>\n      <td>1</td>\n      <td>4.0</td>\n      <td>2020-03-03 00:00:05</td>\n    </tr>\n    <tr>\n      <th>...</th>\n      <td>...</td>\n      <td>...</td>\n      <td>...</td>\n      <td>...</td>\n      <td>...</td>\n    </tr>\n    <tr>\n      <th>3595</th>\n      <td>1.583197e+09</td>\n      <td>394.0</td>\n      <td>1</td>\n      <td>3595.0</td>\n      <td>2020-03-03 00:59:56</td>\n    </tr>\n    <tr>\n      <th>3596</th>\n      <td>1.583197e+09</td>\n      <td>394.0</td>\n      <td>1</td>\n      <td>3596.0</td>\n      <td>2020-03-03 00:59:57</td>\n    </tr>\n    <tr>\n      <th>3597</th>\n      <td>1.583197e+09</td>\n      <td>394.0</td>\n      <td>1</td>\n      <td>3597.0</td>\n      <td>2020-03-03 00:59:58</td>\n    </tr>\n    <tr>\n      <th>3598</th>\n      <td>1.583197e+09</td>\n      <td>394.0</td>\n      <td>1</td>\n      <td>3598.0</td>\n      <td>2020-03-03 00:59:59</td>\n    </tr>\n    <tr>\n      <th>3599</th>\n      <td>1.583197e+09</td>\n      <td>394.0</td>\n      <td>1</td>\n      <td>3599.0</td>\n      <td>2020-03-03 01:00:00</td>\n    </tr>\n  </tbody>\n</table>\n<p>3600 rows × 5 columns</p>\n</div>",
      "text/plain": "          UnixTime  GasData  RealData   Index            DateTime\n0     1.583194e+09    396.0         1     0.0 2020-03-03 00:00:01\n1     1.583194e+09    396.0         1     1.0 2020-03-03 00:00:02\n2     1.583194e+09    396.0         1     2.0 2020-03-03 00:00:03\n3     1.583194e+09    396.0         1     3.0 2020-03-03 00:00:04\n4     1.583194e+09    397.0         1     4.0 2020-03-03 00:00:05\n...            ...      ...       ...     ...                 ...\n3595  1.583197e+09    394.0         1  3595.0 2020-03-03 00:59:56\n3596  1.583197e+09    394.0         1  3596.0 2020-03-03 00:59:57\n3597  1.583197e+09    394.0         1  3597.0 2020-03-03 00:59:58\n3598  1.583197e+09    394.0         1  3598.0 2020-03-03 00:59:59\n3599  1.583197e+09    394.0         1  3599.0 2020-03-03 01:00:00\n\n[3600 rows x 5 columns]"
     },
     "execution_count": 107,
     "metadata": {},
     "output_type": "execute_result"
    }
   ],
   "source": [
    "rawAllDataDF"
   ]
  },
  {
   "cell_type": "markdown",
   "metadata": {},
   "source": [
    "## FUNCTIONS"
   ]
  },
  {
   "cell_type": "markdown",
   "metadata": {},
   "source": [
    "### Import Data\n",
    "Prime the data for filtering by turning UNIXTIME and GASDATA columns to floats and by adding DATETIME, REALDATA, and INDEX columns"
   ]
  },
  {
   "cell_type": "code",
   "execution_count": null,
   "metadata": {},
   "outputs": [],
   "source": []
  }
 ],
 "metadata": {
  "kernelspec": {
   "display_name": "Python 3",
   "language": "python",
   "name": "python3"
  },
  "language_info": {
   "codemirror_mode": {
    "name": "ipython",
    "version": 3
   },
   "file_extension": ".py",
   "mimetype": "text/x-python",
   "name": "python",
   "nbconvert_exporter": "python",
   "pygments_lexer": "ipython3",
   "version": "3.8.2-final"
  }
 },
 "nbformat": 4,
 "nbformat_minor": 2
}