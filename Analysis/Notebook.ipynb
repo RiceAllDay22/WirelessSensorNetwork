{
 "cells": [
  {
   "cell_type": "markdown",
   "metadata": {},
   "source": []
  },
  {
   "cell_type": "code",
   "execution_count": 1,
   "metadata": {},
   "outputs": [],
   "source": [
    "'''stuff test yada'''\n",
    "import numpy as np\n",
    "import pandas as pd\n",
    "import os\n",
    "import struct\n",
    "import glob\n",
    "os.chdir('C:\\\\Users\\\\adria\\\\Desktop\\\\ComboTest2')\n",
    "\n",
    "extension = 'csv'\n",
    "all_filenames = [i for i in glob.glob('*.{}'.format(extension))]"
   ]
  },
  {
   "cell_type": "code",
   "execution_count": 7,
   "metadata": {
    "scrolled": true
   },
   "outputs": [
    {
     "name": "stdout",
     "output_type": "stream",
     "text": [
      "b'\\xb1\\x95[^'\n",
      "b'\\x01\\x00\\x00\\x00'\n",
      "b'\\xb2\\x95[^'\n",
      "b'\\x01\\x00\\x00\\x00'\n"
     ]
    }
   ],
   "source": [
    "for each in all_filenames:\n",
    "    f = open(each, \"rb\")\n",
    "    for i in range(0, 4):\n",
    "        raw_time = f.read(4)\n",
    "        #time = int.from_bytes(f.read(4), byteorder='little')\n",
    "        #gas  = int.from_bytes(f.read(4), byteorder='little')\n",
    "        #print(time)\n",
    "        #print(gas)\n",
    "        print(raw_time)"
   ]
  },
  {
   "cell_type": "code",
   "execution_count": null,
   "metadata": {},
   "outputs": [],
   "source": [
    "x = np.array([])\n",
    "cycle = True\n",
    "\n",
    "for each in all_filenames:\n",
    "    f = open(each, \"rb\")\n",
    "    while cycle == True:\n",
    "        byte = int.from_bytes(f.read(4), byteorder = 'little')\n",
    "        if byte is None:\n",
    "            break\n",
    "        x = np.append(x, byte)\n",
    "        \n",
    "x"
   ]
  },
  {
   "cell_type": "code",
   "execution_count": null,
   "metadata": {},
   "outputs": [],
   "source": [
    "import numpy as np\n",
    "import pandas as pd\n",
    "import os\n",
    "import glob\n",
    "\n",
    "month, day = 2, 4\n",
    "extension = ''\n",
    "#os.chdir('D:\\\\')\n",
    "os.chdir('C:\\\\Users\\\\adria\\\\Desktop\\\\ComboTest2')\n",
    "#os.chdir('C:\\\\Users\\\\adria\\\\Desktop\\\\Combo\\\\Month'+str(month)+'Day'+str(day)+extension)\n",
    "\n",
    "extension = 'csv'\n",
    "all_filenames = [i for i in glob.glob('*.{}'.format(extension))]\n",
    "\n",
    "AllUnixTime = np.array([])\n",
    "AllGasData  = np.array([])\n",
    "\n",
    "\n",
    "for each in all_filenames:\n",
    "    f = open(each, \"rb\")\n",
    "\n",
    "    UNIXARRAY = print(int.from_bytes(f.read(4), byteorder='little'))\n",
    "    GASARRAY = print(int.from_bytes(f.read(4), byteorder='little'))\n",
    "    \n",
    "    \n",
    "    \n",
    "    print(int.from_bytes(f.read(4), byteorder='little'))\n",
    "    print(int.from_bytes(f.read(4), byteorder='little'))\n",
    "    \n",
    "    #data = pd.read_csv(each, skiprows = 1)\n",
    "    #UnixTime = np.array(data.iloc[:,0])\n",
    "    #GasData  = np.array(data.iloc[:,1])\n",
    "    #AllUnixTime = np.append(AllUnixTime, UnixTime)\n",
    "    #AllGasData  = np.append(AllGasData,  GasData)\n",
    "\n",
    "CombineNP = np.column_stack((AllUnixTime, AllGasData))\n",
    "CombineDF = pd.DataFrame(CombineNP)\n",
    "CombineDF.columns = ['UNIXTIME', 'CO2']\n",
    "\n",
    "CombineDF.to_csv(\"Combined.csv\", index=False, encoding='utf-8-sig')"
   ]
  },
  {
   "cell_type": "code",
   "execution_count": null,
   "metadata": {},
   "outputs": [],
   "source": []
  },
  {
   "cell_type": "code",
   "execution_count": null,
   "metadata": {},
   "outputs": [],
   "source": []
  },
  {
   "cell_type": "code",
   "execution_count": null,
   "metadata": {},
   "outputs": [],
   "source": []
  }
 ],
 "metadata": {
  "kernelspec": {
   "display_name": "Python 3",
   "language": "python",
   "name": "python3"
  },
  "language_info": {
   "codemirror_mode": {
    "name": "ipython",
    "version": 3
   },
   "file_extension": ".py",
   "mimetype": "text/x-python",
   "name": "python",
   "nbconvert_exporter": "python",
   "pygments_lexer": "ipython3",
   "version": "3.7.5"
  }
 },
 "nbformat": 4,
 "nbformat_minor": 2
}
