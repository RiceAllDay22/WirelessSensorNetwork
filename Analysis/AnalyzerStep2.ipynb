{
 "nbformat": 4,
 "nbformat_minor": 2,
 "metadata": {
  "language_info": {
   "name": "python",
   "codemirror_mode": {
    "name": "ipython",
    "version": 3
   },
   "version": "3.8.2-final"
  },
  "orig_nbformat": 2,
  "file_extension": ".py",
  "mimetype": "text/x-python",
  "name": "python",
  "npconvert_exporter": "python",
  "pygments_lexer": "ipython3",
  "version": 3,
  "kernelspec": {
   "name": "python38232bitwirelesssensornetworkpipenve5e03a98fe554c36818b642f4ae55856",
   "display_name": "Python 3.8.2 32-bit ('WirelessSensorNetwork': pipenv)"
  }
 },
 "cells": [
  {
   "cell_type": "markdown",
   "metadata": {},
   "source": [
    "# WIRELESS SENSOR NETWORK - DATA ANALYZER - STEP 2\n",
    "#### Notebook not intended for final product"
   ]
  },
  {
   "cell_type": "code",
   "execution_count": 3,
   "metadata": {},
   "outputs": [],
   "source": [
    "import os\n",
    "import numpy as np\n",
    "import matplotlib.pyplot as plt\n",
    "import pandas as pd\n",
    "import scipy as sp\n",
    "import IPython.display\n",
    "import glob\n",
    "from datetime import datetime\n",
    "from statistics import mean\n",
    "from matplotlib.dates import DateFormatter\n",
    "\n",
    "#NP = DF.to_numpy()\n",
    "#DF = pd.DataFrame(NP)"
   ]
  },
  {
   "cell_type": "code",
   "execution_count": 5,
   "metadata": {},
   "outputs": [],
   "source": [
    "# Set Working Directory\n",
    "user      = 'adria'\n",
    "subfolder = 'V 1.2.4 3 Node Test'\n",
    "os.chdir('C:\\\\Users\\\\'+str(user)+'\\\\Desktop\\\\Repository\\\\WirelessSensorNetwork\\\\Data\\\\'\n",
    "         + str(subfolder))\n",
    "os.getcwd()\n",
    "#data = pd.read_csv(file)\n",
    "extension = 'csv'\n",
    "all_filenames = [i for i in glob.glob('*.{}'.format(extension))]"
   ]
  },
  {
   "cell_type": "code",
   "execution_count": 21,
   "metadata": {},
   "outputs": [],
   "source": [
    "filenames = []\n",
    "for file in all_filenames:\n",
    "    if file[0] == 'P':\n",
    "        filenames.append(file)"
   ]
  },
  {
   "cell_type": "code",
   "execution_count": 27,
   "metadata": {},
   "outputs": [
    {
     "output_type": "execute_result",
     "data": {
      "text/plain": "Empty DataFrame\nColumns: []\nIndex: []",
      "text/html": "<div>\n<style scoped>\n    .dataframe tbody tr th:only-of-type {\n        vertical-align: middle;\n    }\n\n    .dataframe tbody tr th {\n        vertical-align: top;\n    }\n\n    .dataframe thead th {\n        text-align: right;\n    }\n</style>\n<table border=\"1\" class=\"dataframe\">\n  <thead>\n    <tr style=\"text-align: right;\">\n      <th></th>\n    </tr>\n  </thead>\n  <tbody>\n  </tbody>\n</table>\n</div>"
     },
     "metadata": {},
     "execution_count": 27
    }
   ],
   "source": [
    "df = pd.DataFrame()"
   ]
  },
  {
   "cell_type": "code",
   "execution_count": 31,
   "metadata": {},
   "outputs": [
    {
     "output_type": "stream",
     "name": "stdout",
     "text": "DateTime     001\n116  2020-03-04 00:58:00  413.07\n117  2020-03-04 00:58:30  412.13\n118  2020-03-04 00:59:00  413.80\n119  2020-03-04 00:59:30  413.80\n120  2020-03-04 01:00:00  414.00\n\n                DateTime     002\n116  2020-03-04 00:58:00  407.17\n117  2020-03-04 00:58:30  406.17\n118  2020-03-04 00:59:00  406.97\n119  2020-03-04 00:59:30  406.73\n120  2020-03-04 01:00:00  408.00\n\n                DateTime     003\n116  2020-03-04 00:58:00  405.70\n117  2020-03-04 00:58:30  405.73\n118  2020-03-04 00:59:00  408.83\n119  2020-03-04 00:59:30  407.83\n120  2020-03-04 01:00:00  408.00\n\n"
    }
   ],
   "source": [
    "for file in filenames:\n",
    "    data = pd.read_csv(file)\n",
    "    df = df.append(data)\n",
    "    print(data.tail())\n",
    "    print('')"
   ]
  },
  {
   "cell_type": "code",
   "execution_count": 32,
   "metadata": {},
   "outputs": [
    {
     "output_type": "execute_result",
     "data": {
      "text/plain": "                DateTime     001  002     003\n0    2020-03-04 00:00:00  424.86  NaN     NaN\n1    2020-03-04 00:00:30  423.70  NaN     NaN\n2    2020-03-04 00:01:00  423.03  NaN     NaN\n3    2020-03-04 00:01:30  425.90  NaN     NaN\n4    2020-03-04 00:02:00  424.47  NaN     NaN\n..                   ...     ...  ...     ...\n116  2020-03-04 00:58:00     NaN  NaN  405.70\n117  2020-03-04 00:58:30     NaN  NaN  405.73\n118  2020-03-04 00:59:00     NaN  NaN  408.83\n119  2020-03-04 00:59:30     NaN  NaN  407.83\n120  2020-03-04 01:00:00     NaN  NaN  408.00\n\n[363 rows x 4 columns]",
      "text/html": "<div>\n<style scoped>\n    .dataframe tbody tr th:only-of-type {\n        vertical-align: middle;\n    }\n\n    .dataframe tbody tr th {\n        vertical-align: top;\n    }\n\n    .dataframe thead th {\n        text-align: right;\n    }\n</style>\n<table border=\"1\" class=\"dataframe\">\n  <thead>\n    <tr style=\"text-align: right;\">\n      <th></th>\n      <th>DateTime</th>\n      <th>001</th>\n      <th>002</th>\n      <th>003</th>\n    </tr>\n  </thead>\n  <tbody>\n    <tr>\n      <th>0</th>\n      <td>2020-03-04 00:00:00</td>\n      <td>424.86</td>\n      <td>NaN</td>\n      <td>NaN</td>\n    </tr>\n    <tr>\n      <th>1</th>\n      <td>2020-03-04 00:00:30</td>\n      <td>423.70</td>\n      <td>NaN</td>\n      <td>NaN</td>\n    </tr>\n    <tr>\n      <th>2</th>\n      <td>2020-03-04 00:01:00</td>\n      <td>423.03</td>\n      <td>NaN</td>\n      <td>NaN</td>\n    </tr>\n    <tr>\n      <th>3</th>\n      <td>2020-03-04 00:01:30</td>\n      <td>425.90</td>\n      <td>NaN</td>\n      <td>NaN</td>\n    </tr>\n    <tr>\n      <th>4</th>\n      <td>2020-03-04 00:02:00</td>\n      <td>424.47</td>\n      <td>NaN</td>\n      <td>NaN</td>\n    </tr>\n    <tr>\n      <th>...</th>\n      <td>...</td>\n      <td>...</td>\n      <td>...</td>\n      <td>...</td>\n    </tr>\n    <tr>\n      <th>116</th>\n      <td>2020-03-04 00:58:00</td>\n      <td>NaN</td>\n      <td>NaN</td>\n      <td>405.70</td>\n    </tr>\n    <tr>\n      <th>117</th>\n      <td>2020-03-04 00:58:30</td>\n      <td>NaN</td>\n      <td>NaN</td>\n      <td>405.73</td>\n    </tr>\n    <tr>\n      <th>118</th>\n      <td>2020-03-04 00:59:00</td>\n      <td>NaN</td>\n      <td>NaN</td>\n      <td>408.83</td>\n    </tr>\n    <tr>\n      <th>119</th>\n      <td>2020-03-04 00:59:30</td>\n      <td>NaN</td>\n      <td>NaN</td>\n      <td>407.83</td>\n    </tr>\n    <tr>\n      <th>120</th>\n      <td>2020-03-04 01:00:00</td>\n      <td>NaN</td>\n      <td>NaN</td>\n      <td>408.00</td>\n    </tr>\n  </tbody>\n</table>\n<p>363 rows × 4 columns</p>\n</div>"
     },
     "metadata": {},
     "execution_count": 32
    }
   ],
   "source": [
    "df"
   ]
  },
  {
   "cell_type": "code",
   "execution_count": null,
   "metadata": {},
   "outputs": [],
   "source": []
  }
 ]
}