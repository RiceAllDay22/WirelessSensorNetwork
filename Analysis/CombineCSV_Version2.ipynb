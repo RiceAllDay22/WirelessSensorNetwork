{
 "cells": [
  {
   "cell_type": "markdown",
   "metadata": {},
   "source": [
    "# Adriann Liceralde\n",
    "# Combine CSV Version 2"
   ]
  },
  {
   "cell_type": "markdown",
   "metadata": {},
   "source": [
    "## LIBRARIES and DATA SELECTION"
   ]
  },
  {
   "cell_type": "code",
   "execution_count": 2,
   "metadata": {},
   "outputs": [],
   "source": [
    "import numpy as np\n",
    "import pandas as pd\n",
    "import os\n",
    "import glob\n",
    "\n",
    "#month, day = 2, 4\n",
    "os.chdir('C:\\\\Users\\\\adria\\\\Desktop\\\\ComboTest2')\n",
    "\n",
    "extension = 'csv'\n",
    "all_filenames = [i for i in glob.glob('*.{}'.format(extension))]"
   ]
  },
  {
   "cell_type": "markdown",
   "metadata": {},
   "source": [
    "## COMBINE FILES"
   ]
  },
  {
   "cell_type": "code",
   "execution_count": 3,
   "metadata": {
    "scrolled": true
   },
   "outputs": [
    {
     "name": "stdout",
     "output_type": "stream",
     "text": [
      "File: 2020-03-01--11.csv\n",
      "Size: 3600\n",
      "File: 2020-03-01--12.csv\n",
      "Size: 3600\n",
      "File: 2020-03-01--13.csv\n",
      "Size: 3600\n",
      "File: 2020-03-01--14.csv\n",
      "Size: 3600\n",
      "File: 2020-03-01--15.csv\n",
      "Size: 3600\n"
     ]
    }
   ],
   "source": [
    "allUnixData = np.array([])\n",
    "allGasData  = np.array([])\n",
    "\n",
    "for each in all_filenames:\n",
    "    f = open(each, \"rb\")\n",
    "    filesize = int(os.path.getsize(each))\n",
    "    print('File:', each)\n",
    "    print('Size:', filesize//8)\n",
    "    \n",
    "    for i in range(filesize//8):\n",
    "        unix = int.from_bytes(f.read(4), byteorder='little')\n",
    "        gas  = int.from_bytes(f.read(4), byteorder='little')\n",
    "        allUnixData = np.append(allUnixData, unix)\n",
    "        allGasData  = np.append(allGasData,  gas)"
   ]
  },
  {
   "cell_type": "markdown",
   "metadata": {},
   "source": [
    "## EXPORT FILE"
   ]
  },
  {
   "cell_type": "code",
   "execution_count": 4,
   "metadata": {},
   "outputs": [
    {
     "name": "stdout",
     "output_type": "stream",
     "text": [
      "Rows: 18000\n"
     ]
    }
   ],
   "source": [
    "CombineNP = np.column_stack((allUnixData, allGasData))\n",
    "CombineDF = pd.DataFrame(CombineNP)\n",
    "CombineDF.columns = ['UNIXTIME', 'CO2']\n",
    "print('Rows:', CombineDF.shape[0])\n",
    "newFilename = each[0:-8] + '-ascii.txt'\n",
    "CombineDF.to_csv(newFilename, index=False, encoding='utf-8-sig')"
   ]
  },
  {
   "cell_type": "code",
   "execution_count": null,
   "metadata": {},
   "outputs": [],
   "source": []
  }
 ],
 "metadata": {
  "kernelspec": {
   "display_name": "Python 3",
   "language": "python",
   "name": "python3"
  },
  "language_info": {
   "codemirror_mode": {
    "name": "ipython",
    "version": 3
   },
   "file_extension": ".py",
   "mimetype": "text/x-python",
   "name": "python",
   "nbconvert_exporter": "python",
   "pygments_lexer": "ipython3",
   "version": "3.7.5"
  }
 },
 "nbformat": 4,
 "nbformat_minor": 2
}