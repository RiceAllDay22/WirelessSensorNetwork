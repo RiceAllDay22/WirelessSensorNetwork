{
 "cells": [
  {
   "cell_type": "code",
   "execution_count": 1,
   "id": "bec70ff7",
   "metadata": {},
   "outputs": [
    {
     "name": "stdout",
     "output_type": "stream",
     "text": [
      "0b1010\n",
      "0b1100\n"
     ]
    }
   ],
   "source": [
    "a = 10\n",
    "b = 12\n",
    "print(bin(a))\n",
    "print(bin(b))"
   ]
  },
  {
   "cell_type": "code",
   "execution_count": 2,
   "id": "021298cf",
   "metadata": {},
   "outputs": [
    {
     "name": "stdout",
     "output_type": "stream",
     "text": [
      "8\n",
      "0b1000\n"
     ]
    }
   ],
   "source": [
    "# & operator\n",
    "print(a & b)\n",
    "print(bin(a & b))"
   ]
  },
  {
   "cell_type": "code",
   "execution_count": 3,
   "id": "9da62a37",
   "metadata": {
    "scrolled": true
   },
   "outputs": [
    {
     "name": "stdout",
     "output_type": "stream",
     "text": [
      "14\n",
      "0b1110\n"
     ]
    }
   ],
   "source": [
    "# | operator\n",
    "print(a | b)\n",
    "print(bin(a | b))"
   ]
  },
  {
   "cell_type": "code",
   "execution_count": 4,
   "id": "988640d7",
   "metadata": {},
   "outputs": [
    {
     "name": "stdout",
     "output_type": "stream",
     "text": [
      "6\n",
      "0b110\n"
     ]
    }
   ],
   "source": [
    "# ^ operator\n",
    "print(a ^ b)\n",
    "print(bin (a ^ b))"
   ]
  },
  {
   "cell_type": "markdown",
   "id": "ca7ee8c2",
   "metadata": {},
   "source": [
    "# Test"
   ]
  },
  {
   "cell_type": "code",
   "execution_count": 5,
   "id": "8e136038",
   "metadata": {},
   "outputs": [],
   "source": [
    "#Data\n",
    "ws = 50 # From 0 to 127\n",
    "wd = 359 # From 0 to 359"
   ]
  },
  {
   "cell_type": "code",
   "execution_count": 6,
   "id": "4cb3a4fc",
   "metadata": {},
   "outputs": [
    {
     "name": "stdout",
     "output_type": "stream",
     "text": [
      "178 103\n"
     ]
    }
   ],
   "source": [
    "#From Data to Bytes\n",
    "b1 = ws + ((wd >> 8) << 7)\n",
    "b2 = wd & ~(1 << 8)\n",
    "print(b1, b2)"
   ]
  },
  {
   "cell_type": "code",
   "execution_count": 7,
   "id": "d70e2c55",
   "metadata": {},
   "outputs": [
    {
     "name": "stdout",
     "output_type": "stream",
     "text": [
      "50 359\n"
     ]
    }
   ],
   "source": [
    "#From Bytes to Data\n",
    "w1 = b1 & ~(1 << 7) #https://www.geeksforgeeks.org/how-to-turn-off-a-particular-bit-in-a-number/\n",
    "w2 = b2 + ((b1>>7) << 8)\n",
    "print(w1, w2)"
   ]
  },
  {
   "cell_type": "code",
   "execution_count": 1,
   "id": "3668cbaf",
   "metadata": {},
   "outputs": [],
   "source": [
    "for ws in range (0, 127):\n",
    "    for wd in range(0, 359):\n",
    "        b1 = ws + ((wd >> 8) << 7)\n",
    "        b2 = wd & 255\n",
    "        \n",
    "        w1 = b1 & ~(1 << 7) #https://www.geeksforgeeks.org/how-to-turn-off-a-particular-bit-in-a-number/\n",
    "        w2 = b2 + ((b1>>7) << 8)\n",
    "\n",
    "        assert ws == w1 and wd == w2 and b1 < 256 and b2 < 256"
   ]
  },
  {
   "cell_type": "code",
   "execution_count": null,
   "id": "521732c5",
   "metadata": {},
   "outputs": [],
   "source": []
  },
  {
   "cell_type": "code",
   "execution_count": 9,
   "id": "a771c0d6",
   "metadata": {},
   "outputs": [],
   "source": [
    "for ws in range (0, 127):\n",
    "    for wd in range(0, 359):\n",
    "        b1 = ws + ((wd >> 8) << 7)\n",
    "        b2 = wd & 255\n",
    "        \n",
    "        w1 = b1 & 127 #https://www.geeksforgeeks.org/how-to-turn-off-a-particular-bit-in-a-number/\n",
    "        w2 = b2 + ((b1>>7) << 8)\n",
    "\n",
    "        assert ws == w1 and wd == w2 and b1 < 256 and b2 < 256"
   ]
  },
  {
   "cell_type": "code",
   "execution_count": null,
   "id": "2e89f168",
   "metadata": {},
   "outputs": [],
   "source": []
  },
  {
   "cell_type": "code",
   "execution_count": null,
   "id": "74963549",
   "metadata": {},
   "outputs": [],
   "source": [
    "for ws in range (0, 255):\n",
    "    for wd in range(0, 359):\n",
    "        b1 = ws\n",
    "        b2 = wd & 255\n",
    "        \n",
    "        #w1 = b1 & ~(1 << 7) #https://www.geeksforgeeks.org/how-to-turn-off-a-particular-bit-in-a-number/\n",
    "        #w2 = b2 + ((b1>>7) << 8)\n",
    "\n",
    "        #assert ws == w1 and wd == w2 and b1 < 256 and b2 < 256"
   ]
  },
  {
   "cell_type": "code",
   "execution_count": 10,
   "id": "4e9b2aa7",
   "metadata": {},
   "outputs": [
    {
     "name": "stdout",
     "output_type": "stream",
     "text": [
      "1 0 0\n",
      "2 0 0\n",
      "3 1 3\n",
      "4 1 3\n",
      "5 1 3\n",
      "6 2 6\n",
      "7 2 6\n",
      "8 2 6\n",
      "9 3 9\n",
      "10 3 9\n",
      "11 3 9\n",
      "12 4 12\n",
      "13 4 12\n",
      "14 4 12\n",
      "15 5 15\n",
      "16 5 15\n",
      "17 5 15\n",
      "18 6 18\n",
      "19 6 18\n",
      "20 6 18\n",
      "21 7 21\n",
      "22 7 21\n",
      "23 7 21\n",
      "24 8 24\n",
      "25 8 24\n",
      "26 8 24\n",
      "27 9 27\n",
      "28 9 27\n",
      "29 9 27\n",
      "30 10 30\n",
      "31 10 30\n",
      "32 10 30\n",
      "33 11 33\n",
      "34 11 33\n",
      "35 11 33\n",
      "36 12 36\n",
      "37 12 36\n",
      "38 12 36\n",
      "39 13 39\n",
      "40 13 39\n",
      "41 13 39\n",
      "42 14 42\n",
      "43 14 42\n",
      "44 14 42\n",
      "45 15 45\n",
      "46 15 45\n",
      "47 15 45\n",
      "48 16 48\n",
      "49 16 48\n",
      "50 16 48\n",
      "51 17 51\n",
      "52 17 51\n",
      "53 17 51\n",
      "54 18 54\n",
      "55 18 54\n",
      "56 18 54\n",
      "57 19 57\n",
      "58 19 57\n",
      "59 19 57\n",
      "60 20 60\n",
      "61 20 60\n",
      "62 20 60\n",
      "63 21 63\n",
      "64 21 63\n",
      "65 21 63\n",
      "66 22 66\n",
      "67 22 66\n",
      "68 22 66\n",
      "69 23 69\n",
      "70 23 69\n",
      "71 23 69\n",
      "72 24 72\n",
      "73 24 72\n",
      "74 24 72\n",
      "75 25 75\n",
      "76 25 75\n",
      "77 25 75\n",
      "78 26 78\n",
      "79 26 78\n",
      "80 26 78\n",
      "81 27 81\n",
      "82 27 81\n",
      "83 27 81\n",
      "84 28 84\n",
      "85 28 84\n",
      "86 28 84\n",
      "87 29 87\n",
      "88 29 87\n",
      "89 29 87\n",
      "90 30 90\n",
      "91 30 90\n",
      "92 30 90\n",
      "93 31 93\n",
      "94 31 93\n",
      "95 31 93\n",
      "96 32 96\n",
      "97 32 96\n",
      "98 32 96\n",
      "99 33 99\n",
      "100 33 99\n",
      "101 33 99\n",
      "102 34 102\n",
      "103 34 102\n",
      "104 34 102\n",
      "105 35 105\n",
      "106 35 105\n",
      "107 35 105\n",
      "108 36 108\n",
      "109 36 108\n",
      "110 36 108\n",
      "111 37 111\n",
      "112 37 111\n",
      "113 37 111\n",
      "114 38 114\n",
      "115 38 114\n",
      "116 38 114\n",
      "117 39 117\n",
      "118 39 117\n",
      "119 39 117\n",
      "120 40 120\n",
      "121 40 120\n",
      "122 40 120\n",
      "123 41 123\n",
      "124 41 123\n",
      "125 41 123\n",
      "126 42 126\n",
      "127 42 126\n",
      "128 42 126\n",
      "129 43 129\n",
      "130 43 129\n",
      "131 43 129\n",
      "132 44 132\n",
      "133 44 132\n",
      "134 44 132\n",
      "135 45 135\n",
      "136 45 135\n",
      "137 45 135\n",
      "138 46 138\n",
      "139 46 138\n",
      "140 46 138\n",
      "141 47 141\n",
      "142 47 141\n",
      "143 47 141\n",
      "144 48 144\n",
      "145 48 144\n",
      "146 48 144\n",
      "147 49 147\n",
      "148 49 147\n",
      "149 49 147\n",
      "150 50 150\n",
      "151 50 150\n",
      "152 50 150\n",
      "153 51 153\n",
      "154 51 153\n",
      "155 51 153\n",
      "156 52 156\n",
      "157 52 156\n",
      "158 52 156\n",
      "159 53 159\n",
      "160 53 159\n",
      "161 53 159\n",
      "162 54 162\n",
      "163 54 162\n",
      "164 54 162\n",
      "165 55 165\n",
      "166 55 165\n",
      "167 55 165\n",
      "168 56 168\n",
      "169 56 168\n",
      "170 56 168\n",
      "171 57 171\n",
      "172 57 171\n",
      "173 57 171\n",
      "174 58 174\n",
      "175 58 174\n",
      "176 58 174\n",
      "177 59 177\n",
      "178 59 177\n",
      "179 59 177\n",
      "180 60 180\n",
      "181 60 180\n",
      "182 60 180\n",
      "183 61 183\n",
      "184 61 183\n",
      "185 61 183\n",
      "186 62 186\n",
      "187 62 186\n",
      "188 62 186\n",
      "189 63 189\n",
      "190 63 189\n",
      "191 63 189\n",
      "192 64 192\n",
      "193 64 192\n",
      "194 64 192\n",
      "195 65 195\n",
      "196 65 195\n",
      "197 65 195\n",
      "198 66 198\n",
      "199 66 198\n",
      "200 66 198\n",
      "201 67 201\n",
      "202 67 201\n",
      "203 67 201\n",
      "204 68 204\n",
      "205 68 204\n",
      "206 68 204\n",
      "207 69 207\n",
      "208 69 207\n",
      "209 69 207\n",
      "210 70 210\n",
      "211 70 210\n",
      "212 70 210\n",
      "213 71 213\n",
      "214 71 213\n",
      "215 71 213\n",
      "216 72 216\n",
      "217 72 216\n",
      "218 72 216\n",
      "219 73 219\n",
      "220 73 219\n",
      "221 73 219\n",
      "222 74 222\n",
      "223 74 222\n",
      "224 74 222\n",
      "225 75 225\n",
      "226 75 225\n",
      "227 75 225\n",
      "228 76 228\n",
      "229 76 228\n",
      "230 76 228\n",
      "231 77 231\n",
      "232 77 231\n",
      "233 77 231\n",
      "234 78 234\n",
      "235 78 234\n",
      "236 78 234\n",
      "237 79 237\n",
      "238 79 237\n",
      "239 79 237\n",
      "240 80 240\n",
      "241 80 240\n",
      "242 80 240\n",
      "243 81 243\n",
      "244 81 243\n",
      "245 81 243\n",
      "246 82 246\n",
      "247 82 246\n",
      "248 82 246\n",
      "249 83 249\n",
      "250 83 249\n",
      "251 83 249\n",
      "252 84 252\n",
      "253 84 252\n",
      "254 84 252\n",
      "255 85 255\n",
      "256 85 255\n",
      "257 85 255\n",
      "258 86 258\n",
      "259 86 258\n",
      "260 86 258\n",
      "261 87 261\n",
      "262 87 261\n",
      "263 87 261\n",
      "264 88 264\n",
      "265 88 264\n",
      "266 88 264\n",
      "267 89 267\n",
      "268 89 267\n",
      "269 89 267\n",
      "270 90 270\n",
      "271 90 270\n",
      "272 90 270\n",
      "273 91 273\n",
      "274 91 273\n",
      "275 91 273\n",
      "276 92 276\n",
      "277 92 276\n",
      "278 92 276\n",
      "279 93 279\n",
      "280 93 279\n",
      "281 93 279\n",
      "282 94 282\n",
      "283 94 282\n",
      "284 94 282\n",
      "285 95 285\n",
      "286 95 285\n",
      "287 95 285\n",
      "288 96 288\n",
      "289 96 288\n",
      "290 96 288\n",
      "291 97 291\n",
      "292 97 291\n",
      "293 97 291\n",
      "294 98 294\n",
      "295 98 294\n",
      "296 98 294\n",
      "297 99 297\n",
      "298 99 297\n",
      "299 99 297\n",
      "300 100 300\n",
      "301 100 300\n",
      "302 100 300\n",
      "303 101 303\n",
      "304 101 303\n",
      "305 101 303\n",
      "306 102 306\n",
      "307 102 306\n",
      "308 102 306\n",
      "309 103 309\n",
      "310 103 309\n",
      "311 103 309\n",
      "312 104 312\n",
      "313 104 312\n",
      "314 104 312\n",
      "315 105 315\n",
      "316 105 315\n",
      "317 105 315\n",
      "318 106 318\n",
      "319 106 318\n",
      "320 106 318\n",
      "321 107 321\n",
      "322 107 321\n",
      "323 107 321\n",
      "324 108 324\n",
      "325 108 324\n",
      "326 108 324\n",
      "327 109 327\n",
      "328 109 327\n",
      "329 109 327\n",
      "330 110 330\n",
      "331 110 330\n",
      "332 110 330\n",
      "333 111 333\n",
      "334 111 333\n",
      "335 111 333\n",
      "336 112 336\n",
      "337 112 336\n",
      "338 112 336\n",
      "339 113 339\n",
      "340 113 339\n",
      "341 113 339\n",
      "342 114 342\n",
      "343 114 342\n",
      "344 114 342\n",
      "345 115 345\n",
      "346 115 345\n",
      "347 115 345\n",
      "348 116 348\n",
      "349 116 348\n",
      "350 116 348\n",
      "351 117 351\n",
      "352 117 351\n",
      "353 117 351\n",
      "354 118 354\n",
      "355 118 354\n",
      "356 118 354\n",
      "357 119 357\n",
      "358 119 357\n",
      "359 119 357\n"
     ]
    }
   ],
   "source": [
    "wd = 359 # 1 to 360\n",
    "for wd in range(1, 360):\n",
    "    b = wd//3\n",
    "    convert = b*3\n",
    "    print(wd, b, convert)"
   ]
  },
  {
   "cell_type": "markdown",
   "id": "038d633f",
   "metadata": {},
   "source": [
    "# Unixtime"
   ]
  },
  {
   "cell_type": "code",
   "execution_count": 4,
   "id": "08c52abc",
   "metadata": {},
   "outputs": [],
   "source": [
    "ut = 1642293300"
   ]
  },
  {
   "cell_type": "code",
   "execution_count": 5,
   "id": "34e8cace",
   "metadata": {},
   "outputs": [
    {
     "name": "stdout",
     "output_type": "stream",
     "text": [
      "97 227 104 52\n",
      "0.0\n"
     ]
    }
   ],
   "source": [
    "import time\n",
    "start = time.time()*1000\n",
    "b1 = ut//256**3\n",
    "b2 = ut//256**2 - b1*256\n",
    "b3 = ut//256**1 - b1*256**2 - b2*256\n",
    "b4 = ut - b1*256**3 - b2*256**2 - b3*256\n",
    "print(b1, b2, b3, b4)\n",
    "end = time.time()*1000\n",
    "print(end-start)"
   ]
  },
  {
   "cell_type": "code",
   "execution_count": 3,
   "id": "d6192441",
   "metadata": {},
   "outputs": [
    {
     "name": "stdout",
     "output_type": "stream",
     "text": [
      "97 227 103 223\n",
      "1.0\n"
     ]
    }
   ],
   "source": [
    "start = time.time()*1000\n",
    "b1 = ut >> 24\n",
    "b2 = ut >> 16 & 255\n",
    "b3 = ut >> 8 & 255\n",
    "b4 = ut & 255\n",
    "print(b1, b2, b3, b4)\n",
    "end = time.time()*1000\n",
    "print(end-start)"
   ]
  },
  {
   "cell_type": "markdown",
   "id": "e64ede1c",
   "metadata": {},
   "source": [
    "# Concentration"
   ]
  },
  {
   "cell_type": "code",
   "execution_count": 13,
   "id": "51e180af",
   "metadata": {},
   "outputs": [],
   "source": [
    "import time"
   ]
  },
  {
   "cell_type": "code",
   "execution_count": 14,
   "id": "4e3c3711",
   "metadata": {},
   "outputs": [
    {
     "name": "stdout",
     "output_type": "stream",
     "text": [
      "7 208\n",
      "0.0\n"
     ]
    }
   ],
   "source": [
    "start = time.time()*1000\n",
    "ppm = 2000\n",
    "b1 = ppm // 256\n",
    "b2 = ppm - b1 * 256\n",
    "print(b1, b2)\n",
    "end = time.time()*1000\n",
    "print(end-start)"
   ]
  },
  {
   "cell_type": "code",
   "execution_count": 15,
   "id": "8dd197ba",
   "metadata": {},
   "outputs": [
    {
     "name": "stdout",
     "output_type": "stream",
     "text": [
      "7 208\n",
      "0.0\n"
     ]
    }
   ],
   "source": [
    "start = time.time()*1000\n",
    "b1 = 2000 >> 8\n",
    "b2 = 2000 & 255\n",
    "print(b1, b2)\n",
    "end = time.time()*1000\n",
    "print(end-start)"
   ]
  },
  {
   "cell_type": "code",
   "execution_count": null,
   "id": "f203a095",
   "metadata": {},
   "outputs": [],
   "source": []
  }
 ],
 "metadata": {
  "kernelspec": {
   "display_name": "Python 3 (ipykernel)",
   "language": "python",
   "name": "python3"
  },
  "language_info": {
   "codemirror_mode": {
    "name": "ipython",
    "version": 3
   },
   "file_extension": ".py",
   "mimetype": "text/x-python",
   "name": "python",
   "nbconvert_exporter": "python",
   "pygments_lexer": "ipython3",
   "version": "3.9.0"
  },
  "toc": {
   "base_numbering": 1,
   "nav_menu": {},
   "number_sections": false,
   "sideBar": false,
   "skip_h1_title": true,
   "title_cell": "Table of Contents",
   "title_sidebar": "Contents",
   "toc_cell": false,
   "toc_position": {},
   "toc_section_display": true,
   "toc_window_display": false
  },
  "varInspector": {
   "cols": {
    "lenName": 16,
    "lenType": 16,
    "lenVar": 40
   },
   "kernels_config": {
    "python": {
     "delete_cmd_postfix": "",
     "delete_cmd_prefix": "del ",
     "library": "var_list.py",
     "varRefreshCmd": "print(var_dic_list())"
    },
    "r": {
     "delete_cmd_postfix": ") ",
     "delete_cmd_prefix": "rm(",
     "library": "var_list.r",
     "varRefreshCmd": "cat(var_dic_list()) "
    }
   },
   "types_to_exclude": [
    "module",
    "function",
    "builtin_function_or_method",
    "instance",
    "_Feature"
   ],
   "window_display": false
  }
 },
 "nbformat": 4,
 "nbformat_minor": 5
}
