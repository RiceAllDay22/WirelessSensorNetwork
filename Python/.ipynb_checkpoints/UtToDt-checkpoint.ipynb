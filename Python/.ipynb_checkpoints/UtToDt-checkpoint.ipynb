{
 "cells": [
  {
   "cell_type": "markdown",
   "id": "2cd06e66",
   "metadata": {},
   "source": [
    "# Samples"
   ]
  },
  {
   "cell_type": "code",
   "execution_count": null,
   "id": "141b34e3",
   "metadata": {},
   "outputs": [],
   "source": [
    "dt = [2022, 1, 10, 3, 11, 15, 13]\n",
    "ut = 1641813313"
   ]
  },
  {
   "cell_type": "code",
   "execution_count": null,
   "id": "c49d1ea8",
   "metadata": {},
   "outputs": [],
   "source": [
    "dt = [2022, 1, 10, 3, 11, 31, 20]\n",
    "ut = 1641814280 "
   ]
  },
  {
   "cell_type": "code",
   "execution_count": null,
   "id": "6d78f109",
   "metadata": {},
   "outputs": [],
   "source": [
    "dt = [2022, 1, 10, 3, 11, 55, 14]\n",
    "ut = 1641815714"
   ]
  },
  {
   "cell_type": "code",
   "execution_count": null,
   "id": "23832090",
   "metadata": {},
   "outputs": [],
   "source": [
    "dt = [2000, 1, 1, 1, 0, 4, 50]\n",
    "ut = 946685090"
   ]
  },
  {
   "cell_type": "code",
   "execution_count": 14,
   "id": "753d2b49",
   "metadata": {},
   "outputs": [],
   "source": [
    "dt = [2025, 8, 3, 22, 30, 58]\n",
    "ut = 1754260258"
   ]
  },
  {
   "cell_type": "markdown",
   "id": "23628da2",
   "metadata": {},
   "source": [
    "# DT to UT"
   ]
  },
  {
   "cell_type": "code",
   "execution_count": 15,
   "id": "0e92f5ec",
   "metadata": {},
   "outputs": [],
   "source": [
    "SECONDS_FROM_1970_TO_2000 = 946684800\n",
    "daysInMonth = [31, 28, 31, 30, 31, 30, 31, 31, 30, 31, 30]"
   ]
  },
  {
   "cell_type": "code",
   "execution_count": 16,
   "id": "df158be1",
   "metadata": {},
   "outputs": [
    {
     "data": {
      "text/plain": [
       "212"
      ]
     },
     "execution_count": 16,
     "metadata": {},
     "output_type": "execute_result"
    }
   ],
   "source": [
    "31+28+31+30+31+30+31"
   ]
  },
  {
   "cell_type": "code",
   "execution_count": 17,
   "id": "a96c618c",
   "metadata": {},
   "outputs": [],
   "source": [
    "def time2ulong(days, hh, mm, ss):\n",
    "    return ((days * 24 + hh) * 60 + mm) * 60 + ss"
   ]
  },
  {
   "cell_type": "code",
   "execution_count": 18,
   "id": "47f21e61",
   "metadata": {},
   "outputs": [],
   "source": [
    "def date2days(y, m, d):\n",
    "    y -= 2000\n",
    "    days = d\n",
    "    for i in range(m-1):\n",
    "        days += daysInMonth[i]\n",
    "    if ((m > 2) and (y % 4 == 0) ):\n",
    "        days += 1\n",
    "    r = days + 365 * y + (y + 3) // 4 - 1\n",
    "    return r"
   ]
  },
  {
   "cell_type": "code",
   "execution_count": 19,
   "id": "9671294c",
   "metadata": {},
   "outputs": [],
   "source": [
    "def UnixTime(y, m, d, hh, mm, ss):\n",
    "    days = date2days(y, m, d)\n",
    "    #print('y :', y, '\\nm :', m, '\\nd :', d, '\\nwd:', Weekday)\n",
    "    #print('hh:', hh, '\\nmm:', mm, '\\nss:',ss)\n",
    "    ut = time2ulong(days, hh, mm, ss)\n",
    "    ut += SECONDS_FROM_1970_TO_2000\n",
    "    return ut"
   ]
  },
  {
   "cell_type": "code",
   "execution_count": 20,
   "id": "3eca6b02",
   "metadata": {},
   "outputs": [
    {
     "name": "stdout",
     "output_type": "stream",
     "text": [
      "1754260258 1754260258 0\n"
     ]
    }
   ],
   "source": [
    "dt = [2025, 8, 3, 22, 30, 58]\n",
    "ut = 1754260258\n",
    "\n",
    "\n",
    "utdt = UnixTime(*dt)\n",
    "print(ut, utdt, ut-utdt)"
   ]
  },
  {
   "cell_type": "markdown",
   "id": "398f1536",
   "metadata": {},
   "source": [
    "# UT to DT"
   ]
  },
  {
   "cell_type": "code",
   "execution_count": 21,
   "id": "17a24553",
   "metadata": {},
   "outputs": [
    {
     "name": "stdout",
     "output_type": "stream",
     "text": [
      "807575458\n",
      "9346\n",
      "y: 25\n",
      "221\n"
     ]
    }
   ],
   "source": [
    "ut = 1754260258\n",
    "ut -= SECONDS_FROM_1970_TO_2000\n",
    "print(ut)\n",
    "\n",
    "r = ut//(3600*24)\n",
    "print(r)\n",
    "\n",
    "y = r//365\n",
    "print('y:', y)\n",
    "\n",
    "print(r%365)\n",
    "#if (r%365 > 31) and (y % 4 == 0):\n",
    "#    days -= 1\n",
    "\n",
    "#m = r%365//12\n",
    "#print(m)\n",
    "\n",
    "#days = r + 1 - (365*y) - (y+3)//4"
   ]
  },
  {
   "cell_type": "code",
   "execution_count": 4,
   "id": "dbb73781",
   "metadata": {},
   "outputs": [
    {
     "data": {
      "text/plain": [
       "221"
      ]
     },
     "execution_count": 4,
     "metadata": {},
     "output_type": "execute_result"
    }
   ],
   "source": [
    "(r%365)"
   ]
  },
  {
   "cell_type": "code",
   "execution_count": null,
   "id": "cad7b755",
   "metadata": {},
   "outputs": [],
   "source": [
    "ut = 1754260258\n",
    "ut -= SECONDS_FROM_1970_TO_2000\n",
    "\n",
    "r = ut//(3600*24)\n",
    "y = r//365\n",
    "days = r + 1 - (365*y) - (y+3)//4\n",
    "m = r%(365)//12\n",
    "\n",
    "wd = (days + 6) % 7\n",
    "if ((m > 2) and (y % 4 == 0)):\n",
    "    days -= 1\n",
    "for i in range(m-1):\n",
    "    days -= daysInMonth[i]\n",
    "d = days\n",
    "y += 2000\n",
    "\n",
    "sec = ut%(3600*24)\n",
    "\n",
    "hh = sec//3600\n",
    "mm = sec%(3600)//60\n",
    "ss = sec%(3600//60)\n",
    "\n",
    "print('y :', y, '\\nm :', m, '\\nd :', d, '\\nwd:', wd)\n",
    "print('hh:', hh, '\\nmm:', mm, '\\nss:',ss)"
   ]
  },
  {
   "cell_type": "code",
   "execution_count": null,
   "id": "5ec9ed4d",
   "metadata": {},
   "outputs": [],
   "source": []
  },
  {
   "cell_type": "markdown",
   "id": "5db62802",
   "metadata": {},
   "source": [
    "# Timestamp Extraction"
   ]
  },
  {
   "cell_type": "code",
   "execution_count": 21,
   "id": "f99648e2",
   "metadata": {},
   "outputs": [
    {
     "ename": "AttributeError",
     "evalue": "'datetime.datetime' object has no attribute 'datetime'",
     "output_type": "error",
     "traceback": [
      "\u001b[1;31m---------------------------------------------------------------------------\u001b[0m",
      "\u001b[1;31mAttributeError\u001b[0m                            Traceback (most recent call last)",
      "\u001b[1;32m~\\AppData\\Local\\Temp/ipykernel_23088/530192084.py\u001b[0m in \u001b[0;36m<module>\u001b[1;34m\u001b[0m\n\u001b[0;32m      1\u001b[0m \u001b[0mdt\u001b[0m \u001b[1;33m=\u001b[0m \u001b[0mdatetime\u001b[0m\u001b[1;33m.\u001b[0m\u001b[0mdatetime\u001b[0m\u001b[1;33m.\u001b[0m\u001b[0mutcnow\u001b[0m\u001b[1;33m(\u001b[0m\u001b[1;33m)\u001b[0m\u001b[1;33m\u001b[0m\u001b[1;33m\u001b[0m\u001b[0m\n\u001b[1;32m----> 2\u001b[1;33m \u001b[0mdt\u001b[0m\u001b[1;33m.\u001b[0m\u001b[0mdatetime\u001b[0m\u001b[1;33m.\u001b[0m\u001b[0mdatetime\u001b[0m\u001b[1;33m(\u001b[0m\u001b[1;33m)\u001b[0m\u001b[1;33m\u001b[0m\u001b[1;33m\u001b[0m\u001b[0m\n\u001b[0m\u001b[0;32m      3\u001b[0m \u001b[1;31m#ut = datetime.datetime.utcfromtimestamp(float(dt.strftime('%s')))\u001b[0m\u001b[1;33m\u001b[0m\u001b[1;33m\u001b[0m\u001b[1;33m\u001b[0m\u001b[0m\n",
      "\u001b[1;31mAttributeError\u001b[0m: 'datetime.datetime' object has no attribute 'datetime'"
     ]
    }
   ],
   "source": [
    "dt = datetime.datetime.utcnow()\n",
    "dt.datetime.datetime()\n",
    "#ut = datetime.datetime.utcfromtimestamp(float(dt.strftime('%s')))"
   ]
  },
  {
   "cell_type": "code",
   "execution_count": 35,
   "id": "47ee63f0",
   "metadata": {},
   "outputs": [
    {
     "name": "stdout",
     "output_type": "stream",
     "text": [
      "2022-01-15 17:31:04.471898\n",
      "2022-01-16 00:31:04.471898 correct\n",
      "1642293064.471898 correct\n",
      "1642318264.471898\n"
     ]
    }
   ],
   "source": [
    "import datetime\n",
    "print(datetime.datetime.now())\n",
    "print(datetime.datetime.utcnow(), 'correct')\n",
    "print(datetime.datetime.now().timestamp(), 'correct')\n",
    "print(datetime.datetime.utcnow().timestamp())\n",
    "\n",
    "?datetime.datetime.utcfromtimestamp"
   ]
  },
  {
   "cell_type": "code",
   "execution_count": 37,
   "id": "ae7ce92f",
   "metadata": {},
   "outputs": [
    {
     "data": {
      "text/plain": [
       "['__call__',\n",
       " '__class__',\n",
       " '__delattr__',\n",
       " '__dir__',\n",
       " '__doc__',\n",
       " '__eq__',\n",
       " '__format__',\n",
       " '__ge__',\n",
       " '__getattribute__',\n",
       " '__gt__',\n",
       " '__hash__',\n",
       " '__init__',\n",
       " '__init_subclass__',\n",
       " '__le__',\n",
       " '__lt__',\n",
       " '__module__',\n",
       " '__name__',\n",
       " '__ne__',\n",
       " '__new__',\n",
       " '__qualname__',\n",
       " '__reduce__',\n",
       " '__reduce_ex__',\n",
       " '__repr__',\n",
       " '__self__',\n",
       " '__setattr__',\n",
       " '__sizeof__',\n",
       " '__str__',\n",
       " '__subclasshook__',\n",
       " '__text_signature__']"
      ]
     },
     "execution_count": 37,
     "metadata": {},
     "output_type": "execute_result"
    }
   ],
   "source": [
    "dir(datetime.datetime.utcnow)"
   ]
  },
  {
   "cell_type": "code",
   "execution_count": 47,
   "id": "a2d198a8",
   "metadata": {},
   "outputs": [
    {
     "ename": "TypeError",
     "evalue": "tzinfo argument must be None or of a tzinfo subclass, not type 'str'",
     "output_type": "error",
     "traceback": [
      "\u001b[1;31m---------------------------------------------------------------------------\u001b[0m",
      "\u001b[1;31mTypeError\u001b[0m                                 Traceback (most recent call last)",
      "\u001b[1;32m~\\AppData\\Local\\Temp/ipykernel_23088/2540755578.py\u001b[0m in \u001b[0;36m<module>\u001b[1;34m\u001b[0m\n\u001b[1;32m----> 1\u001b[1;33m \u001b[0mdatetime\u001b[0m\u001b[1;33m.\u001b[0m\u001b[0mdatetime\u001b[0m\u001b[1;33m.\u001b[0m\u001b[0mnow\u001b[0m\u001b[1;33m(\u001b[0m\u001b[0mtz\u001b[0m \u001b[1;33m=\u001b[0m \u001b[1;34m'UTC'\u001b[0m\u001b[1;33m)\u001b[0m\u001b[1;33m\u001b[0m\u001b[1;33m\u001b[0m\u001b[0m\n\u001b[0m",
      "\u001b[1;31mTypeError\u001b[0m: tzinfo argument must be None or of a tzinfo subclass, not type 'str'"
     ]
    }
   ],
   "source": [
    "datetime.datetime."
   ]
  },
  {
   "cell_type": "code",
   "execution_count": 58,
   "id": "583df4bc",
   "metadata": {},
   "outputs": [
    {
     "data": {
      "text/plain": [
       "1642293703.811147"
      ]
     },
     "execution_count": 58,
     "metadata": {},
     "output_type": "execute_result"
    }
   ],
   "source": [
    "import pytz\n",
    "#a = pytz.all_timezones\n",
    "#print(a)\n",
    "datetime.dateti me.now(tz = pytz.timezone('UTC')).timestamp()"
   ]
  },
  {
   "cell_type": "code",
   "execution_count": null,
   "id": "9736a11a",
   "metadata": {},
   "outputs": [],
   "source": []
  },
  {
   "cell_type": "code",
   "execution_count": 44,
   "id": "1460b1bb",
   "metadata": {},
   "outputs": [
    {
     "name": "stdout",
     "output_type": "stream",
     "text": [
      "2022-01-16 00:36:27.781244\n",
      "16\n",
      "0\n",
      "1642318587\n",
      "\n",
      "2022-01-15 17:36:27.781244\n",
      "15\n",
      "17\n",
      "1642293387\n"
     ]
    }
   ],
   "source": [
    "import datetime\n",
    "dt_utcnow = datetime.datetime.utcnow()\n",
    "ut_utcnow = int(dt_utcnow.timestamp())\n",
    "print(dt_utcnow)\n",
    "print(dt_utcnow.day)\n",
    "print(dt_utcnow.hour)\n",
    "print(ut_utcnow)\n",
    "\n",
    "\n",
    "print('')\n",
    "dt_now = datetime.datetime.now()\n",
    "ut_now = int(dt_now.timestamp())\n",
    "print(dt_now)\n",
    "print(dt_now.day)\n",
    "print(dt_now.hour)\n",
    "print(ut_now)"
   ]
  },
  {
   "cell_type": "code",
   "execution_count": 5,
   "id": "190f315b",
   "metadata": {},
   "outputs": [
    {
     "ename": "AttributeError",
     "evalue": "'datetime.datetime' object has no attribute 'utctimestamp'",
     "output_type": "error",
     "traceback": [
      "\u001b[1;31m---------------------------------------------------------------------------\u001b[0m",
      "\u001b[1;31mAttributeError\u001b[0m                            Traceback (most recent call last)",
      "\u001b[1;32m~\\AppData\\Local\\Temp/ipykernel_23088/1140229178.py\u001b[0m in \u001b[0;36m<module>\u001b[1;34m\u001b[0m\n\u001b[0;32m      1\u001b[0m \u001b[0mdt\u001b[0m \u001b[1;33m=\u001b[0m \u001b[0mdatetime\u001b[0m\u001b[1;33m.\u001b[0m\u001b[0mdatetime\u001b[0m\u001b[1;33m.\u001b[0m\u001b[0mnow\u001b[0m\u001b[1;33m(\u001b[0m\u001b[1;33m)\u001b[0m\u001b[1;33m\u001b[0m\u001b[1;33m\u001b[0m\u001b[0m\n\u001b[1;32m----> 2\u001b[1;33m \u001b[0mut\u001b[0m \u001b[1;33m=\u001b[0m \u001b[0mdt\u001b[0m\u001b[1;33m.\u001b[0m\u001b[0mutctimestamp\u001b[0m\u001b[1;33m(\u001b[0m\u001b[1;33m)\u001b[0m\u001b[1;33m\u001b[0m\u001b[1;33m\u001b[0m\u001b[0m\n\u001b[0m\u001b[0;32m      3\u001b[0m \u001b[0mprint\u001b[0m\u001b[1;33m(\u001b[0m\u001b[0mut\u001b[0m\u001b[1;33m)\u001b[0m\u001b[1;33m\u001b[0m\u001b[1;33m\u001b[0m\u001b[0m\n",
      "\u001b[1;31mAttributeError\u001b[0m: 'datetime.datetime' object has no attribute 'utctimestamp'"
     ]
    }
   ],
   "source": [
    "dt = datetime.datetime.now()\n",
    "ut = dt.utctimestamp()\n",
    "print(ut)"
   ]
  },
  {
   "cell_type": "code",
   "execution_count": null,
   "id": "137fdf69",
   "metadata": {},
   "outputs": [],
   "source": []
  },
  {
   "cell_type": "code",
   "execution_count": 4,
   "id": "100084e9",
   "metadata": {},
   "outputs": [
    {
     "data": {
      "text/plain": [
       "datetime.datetime(2008, 1, 1, 0, 0)"
      ]
     },
     "execution_count": 4,
     "metadata": {},
     "output_type": "execute_result"
    }
   ],
   "source": [
    "datetime.datetime(2008, 1, 1, 0, 0, 0, 0)"
   ]
  },
  {
   "cell_type": "code",
   "execution_count": 7,
   "id": "e370a76c",
   "metadata": {},
   "outputs": [
    {
     "data": {
      "text/plain": [
       "['__add__',\n",
       " '__class__',\n",
       " '__delattr__',\n",
       " '__dir__',\n",
       " '__doc__',\n",
       " '__eq__',\n",
       " '__format__',\n",
       " '__ge__',\n",
       " '__getattribute__',\n",
       " '__gt__',\n",
       " '__hash__',\n",
       " '__init__',\n",
       " '__init_subclass__',\n",
       " '__le__',\n",
       " '__lt__',\n",
       " '__ne__',\n",
       " '__new__',\n",
       " '__radd__',\n",
       " '__reduce__',\n",
       " '__reduce_ex__',\n",
       " '__repr__',\n",
       " '__rsub__',\n",
       " '__setattr__',\n",
       " '__sizeof__',\n",
       " '__str__',\n",
       " '__sub__',\n",
       " '__subclasshook__',\n",
       " 'astimezone',\n",
       " 'combine',\n",
       " 'ctime',\n",
       " 'date',\n",
       " 'day',\n",
       " 'dst',\n",
       " 'fold',\n",
       " 'fromisocalendar',\n",
       " 'fromisoformat',\n",
       " 'fromordinal',\n",
       " 'fromtimestamp',\n",
       " 'hour',\n",
       " 'isocalendar',\n",
       " 'isoformat',\n",
       " 'isoweekday',\n",
       " 'max',\n",
       " 'microsecond',\n",
       " 'min',\n",
       " 'minute',\n",
       " 'month',\n",
       " 'now',\n",
       " 'replace',\n",
       " 'resolution',\n",
       " 'second',\n",
       " 'strftime',\n",
       " 'strptime',\n",
       " 'time',\n",
       " 'timestamp',\n",
       " 'timetuple',\n",
       " 'timetz',\n",
       " 'today',\n",
       " 'toordinal',\n",
       " 'tzinfo',\n",
       " 'tzname',\n",
       " 'utcfromtimestamp',\n",
       " 'utcnow',\n",
       " 'utcoffset',\n",
       " 'utctimetuple',\n",
       " 'weekday',\n",
       " 'year']"
      ]
     },
     "execution_count": 7,
     "metadata": {},
     "output_type": "execute_result"
    }
   ],
   "source": [
    "dir(datetime.datetime)"
   ]
  },
  {
   "cell_type": "code",
   "execution_count": null,
   "id": "7ee30221",
   "metadata": {},
   "outputs": [],
   "source": []
  }
 ],
 "metadata": {
  "kernelspec": {
   "display_name": "Python 3 (ipykernel)",
   "language": "python",
   "name": "python3"
  },
  "language_info": {
   "codemirror_mode": {
    "name": "ipython",
    "version": 3
   },
   "file_extension": ".py",
   "mimetype": "text/x-python",
   "name": "python",
   "nbconvert_exporter": "python",
   "pygments_lexer": "ipython3",
   "version": "3.9.0"
  },
  "varInspector": {
   "cols": {
    "lenName": 16,
    "lenType": 16,
    "lenVar": 40
   },
   "kernels_config": {
    "python": {
     "delete_cmd_postfix": "",
     "delete_cmd_prefix": "del ",
     "library": "var_list.py",
     "varRefreshCmd": "print(var_dic_list())"
    },
    "r": {
     "delete_cmd_postfix": ") ",
     "delete_cmd_prefix": "rm(",
     "library": "var_list.r",
     "varRefreshCmd": "cat(var_dic_list()) "
    }
   },
   "types_to_exclude": [
    "module",
    "function",
    "builtin_function_or_method",
    "instance",
    "_Feature"
   ],
   "window_display": false
  }
 },
 "nbformat": 4,
 "nbformat_minor": 5
}
