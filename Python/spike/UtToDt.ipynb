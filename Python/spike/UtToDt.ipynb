{
 "cells": [
  {
   "cell_type": "markdown",
   "id": "2cd06e66",
   "metadata": {},
   "source": [
    "# Samples"
   ]
  },
  {
   "cell_type": "code",
   "execution_count": null,
   "id": "141b34e3",
   "metadata": {},
   "outputs": [],
   "source": [
    "dt = [2022, 1, 10, 3, 11, 15, 13]\n",
    "ut = 1641813313"
   ]
  },
  {
   "cell_type": "code",
   "execution_count": null,
   "id": "c49d1ea8",
   "metadata": {},
   "outputs": [],
   "source": [
    "dt = [2022, 1, 10, 3, 11, 31, 20]\n",
    "ut = 1641814280 "
   ]
  },
  {
   "cell_type": "code",
   "execution_count": null,
   "id": "6d78f109",
   "metadata": {},
   "outputs": [],
   "source": [
    "dt = [2022, 1, 10, 3, 11, 55, 14]\n",
    "ut = 1641815714"
   ]
  },
  {
   "cell_type": "code",
   "execution_count": null,
   "id": "23832090",
   "metadata": {},
   "outputs": [],
   "source": [
    "dt = [2000, 1, 1, 1, 0, 4, 50]\n",
    "ut = 946685090"
   ]
  },
  {
   "cell_type": "code",
   "execution_count": null,
   "id": "753d2b49",
   "metadata": {},
   "outputs": [],
   "source": [
    "dt = [2025, 8, 3, 22, 30, 58]\n",
    "ut = 1754260258"
   ]
  },
  {
   "cell_type": "markdown",
   "id": "23628da2",
   "metadata": {},
   "source": [
    "# DT to UT"
   ]
  },
  {
   "cell_type": "code",
   "execution_count": 10,
   "id": "0e92f5ec",
   "metadata": {},
   "outputs": [],
   "source": [
    "SECONDS_FROM_1970_TO_2000 = 946684800\n",
    "daysInMonth = [31, 28, 31, 30, 31, 30, 31, 31, 30, 31, 30]"
   ]
  },
  {
   "cell_type": "code",
   "execution_count": 11,
   "id": "a96c618c",
   "metadata": {},
   "outputs": [],
   "source": [
    "def time2ulong(days, hh, mm, ss):\n",
    "    return ((days * 24 + hh) * 60 + mm) * 60 + ss"
   ]
  },
  {
   "cell_type": "code",
   "execution_count": 12,
   "id": "47f21e61",
   "metadata": {},
   "outputs": [],
   "source": [
    "def date2days(y, m, d):\n",
    "    y -= 2000\n",
    "    days = d\n",
    "    for i in range(m-1):\n",
    "        days += daysInMonth[i]\n",
    "    if ((m > 2) and (y % 4 == 0) ):\n",
    "        days += 1\n",
    "    r = days + 365 * y + (y + 3) // 4 - 1\n",
    "    return r"
   ]
  },
  {
   "cell_type": "code",
   "execution_count": 13,
   "id": "9671294c",
   "metadata": {},
   "outputs": [],
   "source": [
    "def UnixTime(y, m, d, hh, mm, ss):\n",
    "    days = date2days(y, m, d)\n",
    "    #print('y :', y, '\\nm :', m, '\\nd :', d, '\\nwd:', Weekday)\n",
    "    #print('hh:', hh, '\\nmm:', mm, '\\nss:',ss)\n",
    "    ut = time2ulong(days, hh, mm, ss)\n",
    "    ut += SECONDS_FROM_1970_TO_2000\n",
    "    return ut"
   ]
  },
  {
   "cell_type": "code",
   "execution_count": 21,
   "id": "3eca6b02",
   "metadata": {},
   "outputs": [
    {
     "name": "stdout",
     "output_type": "stream",
     "text": [
      "1754260258 1754260258 0\n"
     ]
    }
   ],
   "source": [
    "dt = [2025, 8, 3, 22, 30, 58]\n",
    "ut = 1754260258\n",
    "\n",
    "\n",
    "utdt = UnixTime(*dt)\n",
    "print(ut, utdt, ut-utdt)"
   ]
  },
  {
   "cell_type": "markdown",
   "id": "398f1536",
   "metadata": {},
   "source": [
    "# UT to DT"
   ]
  },
  {
   "cell_type": "code",
   "execution_count": 29,
   "id": "17a24553",
   "metadata": {},
   "outputs": [
    {
     "name": "stdout",
     "output_type": "stream",
     "text": [
      "807575458\n",
      "9346\n",
      "y: 25\n",
      "25.605479452054794\n",
      "hh: 22 \n",
      "mm: 30 \n",
      "ss: 58\n"
     ]
    }
   ],
   "source": [
    "ut = 1754260258\n",
    "ut -= SECONDS_FROM_1970_TO_2000\n",
    "print(ut)\n",
    "\n",
    "r = ut//(3600*24)\n",
    "print(r)\n",
    "\n",
    "y = r//365\n",
    "print('y:', y)\n",
    "\n",
    "print(r/365)\n",
    "#if (r%365 > 31) and (y % 4 == 0):\n",
    "#    days -= 1\n",
    "\n",
    "#m = r%365//12\n",
    "#print(m)\n",
    "\n",
    "#days = r + 1 - (365*y) - (y+3)//4\n",
    "\n",
    "sec = ut%(3600*24)\n",
    "\n",
    "hh = sec//3600\n",
    "mm = sec%(3600)//60\n",
    "ss = sec%(3600//60)\n",
    "\n",
    "#print('y :', y, '\\nm :', m, '\\nd :', d)\n",
    "print('hh:', hh, '\\nmm:', mm, '\\nss:',ss)"
   ]
  },
  {
   "cell_type": "code",
   "execution_count": null,
   "id": "dbb73781",
   "metadata": {},
   "outputs": [],
   "source": [
    "(r%365)"
   ]
  },
  {
   "cell_type": "code",
   "execution_count": null,
   "id": "cad7b755",
   "metadata": {},
   "outputs": [],
   "source": [
    "ut = 1754260258\n",
    "ut -= SECONDS_FROM_1970_TO_2000\n",
    "\n",
    "r = ut//(3600*24)\n",
    "y = r//365\n",
    "days = r + 1 - (365*y) - (y+3)//4\n",
    "m = r%(365)//12\n",
    "\n",
    "wd = (days + 6) % 7\n",
    "if ((m > 2) and (y % 4 == 0)):\n",
    "    days -= 1\n",
    "for i in range(m-1):\n",
    "    days -= daysInMonth[i]\n",
    "d = days\n",
    "y += 2000\n"
   ]
  },
  {
   "cell_type": "code",
   "execution_count": null,
   "id": "5ec9ed4d",
   "metadata": {},
   "outputs": [],
   "source": []
  },
  {
   "cell_type": "markdown",
   "id": "5db62802",
   "metadata": {},
   "source": [
    "# Timestamp Extraction"
   ]
  },
  {
   "cell_type": "code",
   "execution_count": 9,
   "id": "47ee63f0",
   "metadata": {},
   "outputs": [
    {
     "name": "stdout",
     "output_type": "stream",
     "text": [
      "2022-01-16 03:02:40.607975+00:00\n",
      "1642302160\n",
      "2022 1 16 3 2 40\n"
     ]
    }
   ],
   "source": [
    "import datetime\n",
    "import pytz\n",
    "dt = datetime.datetime.now(tz = pytz.timezone('UTC'))\n",
    "ut = int(dt.timestamp())\n",
    "print(dt)\n",
    "print(ut)\n",
    "\n",
    "y = dt.year\n",
    "m = dt.month\n",
    "d = dt.day\n",
    "hh = dt.hour\n",
    "mm = dt.minute\n",
    "ss = dt.second\n",
    "\n",
    "print(y, m, d, hh, mm, ss)"
   ]
  }
 ],
 "metadata": {
  "kernelspec": {
   "display_name": "Python 3 (ipykernel)",
   "language": "python",
   "name": "python3"
  },
  "language_info": {
   "codemirror_mode": {
    "name": "ipython",
    "version": 3
   },
   "file_extension": ".py",
   "mimetype": "text/x-python",
   "name": "python",
   "nbconvert_exporter": "python",
   "pygments_lexer": "ipython3",
   "version": "3.9.0"
  },
  "varInspector": {
   "cols": {
    "lenName": 16,
    "lenType": 16,
    "lenVar": 40
   },
   "kernels_config": {
    "python": {
     "delete_cmd_postfix": "",
     "delete_cmd_prefix": "del ",
     "library": "var_list.py",
     "varRefreshCmd": "print(var_dic_list())"
    },
    "r": {
     "delete_cmd_postfix": ") ",
     "delete_cmd_prefix": "rm(",
     "library": "var_list.r",
     "varRefreshCmd": "cat(var_dic_list()) "
    }
   },
   "types_to_exclude": [
    "module",
    "function",
    "builtin_function_or_method",
    "instance",
    "_Feature"
   ],
   "window_display": false
  }
 },
 "nbformat": 4,
 "nbformat_minor": 5
}
