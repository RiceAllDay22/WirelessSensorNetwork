{
 "cells": [
  {
   "cell_type": "markdown",
   "id": "bde9c439",
   "metadata": {},
   "source": [
    "# Adriann Liceralde\n",
    "# Last Updated 1/11/2022"
   ]
  },
  {
   "cell_type": "markdown",
   "id": "0a9e8ad6",
   "metadata": {},
   "source": [
    "## Part 1: Import Data"
   ]
  },
  {
   "cell_type": "code",
   "execution_count": 1,
   "id": "913ed76b",
   "metadata": {},
   "outputs": [
    {
     "data": {
      "text/html": [
       "'C:/Users/adria/Desktop/Repo/WirelessSensorNetwork/Python/spike'"
      ],
      "text/latex": [
       "'C:/Users/adria/Desktop/Repo/WirelessSensorNetwork/Python/spike'"
      ],
      "text/markdown": [
       "'C:/Users/adria/Desktop/Repo/WirelessSensorNetwork/Python/spike'"
      ],
      "text/plain": [
       "[1] \"C:/Users/adria/Desktop/Repo/WirelessSensorNetwork/Python/spike\""
      ]
     },
     "metadata": {},
     "output_type": "display_data"
    }
   ],
   "source": [
    "#Import Packages\n",
    "getwd()\n",
    "library(openair,   warn.conflicts = FALSE)\n",
    "library(lubridate, warn.conflicts = FALSE)"
   ]
  },
  {
   "cell_type": "code",
   "execution_count": 27,
   "id": "3cd2465c",
   "metadata": {},
   "outputs": [
    {
     "name": "stdout",
     "output_type": "stream",
     "text": [
      "ï»¿unixtime       date1       date2          ws          wd         co2 \n",
      "  \"integer\"   \"POSIXct\"    \"POSIXt\"   \"numeric\"   \"integer\"   \"integer\" \n",
      "       temp \n",
      "  \"integer\" \n",
      "ï»¿unixtime       date1       date2          ws          wd         co2 \n",
      "  \"integer\"   \"POSIXct\"    \"POSIXt\"   \"numeric\"   \"integer\"   \"integer\" \n",
      "       temp \n",
      "  \"integer\" \n"
     ]
    }
   ],
   "source": [
    "#Import Data File\n",
    "rm(list=ls())\n",
    "\n",
    "setwd('C:/Users/adria/Desktop/Repo/WirelessSensorNetwork/Data/ContinuousNodeSampling/V All')\n",
    "\n",
    "mydata_pri <- import('C-2021-11-14-Pri.csv', date.format = '%m/%d/%Y %H:%M')\n",
    "mydata_sec <- import('C-2021-07-27-Sec.csv', date.format = '%m/%d/%Y %H:%M')\n",
    "\n",
    "\n",
    "#mydata_pri <- read.csv('C-2021-07-06-Pri.csv', header = TRUE, fileEncoding = 'UTF-8-BOM')\n",
    "#mydata_sec <- read.csv('Sec-Processed.csv', header = TRUE, fileEncoding = 'UTF-8-BOM')"
   ]
  },
  {
   "cell_type": "markdown",
   "id": "dadfd11d",
   "metadata": {},
   "source": [
    "## Part 2: Analyze Data"
   ]
  },
  {
   "cell_type": "code",
   "execution_count": null,
   "id": "3f65de81",
   "metadata": {},
   "outputs": [],
   "source": [
    "mydata_pri"
   ]
  },
  {
   "cell_type": "code",
   "execution_count": null,
   "id": "fa4ceadf",
   "metadata": {},
   "outputs": [],
   "source": [
    "start_point = 14000\n",
    "end_point   = 40000\n",
    "\n",
    "mysubdata_pri = subset(mydata_pri,\n",
    "                       (as.numeric(rownames(mydata_pri)) > start_point) & (as.numeric(rownames(mydata_pri)) < end_point),\n",
    "                       select = c(date, wd, ws, co2))\n",
    "timePlot(mysubdata_pri, pollutant = 'co2')\n",
    "#timePlot(mysubdata_pri, pollutant = 'ws')"
   ]
  },
  {
   "cell_type": "code",
   "execution_count": 28,
   "id": "62753ded",
   "metadata": {},
   "outputs": [
    {
     "data": {
      "image/png": "[encoded data removed]",
      "text/plain": [
       "plot without title"
      ]
     },
     "metadata": {
      "image/png": {
       "height": 420,
       "width": 420
      }
     },
     "output_type": "display_data"
    }
   ],
   "source": [
    "timePlot(mydata_pri, pollutant = 'co2', main = 'Primary')\n",
    "#timePlot(mydata_sec, pollutant = 'co2')"
   ]
  },
  {
   "cell_type": "code",
   "execution_count": 24,
   "id": "954edb64",
   "metadata": {},
   "outputs": [
    {
     "data": {
      "image/png": "[encoded data removed]",
      "text/plain": [
       "plot without title"
      ]
     },
     "metadata": {
      "image/png": {
       "height": 420,
       "width": 420
      }
     },
     "output_type": "display_data"
    }
   ],
   "source": [
    "timePlot(mydata_sec, pollutant = 'co2', main = 'Secondary')"
   ]
  },
  {
   "cell_type": "code",
   "execution_count": null,
   "id": "ff843b53",
   "metadata": {},
   "outputs": [],
   "source": [
    "timePlot(mydata_pri, pollutant = 'temp')\n",
    "timePlot(mydata_sec, pollutant = 'temp')"
   ]
  },
  {
   "cell_type": "markdown",
   "id": "24b01576",
   "metadata": {},
   "source": [
    "# Primary Node"
   ]
  },
  {
   "cell_type": "code",
   "execution_count": null,
   "id": "e351b1ff",
   "metadata": {},
   "outputs": [],
   "source": [
    "polarPlot(mysubdata_pri, pollutant = 'co2', stati = 'cpf', percentile = c(80, 90))"
   ]
  },
  {
   "cell_type": "code",
   "execution_count": null,
   "id": "090a3f8f",
   "metadata": {},
   "outputs": [],
   "source": [
    "polarPlot(mydata_pri, pollutant = 'co2', stati = 'cpf', percentile = c(40,50))\n",
    "polarPlot(mydata_pri, pollutant = 'co2', stati = 'cpf', percentile = c(50,60))"
   ]
  },
  {
   "cell_type": "code",
   "execution_count": null,
   "id": "2ff6feb5",
   "metadata": {},
   "outputs": [],
   "source": [
    "png(\"PrimaryNodeAdjusted.png\", width = 5 * 300, height = 4.5 * 300, res = 300)\n",
    "polarPlot(mydata_pri, pollutant = 'co2', stati = 'cpf', percentile = c(60,65))\n",
    "dev.off()"
   ]
  },
  {
   "cell_type": "code",
   "execution_count": null,
   "id": "9f14922f",
   "metadata": {},
   "outputs": [],
   "source": [
    "polarPlot(mydata_pri, pollutant = 'co2', stati = 'cpf', percentile = c(60,70))"
   ]
  },
  {
   "cell_type": "code",
   "execution_count": null,
   "id": "453b6e19",
   "metadata": {},
   "outputs": [],
   "source": [
    "#polarPlot(mydata_pri, pollutant = 'co2', stati = 'cpf', percentile = c(0,10))\n",
    "#polarPlot(mydata_pri, pollutant = 'co2', stati = 'cpf', percentile = c(10,20))\n",
    "#polarPlot(mydata_pri, pollutant = 'co2', stati = 'cpf', percentile = c(20,30))\n",
    "#polarPlot(mydata_pri, pollutant = 'co2', stati = 'cpf', percentile = c(30,40))\n",
    "#polarPlot(mydata_pri, pollutant = 'co2', stati = 'cpf', percentile = c(40,50))\n",
    "#polarPlot(mydata_pri, pollutant = 'co2', stati = 'cpf', percentile = c(50,60))\n",
    "polarPlot(mydata_pri, pollutant = 'co2', stati = 'cpf', percentile = c(60,70))\n",
    "polarPlot(mydata_pri, pollutant = 'co2', stati = 'cpf', percentile = c(70,80))\n",
    "polarPlot(mydata_pri, pollutant = 'co2', stati = 'cpf', percentile = c(80,90))\n",
    "polarPlot(mydata_pri, pollutant = 'co2', stati = 'cpf', percentile = c(90,100))"
   ]
  },
  {
   "cell_type": "code",
   "execution_count": null,
   "id": "93f50cb4",
   "metadata": {},
   "outputs": [],
   "source": [
    "#start_point = 10000\n",
    "#end_point   = 20000\n",
    "\n",
    "#mysubdata_pri = subset(mydata_pri,\n",
    "#                       (as.numeric(rownames(mydata_pri)) > start_point) & (as.numeric(rownames(mydata_pri)) < end_point),\n",
    "#                       select = c(date, wd, ws, co2))\n",
    "\n",
    "#timePlot(mysubdata_pri, pollutant = 'co2')"
   ]
  },
  {
   "cell_type": "code",
   "execution_count": null,
   "id": "8fd57764",
   "metadata": {},
   "outputs": [],
   "source": [
    "#windRose(mydata_pri, angle = 22.5)\n",
    "percentileRose(mydata_pri, pollutant = 'co2')\n",
    "#polarPlot(mydata_pri, pollutant = 'co2')\n",
    "#polarPlot(mydata_pri, pollutant = 'co2', stati = 'cpf', percentile = c(80,90))\n",
    "#polarPlot(mydata_pri, pollutant = 'co2', stati = 'cpf', percentile = c(90,100))"
   ]
  },
  {
   "cell_type": "markdown",
   "id": "9cddd08b",
   "metadata": {},
   "source": [
    "# Secondary Node"
   ]
  },
  {
   "cell_type": "code",
   "execution_count": null,
   "id": "9a03327b",
   "metadata": {},
   "outputs": [],
   "source": [
    "polarPlot(mydata_sec, pollutant = 'co2', stati = 'cpf', percentile = c(0,10))\n",
    "polarPlot(mydata_sec, pollutant = 'co2', stati = 'cpf', percentile = c(10,20))\n",
    "polarPlot(mydata_sec, pollutant = 'co2', stati = 'cpf', percentile = c(20,30))\n",
    "polarPlot(mydata_sec, pollutant = 'co2', stati = 'cpf', percentile = c(30,40))\n",
    "polarPlot(mydata_sec, pollutant = 'co2', stati = 'cpf', percentile = c(40,50))"
   ]
  },
  {
   "cell_type": "code",
   "execution_count": null,
   "id": "5862978f",
   "metadata": {},
   "outputs": [],
   "source": [
    "\n",
    "polarPlot(mydata_sec, pollutant = 'co2', stati = 'cpf', percentile = c(50,60))\n",
    "polarPlot(mydata_sec, pollutant = 'co2', stati = 'cpf', percentile = c(60,70))\n",
    "polarPlot(mydata_sec, pollutant = 'co2', stati = 'cpf', percentile = c(70,80))\n",
    "polarPlot(mydata_sec, pollutant = 'co2', stati = 'cpf', percentile = c(80,90))\n",
    "polarPlot(mydata_sec, pollutant = 'co2', stati = 'cpf', percentile = c(90,100))"
   ]
  },
  {
   "cell_type": "code",
   "execution_count": null,
   "id": "ccd19ca6",
   "metadata": {},
   "outputs": [],
   "source": [
    "polarPlot(mydata_sec, pollutant = 'co2', stati = 'cpf', percentile = c(75,85))"
   ]
  },
  {
   "cell_type": "code",
   "execution_count": null,
   "id": "5d17c041",
   "metadata": {},
   "outputs": [],
   "source": [
    "png(\"SecondaryNodeFirst.png\", width = 5 * 300, height = 4.5 * 300, res = 300)\n",
    "polarPlot(mydata_sec, pollutant = 'co2', stati = 'cpf', percentile = c(80,85) )\n",
    "dev.off()"
   ]
  },
  {
   "cell_type": "code",
   "execution_count": null,
   "id": "b19fc2b7",
   "metadata": {},
   "outputs": [],
   "source": []
  }
 ],
 "metadata": {
  "kernelspec": {
   "display_name": "R",
   "language": "R",
   "name": "ir"
  },
  "language_info": {
   "codemirror_mode": "r",
   "file_extension": ".r",
   "mimetype": "text/x-r-source",
   "name": "R",
   "pygments_lexer": "r",
   "version": "4.1.0"
  },
  "toc": {
   "base_numbering": 1,
   "nav_menu": {},
   "number_sections": false,
   "sideBar": false,
   "skip_h1_title": true,
   "title_cell": "Table of Contents",
   "title_sidebar": "Contents",
   "toc_cell": false,
   "toc_position": {},
   "toc_section_display": true,
   "toc_window_display": false
  },
  "varInspector": {
   "cols": {
    "lenName": 16,
    "lenType": 16,
    "lenVar": 40
   },
   "kernels_config": {
    "python": {
     "delete_cmd_postfix": "",
     "delete_cmd_prefix": "del ",
     "library": "var_list.py",
     "varRefreshCmd": "print(var_dic_list())"
    },
    "r": {
     "delete_cmd_postfix": ") ",
     "delete_cmd_prefix": "rm(",
     "library": "var_list.r",
     "varRefreshCmd": "cat(var_dic_list()) "
    }
   },
   "types_to_exclude": [
    "module",
    "function",
    "builtin_function_or_method",
    "instance",
    "_Feature"
   ],
   "window_display": false
  }
 },
 "nbformat": 4,
 "nbformat_minor": 5
}
