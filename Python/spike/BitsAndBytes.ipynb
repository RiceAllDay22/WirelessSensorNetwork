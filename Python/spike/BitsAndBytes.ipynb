{
 "cells": [
  {
   "cell_type": "code",
   "execution_count": 1,
   "id": "bec70ff7",
   "metadata": {},
   "outputs": [
    {
     "name": "stdout",
     "output_type": "stream",
     "text": [
      "0b1010\n",
      "0b1100\n"
     ]
    }
   ],
   "source": [
    "a = 10\n",
    "b = 12\n",
    "print(bin(a))\n",
    "print(bin(b))"
   ]
  },
  {
   "cell_type": "code",
   "execution_count": 2,
   "id": "021298cf",
   "metadata": {},
   "outputs": [
    {
     "name": "stdout",
     "output_type": "stream",
     "text": [
      "8\n",
      "0b1000\n"
     ]
    }
   ],
   "source": [
    "# & operator\n",
    "print(a & b)\n",
    "print(bin(a & b))"
   ]
  },
  {
   "cell_type": "code",
   "execution_count": 3,
   "id": "9da62a37",
   "metadata": {
    "scrolled": true
   },
   "outputs": [
    {
     "name": "stdout",
     "output_type": "stream",
     "text": [
      "14\n",
      "0b1110\n"
     ]
    }
   ],
   "source": [
    "# | operator\n",
    "print(a | b)\n",
    "print(bin(a | b))"
   ]
  },
  {
   "cell_type": "code",
   "execution_count": 4,
   "id": "988640d7",
   "metadata": {},
   "outputs": [
    {
     "name": "stdout",
     "output_type": "stream",
     "text": [
      "6\n",
      "0b110\n"
     ]
    }
   ],
   "source": [
    "# ^ operator\n",
    "print(a ^ b)\n",
    "print(bin (a ^ b))"
   ]
  },
  {
   "cell_type": "markdown",
   "id": "ca7ee8c2",
   "metadata": {},
   "source": [
    "# Test"
   ]
  },
  {
   "cell_type": "code",
   "execution_count": 5,
   "id": "8e136038",
   "metadata": {},
   "outputs": [],
   "source": [
    "#Data\n",
    "ws = 50 # From 0 to 127\n",
    "wd = 359 # From 0 to 359"
   ]
  },
  {
   "cell_type": "code",
   "execution_count": 6,
   "id": "4cb3a4fc",
   "metadata": {},
   "outputs": [
    {
     "name": "stdout",
     "output_type": "stream",
     "text": [
      "178 103\n"
     ]
    }
   ],
   "source": [
    "#From Data to Bytes\n",
    "b1 = ws + ((wd >> 8) << 7)\n",
    "b2 = wd & ~(1 << 8)\n",
    "print(b1, b2)"
   ]
  },
  {
   "cell_type": "code",
   "execution_count": 7,
   "id": "d70e2c55",
   "metadata": {},
   "outputs": [
    {
     "name": "stdout",
     "output_type": "stream",
     "text": [
      "50 359\n"
     ]
    }
   ],
   "source": [
    "#From Bytes to Data\n",
    "w1 = b1 & ~(1 << 7) #https://www.geeksforgeeks.org/how-to-turn-off-a-particular-bit-in-a-number/\n",
    "w2 = b2 + ((b1>>7) << 8)\n",
    "print(w1, w2)"
   ]
  },
  {
   "cell_type": "code",
   "execution_count": 8,
   "id": "3668cbaf",
   "metadata": {},
   "outputs": [],
   "source": [
    "for ws in range (0, 127):\n",
    "    for wd in range(0, 359):\n",
    "        b1 = ws + ((wd >> 8) << 7)\n",
    "        b2 = wd & 255\n",
    "        \n",
    "        w1 = b1 & ~(1 << 7) #https://www.geeksforgeeks.org/how-to-turn-off-a-particular-bit-in-a-number/\n",
    "        w2 = b2 + ((b1>>7) << 8)\n",
    "\n",
    "        assert ws == w1 and wd == w2 and b1 < 256 and b2 < 256"
   ]
  },
  {
   "cell_type": "code",
   "execution_count": 9,
   "id": "a771c0d6",
   "metadata": {},
   "outputs": [],
   "source": [
    "for ws in range (0, 127):\n",
    "    for wd in range(0, 359):\n",
    "        b1 = ws + ((wd >> 8) << 7)\n",
    "        b2 = wd & 255\n",
    "        \n",
    "        w1 = b1 & 127 #https://www.geeksforgeeks.org/how-to-turn-off-a-particular-bit-in-a-number/\n",
    "        w2 = b2 + ((b1>>7) << 8)\n",
    "\n",
    "        assert ws == w1 and wd == w2 and b1 < 256 and b2 < 256"
   ]
  },
  {
   "cell_type": "markdown",
   "id": "038d633f",
   "metadata": {},
   "source": [
    "# Unixtime"
   ]
  },
  {
   "cell_type": "code",
   "execution_count": 10,
   "id": "08c52abc",
   "metadata": {},
   "outputs": [],
   "source": [
    "ut = 1638342500"
   ]
  },
  {
   "cell_type": "code",
   "execution_count": 11,
   "id": "34e8cace",
   "metadata": {},
   "outputs": [
    {
     "name": "stdout",
     "output_type": "stream",
     "text": [
      "97 167 31 100\n",
      "0.0\n"
     ]
    }
   ],
   "source": [
    "import time\n",
    "start = time.time()*1000\n",
    "b1 = ut//256**3\n",
    "b2 = ut//256**2 - b1*256\n",
    "b3 = ut//256**1 - b1*256**2 - b2*256\n",
    "b4 = ut - b1*256**3 - b2*256**2 - b3*256\n",
    "print(b1, b2, b3, b4)\n",
    "end = time.time()*1000\n",
    "print(end-start)"
   ]
  },
  {
   "cell_type": "code",
   "execution_count": 12,
   "id": "d6192441",
   "metadata": {},
   "outputs": [
    {
     "name": "stdout",
     "output_type": "stream",
     "text": [
      "97 167 31 100\n",
      "0.0\n"
     ]
    }
   ],
   "source": [
    "start = time.time()*1000\n",
    "b1 = ut >> 24\n",
    "b2 = ut >> 16 & 255\n",
    "b3 = ut >> 8 & 255\n",
    "b4 = ut & 255\n",
    "print(b1, b2, b3, b4)\n",
    "end = time.time()*1000\n",
    "print(end-start)"
   ]
  },
  {
   "cell_type": "markdown",
   "id": "e64ede1c",
   "metadata": {},
   "source": [
    "# Concentration"
   ]
  },
  {
   "cell_type": "code",
   "execution_count": 13,
   "id": "51e180af",
   "metadata": {},
   "outputs": [],
   "source": [
    "import time"
   ]
  },
  {
   "cell_type": "code",
   "execution_count": 14,
   "id": "4e3c3711",
   "metadata": {},
   "outputs": [
    {
     "name": "stdout",
     "output_type": "stream",
     "text": [
      "7 208\n",
      "0.0\n"
     ]
    }
   ],
   "source": [
    "start = time.time()*1000\n",
    "ppm = 2000\n",
    "b1 = ppm // 256\n",
    "b2 = ppm - b1 * 256\n",
    "print(b1, b2)\n",
    "end = time.time()*1000\n",
    "print(end-start)"
   ]
  },
  {
   "cell_type": "code",
   "execution_count": 15,
   "id": "8dd197ba",
   "metadata": {},
   "outputs": [
    {
     "name": "stdout",
     "output_type": "stream",
     "text": [
      "7 208\n",
      "0.0\n"
     ]
    }
   ],
   "source": [
    "start = time.time()*1000\n",
    "b1 = 2000 >> 8\n",
    "b2 = 2000 & 255\n",
    "print(b1, b2)\n",
    "end = time.time()*1000\n",
    "print(end-start)"
   ]
  },
  {
   "cell_type": "code",
   "execution_count": null,
   "id": "f203a095",
   "metadata": {},
   "outputs": [],
   "source": []
  }
 ],
 "metadata": {
  "kernelspec": {
   "display_name": "Python 3 (ipykernel)",
   "language": "python",
   "name": "python3"
  },
  "language_info": {
   "codemirror_mode": {
    "name": "ipython",
    "version": 3
   },
   "file_extension": ".py",
   "mimetype": "text/x-python",
   "name": "python",
   "nbconvert_exporter": "python",
   "pygments_lexer": "ipython3",
   "version": "3.9.0"
  },
  "toc": {
   "base_numbering": 1,
   "nav_menu": {},
   "number_sections": false,
   "sideBar": false,
   "skip_h1_title": true,
   "title_cell": "Table of Contents",
   "title_sidebar": "Contents",
   "toc_cell": false,
   "toc_position": {},
   "toc_section_display": true,
   "toc_window_display": false
  },
  "varInspector": {
   "cols": {
    "lenName": 16,
    "lenType": 16,
    "lenVar": 40
   },
   "kernels_config": {
    "python": {
     "delete_cmd_postfix": "",
     "delete_cmd_prefix": "del ",
     "library": "var_list.py",
     "varRefreshCmd": "print(var_dic_list())"
    },
    "r": {
     "delete_cmd_postfix": ") ",
     "delete_cmd_prefix": "rm(",
     "library": "var_list.r",
     "varRefreshCmd": "cat(var_dic_list()) "
    }
   },
   "types_to_exclude": [
    "module",
    "function",
    "builtin_function_or_method",
    "instance",
    "_Feature"
   ],
   "window_display": false
  }
 },
 "nbformat": 4,
 "nbformat_minor": 5
}
