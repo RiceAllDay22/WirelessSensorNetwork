{
 "cells": [
  {
   "cell_type": "code",
   "execution_count": 2,
   "id": "b3adbed7",
   "metadata": {},
   "outputs": [
    {
     "name": "stdout",
     "output_type": "stream",
     "text": [
      "<class 'bytearray'>\n"
     ]
    }
   ],
   "source": [
    "storage = bytearray(b'\\x002o\\xded\\xc82\\x00o\\xded\\xc82\\x00o\\xded\\xc82\\x00o\\xded\\xc82\\x00o\\xded\\xc82\\x00o\\xded\\xc82\\x00o\\xded\\xc82\\x00o\\xded\\xc82\\x00\\x00\\x00\\x00\\x00\\x00\\x00\\x00\\x00\\x00\\x00')\n",
    "print(type(storage))"
   ]
  },
  {
   "cell_type": "code",
   "execution_count": 3,
   "id": "e0ef5d57",
   "metadata": {},
   "outputs": [],
   "source": [
    "def get_locator(storage):\n",
    "    return storage[0:2]"
   ]
  },
  {
   "cell_type": "code",
   "execution_count": 7,
   "id": "aa734235",
   "metadata": {},
   "outputs": [
    {
     "name": "stdout",
     "output_type": "stream",
     "text": [
      "2 111\n",
      "3 222\n",
      "4 100\n",
      "5 200\n",
      "6 50\n",
      "7 0\n",
      "8 111\n",
      "9 222\n",
      "10 100\n",
      "11 200\n",
      "12 50\n",
      "13 0\n",
      "14 111\n",
      "15 222\n",
      "16 100\n",
      "17 200\n",
      "18 50\n",
      "19 0\n",
      "20 111\n",
      "21 222\n",
      "22 100\n",
      "23 200\n",
      "24 50\n",
      "25 0\n",
      "26 111\n",
      "27 222\n",
      "28 100\n",
      "29 200\n",
      "30 50\n",
      "31 0\n",
      "32 111\n",
      "33 222\n",
      "34 100\n",
      "35 200\n",
      "36 50\n",
      "37 0\n",
      "38 111\n",
      "39 222\n",
      "40 100\n",
      "41 200\n",
      "42 50\n",
      "43 0\n",
      "44 111\n",
      "45 222\n",
      "46 100\n",
      "47 200\n",
      "48 50\n",
      "49 0\n",
      "50 0\n",
      "51 0\n",
      "52 0\n",
      "53 0\n",
      "54 0\n",
      "55 0\n",
      "56 0\n",
      "57 0\n",
      "58 0\n",
      "59 0\n"
     ]
    }
   ],
   "source": [
    "get_locator(storage)\n",
    "\n",
    "for i in range(2, len(storage)):\n",
    "    print(i, storage[i])"
   ]
  },
  {
   "cell_type": "code",
   "execution_count": 9,
   "id": "57e4ba7e",
   "metadata": {},
   "outputs": [
    {
     "data": {
      "text/plain": [
       "b'\\x002o\\xded\\xc82\\x00o\\xded\\xc82\\x00o\\xded\\x00\\x03'"
      ]
     },
     "execution_count": 9,
     "metadata": {},
     "output_type": "execute_result"
    }
   ],
   "source": [
    "b'\\x002o\\xded\\xc82\\x00o\\xded\\xc82\\x00o\\xded\\x00'+ b'\\x03'"
   ]
  },
  {
   "cell_type": "code",
   "execution_count": 11,
   "id": "594db78c",
   "metadata": {},
   "outputs": [
    {
     "data": {
      "text/plain": [
       "bytearray(b'o\\xded\\xc82\\x00')"
      ]
     },
     "execution_count": 11,
     "metadata": {},
     "output_type": "execute_result"
    }
   ],
   "source": [
    "storage[2:8]"
   ]
  },
  {
   "cell_type": "code",
   "execution_count": 12,
   "id": "948f8498",
   "metadata": {},
   "outputs": [
    {
     "data": {
      "text/plain": [
       "(111, 222, 100, 200, 50, 0)"
      ]
     },
     "execution_count": 12,
     "metadata": {},
     "output_type": "execute_result"
    }
   ],
   "source": [
    "storage[2], storage[3], storage[4], storage[5], storage[6], storage[7]"
   ]
  },
  {
   "cell_type": "code",
   "execution_count": 19,
   "id": "5da89d8c",
   "metadata": {},
   "outputs": [
    {
     "name": "stdout",
     "output_type": "stream",
     "text": [
      "0 2\n",
      "1 56\n",
      "2 109\n",
      "3 126\n",
      "4 198\n",
      "5 111\n",
      "6 222\n",
      "7 100\n",
      "8 200\n",
      "9 50\n"
     ]
    }
   ],
   "source": [
    "data = b'\\x028m~\\xc6o\\xded\\xc82'\n",
    "for i in range(len(data)):\n",
    "    print(i, data[i])"
   ]
  },
  {
   "cell_type": "code",
   "execution_count": 27,
   "id": "710cca95",
   "metadata": {},
   "outputs": [
    {
     "data": {
      "text/plain": [
       "b'o\\xded\\xc82\\x00'"
      ]
     },
     "execution_count": 27,
     "metadata": {},
     "output_type": "execute_result"
    }
   ],
   "source": [
    "# Get Data\n",
    "now_ut = int.from_bytes(data[1:5], \"big\")\n",
    "sensor_data = data[5:10]\n",
    "bs = 0\n",
    "#bs = now_ut - previous_ut\n",
    "data_to_store = sensor_data + bytes([bs])\n",
    "data_to_store"
   ]
  },
  {
   "cell_type": "code",
   "execution_count": 21,
   "id": "91bdfac8",
   "metadata": {},
   "outputs": [
    {
     "data": {
      "text/plain": [
       "b'\\x028m~\\xc0o\\xded\\xc82'"
      ]
     },
     "execution_count": 21,
     "metadata": {},
     "output_type": "execute_result"
    }
   ],
   "source": [
    "b'\\x028m~\\xc0o\\xded\\xc82'"
   ]
  },
  {
   "cell_type": "code",
   "execution_count": null,
   "id": "6352e824",
   "metadata": {},
   "outputs": [],
   "source": []
  }
 ],
 "metadata": {
  "kernelspec": {
   "display_name": "Python 3 (ipykernel)",
   "language": "python",
   "name": "python3"
  },
  "language_info": {
   "codemirror_mode": {
    "name": "ipython",
    "version": 3
   },
   "file_extension": ".py",
   "mimetype": "text/x-python",
   "name": "python",
   "nbconvert_exporter": "python",
   "pygments_lexer": "ipython3",
   "version": "3.9.0"
  },
  "varInspector": {
   "cols": {
    "lenName": 16,
    "lenType": 16,
    "lenVar": 40
   },
   "kernels_config": {
    "python": {
     "delete_cmd_postfix": "",
     "delete_cmd_prefix": "del ",
     "library": "var_list.py",
     "varRefreshCmd": "print(var_dic_list())"
    },
    "r": {
     "delete_cmd_postfix": ") ",
     "delete_cmd_prefix": "rm(",
     "library": "var_list.r",
     "varRefreshCmd": "cat(var_dic_list()) "
    }
   },
   "types_to_exclude": [
    "module",
    "function",
    "builtin_function_or_method",
    "instance",
    "_Feature"
   ],
   "window_display": false
  }
 },
 "nbformat": 4,
 "nbformat_minor": 5
}
