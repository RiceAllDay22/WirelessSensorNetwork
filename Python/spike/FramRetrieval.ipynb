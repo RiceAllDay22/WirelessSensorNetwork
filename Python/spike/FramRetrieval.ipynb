{
 "cells": [
  {
   "cell_type": "code",
   "execution_count": null,
   "id": "b3adbed7",
   "metadata": {},
   "outputs": [],
   "source": [
    "storage = bytearray(b'\\x002o\\xded\\xc82\\x00o\\xded\\xc82\\x00o\\xded\\xc82\\x00o\\xded\\xc82\\x00o\\xded\\xc82\\x00o\\xded\\xc82\\x00o\\xded\\xc82\\x00o\\xded\\xc82\\x00\\x00\\x00\\x00\\x00\\x00\\x00\\x00\\x00\\x00\\x00')\n",
    "print(type(storage))"
   ]
  },
  {
   "cell_type": "code",
   "execution_count": null,
   "id": "e0ef5d57",
   "metadata": {},
   "outputs": [],
   "source": [
    "def get_locator(storage):\n",
    "    return storage[0:2]"
   ]
  },
  {
   "cell_type": "code",
   "execution_count": null,
   "id": "aa734235",
   "metadata": {},
   "outputs": [],
   "source": [
    "get_locator(storage)\n",
    "\n",
    "for i in range(2, len(storage)):\n",
    "    print(i, storage[i])"
   ]
  },
  {
   "cell_type": "code",
   "execution_count": null,
   "id": "57e4ba7e",
   "metadata": {},
   "outputs": [],
   "source": [
    "b'\\x002o\\xded\\xc82\\x00o\\xded\\xc82\\x00o\\xded\\x00'+ b'\\x03'"
   ]
  },
  {
   "cell_type": "code",
   "execution_count": null,
   "id": "594db78c",
   "metadata": {},
   "outputs": [],
   "source": [
    "storage[2:8]"
   ]
  },
  {
   "cell_type": "code",
   "execution_count": null,
   "id": "948f8498",
   "metadata": {},
   "outputs": [],
   "source": [
    "storage[2], storage[3], storage[4], storage[5], storage[6], storage[7]"
   ]
  },
  {
   "cell_type": "code",
   "execution_count": null,
   "id": "5da89d8c",
   "metadata": {},
   "outputs": [],
   "source": [
    "data = b'\\x02_^\\x10\\x01o\\xded\\xc82'\n",
    "previous_ut = 1599999998\n",
    "for i in range(len(data)):\n",
    "    print(i, data[i])"
   ]
  },
  {
   "cell_type": "code",
   "execution_count": null,
   "id": "710cca95",
   "metadata": {},
   "outputs": [],
   "source": [
    "# Get Data\n",
    "now_ut = int.from_bytes(data[1:5], \"big\")\n",
    "sensor_data = data[5:10]\n",
    "bs = now_ut - previous_ut\n",
    "data_to_store = bytes([bs])+sensor_data\n",
    "\n",
    "\n",
    "print(sensor_data)\n",
    "print(data_to_store)\n",
    "\n",
    "for i in range(len(data_to_store)):\n",
    "    print(data_to_store[i])"
   ]
  },
  {
   "cell_type": "code",
   "execution_count": null,
   "id": "13789729",
   "metadata": {},
   "outputs": [],
   "source": [
    "locator_byt = bytearray(b'\\x04X')\n",
    "locator_int = int.from_bytes(locator_byt, \"big\")\n",
    "locator_int"
   ]
  },
  {
   "cell_type": "code",
   "execution_count": null,
   "id": "6352e824",
   "metadata": {},
   "outputs": [],
   "source": [
    "# No Unixtime inclusion"
   ]
  },
  {
   "cell_type": "code",
   "execution_count": 3,
   "id": "da3900e3",
   "metadata": {},
   "outputs": [],
   "source": [
    "def byte_to_ut(b1, b2, b3, b4):\n",
    "    ut = b1 * 256 ** 3 + b2 * 256 ** 2 + b3 * 256 + b4\n",
    "    return ut"
   ]
  },
  {
   "cell_type": "code",
   "execution_count": 11,
   "id": "96a6f0dd",
   "metadata": {},
   "outputs": [
    {
     "name": "stdout",
     "output_type": "stream",
     "text": [
      "255\n",
      "95\n",
      "94\n",
      "16\n",
      "23\n",
      "255\n",
      "2\n",
      "111\n",
      "222\n",
      "100\n",
      "200\n",
      "50\n",
      "Unix\n",
      "1600000023\n",
      "Data\n",
      "2 111 222 100 200 50\n",
      "Data\n",
      "4 111 222 100 200 50\n",
      "Data\n",
      "18 111 222 100 200 50\n",
      "Data\n",
      "18 111 222 100 200 50\n",
      "Data\n",
      "18 111 222 100 200 50\n",
      "Data\n",
      "18 111 222 100 200 50\n",
      "Data\n",
      "17 111 222 100 200 50\n",
      "Data\n",
      "18 111 222 100 200 50\n"
     ]
    }
   ],
   "source": [
    "# retrieve fram\n",
    "\n",
    "\n",
    "#def retrieve_fram(storage):\n",
    "#locator_byt = get_locator(storage)\n",
    "\n",
    "storage = bytearray(b'\\x008\\xff_^\\x10\\x17\\xff\\x02o\\xded\\xc82\\x04o\\xded\\xc82\\x12o\\xded\\xc82\\x12o\\xded\\xc82\\x12o\\xded\\xc82\\x12o\\xded\\xc82\\x11o\\xded\\xc82\\x12o\\xded\\xc82\\x00')\n",
    "locator_byt = storage[0:2]\n",
    "locator_int = int.from_bytes(locator_byt, \"big\")\n",
    "\n",
    "for i in range(len(storage[2:14])):\n",
    "    print(storage[i+2])\n",
    "    \n",
    "indexer = 2    \n",
    "while indexer < locator_int:\n",
    "    chunk = storage[indexer:indexer+6]\n",
    "    if (chunk[0] == 255) and (chunk[5] == 255):\n",
    "        print('Unix')\n",
    "        b1, b2, b3, b4 = chunk[1], chunk[2], chunk[3], chunk[4]\n",
    "        print(byte_to_ut(b1, b2, b3, b4))\n",
    "    else:\n",
    "        print('Data')\n",
    "        print(chunk[0], chunk[1], chunk[2], chunk[3], chunk[4], chunk[5])\n",
    "    indexer+=6\n"
   ]
  },
  {
   "cell_type": "code",
   "execution_count": null,
   "id": "9d622b63",
   "metadata": {},
   "outputs": [],
   "source": [
    "bytes([255])"
   ]
  },
  {
   "cell_type": "code",
   "execution_count": null,
   "id": "dc918fa4",
   "metadata": {},
   "outputs": [],
   "source": [
    "locator_int"
   ]
  },
  {
   "cell_type": "code",
   "execution_count": null,
   "id": "e96a0908",
   "metadata": {},
   "outputs": [],
   "source": []
  }
 ],
 "metadata": {
  "kernelspec": {
   "display_name": "Python 3 (ipykernel)",
   "language": "python",
   "name": "python3"
  },
  "language_info": {
   "codemirror_mode": {
    "name": "ipython",
    "version": 3
   },
   "file_extension": ".py",
   "mimetype": "text/x-python",
   "name": "python",
   "nbconvert_exporter": "python",
   "pygments_lexer": "ipython3",
   "version": "3.9.0"
  },
  "varInspector": {
   "cols": {
    "lenName": 16,
    "lenType": 16,
    "lenVar": 40
   },
   "kernels_config": {
    "python": {
     "delete_cmd_postfix": "",
     "delete_cmd_prefix": "del ",
     "library": "var_list.py",
     "varRefreshCmd": "print(var_dic_list())"
    },
    "r": {
     "delete_cmd_postfix": ") ",
     "delete_cmd_prefix": "rm(",
     "library": "var_list.r",
     "varRefreshCmd": "cat(var_dic_list()) "
    }
   },
   "types_to_exclude": [
    "module",
    "function",
    "builtin_function_or_method",
    "instance",
    "_Feature"
   ],
   "window_display": false
  }
 },
 "nbformat": 4,
 "nbformat_minor": 5
}
