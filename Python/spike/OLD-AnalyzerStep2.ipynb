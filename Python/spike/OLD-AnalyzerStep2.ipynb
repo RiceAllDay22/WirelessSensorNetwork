{
 "cells": [
  {
   "cell_type": "markdown",
   "metadata": {},
   "source": [
    "# WIRELESS SENSOR NETWORK - DATA ANALYZER - STEP 2\n",
    "#### Notebook not intended for final product"
   ]
  },
  {
   "cell_type": "code",
   "execution_count": 1,
   "metadata": {},
   "outputs": [],
   "source": [
    "import os\n",
    "import numpy as np\n",
    "import matplotlib.pyplot as plt\n",
    "import pandas as pd\n",
    "import scipy as sp\n",
    "import IPython.display\n",
    "import glob\n",
    "from datetime import datetime\n",
    "from statistics import mean\n",
    "from matplotlib.dates import DateFormatter\n",
    "\n",
    "#NP = DF.to_numpy()\n",
    "#DF = pd.DataFrame(NP)"
   ]
  },
  {
   "cell_type": "code",
   "execution_count": 2,
   "metadata": {},
   "outputs": [
    {
     "data": {
      "text/plain": [
       "'C:\\\\Users\\\\adria\\\\Desktop\\\\Repository\\\\WirelessSensorNetwork\\\\Data\\\\V 1.2.4 3 Node Test'"
      ]
     },
     "execution_count": 2,
     "metadata": {},
     "output_type": "execute_result"
    }
   ],
   "source": [
    "# Set Working Directory\n",
    "user      = 'adria'\n",
    "subfolder = 'V 1.2.4 3 Node Test'\n",
    "os.chdir('C:\\\\Users\\\\'+str(user)+'\\\\Desktop\\\\Repository\\\\WirelessSensorNetwork\\\\Data\\\\'\n",
    "         + str(subfolder))\n",
    "os.getcwd()"
   ]
  },
  {
   "cell_type": "code",
   "execution_count": 3,
   "metadata": {},
   "outputs": [
    {
     "data": {
      "text/html": [
       "<div>\n",
       "<style scoped>\n",
       "    .dataframe tbody tr th:only-of-type {\n",
       "        vertical-align: middle;\n",
       "    }\n",
       "\n",
       "    .dataframe tbody tr th {\n",
       "        vertical-align: top;\n",
       "    }\n",
       "\n",
       "    .dataframe thead th {\n",
       "        text-align: right;\n",
       "    }\n",
       "</style>\n",
       "<table border=\"1\" class=\"dataframe\">\n",
       "  <thead>\n",
       "    <tr style=\"text-align: right;\">\n",
       "      <th></th>\n",
       "      <th>DateTime</th>\n",
       "      <th>DateTime 001</th>\n",
       "      <th>Node 001</th>\n",
       "      <th>DateTime 002</th>\n",
       "      <th>Node 002</th>\n",
       "      <th>DateTime 003</th>\n",
       "      <th>Node 003</th>\n",
       "    </tr>\n",
       "  </thead>\n",
       "  <tbody>\n",
       "    <tr>\n",
       "      <th>0</th>\n",
       "      <td>2020-03-04 00:00:00</td>\n",
       "      <td>2020-03-04 00:00:00</td>\n",
       "      <td>424.86</td>\n",
       "      <td>2020-03-04 00:00:00</td>\n",
       "      <td>415.17</td>\n",
       "      <td>2020-03-04 00:00:00</td>\n",
       "      <td>408.62</td>\n",
       "    </tr>\n",
       "    <tr>\n",
       "      <th>1</th>\n",
       "      <td>2020-03-04 00:00:30</td>\n",
       "      <td>2020-03-04 00:00:30</td>\n",
       "      <td>423.70</td>\n",
       "      <td>2020-03-04 00:00:30</td>\n",
       "      <td>417.60</td>\n",
       "      <td>2020-03-04 00:00:30</td>\n",
       "      <td>408.03</td>\n",
       "    </tr>\n",
       "    <tr>\n",
       "      <th>2</th>\n",
       "      <td>2020-03-04 00:01:00</td>\n",
       "      <td>2020-03-04 00:01:00</td>\n",
       "      <td>423.03</td>\n",
       "      <td>2020-03-04 00:01:00</td>\n",
       "      <td>414.97</td>\n",
       "      <td>2020-03-04 00:01:00</td>\n",
       "      <td>408.40</td>\n",
       "    </tr>\n",
       "    <tr>\n",
       "      <th>3</th>\n",
       "      <td>2020-03-04 00:01:30</td>\n",
       "      <td>2020-03-04 00:01:30</td>\n",
       "      <td>425.90</td>\n",
       "      <td>2020-03-04 00:01:30</td>\n",
       "      <td>413.50</td>\n",
       "      <td>2020-03-04 00:01:30</td>\n",
       "      <td>407.47</td>\n",
       "    </tr>\n",
       "    <tr>\n",
       "      <th>4</th>\n",
       "      <td>2020-03-04 00:02:00</td>\n",
       "      <td>2020-03-04 00:02:00</td>\n",
       "      <td>424.47</td>\n",
       "      <td>2020-03-04 00:02:00</td>\n",
       "      <td>413.43</td>\n",
       "      <td>2020-03-04 00:02:00</td>\n",
       "      <td>406.33</td>\n",
       "    </tr>\n",
       "  </tbody>\n",
       "</table>\n",
       "</div>"
      ],
      "text/plain": [
       "              DateTime         DateTime 001  Node 001         DateTime 002  \\\n",
       "0  2020-03-04 00:00:00  2020-03-04 00:00:00    424.86  2020-03-04 00:00:00   \n",
       "1  2020-03-04 00:00:30  2020-03-04 00:00:30    423.70  2020-03-04 00:00:30   \n",
       "2  2020-03-04 00:01:00  2020-03-04 00:01:00    423.03  2020-03-04 00:01:00   \n",
       "3  2020-03-04 00:01:30  2020-03-04 00:01:30    425.90  2020-03-04 00:01:30   \n",
       "4  2020-03-04 00:02:00  2020-03-04 00:02:00    424.47  2020-03-04 00:02:00   \n",
       "\n",
       "   Node 002         DateTime 003  Node 003  \n",
       "0    415.17  2020-03-04 00:00:00    408.62  \n",
       "1    417.60  2020-03-04 00:00:30    408.03  \n",
       "2    414.97  2020-03-04 00:01:00    408.40  \n",
       "3    413.50  2020-03-04 00:01:30    407.47  \n",
       "4    413.43  2020-03-04 00:02:00    406.33  "
      ]
     },
     "execution_count": 3,
     "metadata": {},
     "output_type": "execute_result"
    }
   ],
   "source": [
    "#Retrieve All Data Files\n",
    "extension = 'csv'\n",
    "all_filenames = [i for i in glob.glob('*.{}'.format(extension))]\n",
    "\n",
    "filenames = []\n",
    "for file in all_filenames:\n",
    "    if file[0] == 'P':\n",
    "        filenames.append(file)\n",
    "\n",
    "\n",
    "#Create Comparison Frane\n",
    "data = pd.read_csv(filenames[0])\n",
    "df = pd.DataFrame(data.iloc[:,0])\n",
    "df.columns =['DateTime']\n",
    "df.head()\n",
    "\n",
    "#Create Main Frame\n",
    "counter = 0\n",
    "for file in filenames:\n",
    "    data = pd.read_csv(file)\n",
    "    df = pd.concat([df, data.iloc[:,0:2]],axis=1)\n",
    "column_count = len(df.columns)\n",
    "node_count = int((column_count-1)/2)\n",
    "df.head()"
   ]
  },
  {
   "cell_type": "code",
   "execution_count": 4,
   "metadata": {},
   "outputs": [
    {
     "name": "stdout",
     "output_type": "stream",
     "text": [
      "Clear\n",
      "Clear\n",
      "Clear\n"
     ]
    }
   ],
   "source": [
    "#Remove DateTime Columns\n",
    "datetime_column = 1\n",
    "for i in range(0, node_count):\n",
    "    a = df.iloc[:,0] == df.iloc[:,datetime_column]\n",
    "    if a.all() == True:\n",
    "        print('Clear')\n",
    "        df = df.drop(df.columns[datetime_column], axis = 1)\n",
    "        datetime_column += 1\n",
    "    else:\n",
    "        print('Not Clear')\n",
    "        datetime_column += 2"
   ]
  },
  {
   "cell_type": "code",
   "execution_count": 5,
   "metadata": {},
   "outputs": [
    {
     "data": {
      "text/html": [
       "<div>\n",
       "<style scoped>\n",
       "    .dataframe tbody tr th:only-of-type {\n",
       "        vertical-align: middle;\n",
       "    }\n",
       "\n",
       "    .dataframe tbody tr th {\n",
       "        vertical-align: top;\n",
       "    }\n",
       "\n",
       "    .dataframe thead th {\n",
       "        text-align: right;\n",
       "    }\n",
       "</style>\n",
       "<table border=\"1\" class=\"dataframe\">\n",
       "  <thead>\n",
       "    <tr style=\"text-align: right;\">\n",
       "      <th></th>\n",
       "      <th>DateTime</th>\n",
       "      <th>Node 001</th>\n",
       "      <th>Node 002</th>\n",
       "      <th>Node 003</th>\n",
       "    </tr>\n",
       "  </thead>\n",
       "  <tbody>\n",
       "    <tr>\n",
       "      <th>0</th>\n",
       "      <td>2020-03-04 00:00:00</td>\n",
       "      <td>424.86</td>\n",
       "      <td>415.17</td>\n",
       "      <td>408.62</td>\n",
       "    </tr>\n",
       "    <tr>\n",
       "      <th>1</th>\n",
       "      <td>2020-03-04 00:00:30</td>\n",
       "      <td>423.70</td>\n",
       "      <td>417.60</td>\n",
       "      <td>408.03</td>\n",
       "    </tr>\n",
       "    <tr>\n",
       "      <th>2</th>\n",
       "      <td>2020-03-04 00:01:00</td>\n",
       "      <td>423.03</td>\n",
       "      <td>414.97</td>\n",
       "      <td>408.40</td>\n",
       "    </tr>\n",
       "    <tr>\n",
       "      <th>3</th>\n",
       "      <td>2020-03-04 00:01:30</td>\n",
       "      <td>425.90</td>\n",
       "      <td>413.50</td>\n",
       "      <td>407.47</td>\n",
       "    </tr>\n",
       "    <tr>\n",
       "      <th>4</th>\n",
       "      <td>2020-03-04 00:02:00</td>\n",
       "      <td>424.47</td>\n",
       "      <td>413.43</td>\n",
       "      <td>406.33</td>\n",
       "    </tr>\n",
       "  </tbody>\n",
       "</table>\n",
       "</div>"
      ],
      "text/plain": [
       "              DateTime  Node 001  Node 002  Node 003\n",
       "0  2020-03-04 00:00:00    424.86    415.17    408.62\n",
       "1  2020-03-04 00:00:30    423.70    417.60    408.03\n",
       "2  2020-03-04 00:01:00    423.03    414.97    408.40\n",
       "3  2020-03-04 00:01:30    425.90    413.50    407.47\n",
       "4  2020-03-04 00:02:00    424.47    413.43    406.33"
      ]
     },
     "execution_count": 5,
     "metadata": {},
     "output_type": "execute_result"
    }
   ],
   "source": [
    "df.head()"
   ]
  },
  {
   "cell_type": "code",
   "execution_count": 6,
   "metadata": {},
   "outputs": [
    {
     "data": {
      "text/html": [
       "<div>\n",
       "<style scoped>\n",
       "    .dataframe tbody tr th:only-of-type {\n",
       "        vertical-align: middle;\n",
       "    }\n",
       "\n",
       "    .dataframe tbody tr th {\n",
       "        vertical-align: top;\n",
       "    }\n",
       "\n",
       "    .dataframe thead th {\n",
       "        text-align: right;\n",
       "    }\n",
       "</style>\n",
       "<table border=\"1\" class=\"dataframe\">\n",
       "  <thead>\n",
       "    <tr style=\"text-align: right;\">\n",
       "      <th></th>\n",
       "      <th>DateTime</th>\n",
       "      <th>Node 001</th>\n",
       "      <th>Node 002</th>\n",
       "      <th>Node 003</th>\n",
       "    </tr>\n",
       "  </thead>\n",
       "  <tbody>\n",
       "    <tr>\n",
       "      <th>116</th>\n",
       "      <td>2020-03-04 00:58:00</td>\n",
       "      <td>413.07</td>\n",
       "      <td>407.17</td>\n",
       "      <td>405.70</td>\n",
       "    </tr>\n",
       "    <tr>\n",
       "      <th>117</th>\n",
       "      <td>2020-03-04 00:58:30</td>\n",
       "      <td>412.13</td>\n",
       "      <td>406.17</td>\n",
       "      <td>405.73</td>\n",
       "    </tr>\n",
       "    <tr>\n",
       "      <th>118</th>\n",
       "      <td>2020-03-04 00:59:00</td>\n",
       "      <td>413.80</td>\n",
       "      <td>406.97</td>\n",
       "      <td>408.83</td>\n",
       "    </tr>\n",
       "    <tr>\n",
       "      <th>119</th>\n",
       "      <td>2020-03-04 00:59:30</td>\n",
       "      <td>413.80</td>\n",
       "      <td>406.73</td>\n",
       "      <td>407.83</td>\n",
       "    </tr>\n",
       "    <tr>\n",
       "      <th>120</th>\n",
       "      <td>2020-03-04 01:00:00</td>\n",
       "      <td>414.00</td>\n",
       "      <td>408.00</td>\n",
       "      <td>408.00</td>\n",
       "    </tr>\n",
       "  </tbody>\n",
       "</table>\n",
       "</div>"
      ],
      "text/plain": [
       "                DateTime  Node 001  Node 002  Node 003\n",
       "116  2020-03-04 00:58:00    413.07    407.17    405.70\n",
       "117  2020-03-04 00:58:30    412.13    406.17    405.73\n",
       "118  2020-03-04 00:59:00    413.80    406.97    408.83\n",
       "119  2020-03-04 00:59:30    413.80    406.73    407.83\n",
       "120  2020-03-04 01:00:00    414.00    408.00    408.00"
      ]
     },
     "execution_count": 6,
     "metadata": {},
     "output_type": "execute_result"
    }
   ],
   "source": [
    "df.tail()"
   ]
  },
  {
   "cell_type": "code",
   "execution_count": 7,
   "metadata": {},
   "outputs": [
    {
     "data": {
      "image/png": "[encoded data removed]",
      "text/plain": [
       "<Figure size 432x288 with 1 Axes>"
      ]
     },
     "metadata": {
      "needs_background": "light"
     },
     "output_type": "display_data"
    }
   ],
   "source": [
    "loc_node001 = [10, 20]\n",
    "loc_node002 = [20, 20]\n",
    "loc_node003 = [10, 10]\n",
    "loc_node004 = [20, 10]\n",
    "plt.plot(loc_node001[0], loc_node001[1], 'red', marker = 'o', alpha=1, markersize = 50)\n",
    "plt.plot(loc_node002[0], loc_node002[1], 'red', marker = 'o', alpha=1, markersize = 40)\n",
    "plt.plot(loc_node003[0], loc_node003[1], 'red', marker = 'o', alpha=1, markersize = 30)\n",
    "plt.plot(loc_node004[0], loc_node004[1], 'red', marker = 'o', alpha=1, markersize = 20)\n",
    "plt.text(10,10,'420', horizontalalignment='center', verticalalignment = 'center', color='black', fontweight = 'bold')\n",
    "plt.text(10,20,'420', horizontalalignment='center', verticalalignment = 'center', color='black', fontweight = 'bold')\n",
    "plt.text(20,10,'420', horizontalalignment='center', verticalalignment = 'center', color='black', fontweight = 'bold')\n",
    "plt.text(20,20,'420', horizontalalignment='center', verticalalignment = 'center', color='black', fontweight = 'bold')\n",
    "\n",
    "plt.xlim(5, 25)\n",
    "plt.ylim(5, 25)\n",
    "plt.show()"
   ]
  },
  {
   "cell_type": "code",
   "execution_count": null,
   "metadata": {},
   "outputs": [],
   "source": []
  }
 ],
 "metadata": {
  "file_extension": ".py",
  "kernelspec": {
   "display_name": "Python 3 (ipykernel)",
   "language": "python",
   "name": "python3"
  },
  "language_info": {
   "codemirror_mode": {
    "name": "ipython",
    "version": 3
   },
   "file_extension": ".py",
   "mimetype": "text/x-python",
   "name": "python",
   "nbconvert_exporter": "python",
   "pygments_lexer": "ipython3",
   "version": "3.9.0"
  },
  "mimetype": "text/x-python",
  "name": "python",
  "npconvert_exporter": "python",
  "pygments_lexer": "ipython3",
  "varInspector": {
   "cols": {
    "lenName": 16,
    "lenType": 16,
    "lenVar": 40
   },
   "kernels_config": {
    "python": {
     "delete_cmd_postfix": "",
     "delete_cmd_prefix": "del ",
     "library": "var_list.py",
     "varRefreshCmd": "print(var_dic_list())"
    },
    "r": {
     "delete_cmd_postfix": ") ",
     "delete_cmd_prefix": "rm(",
     "library": "var_list.r",
     "varRefreshCmd": "cat(var_dic_list()) "
    }
   },
   "types_to_exclude": [
    "module",
    "function",
    "builtin_function_or_method",
    "instance",
    "_Feature"
   ],
   "window_display": false
  },
  "version": 3
 },
 "nbformat": 4,
 "nbformat_minor": 2
}
