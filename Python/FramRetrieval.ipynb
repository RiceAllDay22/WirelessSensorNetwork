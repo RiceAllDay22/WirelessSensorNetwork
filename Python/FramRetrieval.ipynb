{
 "cells": [
  {
   "cell_type": "code",
   "execution_count": null,
   "id": "b3adbed7",
   "metadata": {},
   "outputs": [],
   "source": [
    "storage = bytearray(b'\\x002o\\xded\\xc82\\x00o\\xded\\xc82\\x00o\\xded\\xc82\\x00o\\xded\\xc82\\x00o\\xded\\xc82\\x00o\\xded\\xc82\\x00o\\xded\\xc82\\x00o\\xded\\xc82\\x00\\x00\\x00\\x00\\x00\\x00\\x00\\x00\\x00\\x00\\x00')\n",
    "print(type(storage))"
   ]
  },
  {
   "cell_type": "code",
   "execution_count": null,
   "id": "e0ef5d57",
   "metadata": {},
   "outputs": [],
   "source": [
    "def get_locator(storage):\n",
    "    return storage[0:2]"
   ]
  },
  {
   "cell_type": "code",
   "execution_count": null,
   "id": "aa734235",
   "metadata": {},
   "outputs": [],
   "source": [
    "get_locator(storage)\n",
    "\n",
    "for i in range(2, len(storage)):\n",
    "    print(i, storage[i])"
   ]
  },
  {
   "cell_type": "code",
   "execution_count": null,
   "id": "57e4ba7e",
   "metadata": {},
   "outputs": [],
   "source": [
    "b'\\x002o\\xded\\xc82\\x00o\\xded\\xc82\\x00o\\xded\\x00'+ b'\\x03'"
   ]
  },
  {
   "cell_type": "code",
   "execution_count": null,
   "id": "594db78c",
   "metadata": {},
   "outputs": [],
   "source": [
    "storage[2:8]"
   ]
  },
  {
   "cell_type": "code",
   "execution_count": null,
   "id": "948f8498",
   "metadata": {},
   "outputs": [],
   "source": [
    "storage[2], storage[3], storage[4], storage[5], storage[6], storage[7]"
   ]
  },
  {
   "cell_type": "code",
   "execution_count": null,
   "id": "5da89d8c",
   "metadata": {},
   "outputs": [],
   "source": [
    "data = b'\\x02_^\\x10\\x01o\\xded\\xc82'\n",
    "previous_ut = 1599999998\n",
    "for i in range(len(data)):\n",
    "    print(i, data[i])"
   ]
  },
  {
   "cell_type": "code",
   "execution_count": null,
   "id": "710cca95",
   "metadata": {},
   "outputs": [],
   "source": [
    "# Get Data\n",
    "now_ut = int.from_bytes(data[1:5], \"big\")\n",
    "sensor_data = data[5:10]\n",
    "bs = now_ut - previous_ut\n",
    "data_to_store = bytes([bs])+sensor_data\n",
    "\n",
    "\n",
    "print(sensor_data)\n",
    "print(data_to_store)\n",
    "\n",
    "for i in range(len(data_to_store)):\n",
    "    print(data_to_store[i])"
   ]
  },
  {
   "cell_type": "code",
   "execution_count": null,
   "id": "13789729",
   "metadata": {},
   "outputs": [],
   "source": [
    "locator_byt = bytearray(b'\\x04X')\n",
    "locator_int = int.from_bytes(locator_byt, \"big\")\n",
    "locator_int"
   ]
  },
  {
   "cell_type": "code",
   "execution_count": null,
   "id": "6352e824",
   "metadata": {},
   "outputs": [],
   "source": [
    "# No Unixtime inclusion"
   ]
  },
  {
   "cell_type": "code",
   "execution_count": 8,
   "id": "da3900e3",
   "metadata": {},
   "outputs": [],
   "source": [
    "def byte_to_ut(b1, b2, b3, b4):\n",
    "    ut = b1 * 256 ** 3 + b2 * 256 ** 2 + b3 * 256 + b4\n",
    "    return ut\n",
    "\n",
    "def ut_to_byte(ut):\n",
    "    b1 = ut // 256 ** 3\n",
    "    b2 = ut // 256 ** 2 - b1 * 256\n",
    "    b3 = ut // 256 ** 1 - b1 * 256 ** 2 - b2 * 256\n",
    "    b4 = ut - b1 * 256 ** 3 - b2 * 256 ** 2 - b3 * 256\n",
    "    return b1, b2, b3, b4"
   ]
  },
  {
   "cell_type": "code",
   "execution_count": 25,
   "id": "96a6f0dd",
   "metadata": {},
   "outputs": [
    {
     "name": "stdout",
     "output_type": "stream",
     "text": [
      "1600000009 95 94 16 9\n",
      "1600000009 111 222 100 200 50\n",
      "2 95 94 16 9 111 222 100 200 50 \n",
      "1600000013 111 222 100 200 50\n",
      "2 95 94 16 13 111 222 100 200 50 \n",
      "1600000031 111 222 100 200 50\n",
      "2 95 94 16 31 111 222 100 200 50 \n",
      "1600000049 111 222 100 200 50\n",
      "2 95 94 16 49 111 222 100 200 50 \n"
     ]
    }
   ],
   "source": [
    "# retrieve fram\n",
    "\n",
    "\n",
    "#def retrieve_fram(storage):\n",
    "#locator_byt = get_locator(storage)\n",
    "bn = 2\n",
    "storage = bytearray(b'\\x00 \\xff_^\\x10\\t\\xff\\x00o\\xded\\xc82\\x04o\\xded\\xc82\\x12o\\xded\\xc82\\x12o\\xded\\xc82\\x00')\n",
    "locator_byt = storage[0:2]\n",
    "locator_int = int.from_bytes(locator_byt, \"big\")\n",
    "\n",
    "#for i in range(len(storage[2:14])):\n",
    "#    print(storage[i+2])\n",
    "    \n",
    "indexer = 2    \n",
    "while indexer < locator_int:\n",
    "    chunk = storage[indexer:indexer+6]\n",
    "    if (chunk[0] == 255) and (chunk[5] == 255):\n",
    "        b1, b2, b3, b4 = chunk[1], chunk[2], chunk[3], chunk[4]\n",
    "        current_ut = byte_to_ut(b1, b2, b3, b4)\n",
    "        print(current_ut, b1,b2,b3,b4)\n",
    "        \n",
    "    else:\n",
    "        print(current_ut+chunk[0], chunk[1], chunk[2], chunk[3], chunk[4], chunk[5])\n",
    "        current_ut += chunk[0]\n",
    "        b1, b2, b3, b4 = ut_to_byte(current_ut)\n",
    "        transmit = bytes([bn, b1, b2, b3, b4])+chunk[1:6]\n",
    "        for i in range(len(transmit)):\n",
    "            print(transmit[i], end = \" \")\n",
    "        print(\"\")\n",
    "        \n",
    "        \n",
    "    \n",
    "    indexer+=6\n"
   ]
  },
  {
   "cell_type": "code",
   "execution_count": null,
   "id": "58078bb4",
   "metadata": {},
   "outputs": [],
   "source": []
  },
  {
   "cell_type": "code",
   "execution_count": null,
   "id": "e96a0908",
   "metadata": {},
   "outputs": [],
   "source": [
    "Instantiated FRAM\n",
    "Check if Fram has any data\n",
    "1600000001 111 222 100 200 50\n",
    "Send to Hub\n",
    "1600000003 111 222 100 200 50\n",
    "Send to Hub\n",
    "1600000005 111 222 100 200 50\n",
    "Send to Hub\n",
    "1600000007 111 222 100 200 50\n",
    "Send to Hub\n",
    "1600000009 111 222 100 200 50\n",
    "Send to Hub\n",
    "Transmit failure: [Errno 7107] ENOTCONN\n",
    "Loc: 14\n",
    "1600000013 111 222 100 200 50\n",
    "Save to Fram\n",
    "Before: bytearray(b'\\x00\\x00\\x00\\x00\\x00\\x00')\n",
    "After: bytearray(b'\\x04o\\xded\\xc82')\n",
    "Loc: 20\n",
    "1600000031 111 222 100 200 50\n",
    "Save to Fram\n",
    "Before: bytearray(b'\\x00\\x00\\x00\\x00\\x00\\x00')\n",
    "After: bytearray(b'\\x12o\\xded\\xc82')\n",
    "Loc: 26\n",
    "1600000049 111 222 100 200 50\n",
    "Save to Fram\n",
    "Before: bytearray(b'\\x00\\x00\\x00\\x00\\x00\\x00')\n",
    "After: bytearray(b'\\x12o\\xded\\xc82')\n",
    "Loc: 32\n",
    "Check if Fram has any data\n",
    "1600000061 111 222 100 200 50\n",
    "Send to Hub\n",
    "1600000063 111 222 100 200 50\n",
    "Send to Hub\n",
    "1600000065 111 222 100 200 50\n",
    "Send to Hub\n",
    "End Code"
   ]
  },
  {
   "cell_type": "code",
   "execution_count": 27,
   "id": "8783c848",
   "metadata": {},
   "outputs": [],
   "source": [
    "storage = bytes(32768)"
   ]
  },
  {
   "cell_type": "code",
   "execution_count": null,
   "id": "b97a58f2",
   "metadata": {},
   "outputs": [],
   "source": []
  }
 ],
 "metadata": {
  "kernelspec": {
   "display_name": "Python 3 (ipykernel)",
   "language": "python",
   "name": "python3"
  },
  "language_info": {
   "codemirror_mode": {
    "name": "ipython",
    "version": 3
   },
   "file_extension": ".py",
   "mimetype": "text/x-python",
   "name": "python",
   "nbconvert_exporter": "python",
   "pygments_lexer": "ipython3",
   "version": "3.9.0"
  },
  "varInspector": {
   "cols": {
    "lenName": 16,
    "lenType": 16,
    "lenVar": 40
   },
   "kernels_config": {
    "python": {
     "delete_cmd_postfix": "",
     "delete_cmd_prefix": "del ",
     "library": "var_list.py",
     "varRefreshCmd": "print(var_dic_list())"
    },
    "r": {
     "delete_cmd_postfix": ") ",
     "delete_cmd_prefix": "rm(",
     "library": "var_list.r",
     "varRefreshCmd": "cat(var_dic_list()) "
    }
   },
   "types_to_exclude": [
    "module",
    "function",
    "builtin_function_or_method",
    "instance",
    "_Feature"
   ],
   "window_display": false
  }
 },
 "nbformat": 4,
 "nbformat_minor": 5
}
