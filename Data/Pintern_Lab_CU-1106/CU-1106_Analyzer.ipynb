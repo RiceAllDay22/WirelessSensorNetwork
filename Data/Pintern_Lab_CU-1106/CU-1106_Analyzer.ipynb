{
 "cells": [
  {
   "cell_type": "code",
   "execution_count": 1,
   "id": "f5f09f8a",
   "metadata": {},
   "outputs": [],
   "source": [
    "import numpy as np\n",
    "import matplotlib.pyplot as plt\n",
    "import pandas as pd\n",
    "import os\n",
    "import glob"
   ]
  },
  {
   "cell_type": "code",
   "execution_count": 2,
   "id": "bd5ee465",
   "metadata": {},
   "outputs": [],
   "source": [
    "user      = 'adria'\n",
    "#subfolder = 'Pintern_Lab_CU-1106'\n",
    "subfolder = 'Pintern_Union_CU-1106'\n",
    "os.chdir('C:\\\\Users\\\\'+str(user)+\n",
    "         '\\\\Desktop\\\\Repo\\\\WirelessSensorNetwork\\\\Data\\\\'+str(subfolder))\n",
    "\n",
    "licor_data_DF = pd.read_csv(\"Licor_Ordered.csv\", header = None)\n",
    "C_data_DF = pd.read_csv(\"SensorData-C_Ordered.csv\", header = None)\n",
    "HNS_data_DF = pd.read_csv(\"SensorData-H-NS_Ordered.csv\", header = None)\n",
    "SLN_data_DF = pd.read_csv(\"SensorData-SL-N_Ordered.csv\", header = None)\n",
    "SLNS_data_DF = pd.read_csv(\"SensorData-SL-NS_Ordered.csv\", header = None)"
   ]
  },
  {
   "cell_type": "code",
   "execution_count": 3,
   "id": "cb76e71a",
   "metadata": {},
   "outputs": [],
   "source": [
    "licor_data_NP = licor_data_DF.to_numpy()\n",
    "C_data_NP = C_data_DF.to_numpy()\n",
    "HNS_data_NP = HNS_data_DF.to_numpy()\n",
    "SLN_data_NP = SLN_data_DF.to_numpy()\n",
    "SLNS_data_NP = SLNS_data_DF.to_numpy()"
   ]
  },
  {
   "cell_type": "code",
   "execution_count": null,
   "id": "41079c21",
   "metadata": {},
   "outputs": [],
   "source": [
    "print(licor_data_DF)"
   ]
  },
  {
   "cell_type": "code",
   "execution_count": null,
   "id": "9c1be3e3",
   "metadata": {},
   "outputs": [],
   "source": [
    "print(C_data_DF)"
   ]
  },
  {
   "cell_type": "code",
   "execution_count": null,
   "id": "6644bf68",
   "metadata": {},
   "outputs": [],
   "source": [
    "print(HNS_data_DF)"
   ]
  },
  {
   "cell_type": "code",
   "execution_count": null,
   "id": "d438e058",
   "metadata": {},
   "outputs": [],
   "source": [
    "print(SLN_data_NP)"
   ]
  },
  {
   "cell_type": "code",
   "execution_count": null,
   "id": "a16853c5",
   "metadata": {},
   "outputs": [],
   "source": [
    "print(SLNS_data_NP)"
   ]
  },
  {
   "cell_type": "code",
   "execution_count": null,
   "id": "5116e8a1",
   "metadata": {},
   "outputs": [],
   "source": [
    "x_licor = licor_data_NP[:, 0]\n",
    "y_licor = licor_data_NP[:, 2]\n",
    "plt.plot(x_licor, y_licor, 'k')"
   ]
  },
  {
   "cell_type": "code",
   "execution_count": 109,
   "id": "eb5db137",
   "metadata": {},
   "outputs": [],
   "source": [
    "x_C = C_data_NP[:, 0]\n",
    "y_C = C_data_NP[:, 1]\n",
    "x_HNS = HNS_data_NP[:, 0]\n",
    "y_HNS = HNS_data_NP[:, 1]\n",
    "x_SLN = SLN_data_NP[:, 0]\n",
    "y_SLN = SLN_data_NP[:, 1]\n",
    "x_SLNS = SLNS_data_NP[:, 0]\n",
    "y_SLNS = SLNS_data_NP[:, 1]\n",
    "x_licor = licor_data_NP[:, 0]\n",
    "y_licor = licor_data_NP[:, 2]"
   ]
  },
  {
   "cell_type": "code",
   "execution_count": 146,
   "id": "7f00764d",
   "metadata": {},
   "outputs": [
    {
     "data": {
      "image/png": "[encoded data removed]",
      "text/plain": [
       "<Figure size 432x288 with 1 Axes>"
      ]
     },
     "metadata": {
      "needs_background": "light"
     },
     "output_type": "display_data"
    }
   ],
   "source": [
    "start = 0\n",
    "end = -1\n",
    "#plt.plot(x_C[start:end], y_C[start:end], 'r-o')\n",
    "#plt.plot(x_HNS[start:end], y_HNS[start:end], 'lime', marker = 'o')\n",
    "#plt.plot(x_SLN[start:end], y_SLN[start:end], 'b-o')\n",
    "#plt.plot(x_SLNS[start:end], y_SLNS[start:end], 'm-o')\n",
    "plt.plot(x_licor[0:300], y_licor[0:300], 'k-o')\n",
    "plt.show()"
   ]
  },
  {
   "cell_type": "code",
   "execution_count": null,
   "id": "66e48f03",
   "metadata": {},
   "outputs": [],
   "source": [
    "x_C = C_data_NP[:, 0]\n",
    "y_C = C_data_NP[:, 1]\n",
    "\n",
    "plt.plot(x_C, y_C, 'r')\n",
    "plt.show()"
   ]
  },
  {
   "cell_type": "code",
   "execution_count": null,
   "id": "f4f01c9c",
   "metadata": {},
   "outputs": [],
   "source": [
    "x_HNS = HNS_data_NP[:, 0]\n",
    "y_HNS = HNS_data_NP[:, 1]\n",
    "\n",
    "plt.plot(x_HNS, y_HNS, 'r')\n",
    "plt.show()"
   ]
  },
  {
   "cell_type": "code",
   "execution_count": null,
   "id": "110e8b66",
   "metadata": {},
   "outputs": [],
   "source": []
  }
 ],
 "metadata": {
  "kernelspec": {
   "display_name": "Python 3 (ipykernel)",
   "language": "python",
   "name": "python3"
  },
  "language_info": {
   "codemirror_mode": {
    "name": "ipython",
    "version": 3
   },
   "file_extension": ".py",
   "mimetype": "text/x-python",
   "name": "python",
   "nbconvert_exporter": "python",
   "pygments_lexer": "ipython3",
   "version": "3.9.0"
  },
  "varInspector": {
   "cols": {
    "lenName": 16,
    "lenType": 16,
    "lenVar": 40
   },
   "kernels_config": {
    "python": {
     "delete_cmd_postfix": "",
     "delete_cmd_prefix": "del ",
     "library": "var_list.py",
     "varRefreshCmd": "print(var_dic_list())"
    },
    "r": {
     "delete_cmd_postfix": ") ",
     "delete_cmd_prefix": "rm(",
     "library": "var_list.r",
     "varRefreshCmd": "cat(var_dic_list()) "
    }
   },
   "types_to_exclude": [
    "module",
    "function",
    "builtin_function_or_method",
    "instance",
    "_Feature"
   ],
   "window_display": false
  }
 },
 "nbformat": 4,
 "nbformat_minor": 5
}
